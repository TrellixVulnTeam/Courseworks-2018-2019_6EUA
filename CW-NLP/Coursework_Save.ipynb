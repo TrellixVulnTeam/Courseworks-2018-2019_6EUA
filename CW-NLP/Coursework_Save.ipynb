{
  "nbformat": 4,
  "nbformat_minor": 0,
  "metadata": {
    "colab": {
      "name": "Coursework Save.ipynb",
      "version": "0.3.2",
      "provenance": [],
      "collapsed_sections": []
    },
    "kernelspec": {
      "name": "python3",
      "display_name": "Python 3"
    },
    "accelerator": "GPU"
  },
  "cells": [
    {
      "metadata": {
        "id": "7Nqg9uLSvcLO",
        "colab_type": "code",
        "outputId": "676a9830-7509-456b-c855-bf0acacf311a",
        "colab": {
          "base_uri": "https://localhost:8080/",
          "height": 102
        }
      },
      "cell_type": "code",
      "source": [
        "# Import packages\n",
        "import pandas as pd\n",
        "import numpy as np\n",
        "import matplotlib.pyplot as plt\n",
        "\n",
        "import time\n",
        "import io\n",
        "import string\n",
        "import re\n",
        "\n",
        "# NLTK\n",
        "import nltk\n",
        "nltk.download('stopwords')\n",
        "nltk.download('wordnet')\n",
        "from nltk.stem import WordNetLemmatizer\n",
        "from nltk.stem.porter import PorterStemmer\n",
        "\n",
        "from sklearn.model_selection import train_test_split\n",
        "from sklearn.metrics import accuracy_score, confusion_matrix\n",
        "\n",
        "%matplotlib inline\n",
        "\n",
        "# PyTorch\n",
        "import torch\n",
        "import torch.nn as nn\n",
        "import torch.nn.functional as F\n",
        "import torch.optim as optim\n",
        "from torch.autograd import Variable\n",
        "from torch.utils.data import TensorDataset, DataLoader\n",
        "\n",
        "# Set random seeds for reproducible results\n",
        "np.random.seed(24)\n",
        "torch.manual_seed(24)"
      ],
      "execution_count": 0,
      "outputs": [
        {
          "output_type": "stream",
          "text": [
            "[nltk_data] Downloading package stopwords to /root/nltk_data...\n",
            "[nltk_data]   Unzipping corpora/stopwords.zip.\n",
            "[nltk_data] Downloading package wordnet to /root/nltk_data...\n",
            "[nltk_data]   Unzipping corpora/wordnet.zip.\n"
          ],
          "name": "stdout"
        },
        {
          "output_type": "execute_result",
          "data": {
            "text/plain": [
              "<torch._C.Generator at 0x7fdc776ec670>"
            ]
          },
          "metadata": {
            "tags": []
          },
          "execution_count": 1
        }
      ]
    },
    {
      "metadata": {
        "id": "uI5f0UEgvtYq",
        "colab_type": "code",
        "outputId": "4802e10a-fa78-42a0-8851-b55d58e6f712",
        "colab": {
          "resources": {
            "http://localhost:8080/nbextensions/google.colab/files.js": {
              "data": "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",
              "ok": true,
              "headers": [
                [
                  "content-type",
                  "application/javascript"
                ]
              ],
              "status": 200,
              "status_text": ""
            }
          },
          "base_uri": "https://localhost:8080/",
          "height": 71
        }
      },
      "cell_type": "code",
      "source": [
        "from google.colab import files\n",
        "uploaded = files.upload()\n",
        "\n",
        "#!rm offenseval-training-v1\\ \\(1\\).tsv"
      ],
      "execution_count": 0,
      "outputs": [
        {
          "output_type": "display_data",
          "data": {
            "text/html": [
              "\n",
              "     <input type=\"file\" id=\"files-b833e2ab-90f8-46dd-8562-3ec485ee78a3\" name=\"files[]\" multiple disabled />\n",
              "     <output id=\"result-b833e2ab-90f8-46dd-8562-3ec485ee78a3\">\n",
              "      Upload widget is only available when the cell has been executed in the\n",
              "      current browser session. Please rerun this cell to enable.\n",
              "      </output>\n",
              "      <script src=\"/nbextensions/google.colab/files.js\"></script> "
            ],
            "text/plain": [
              "<IPython.core.display.HTML object>"
            ]
          },
          "metadata": {
            "tags": []
          }
        },
        {
          "output_type": "stream",
          "text": [
            "Saving offenseval-training-v1.tsv to offenseval-training-v1 (1).tsv\n"
          ],
          "name": "stdout"
        }
      ]
    },
    {
      "metadata": {
        "id": "QCb0RCWhwLVp",
        "colab_type": "code",
        "outputId": "1db57a43-3a14-4b42-eaaa-215f55dab9b2",
        "colab": {
          "base_uri": "https://localhost:8080/",
          "height": 221
        }
      },
      "cell_type": "code",
      "source": [
        "# Load the data\n",
        "df = pd.read_csv(io.StringIO(uploaded[\"offenseval-training-v1.tsv\"].decode('utf-8')),  sep = \"\\t\")\n",
        "print(df.shape)\n",
        "df.head()"
      ],
      "execution_count": 0,
      "outputs": [
        {
          "output_type": "stream",
          "text": [
            "(13240, 5)\n"
          ],
          "name": "stdout"
        },
        {
          "output_type": "execute_result",
          "data": {
            "text/html": [
              "<div>\n",
              "<style scoped>\n",
              "    .dataframe tbody tr th:only-of-type {\n",
              "        vertical-align: middle;\n",
              "    }\n",
              "\n",
              "    .dataframe tbody tr th {\n",
              "        vertical-align: top;\n",
              "    }\n",
              "\n",
              "    .dataframe thead th {\n",
              "        text-align: right;\n",
              "    }\n",
              "</style>\n",
              "<table border=\"1\" class=\"dataframe\">\n",
              "  <thead>\n",
              "    <tr style=\"text-align: right;\">\n",
              "      <th></th>\n",
              "      <th>id</th>\n",
              "      <th>tweet</th>\n",
              "      <th>subtask_a</th>\n",
              "      <th>subtask_b</th>\n",
              "      <th>subtask_c</th>\n",
              "    </tr>\n",
              "  </thead>\n",
              "  <tbody>\n",
              "    <tr>\n",
              "      <th>0</th>\n",
              "      <td>86426</td>\n",
              "      <td>@USER She should ask a few native Americans wh...</td>\n",
              "      <td>OFF</td>\n",
              "      <td>UNT</td>\n",
              "      <td>NaN</td>\n",
              "    </tr>\n",
              "    <tr>\n",
              "      <th>1</th>\n",
              "      <td>90194</td>\n",
              "      <td>@USER @USER Go home you’re drunk!!! @USER #MAG...</td>\n",
              "      <td>OFF</td>\n",
              "      <td>TIN</td>\n",
              "      <td>IND</td>\n",
              "    </tr>\n",
              "    <tr>\n",
              "      <th>2</th>\n",
              "      <td>16820</td>\n",
              "      <td>Amazon is investigating Chinese employees who ...</td>\n",
              "      <td>NOT</td>\n",
              "      <td>NaN</td>\n",
              "      <td>NaN</td>\n",
              "    </tr>\n",
              "    <tr>\n",
              "      <th>3</th>\n",
              "      <td>62688</td>\n",
              "      <td>@USER Someone should'veTaken\" this piece of sh...</td>\n",
              "      <td>OFF</td>\n",
              "      <td>UNT</td>\n",
              "      <td>NaN</td>\n",
              "    </tr>\n",
              "    <tr>\n",
              "      <th>4</th>\n",
              "      <td>43605</td>\n",
              "      <td>@USER @USER Obama wanted liberals &amp;amp; illega...</td>\n",
              "      <td>NOT</td>\n",
              "      <td>NaN</td>\n",
              "      <td>NaN</td>\n",
              "    </tr>\n",
              "  </tbody>\n",
              "</table>\n",
              "</div>"
            ],
            "text/plain": [
              "      id                                              tweet subtask_a  \\\n",
              "0  86426  @USER She should ask a few native Americans wh...       OFF   \n",
              "1  90194  @USER @USER Go home you’re drunk!!! @USER #MAG...       OFF   \n",
              "2  16820  Amazon is investigating Chinese employees who ...       NOT   \n",
              "3  62688  @USER Someone should'veTaken\" this piece of sh...       OFF   \n",
              "4  43605  @USER @USER Obama wanted liberals &amp; illega...       NOT   \n",
              "\n",
              "  subtask_b subtask_c  \n",
              "0       UNT       NaN  \n",
              "1       TIN       IND  \n",
              "2       NaN       NaN  \n",
              "3       UNT       NaN  \n",
              "4       NaN       NaN  "
            ]
          },
          "metadata": {
            "tags": []
          },
          "execution_count": 7
        }
      ]
    },
    {
      "metadata": {
        "scrolled": true,
        "id": "Tfk6p9pLvcLU",
        "colab_type": "code",
        "outputId": "9de92d85-1f5c-4637-ad46-44713621fb16",
        "colab": {
          "base_uri": "https://localhost:8080/",
          "height": 34
        }
      },
      "cell_type": "code",
      "source": [
        "# Load the data\n",
        "#path = './Downloads/start-kit/training-v1/'\n",
        "'''\n",
        "path = './training-v1/'\n",
        "df = pd.read_csv(path + \"offenseval-training-v1.tsv\", sep = \"\\t\")\n",
        "print(df.shape)\n",
        "df.head()\n",
        "'''"
      ],
      "execution_count": 0,
      "outputs": [
        {
          "output_type": "execute_result",
          "data": {
            "text/plain": [
              "'\\npath = \\'./training-v1/\\'\\ndf = pd.read_csv(path + \"offenseval-training-v1.tsv\", sep = \"\\t\")\\nprint(df.shape)\\ndf.head()\\n'"
            ]
          },
          "metadata": {
            "tags": []
          },
          "execution_count": 8
        }
      ]
    },
    {
      "metadata": {
        "id": "nLoqFvf7vcLW",
        "colab_type": "code",
        "outputId": "c635dec3-c124-4021-b970-245bb40cc1bf",
        "colab": {
          "base_uri": "https://localhost:8080/",
          "height": 173
        }
      },
      "cell_type": "code",
      "source": [
        "df.describe(include = ['O'])"
      ],
      "execution_count": 0,
      "outputs": [
        {
          "output_type": "execute_result",
          "data": {
            "text/html": [
              "<div>\n",
              "<style scoped>\n",
              "    .dataframe tbody tr th:only-of-type {\n",
              "        vertical-align: middle;\n",
              "    }\n",
              "\n",
              "    .dataframe tbody tr th {\n",
              "        vertical-align: top;\n",
              "    }\n",
              "\n",
              "    .dataframe thead th {\n",
              "        text-align: right;\n",
              "    }\n",
              "</style>\n",
              "<table border=\"1\" class=\"dataframe\">\n",
              "  <thead>\n",
              "    <tr style=\"text-align: right;\">\n",
              "      <th></th>\n",
              "      <th>tweet</th>\n",
              "      <th>subtask_a</th>\n",
              "      <th>subtask_b</th>\n",
              "      <th>subtask_c</th>\n",
              "    </tr>\n",
              "  </thead>\n",
              "  <tbody>\n",
              "    <tr>\n",
              "      <th>count</th>\n",
              "      <td>13240</td>\n",
              "      <td>13240</td>\n",
              "      <td>4400</td>\n",
              "      <td>3876</td>\n",
              "    </tr>\n",
              "    <tr>\n",
              "      <th>unique</th>\n",
              "      <td>13207</td>\n",
              "      <td>2</td>\n",
              "      <td>2</td>\n",
              "      <td>3</td>\n",
              "    </tr>\n",
              "    <tr>\n",
              "      <th>top</th>\n",
              "      <td>@USER Looks Like The Jokes On Liberals Again. ...</td>\n",
              "      <td>NOT</td>\n",
              "      <td>TIN</td>\n",
              "      <td>IND</td>\n",
              "    </tr>\n",
              "    <tr>\n",
              "      <th>freq</th>\n",
              "      <td>6</td>\n",
              "      <td>8840</td>\n",
              "      <td>3876</td>\n",
              "      <td>2407</td>\n",
              "    </tr>\n",
              "  </tbody>\n",
              "</table>\n",
              "</div>"
            ],
            "text/plain": [
              "                                                    tweet subtask_a subtask_b  \\\n",
              "count                                               13240     13240      4400   \n",
              "unique                                              13207         2         2   \n",
              "top     @USER Looks Like The Jokes On Liberals Again. ...       NOT       TIN   \n",
              "freq                                                    6      8840      3876   \n",
              "\n",
              "       subtask_c  \n",
              "count       3876  \n",
              "unique         3  \n",
              "top          IND  \n",
              "freq        2407  "
            ]
          },
          "metadata": {
            "tags": []
          },
          "execution_count": 9
        }
      ]
    },
    {
      "metadata": {
        "id": "vUZY5eaJvcLZ",
        "colab_type": "code",
        "outputId": "1f48ef44-e118-45f1-d24a-925fcd3b2a5b",
        "colab": {
          "base_uri": "https://localhost:8080/",
          "height": 293
        }
      },
      "cell_type": "code",
      "source": [
        "df['subtask_a'].value_counts().plot(kind = 'bar')"
      ],
      "execution_count": 0,
      "outputs": [
        {
          "output_type": "execute_result",
          "data": {
            "text/plain": [
              "<matplotlib.axes._subplots.AxesSubplot at 0x7fe7db876208>"
            ]
          },
          "metadata": {
            "tags": []
          },
          "execution_count": 10
        },
        {
          "output_type": "display_data",
          "data": {
            "image/png": "[encoded data removed]",
            "text/plain": [
              "<Figure size 432x288 with 1 Axes>"
            ]
          },
          "metadata": {
            "tags": []
          }
        }
      ]
    },
    {
      "metadata": {
        "id": "IUxd2Us5vcLb",
        "colab_type": "code",
        "outputId": "346caa7d-1355-4330-cac4-375fc37a2e88",
        "colab": {
          "base_uri": "https://localhost:8080/",
          "height": 293
        }
      },
      "cell_type": "code",
      "source": [
        "df['subtask_b'].value_counts().plot(kind = 'bar')"
      ],
      "execution_count": 0,
      "outputs": [
        {
          "output_type": "execute_result",
          "data": {
            "text/plain": [
              "<matplotlib.axes._subplots.AxesSubplot at 0x7fe7db7f0470>"
            ]
          },
          "metadata": {
            "tags": []
          },
          "execution_count": 11
        },
        {
          "output_type": "display_data",
          "data": {
            "image/png": "[encoded data removed]",
            "text/plain": [
              "<Figure size 432x288 with 1 Axes>"
            ]
          },
          "metadata": {
            "tags": []
          }
        }
      ]
    },
    {
      "metadata": {
        "id": "5lsIBBbGvcLe",
        "colab_type": "code",
        "outputId": "cfb4a545-037c-4bfa-d652-aee9949eae66",
        "colab": {
          "base_uri": "https://localhost:8080/",
          "height": 296
        }
      },
      "cell_type": "code",
      "source": [
        "df['subtask_c'].value_counts().plot(kind = 'bar')"
      ],
      "execution_count": 0,
      "outputs": [
        {
          "output_type": "execute_result",
          "data": {
            "text/plain": [
              "<matplotlib.axes._subplots.AxesSubplot at 0x7fe7d97c2c50>"
            ]
          },
          "metadata": {
            "tags": []
          },
          "execution_count": 12
        },
        {
          "output_type": "display_data",
          "data": {
            "image/png": "[encoded data removed]",
            "text/plain": [
              "<Figure size 432x288 with 1 Axes>"
            ]
          },
          "metadata": {
            "tags": []
          }
        }
      ]
    },
    {
      "metadata": {
        "id": "4U3fuOndvcLh",
        "colab_type": "text"
      },
      "cell_type": "markdown",
      "source": [
        "# Pre-processing of the tweets"
      ]
    },
    {
      "metadata": {
        "id": "JPhjxuCkvcLh",
        "colab_type": "code",
        "colab": {}
      },
      "cell_type": "code",
      "source": [
        "#df_train['subtask_a'].value_counts().plot(kind = 'bar')"
      ],
      "execution_count": 0,
      "outputs": []
    },
    {
      "metadata": {
        "id": "aDDnfIrKvcLk",
        "colab_type": "code",
        "outputId": "4f2a159f-fdc0-499d-f538-3c81ad04c265",
        "colab": {
          "base_uri": "https://localhost:8080/",
          "height": 359
        }
      },
      "cell_type": "code",
      "source": [
        "#@title Remove punctuation and transform to lowercase\n",
        "\n",
        "df_prep = df.copy()\n",
        "#df_prep['preprocessed_tweet'] = df_prep['tweet'].str.replace(' URL ', ' ')\n",
        "df_prep['preprocessed_tweet'] = df_prep['tweet'].str.lower()\n",
        "#df_prep['preprocessed_tweet'] = df_prep['preprocessed_tweet'].str.replace('[!;]', '')\n",
        "df_prep['preprocessed_tweet'] = df_prep['preprocessed_tweet'].str.replace('&amp;', '&')\n",
        "df_prep['preprocessed_tweet'] = df_prep['preprocessed_tweet'].str.replace('[{}]'.format(string.punctuation), '')\n",
        "df_prep['preprocessed_tweet'] = df_prep['preprocessed_tweet'].str.replace('[“”’—]', ' ')\n",
        "df_prep['preprocessed_tweet'] = df_prep['preprocessed_tweet'].str.replace('\\d+', '') # Remove digits\n",
        "\n",
        "def replace_words(dataframe, label):\n",
        "  dataframe[label] = dataframe[label].str.replace('𝙿𝚎𝚝𝚊𝚕𝚜', 'Petals')\n",
        "  dataframe[label] = dataframe[label].str.replace('𝙼𝚌𝙿𝙾𝚄𝚃𝚂𝙵𝚊𝚌𝚎', 'McPOUTSFace')\n",
        "  dataframe[label] = dataframe[label].str.replace('ᶦˢ', 'is')\n",
        "  dataframe[label] = dataframe[label].str.replace('ᴵⁿᵈᵉˣ', 'index')\n",
        "  dataframe[label] = dataframe[label].str.replace('ᶠᶦʳˢᵗ', 'first')\n",
        "  dataframe[label] = dataframe[label].str.replace('ᵗʰᵉ', 'the')\n",
        "  dataframe[label] = dataframe[label].str.replace('ᴳᵉᵗᵗᶦⁿᵍ', 'getting')\n",
        "  return dataframe\n",
        "  \n",
        "df_prep = replace_words(df_prep, 'preprocessed_tweet')\n",
        "\n",
        "df_prep.head(10)"
      ],
      "execution_count": 0,
      "outputs": [
        {
          "output_type": "execute_result",
          "data": {
            "text/html": [
              "<div>\n",
              "<style scoped>\n",
              "    .dataframe tbody tr th:only-of-type {\n",
              "        vertical-align: middle;\n",
              "    }\n",
              "\n",
              "    .dataframe tbody tr th {\n",
              "        vertical-align: top;\n",
              "    }\n",
              "\n",
              "    .dataframe thead th {\n",
              "        text-align: right;\n",
              "    }\n",
              "</style>\n",
              "<table border=\"1\" class=\"dataframe\">\n",
              "  <thead>\n",
              "    <tr style=\"text-align: right;\">\n",
              "      <th></th>\n",
              "      <th>id</th>\n",
              "      <th>tweet</th>\n",
              "      <th>subtask_a</th>\n",
              "      <th>subtask_b</th>\n",
              "      <th>subtask_c</th>\n",
              "      <th>preprocessed_tweet</th>\n",
              "    </tr>\n",
              "  </thead>\n",
              "  <tbody>\n",
              "    <tr>\n",
              "      <th>0</th>\n",
              "      <td>86426</td>\n",
              "      <td>@USER She should ask a few native Americans wh...</td>\n",
              "      <td>OFF</td>\n",
              "      <td>UNT</td>\n",
              "      <td>NaN</td>\n",
              "      <td>user she should ask a few native americans wha...</td>\n",
              "    </tr>\n",
              "    <tr>\n",
              "      <th>1</th>\n",
              "      <td>90194</td>\n",
              "      <td>@USER @USER Go home you’re drunk!!! @USER #MAG...</td>\n",
              "      <td>OFF</td>\n",
              "      <td>TIN</td>\n",
              "      <td>IND</td>\n",
              "      <td>user user go home you re drunk user maga trump...</td>\n",
              "    </tr>\n",
              "    <tr>\n",
              "      <th>2</th>\n",
              "      <td>16820</td>\n",
              "      <td>Amazon is investigating Chinese employees who ...</td>\n",
              "      <td>NOT</td>\n",
              "      <td>NaN</td>\n",
              "      <td>NaN</td>\n",
              "      <td>amazon is investigating chinese employees who ...</td>\n",
              "    </tr>\n",
              "    <tr>\n",
              "      <th>3</th>\n",
              "      <td>62688</td>\n",
              "      <td>@USER Someone should'veTaken\" this piece of sh...</td>\n",
              "      <td>OFF</td>\n",
              "      <td>UNT</td>\n",
              "      <td>NaN</td>\n",
              "      <td>user someone shouldvetaken this piece of shit ...</td>\n",
              "    </tr>\n",
              "    <tr>\n",
              "      <th>4</th>\n",
              "      <td>43605</td>\n",
              "      <td>@USER @USER Obama wanted liberals &amp;amp; illega...</td>\n",
              "      <td>NOT</td>\n",
              "      <td>NaN</td>\n",
              "      <td>NaN</td>\n",
              "      <td>user user obama wanted liberals  illegals to m...</td>\n",
              "    </tr>\n",
              "    <tr>\n",
              "      <th>5</th>\n",
              "      <td>97670</td>\n",
              "      <td>@USER Liberals are all Kookoo !!!</td>\n",
              "      <td>OFF</td>\n",
              "      <td>TIN</td>\n",
              "      <td>OTH</td>\n",
              "      <td>user liberals are all kookoo</td>\n",
              "    </tr>\n",
              "    <tr>\n",
              "      <th>6</th>\n",
              "      <td>77444</td>\n",
              "      <td>@USER @USER Oh noes! Tough shit.</td>\n",
              "      <td>OFF</td>\n",
              "      <td>UNT</td>\n",
              "      <td>NaN</td>\n",
              "      <td>user user oh noes tough shit</td>\n",
              "    </tr>\n",
              "    <tr>\n",
              "      <th>7</th>\n",
              "      <td>52415</td>\n",
              "      <td>@USER was literally just talking about this lo...</td>\n",
              "      <td>OFF</td>\n",
              "      <td>TIN</td>\n",
              "      <td>GRP</td>\n",
              "      <td>user was literally just talking about this lol...</td>\n",
              "    </tr>\n",
              "    <tr>\n",
              "      <th>8</th>\n",
              "      <td>45157</td>\n",
              "      <td>@USER Buy more icecream!!!</td>\n",
              "      <td>NOT</td>\n",
              "      <td>NaN</td>\n",
              "      <td>NaN</td>\n",
              "      <td>user buy more icecream</td>\n",
              "    </tr>\n",
              "    <tr>\n",
              "      <th>9</th>\n",
              "      <td>13384</td>\n",
              "      <td>@USER Canada doesn’t need another CUCK! We alr...</td>\n",
              "      <td>OFF</td>\n",
              "      <td>TIN</td>\n",
              "      <td>IND</td>\n",
              "      <td>user canada doesn t need another cuck we alrea...</td>\n",
              "    </tr>\n",
              "  </tbody>\n",
              "</table>\n",
              "</div>"
            ],
            "text/plain": [
              "      id                                              tweet subtask_a  \\\n",
              "0  86426  @USER She should ask a few native Americans wh...       OFF   \n",
              "1  90194  @USER @USER Go home you’re drunk!!! @USER #MAG...       OFF   \n",
              "2  16820  Amazon is investigating Chinese employees who ...       NOT   \n",
              "3  62688  @USER Someone should'veTaken\" this piece of sh...       OFF   \n",
              "4  43605  @USER @USER Obama wanted liberals &amp; illega...       NOT   \n",
              "5  97670                  @USER Liberals are all Kookoo !!!       OFF   \n",
              "6  77444                   @USER @USER Oh noes! Tough shit.       OFF   \n",
              "7  52415  @USER was literally just talking about this lo...       OFF   \n",
              "8  45157                         @USER Buy more icecream!!!       NOT   \n",
              "9  13384  @USER Canada doesn’t need another CUCK! We alr...       OFF   \n",
              "\n",
              "  subtask_b subtask_c                                 preprocessed_tweet  \n",
              "0       UNT       NaN  user she should ask a few native americans wha...  \n",
              "1       TIN       IND  user user go home you re drunk user maga trump...  \n",
              "2       NaN       NaN  amazon is investigating chinese employees who ...  \n",
              "3       UNT       NaN  user someone shouldvetaken this piece of shit ...  \n",
              "4       NaN       NaN  user user obama wanted liberals  illegals to m...  \n",
              "5       TIN       OTH                      user liberals are all kookoo   \n",
              "6       UNT       NaN                       user user oh noes tough shit  \n",
              "7       TIN       GRP  user was literally just talking about this lol...  \n",
              "8       NaN       NaN                             user buy more icecream  \n",
              "9       TIN       IND  user canada doesn t need another cuck we alrea...  "
            ]
          },
          "metadata": {
            "tags": []
          },
          "execution_count": 14
        }
      ]
    },
    {
      "metadata": {
        "id": "wHNUetW-Z19A",
        "colab_type": "code",
        "outputId": "207b6f30-5664-4de3-ce28-b1f68cc318d6",
        "colab": {
          "base_uri": "https://localhost:8080/",
          "height": 54
        }
      },
      "cell_type": "code",
      "source": [
        "from sklearn.feature_extraction.text import CountVectorizer\n",
        "# create a count vectorizer object\n",
        "count_vectorizer = CountVectorizer()\n",
        "# fit the count vectorizer using the text data\n",
        "count_vectorizer.fit(df_prep['preprocessed_tweet'])\n",
        "# collect the vocabulary items used in the vectorizer\n",
        "dictionary = count_vectorizer.vocabulary_.items()  \n",
        "print(dictionary)"
      ],
      "execution_count": 0,
      "outputs": [
        {
          "output_type": "stream",
          "text": [
            "dict_items([('user', 18760), ('she', 15807), ('should', 15935), ('ask', 1015), ('few', 6570), ('native', 11803), ('americans', 576), ('what', 19383), ('their', 17642), ('take', 17339), ('on', 12439), ('this', 17744), ('is', 9237), ('go', 7431), ('home', 8341), ('you', 19921), ('re', 14331), ('drunk', 5437), ('maga', 10715), ('trump', 18220), ('url', 18736), ('amazon', 551), ('investigating', 9178), ('chinese', 3030), ('employees', 5767), ('who', 19458), ('are', 921), ('selling', 15604), ('internal', 9119), ('data', 4361), ('to', 17903), ('thirdparty', 17737), ('sellers', 15603), ('looking', 10531), ('for', 6860), ('an', 606), ('edge', 5592), ('in', 8820), ('the', 17616), ('competitive', 3504), ('marketplace', 10899), ('kag', 9622), ('china', 3027), ('tcot', 17434), ('someone', 16411), ('shouldvetaken', 15943), ('piece', 13217), ('of', 12356), ('shit', 15864), ('volcano', 19029), ('obama', 12278), ('wanted', 19165), ('liberals', 10264), ('illegals', 8689), ('move', 11605), ('into', 9150), ('red', 14454), ('states', 16782), ('all', 454), ('kookoo', 9875), ('oh', 12389), ('noes', 12049), ('tough', 18011), ('was', 19196), ('literally', 10427), ('just', 9588), ('talking', 17361), ('about', 46), ('lol', 10509), ('mass', 10938), ('shootings', 15908), ('like', 10351), ('that', 17605), ('have', 8017), ('been', 1571), ('set', 15696), ('ups', 18713), ('it', 9292), ('propaganda', 13888), ('used', 18755), ('divide', 5142), ('us', 18739), ('major', 10763), ('issues', 9281), ('gun', 7767), ('control', 3791), ('and', 624), ('terrorism', 17550), ('buy', 2490), ('more', 11547), ('icecream', 8609), ('canada', 2588), ('doesn', 5197), ('need', 11856), ('another', 702), ('cuck', 4206), ('we', 19253), ('already', 509), ('enough', 5863), ('looneyleft', 10540), ('fking', 6713), ('up', 18689), ('our', 12631), ('great', 7628), ('country', 3963), ('qproofs', 14134), ('trudeaumustgo', 18210), ('not', 12137), ('my', 11726), ('fault', 6448), ('support', 17159), ('difference', 4895), ('between', 1716), ('kavanaugh', 9674), ('one', 12445), ('these', 17688), ('men', 11136), ('admitted', 227), ('groping', 7688), ('year', 19857), ('old', 12412), ('girl', 7371), ('years', 19859), ('ago', 335), ('other', 12621), ('going', 7463), ('be', 1513), ('confirmed', 3608), ('scj', 15435), ('demsarefrauds', 4661), ('demsaredone', 4660), ('walkawaydemocrats', 19130), ('redwave', 14472), ('voteredsaveamerica', 19056), ('trumptrain', 18261), ('lying', 10676), ('corrupt', 3905), ('traitor', 18078), ('nobody', 12037), ('wants', 19168), ('hear', 8057), ('anymore', 810), ('your', 19939), ('lies', 10323), ('deepstatecorruption', 4495), ('scare', 15388), ('every', 6045), ('american', 574), ('playing', 13334), ('hockey', 8306), ('with', 19579), ('warped', 19185), ('puck', 14019), ('soda', 16376), ('boarders', 1985), ('lot', 10575), ('ice', 8607), ('also', 514), ('king', 9800), ('taste', 17401), ('sing', 16071), ('no', 12028), ('listening', 10416), ('love', 10593), ('youve', 19957), ('never', 11921), ('hurt', 8552), ('vote', 19042), ('gop', 7517), ('when', 19406), ('watching', 19225), ('dont', 5264), ('listen', 10412), ('dirt', 4964), ('time', 17850), ('right', 14940), ('house', 8448), ('respond', 14789), ('concerns', 3562), ('canadians', 2593), ('four', 6940), ('out', 12638), ('five', 6700), ('stronger', 16990), ('good', 7486), ('reason', 14377), ('guncontrol', 7770), ('cdnpoli', 2786), ('cdnhist', 2785), ('besides', 1685), ('jax', 9384), ('mom', 11475), ('maybe', 10992), ('ope', 12487), ('he', 8036), ('hands', 7901), ('down', 5326), ('favorite', 6460), ('only', 12460), ('person', 13114), ('show', 15952), ('kids', 9776), ('asking', 1019), ('throwing', 17796), ('bullshit', 2415), ('flag', 6717), ('such', 17075), ('nonsense', 12097), ('putuporshutup', 14111), ('callthevotealready', 2556), ('correct', 3890), ('kind', 9791), ('conservatives', 3676), ('wanna', 19161), ('associate', 1067), ('everyone', 6051), ('left', 10116), ('as', 991), ('communist', 3477), ('antifa', 729), ('members', 11121), ('da', 4288), ('fuck', 7069), ('people', 13058), ('theres', 17681), ('mens', 11146), ('room', 15075), ('womens', 19635), ('pick', 13205), ('stick', 16853), ('willie', 19520), ('fan', 6378), ('since', 16064), ('before', 1576), ('most', 11573), ('were', 19356), ('bornlove', 2097), ('holding', 8319), ('rally', 14258), ('beto', 1701), ('exactly', 6088), ('which', 19420), ('fans', 6392), ('furious', 7140), ('could', 3934), ('give', 7379), ('some', 16402), ('specifics', 16536), ('tbh', 17429), ('days', 4385), ('general', 7270), ('connect', 3645), ('annoyance', 691), ('south', 16480), ('korean', 9883), ('official', 12378), ('leaders', 10079), ('will', 19513), ('discuss', 5021), ('specific', 16533), ('denuke', 4687), ('measures', 11056), ('pyongyang', 14117), ('rednationrising', 14458), ('can', 2587), ('tell', 17493), ('hooper', 8387), ('too', 17954), ('feel', 6519), ('better', 1711), ('chasing', 2931), ('title', 17884), ('whom', 19466), ('referring', 14492), ('hillary', 8214), ('know', 9849), ('tiresome', 17878), ('bernie', 1674), ('supporters', 17162), ('bashing', 1458), ('clinton', 3241), ('actual', 174), ('democrat', 4613), ('raises', 14251), ('money', 11497), ('democratic', 4616), ('party', 12890), ('bash', 1456), ('them', 17649), ('has', 7981), ('positive', 13526), ('message', 11181), ('so', 16338), ('dividing', 5146), ('glad', 7388), ('see', 15547), ('friends', 7028), ('supporting', 17165), ('metis', 11203), ('rights', 14952), ('much', 11637), ('zionists', 20005), ('yes', 19883), ('but', 2472), ('movie', 11613), ('thing', 17717), ('democrats', 4622), ('stalling', 16726), ('stop', 16901), ('from', 7044), ('being', 1604), ('president', 13681), ('they', 17701), ('done', 5249), ('lately', 10008), ('demsuck', 4666), ('wonder', 19639), ('apologetic', 840), ('social', 16353), ('day', 4381), ('any', 806), ('updates', 18695), ('ending', 5809), ('blatant', 1899), ('racism', 14205), ('windrush', 19534), ('grenfell', 7656), ('proves', 13962), ('alloutpolitics', 479), ('politicslive', 13438), ('pmqs', 13375), ('do', 5170), ('happen', 7919), ('now', 12192), ('lay', 10056), ('bed', 1560), ('cry', 4186), ('while', 19422), ('kelly', 9731), ('clarkson', 3177), ('thanks', 17599), ('free', 6990), ('speech', 16546), ('very', 18889), ('smart', 16259), ('why', 19484), ('think', 17723), ('gen', 7266), ('flynn', 6801), ('sentencing', 15649), ('keeps', 9720), ('rescheduled', 14746), ('thats', 17612), ('expected', 6169), ('if', 8655), ('placate', 13285), ('violent', 18981), ('leftiststerrorists', 10129), ('kavanaughconfirmation', 9676), ('woke', 19614), ('blow', 1959), ('hard', 7942), ('means', 11047), ('max', 10982), ('lvl', 10670), ('twitter', 18366), ('try', 18286), ('new', 11931), ('game', 7190), ('please', 13344), ('explain', 6186), ('controlled', 3799), ('opposition', 12527), ('bernier', 1677), ('escaping', 5967), ('split', 16605), ('rest', 14801), ('because', 1551), ('hes', 8166), ('even', 6031), ('racist', 14207), ('exclusionary', 6118), ('than', 17591), ('want', 19164), ('socialists', 16361), ('politics', 13437), ('stand', 16732), ('downtrodden', 5339), ('well', 19333), ('conflating', 3618), ('criticism', 4129), ('israel', 9273), ('anti', 715), ('semitism', 15618), ('part', 12865), ('problem', 13793), ('nina', 12014), ('reasons', 14382), ('didnt', 4885), ('read', 14339), ('book', 2053), ('long', 10519), ('worried', 19700), ('her', 8141), ('character', 2902), ('shouldve', 15942), ('trusted', 18269), ('goddamn', 7445), ('goddess', 7446), ('would', 19718), ('die', 4887), ('thousand', 17767), ('times', 17856), ('over', 12680), ('big', 1761), ('bold', 2018), ('lovely', 10599), ('perfect', 13081), ('arc', 912), ('fit', 6691), ('scotus', 15452), ('allegations', 458), ('women', 19628), ('shady', 15748), ('financials', 6632), ('disqualify', 5086), ('him', 8224), ('ruleoflaw', 15157), ('matters', 10973), ('metoo', 11204), ('countryoverparty', 3967), ('withdrawkavanaugh', 19582), ('stopkavanaugh', 16906), ('ppl', 13583), ('say', 15358), ('im', 8713), ('repeat', 14669), ('after', 304), ('me', 11038), ('kathy', 9666), ('patriot', 12944), ('spine', 16588), ('steel', 16818), ('changing', 2888), ('trade', 18052), ('everything', 6054), ('americafirst', 572), ('usa', 18740), ('leadership', 10080), ('respect', 14782), ('economy', 5584), ('jobs', 9482), ('peacethrustrength', 13000), ('god', 7439), ('bless', 1909), ('theusa', 17696), ('wow', 19725), ('really', 14364), ('don', 5238), ('sense', 15641), ('humor', 8516), ('fucking', 7083), ('ready', 14346), ('holy', 8339), ('moly', 11474), ('catholic', 2743), ('havent', 8021), ('awakened', 1221), ('by', 2503), ('falseprophet', 6358), ('lunatic', 10658), ('yeah', 19849), ('per', 13068), ('dina', 4938), ('there', 17675), ('everyday', 6050), ('claudia', 3192), ('horse', 8417), ('got', 7536), ('vet', 18893), ('care', 2658), ('unless', 18620), ('donation', 5247), ('example', 6096), ('limping', 10381), ('etc', 5991), ('surprise', 17198), ('same', 15268), ('blm', 1923), ('soros', 16450), ('americas', 578), ('worst', 19710), ('enemy', 5827), ('history', 8264), ('believes', 1619), ('way', 19238), ('withing', 19586), ('its', 9311), ('gunna', 7777), ('wedding', 19292), ('best', 1686), ('pretty', 13710), ('conflict', 3619), ('here', 8145), ('look', 10528), ('at', 1089), ('involved', 9198), ('agenda', 321), ('announcements', 687), ('come', 3400), ('fruition', 7057), ('or', 12546), ('basically', 1461), ('stealing', 16809), ('labours', 9941), ('ideas', 8622), ('get', 7322), ('votes', 19064), ('british', 2289), ('fullon', 7110), ('racists', 14210), ('voters', 19063), ('coincidence', 3344), ('advocates', 272), ('must', 11709), ('falling', 6348), ('themselves', 17656), ('assure', 1081), ('electorate', 5674), ('horrific', 8411), ('hi', 8180), ('huge', 8494), ('camila', 2569), ('mendes', 11141), ('alright', 511), ('tweet', 18348), ('promotional', 13881), ('material', 10960), ('off', 12357), ('certainly', 2839), ('weird', 19319), ('view', 18940), ('toward', 18027), ('margaret', 10877), ('sanger', 15295), ('geonicidal', 7306), ('philosophy', 13174), ('aborting', 37), ('minorities', 11321), ('black', 1864), ('population', 13494), ('suffers', 17095), ('shares', 15789), ('opinion', 12508), ('prison', 13764), ('system', 17310), ('fucked', 7072), ('still', 16864), ('getting', 7328), ('away', 1229), ('potentially', 13556), ('murder', 11681), ('intent', 9096), ('prisoners', 13765), ('hurricane', 8545), ('did', 4883), ('louisiana', 10588), ('inmates', 8999), ('went', 19352), ('missing', 11377), ('useless', 18759), ('attempts', 1124), ('follows', 6833), ('through', 17791), ('walkaway', 19128), ('liberalsyour', 10282), ('poison', 13399), ('grateful', 7617), ('dog', 5200), ('white', 19444), ('cruel', 4173), ('man', 10802), ('facts', 6290), ('pay', 12968), ('kicks', 9771), ('dem', 4590), ('butt', 2477), ('fun', 7113), ('dumb', 5475), ('dumber', 5480), ('two', 18377), ('toxictory', 18038), ('minister', 11317), ('attempted', 1122), ('expense', 6173), ('charity', 2915), ('toriesmustgo', 17980), ('dissolvetheunion', 5104), ('ur', 18725), ('straight', 16924), ('forword', 6927), ('saw', 15356), ('dance', 4324), ('dewwane', 4843), ('talk', 17357), ('ky', 9922), ('ap', 829), ('kitnay', 9816), ('porrany', 13504), ('ho', 8297), ('industry', 8917), ('mein', 11103), ('quality', 14149), ('gather', 7229), ('senior', 15637), ('artist', 985), ('manmarziyaan', 10843), ('clown', 3273), ('silence', 16040), ('alex', 426), ('jones', 9511), ('retaliation', 14829), ('jack', 9337), ('questions', 14169), ('obstructionists', 12320), ('antiamerican', 718), ('pharisees', 13157), ('running', 15172), ('nothing', 12150), ('youre', 19940), ('notyoure', 12177), ('represent', 14701), ('alinskyite', 448), ('orwellian', 12604), ('leftist', 10125), ('toolfool', 17960), ('thingslike', 17721), ('marxistsantifa', 10929), ('similar', 16051), ('upsst', 18720), ('bu', 2360), ('use', 18754), ('words', 19671), ('fascist', 6420), ('fascism', 6418), ('again', 310), ('ahead', 356), ('dsouzas', 5443), ('lieright', 10322), ('squat', 16670), ('either', 5655), ('remember', 14628), ('somehow', 16407), ('centrist', 2828), ('antifahaters', 741), ('quite', 14181), ('seem', 15556), ('bring', 2276), ('condemn', 3574), ('things', 17719), ('mean', 11042), ('worked', 19681), ('last', 10003), ('wh', 19377), ('trumps', 18247), ('mind', 11298), ('april', 905), ('ryan', 15199), ('needs', 11864), ('flattering', 6738), ('herself', 8163), ('shes', 15836), ('important', 8793), ('thinks', 17730), ('principled', 13751), ('hypocrickets', 8581), ('forget', 6885), ('backed', 1283), ('beautiful', 1542), ('teach', 17441), ('values', 18817), ('teaching', 17447), ('royalty', 15123), ('keep', 9713), ('heads', 8046), ('stay', 16797), ('real', 14349), ('his', 8256), ('criminal', 4110), ('son', 16423), ('campaign', 2572), ('didn', 4884), ('watch', 19218), ('september', 15660), ('th', 17585), ('stories', 16918), ('how', 8464), ('came', 2562), ('together', 17924), ('stood', 16897), ('shoulder', 15936), ('made', 10705), ('proud', 13947), ('yet', 19896), ('damn', 4316), ('cannot', 2612), ('moment', 11476), ('protest', 13936), ('saturday', 15332), ('tear', 17458), ('water', 19226), ('feelings', 6521), ('addresses', 195), ('representing', 14706), ('nra', 12203), ('let', 10200), ('says', 15364), ('drinking', 5408), ('koolaid', 9878), ('bloated', 1925), ('holder', 8316), ('prosecuted', 13915), ('both', 2108), ('players', 13329), ('color', 3384), ('institution', 9063), ('behaves', 1592), ('window', 19532), ('licker', 10313), ('babysitting', 1276), ('three', 17780), ('medont', 11086), ('mad', 10700), ('wtc', 19769), ('threat', 17773), ('qanon', 14122), ('wakeupamerica', 19118), ('easily', 5559), ('digestible', 4907), ('content', 3753), ('nuance', 12214), ('understand', 18526), ('story', 16921), ('picture', 13210), ('base', 1449), ('level', 10215), ('emotional', 5754), ('response', 14794), ('requires', 14742), ('order', 12558), ('profitable', 13831), ('plain', 13295), ('ones', 12449), ('conversation', 3819), ('news', 11937), ('moonbeam', 11536), ('coma', 3394), ('omg', 12433), ('extra', 6231), ('ily', 8711), ('call', 2548), ('isa', 9238), ('narcissistic', 11776), ('sociopath', 16371), ('unfortunately', 18566), ('america', 571), ('called', 2549), ('believe', 1614), ('exams', 6098), ('against', 313), ('minority', 11323), ('groups', 7699), ('alivebut', 453), ('wondering', 19643), ('career', 2662), ('railroaded', 14241), ('odd', 12350), ('loved', 10594), ('herespecially', 8148), ('guy', 7804), ('always', 535), ('presentbet', 13674), ('baby', 1270), ('persuasive', 13129), ('fam', 6362), ('anywaywe', 825), ('november', 12185), ('burt', 2452), ('cool', 3846), ('dude', 5456), ('follow', 6823), ('back', 1279), ('thank', 17592), ('finally', 6626), ('point', 13394), ('where', 19411), ('okay', 12406), ('using', 18766), ('heat', 8075), ('happy', 7931), ('does', 5195), ('huh', 8498), ('former', 6904), ('arrest', 964), ('citizen', 3133), ('em', 5721), ('movehe', 11607), ('loser', 10564), ('lets', 10205), ('bottom', 2118), ('dm', 5160), ('zipcode', 20007), ('ill', 8683), ('check', 2950), ('make', 10767), ('sure', 17184), ('enjoying', 5855), ('tv', 18338), ('offer', 12367), ('asap', 993), ('nevinbruce', 11930), ('record', 14434), ('doug', 5319), ('personally', 13119), ('sen', 15620), ('bc', 1501), ('had', 7827), ('credible', 4085), ('choice', 3044), ('won', 19638), ('next', 11951), ('election', 5669), ('totally', 17999), ('opposite', 12525), ('cnn', 3292), ('narrative', 11777), ('par', 12828), ('nazis', 11821), ('punch', 14044), ('sides', 16009), ('coin', 3343), ('noooooooo', 12109), ('exterminate', 6227), ('deport', 4705), ('poc', 13379), ('jews', 9445), ('prevent', 13713), ('doing', 5212), ('comparison', 3493), ('benefits', 1646), ('fash', 6423), ('many', 10861), ('arguments', 938), ('may', 10990), ('dumbest', 5481), ('common', 3467), ('idk', 8645), ('whats', 19394), ('yall', 19828), ('chill', 3022), ('having', 8024), ('abysmal', 74), ('nd', 11836), ('half', 7860), ('rizzo', 14997), ('st', 16687), ('baseball', 1451), ('happens', 7925), ('work', 19678), ('power', 13573), ('numbers', 12231), ('dropped', 5421), ('bounce', 2120), ('anytime', 821), ('lmao', 10447), ('ps', 13975), ('pack', 12751), ('cant', 2618), ('wear', 19272), ('hat', 7992), ('without', 19588), ('abused', 67), ('meet', 11091), ('animals', 663), ('attack', 1115), ('branch', 2178), ('communistsocialistnazis', 3481), ('laughs', 10025), ('ve', 18846), ('gotten', 7544), ('first', 6674), ('pizza', 13277), ('panera', 12810), ('kill', 9778), ('hand', 7883), ('shanahan', 15778), ('spoon', 16625), ('healthy', 8054), ('obviously', 12329), ('excuses', 6128), ('doom', 5271), ('sort', 16458), ('seemed', 15557), ('during', 5509), ('ugly', 18422), ('hearted', 8069), ('troll', 18186), ('clearly', 3211), ('pokemon', 13404), ('master', 10946), ('almost', 493), ('rare', 14300), ('candy', 2606), ('alone', 496), ('legacy', 10145), ('moveset', 11612), ('depends', 4698), ('collection', 3366), ('pieces', 13218), ('value', 18815), ('hype', 8576), ('followed', 6825), ('protests', 13943), ('reported', 14692), ('sunderland', 17128), ('except', 6105), ('football', 6856), ('westbrom', 19364), ('worse', 19704), ('type', 18390), ('mega', 11095), ('mbga', 11004), ('mcga', 11025), ('patriots', 12947), ('muslims', 11706), ('farleft', 6405), ('leftists', 10127), ('doomed', 5272), ('lose', 10562), ('realises', 14355), ('civilwar', 3153), ('soon', 16435), ('theyll', 17703), ('claim', 3156), ('comments', 3443), ('taken', 17343), ('context', 3759), ('integrity', 9082), ('saved', 15343), ('bringing', 2279), ('honor', 8368), ('decency', 4448), ('yoyo', 19961), ('rich', 14914), ('riddance', 14921), ('xd', 19800), ('case', 2709), ('cuase', 4201), ('laught', 10026), ('dead', 4400), ('hurts', 8556), ('poor', 13475), ('standin', 16738), ('nope', 12112), ('suffering', 17094), ('probably', 13789), ('imagine', 8722), ('sjw', 16121), ('snowflakes', 16335), ('safe', 15226), ('working', 19684), ('might', 11254), ('lurking', 10664), ('shadows', 15747), ('ruskies', 15182), ('century', 2832), ('light', 10344), ('yourself', 19945), ('coming', 3427), ('tory', 17985), ('partyvery', 12897), ('haters', 8002), ('deleting', 4571), ('ig', 8658), ('canadian', 2591), ('actually', 176), ('blame', 1883), ('trudeau', 18208), ('costs', 3924), ('standard', 16734), ('push', 14087), ('warned', 19180), ('josh', 9519), ('gordon', 7525), ('months', 11530), ('daily', 4300), ('basis', 1463), ('shocked', 15895), ('am', 539), ('transpired', 18107), ('today', 17912), ('sjshsj', 16119), ('job', 9477), ('bitch', 1834), ('haiti', 7855), ('collusion', 3377), ('dumocrat', 5486), ('skilled', 16135), ('amazing', 548), ('fist', 6690), ('pump', 14039), ('troops', 18192), ('farakans', 6401), ('illegal', 8685), ('muslim', 11704), ('detest', 4807), ('simply', 16060), ('result', 14819), ('bad', 1311), ('riot', 14973), ('streets', 16956), ('counterparts', 3953), ('thought', 17763), ('strict', 16967), ('help', 8126), ('happening', 7923), ('following', 6831), ('sickening', 15995), ('biased', 1746), ('management', 10807), ('twitterleftbias', 18370), ('life', 10330), ('tho', 17750), ('midterms', 11250), ('word', 19666), ('false', 6352), ('spread', 16647), ('those', 17759), ('naacp', 11745), ('giving', 7385), ('death', 4422), ('threats', 17778), ('professor', 13825), ('ford', 6868), ('threatening', 17776), ('violence', 18977), ('candidate', 2603), ('loses', 10567), ('spanky', 16506), ('impeached', 8768), ('seen', 15560), ('listened', 10413), ('pals', 12800), ('little', 10432), ('bat', 1468), ('something', 16414), ('titles', 17886), ('bit', 1832), ('gteradicating', 7723), ('hiv', 8277), ('malaria', 10788), ('middle', 11239), ('africa', 299), ('bloody', 1952), ('luck', 10644), ('interaction', 9103), ('volunteers', 19037), ('fcp', 6486), ('witnessed', 19594), ('demanding', 4595), ('float', 6764), ('moved', 11606), ('parade', 12829), ('ableg', 29), ('seems', 15559), ('added', 185), ('video', 18934), ('playlist', 13335), ('combat', 3395), ('mon', 11486), ('frere', 7012), ('vs', 19078), ('ismael', 9267), ('et', 5990), ('assassin', 1035), ('david', 4373), ('le', 10075), ('boxer', 2134), ('yfc', 19899), ('law', 10036), ('changedyou', 2885), ('allegation', 457), ('guilty', 7758), ('until', 18669), ('proven', 13958), ('innocent', 9008), ('mentally', 11150), ('different', 4897), ('joe', 9484), ('biden', 1759), ('outcome', 12643), ('name', 11759), ('hill', 8212), ('sucks', 17083), ('donkey', 5255), ('balls', 1368), ('yo', 19905), ('gorgeous', 7528), ('absolutely', 59), ('nail', 11752), ('coffin', 3334), ('hilliary', 8222), ('hope', 8390), ('gets', 7326), ('tried', 18168), ('failure', 6310), ('refuse', 14510), ('admit', 224), ('reality', 14357), ('overwhelming', 12714), ('populated', 13493), ('policy', 13424), ('clue', 3280), ('california', 2544), ('biggest', 1766), ('doesnt', 5198), ('partly', 12882), ('fund', 7117), ('dumbass', 5478), ('levistrauss', 10222), ('wanting', 19166), ('heck', 8089), ('freedoms', 6998), ('selective', 15578), ('pres', 13665), ('gives', 7384), ('sht', 15973), ('neither', 11887), ('ok', 12403), ('polls', 13444), ('donnie', 5258), ('jr', 9536), ('family', 6372), ('owe', 12718), ('apology', 848), ('taking', 17350), ('activities', 165), ('lining', 10394), ('pockets', 13381), ('father', 6442), ('unfit', 18561), ('making', 10783), ('mockery', 11435), ('republic', 14717), ('shame', 15766), ('justice', 9592), ('prevail', 13711), ('harvardharris', 7978), ('poll', 13440), ('conducted', 3588), ('found', 6935), ('percent', 13072), ('said', 15238), ('legal', 10146), ('immigrants', 8749), ('brought', 2327), ('doubt', 5313), ('officially', 12379), ('become', 1555), ('national', 11792), ('socialist', 16358), ('workers', 19683), ('gone', 7480), ('acting', 156), ('der', 4717), ('sturmer', 17023), ('einsatzgruppenwaffen', 5653), ('ss', 16681), ('detachment', 4786), ('carmen', 2679), ('fricking', 7020), ('cute', 4266), ('chelsea', 2971), ('crazy', 4060), ('mother', 11575), ('binnedboris', 1801), ('sent', 15646), ('lyin', 10675), ('lynton', 10687), ('australia', 1172), ('manifesto', 10833), ('promised', 13872), ('brexit', 2239), ('brits', 2293), ('eu', 6007), ('allowed', 482), ('referendum', 14488), ('gerrymandered', 7317), ('movement', 11608), ('extension', 6224), ('complete', 3517), ('joke', 9501), ('wasnt', 19207), ('court', 3981), ('fonding', 6839), ('girls', 7374), ('camera', 2563), ('awesome', 1234), ('humanity', 8504), ('goober', 7485), ('uninformed', 18586), ('forgot', 6894), ('foster', 6929), ('child', 3011), ('brainless', 2171), ('dems', 4658), ('majority', 10765), ('corrupts', 3911), ('crookedhillary', 4148), ('losers', 10565), ('supposedly', 17169), ('audience', 1151), ('voted', 19045), ('scared', 15389), ('shitless', 15874), ('hearing', 8060), ('top', 17971), ('brass', 2185), ('speak', 16520), ('surprised', 17199), ('takes', 17346), ('sick', 15994), ('woman', 19620), ('accusations', 117), ('find', 6634), ('far', 6400), ('praying', 13605), ('weak', 19254), ('collins', 3373), ('flake', 6720), ('pull', 14031), ('direct', 4955), ('panthers', 12816), ('bear', 1524), ('arms', 956), ('oct', 12347), ('brazil', 2198), ('citizens', 3136), ('government', 7554), ('implementing', 8784), ('factor', 6288), ('brazilian', 2199), ('violates', 18972), ('brazilians', 2200), ('murdered', 11682), ('wzero', 19798), ('effective', 5621), ('method', 11200), ('self', 15581), ('defense', 4518), ('sin', 16063), ('deceive', 4442), ('ourselves', 12634), ('truth', 18277), ('confess', 3597), ('sins', 16086), ('faithful', 6321), ('forgive', 6888), ('purify', 14070), ('unrighteousness', 18652), ('john', 9491), ('millions', 11290), ('permit', 13101), ('carried', 2691), ('legally', 10151), ('concealed', 3550), ('firearms', 6660), ('anyone', 813), ('else', 5716), ('idiots', 8644), ('wonderful', 19641), ('media', 11064), ('incidents', 8847), ('fits', 6693), ('selves', 15607), ('freaks', 6983), ('hysterical', 8590), ('shows', 15965), ('dedication', 4484), ('regulations', 14546), ('striping', 16979), ('land', 9973), ('abyss', 75), ('owner', 12729), ('culo', 4214), ('scarred', 15393), ('confirm', 3603), ('wing', 19538), ('activist', 163), ('liar', 10241), ('whos', 19476), ('changes', 2887), ('evidence', 6065), ('christineblaseyford', 3074), ('confirmkavanaugh', 3612), ('weakrinos', 19261), ('republicans', 14721), ('reagan', 14347), ('signed', 16030), ('bill', 1784), ('governor', 7558), ('ca', 2513), ('awe', 1232), ('hogwash', 8312), ('overstate', 12704), ('obvious', 12327), ('judge', 9548), ('extensive', 6225), ('backgroundsnot', 1289), ('peeplink', 13032), ('trumpboom', 18224), ('rape', 14289), ('assuming', 1077), ('answer', 706), ('liberal', 10251), ('stooge', 16898), ('ocasiocortez', 12333), ('plan', 13297), ('future', 7152), ('republican', 14718), ('surrender', 17202), ('morons', 11557), ('seriously', 15675), ('mental', 11148), ('health', 8051), ('treatment', 18143), ('confiscated', 3616), ('longer', 10521), ('danger', 4329), ('himself', 8229), ('others', 12622), ('waiting', 19109), ('add', 184), ('list', 10410), ('school', 15423), ('buys', 2494), ('caliber', 2542), ('handguns', 7888), ('showing', 15960), ('vile', 18954), ('honored', 8371), ('included', 8855), ('fine', 6637), ('rena', 14649), ('dean', 4415), ('shut', 15981), ('ontario', 12469), ('seeing', 15549), ('helping', 8129), ('loose', 10548), ('province', 13967), ('anywhere', 826), ('completely', 3518), ('tune', 18317), ('mr', 11619), ('harper', 7966), ('oops', 12485), ('scheer', 15405), ('mistake', 11389), ('alike', 445), ('sexually', 15728), ('assaulted', 1042), ('fellow', 6538), ('student', 17004), ('believed', 1615), ('however', 8468), ('happened', 7920), ('realize', 14359), ('victim', 18918), ('then', 17660), ('felt', 6542), ('id', 8613), ('colossal', 3389), ('terrorist', 17551), ('msm', 11629), ('imma', 8736), ('hadnt', 7830), ('smarter', 16261), ('gilmer', 7360), ('makes', 10779), ('laugh', 10021), ('lifeline', 10334), ('headed', 8039), ('guess', 7747), ('note', 12143), ('climate', 3229), ('change', 2883), ('summerfall', 17117), ('winterspring', 19554), ('protestors', 13942), ('epic', 5911), ('beatdown', 1533), ('assault', 1041), ('weapon', 19264), ('rocky', 15041), ('possible', 13532), ('bears', 1528), ('member', 11118), ('olivers', 12424), ('army', 957), ('appreciate', 889), ('lives', 10437), ('sorted', 16460), ('needed', 11858), ('small', 16255), ('sips', 16090), ('wine', 19535), ('unusual', 18676), ('emily', 5741), ('guessed', 7748), ('jj', 9469), ('wouldn', 19720), ('profile', 13827), ('holes', 8322), ('large', 9991), ('cities', 3131), ('somewhere', 16421), ('hole', 8321), ('nowhere', 12196), ('pro', 13785), ('killed', 9780), ('hunting', 8537), ('rifle', 14935), ('vantage', 18826), ('close', 3255), ('hour', 8444), ('police', 13415), ('entered', 5876), ('shooting', 15907), ('min', 11296), ('aha', 352), ('individual', 8905), ('needing', 11860), ('belong', 1630), ('winning', 19548), ('team', 17450), ('constant', 3714), ('conditioning', 3583), ('selfdevaluation', 15588), ('strong', 16989), ('side', 16003), ('lefthillaryantifa', 10120), ('regardless', 14520), ('theyre', 17704), ('repling', 14688), ('demonstration', 4650), ('zones', 20017), ('likely', 10356), ('supports', 17166), ('stricter', 16968), ('shouldnt', 15941), ('pussy', 14096), ('grabbing', 7571), ('wearing', 19275), ('gloves', 7423), ('handling', 7897), ('food', 6841), ('environment', 5904), ('able', 28), ('live', 10433), ('planet', 13300), ('congratulate', 3633), ('put', 14101), ('mouth', 11598), ('simple', 16056), ('fact', 6283), ('breaks', 2210), ('brains', 2172), ('beat', 1532), ('facsists', 6282), ('lost', 10573), ('cause', 2755), ('fascists', 6421), ('hiding', 8188), ('demoralize', 4654), ('hateful', 7997), ('ideology', 8635), ('forcing', 6866), ('views', 18947), ('root', 15078), ('anything', 817), ('hollywood', 8333), ('islam', 9250), ('firemorningjoe', 6666), ('cut', 4264), ('cloth', 3266), ('misogyny', 11368), ('bigotry', 1772), ('display', 5073), ('responsible', 14799), ('truly', 18218), ('idiotic', 8643), ('ive', 9329), ('ever', 6038), ('brigitte', 2268), ('gabriel', 7165), ('experienced', 6176), ('nightmares', 12003), ('sounding', 16472), ('alarm', 407), ('attention', 1129), ('warning', 19182), ('australian', 1173), ('effect', 5618), ('homicides', 8354), ('dixiecrats', 5153), ('kkk', 9819), ('ruin', 15150), ('telling', 17495), ('primarily', 13738), ('chains', 2854), ('sad', 15215), ('exploited', 6196), ('reputation', 14733), ('destroyed', 4780), ('hold', 8315), ('place', 13286), ('start', 16761), ('ban', 1374), ('guns', 7783), ('proposes', 13905), ('racial', 14202), ('profiling', 13829), ('tactic', 17325), ('thinking', 17728), ('introducing', 9156), ('sweet', 17262), ('sooo', 16439), ('nice', 11975), ('sit', 16100), ('sofa', 16377), ('attacks', 1120), ('inputed', 9015), ('seconds', 15525), ('tmart', 17896), ('saying', 15360), ('above', 47), ('noted', 12145), ('rudy', 15145), ('own', 12726), ('kamalaharris', 9639), ('emperor', 5759), ('clothes', 3268), ('taxpayers', 17420), ('funded', 7122), ('unprecedented', 18636), ('armed', 952), ('protection', 13930), ('kamala', 9638), ('harris', 7970), ('via', 18903), ('fat', 6436), ('plenty', 13354), ('accused', 120), ('conf', 3592), ('hearings', 8061), ('arent', 928), ('guiltyinnocence', 7759), ('bench', 1637), ('diff', 4893), ('journalist', 9524), ('supremacyaltright', 17176), ('capablities', 2624), ('despite', 4771), ('proof', 13885), ('hypothesis', 8587), ('lied', 10318), ('entire', 5887), ('believing', 1620), ('told', 17930), ('oath', 12274), ('subpoenaed', 17039), ('testify', 17566), ('lifetime', 10339), ('appointment', 886), ('stake', 16714), ('allow', 480), ('orrin', 12600), ('hatch', 7993), ('question', 14165), ('invite', 9189), ('lawsuit', 10050), ('gem', 7263), ('phony', 13183), ('along', 497), ('second', 15519), ('account', 106), ('block', 1928), ('less', 10193), ('followers', 6830), ('discriminate', 5017), ('indeed', 8880), ('concerned', 3561), ('slowly', 16242), ('thingie', 17718), ('excuse', 6125), ('horrible', 8407), ('english', 5846), ('languase', 9987), ('schooling', 15424), ('sorry', 16455), ('yep', 19878), ('hitler', 8271), ('hot', 8433), ('deserving', 4749), ('noticed', 12156), ('thoroughly', 17756), ('disingenuous', 5047), ('engaging', 5840), ('forgotten', 6895), ('afforded', 295), ('goes', 7457), ('head', 8037), ('modelling', 11443), ('tons', 17952), ('horizon', 8401), ('scientists', 15433), ('discovered', 5010), ('dna', 5164), ('mix', 11405), ('humans', 8507), ('neanderthalswould', 11839), ('elected', 5667), ('ted', 17474), ('spanking', 16505), ('enjoyable', 5853), ('looked', 10529), ('listed', 10411), ('board', 1983), ('leading', 10081), ('age', 317), ('services', 15686), ('aust', 1169), ('lasa', 10000), ('comes', 3410), ('medicare', 11075), ('local', 10478), ('alliancewhat', 470), ('hell', 8117), ('mirror', 11339), ('send', 15626), ('families', 6370), ('remind', 14634), ('duties', 5516), ('hostileenvironment', 8430), ('priceonlove', 13727), ('skypefamilies', 16156), ('separated', 15654), ('border', 2085), ('children', 3016), ('cages', 2529), ('evil', 6070), ('peoples', 13062), ('june', 9576), ('rejected', 14564), ('craven', 4051), ('worship', 19706), ('contemptuously', 3750), ('defying', 4550), ('ge', 7253), ('undermining', 18520), ('democracy', 4611), ('instead', 9059), ('bitches', 1837), ('aint', 378), ('gift', 7347), ('bird', 1815), ('return', 14847), ('homeland', 8342), ('speaks', 16526), ('phone', 13179), ('compose', 3530), ('text', 17578), ('brother', 2323), ('angry', 658), ('yells', 19871), ('yelling', 19869), ('melting', 11116), ('snow', 16331), ('flakes', 6721), ('remains', 14622), ('turned', 18330), ('kavanaughs', 9682), ('circus', 3128), ('minute', 11330), ('started', 16762), ('threatened', 17775), ('kick', 9765), ('turmps', 18326), ('ass', 1032), ('centralize', 2823), ('federal', 6505), ('whatilearnedtoday', 19392), ('win', 19526), ('fast', 6431), ('progressive', 13846), ('dislikes', 5052), ('evenly', 6033), ('youtube', 19952), ('insightful', 9031), ('supreme', 17178), ('worthy', 19714), ('terroism', 17548), ('starvation', 16771), ('flint', 6758), ('poverty', 13571), ('global', 7406), ('warming', 19177), ('sex', 15717), ('trafficking', 18066), ('bullying', 2419), ('body', 2001), ('shaming', 15776), ('brutality', 2346), ('feminism', 6550), ('marches', 10870), ('prove', 13956), ('causation', 2754), ('cda', 2780), ('surely', 17185), ('idea', 8617), ('petals', 13142), ('mcpoutsface', 11030), ('pm', 13372), ('egging', 5635), ('continue', 3764), ('boost', 2073), ('fortunes', 6922), ('vainly', 18803), ('makers', 10778), ('young', 19934), ('born', 2096), ('meme', 11123), ('knowledge', 9855), ('memeing', 11125), ('stunning', 17016), ('yea', 19847), ('smacked', 16253), ('focus', 6806), ('boys', 2154), ('journalists', 9527), ('activists', 164), ('constantly', 3715), ('ignoring', 8669), ('antifas', 753), ('hahaha', 7837), ('thighs', 17714), ('educating', 5605), ('christineford', 3076), ('ccot', 2777), ('brettkavanaugh', 2235), ('whitewater', 19454), ('imperative', 8775), ('pattern', 12955), ('revolting', 14880), ('behavior', 1594), ('clear', 3206), ('painful', 12770), ('low', 10606), ('iq', 9210), ('gdp', 7251), ('growth', 7711), ('translate', 18097), ('higher', 8191), ('income', 8860), ('familes', 6367), ('individuals', 8906), ('billions', 1790), ('companies', 3486), ('create', 4068), ('labour', 9939), ('pays', 12981), ('living', 10439), ('wage', 19096), ('wonna', 19646), ('paidpick', 12768), ('energy', 5831), ('scream', 15470), ('shout', 15944), ('bro', 2295), ('backwood', 1308), ('interview', 9139), ('irritating', 9235), ('nigga', 11993), ('suspicious', 17229), ('built', 2398), ('trash', 18115), ('pathetic', 12930), ('psychology', 13992), ('thinker', 17724), ('religion', 14603), ('aggressive', 331), ('deeply', 4493), ('hinduism', 8239), ('played', 13326), ('saint', 15242), ('marie', 10882), ('london', 10517), ('docks', 5177), ('goodness', 7496), ('mn', 11421), ('passive', 12911), ('empty', 5777), ('prisons', 13767), ('broke', 2306), ('lawsliberal', 10048), ('logic', 10502), ('angel', 646), ('butthurt', 2484), ('impeachable', 8767), ('offense', 12364), ('tolerant', 17934), ('single', 16074), ('charlottesville', 2919), ('hypocrisy', 8582), ('works', 19687), ('ways', 19241), ('bobby', 1993), ('jesus', 9433), ('excrackheads', 6123), ('americahating', 573), ('christians', 3069), ('exdems', 6130), ('emmys', 5750), ('watchers', 19222), ('ability', 26), ('turn', 18327), ('skip', 16144), ('professional', 13822), ('tweeter', 18351), ('shitting', 15888), ('sports', 16630), ('casters', 2718), ('td', 17435), ('receptions', 14406), ('wrong', 19758), ('colleges', 3372), ('students', 17006), ('unmask', 18626), ('determined', 4803), ('destroy', 4779), ('courts', 3988), ('feeling', 6520), ('touch', 18005), ('mark', 10891), ('levin', 10220), ('candace', 2600), ('owens', 12723), ('unbeatable', 18475), ('frenzy', 7007), ('whole', 19463), ('explode', 6192), ('andsadly', 639), ('alyssa', 537), ('milano', 11263), ('wet', 19368), ('pants', 12819), ('stratadata', 16939), ('ai', 365), ('hairball', 7853), ('tdavis', 17436), ('touring', 18016), ('application', 876), ('cognitive', 3336), ('machinelearning', 10697), ('techniques', 17469), ('speed', 16549), ('governance', 7552), ('grossly', 7691), ('misinterpreting', 11363), ('across', 150), ('parties', 12878), ('action', 157), ('further', 7145), ('davis', 4377), ('brian', 2248), ('mulroney', 11657), ('decision', 4457), ('proposing', 13906), ('tactics', 17329), ('meant', 11050), ('steal', 16808), ('independents', 8886), ('fresh', 7013), ('breath', 2217), ('rotten', 15101), ('spent', 16563), ('million', 11287), ('office', 12373), ('libfail', 10292), ('notice', 12155), ('avoids', 1214), ('comrade', 3541), ('stalk', 16719), ('weirdly', 19321), ('vicious', 18915), ('bitter', 1850), ('extrapolate', 6237), ('access', 89), ('decent', 4449), ('healthcare', 8052), ('criminals', 4113), ('reveals', 14859), ('brutalist', 2345), ('impenetrable', 8774), ('grown', 7708), ('nature', 11809), ('under', 18507), ('uk', 18431), ('terms', 17539), ('terrible', 17541), ('impression', 8807), ('believable', 1613), ('trying', 18290), ('manage', 10805), ('concern', 3560), ('perpetuate', 13106), ('colonialism', 3382), ('puertorico', 14023), ('puerto', 14021), ('ricans', 14910), ('panel', 12808), ('jeezuzfuckingchrist', 9400), ('difficult', 4901), ('diásporaenresistencia', 5154), ('anonymous', 700), ('thegreatawakening', 17639), ('commieclowns', 3450), ('resistancerises', 14764), ('resistance', 14763), ('society', 16369), ('west', 19362), ('texas', 17576), ('stoked', 16882), ('inspiring', 9044), ('trashy', 18120), ('grape', 7606), ('hello', 8121), ('somebody', 16403), ('hyukjae', 8592), ('fancams', 6385), ('intelligence', 9089), ('tapper', 17388), ('kept', 9740), ('basket', 1464), ('stupid', 17019), ('answers', 709), ('gave', 7235), ('policies', 13419), ('wast', 19211), ('looks', 10534), ('sheila', 15821), ('greatawakening', 7629), ('crocodile', 4141), ('dundee', 5495), ('heres', 8147), ('problemif', 13795), ('atf', 1093), ('influence', 8948), ('preposterous', 13662), ('fake', 6324), ('sandy', 15290), ('hook', 8380), ('isnt', 9269), ('facilitating', 6275), ('drug', 5429), ('war', 19171), ('somewhat', 16420), ('inside', 9027), ('dear', 4416), ('migraine', 11257), ('sending', 15628), ('prayers', 13604), ('sister', 16096), ('kindest', 9794), ('sweetest', 17263), ('alive', 452), ('grandma', 7591), ('passed', 12902), ('song', 16424), ('written', 19756), ('moms', 11484), ('course', 3978), ('unstable', 18660), ('authorized', 1187), ('search', 15504), ('warrant', 19187), ('jean', 9396), ('test', 17563), ('premediated', 13649), ('slandered', 16168), ('line', 10387), ('putz', 14112), ('trolling', 18187), ('ash', 1002), ('rock', 15032), ('hurry', 8551), ('bjp', 1860), ('govt', 7560), ('state', 16775), ('heart', 8064), ('broken', 2308), ('events', 6035), ('active', 160), ('shot', 15928), ('driving', 5417), ('exists', 6157), ('hypothetical', 8588), ('carry', 2694), ('scary', 15395), ('containers', 3743), ('donations', 5248), ('rotting', 15102), ('rico', 14919), ('parking', 12852), ('fantastic', 6397), ('forward', 6924), ('suicide', 17104), ('rate', 14304), ('countries', 3962), ('controlthey', 3810), ('jumping', 9570), ('cliffs', 3227), ('bridges', 2257), ('joining', 9498), ('apparently', 856), ('durbin', 5507), ('amnesia', 589), ('regulated', 14544), ('quarter', 14153), ('laws', 10046), ('contributed', 3784), ('circulation', 3124), ('heard', 8059), ('waves', 19234), ('anita', 671), ('versus', 18888), ('clarence', 3168), ('thomas', 17751), ('confirmation', 3604), ('process', 13801), ('end', 5794), ('boi', 2010), ('rd', 14330), ('teacher', 17442), ('parent', 12845), ('heshe', 8168), ('consider', 3692), ('teacherlife', 17443), ('prayalloftheprayers', 13600), ('welcome', 19324), ('whysjamescryin', 19487), ('funny', 7133), ('sudden', 17086), ('transparent', 18103), ('warner', 19181), ('problems', 13796), ('leaks', 10091), ('trouble', 18197), ('brown', 2329), ('ladies', 9953), ('smileif', 16282), ('thursdaythoughts', 17818), ('forever', 6884), ('scalp', 15375), ('custer', 4259), ('once', 12441), ('intended', 9092), ('disarm', 4982), ('abiding', 25), ('subvert', 17062), ('abusive', 72), ('including', 8857), ('putting', 14110), ('stress', 16960), ('worrying', 19703), ('easy', 5562), ('agree', 337), ('gabby', 7163), ('mxm', 11725), ('nigger', 11998), ('sympathy', 17298), ('jobless', 9478), ('nigerian', 11992), ('bomb', 2026), ('banning', 1402), ('ammunition', 588), ('instate', 9058), ('business', 2464), ('signing', 16036), ('bookhe', 2057), ('russian', 15188), ('agent', 323), ('disgrace', 5031), ('hey', 8175), ('creep', 4093), ('sold', 16383), ('russians', 15190), ('crimes', 4108), ('scumbag', 15493), ('salinsky', 15255), ('insanely', 9020), ('ridiculous', 14929), ('nhs', 11969), ('privertised', 13777), ('shouldn', 15940), ('pigs', 13224), ('neonazis', 11897), ('coverage', 3993), ('journos', 9530), ('cover', 3992), ('rely', 14615), ('investigative', 9181), ('disarmhate', 4985), ('controlpractice', 3805), ('reading', 14342), ('comprehension', 3532), ('beginning', 1583), ('sociopaths', 16372), ('none', 12083), ('rule', 15154), ('crime', 4106), ('confirmbrettkavanaughnow', 3606), ('lazy', 10064), ('nonvoters', 12102), ('skew', 16128), ('throw', 17794), ('wait', 19106), ('tat', 17405), ('chest', 2988), ('mueller', 11641), ('gated', 7226), ('communitys', 3484), ('private', 13772), ('security', 15544), ('firm', 6671), ('bull', 2402), ('connors', 3659), ('though', 17762), ('privatization', 13775), ('molested', 11467), ('admire', 220), ('raise', 14249), ('ugliness', 18421), ('hatred', 8007), ('grace', 7572), ('england', 5845), ('stopped', 16909), ('mattering', 10972), ('expect', 6167), ('caught', 2752), ('guard', 7743), ('confronted', 3626), ('ouch', 12627), ('apologized', 846), ('diamond', 4861), ('silk', 16045), ('calling', 2552), ('minstrel', 11327), ('fired', 6663), ('faces', 6269), ('shake', 15752), ('dads', 4295), ('kid', 9772), ('judges', 9555), ('silly', 16047), ('podesta', 13387), ('spirit', 16593), ('cooking', 3843), ('pedo', 13016), ('photo', 13185), ('valerie', 18806), ('jarrett', 9380), ('rather', 14307), ('compromising', 3537), ('situation', 16107), ('drainthedeepstate', 5364), ('draintheswamp', 5366), ('somebodys', 16404), ('terrified', 17543), ('public', 14006), ('knows', 9860), ('pisses', 13259), ('bet', 1695), ('sloaneshe', 16226), ('auto', 1190), ('gggrrr', 7335), ('witch', 19577), ('sounded', 16471), ('becoming', 1557), ('nasty', 11788), ('personal', 13117), ('various', 18833), ('crap', 4043), ('andor', 628), ('paedophilia', 12761), ('movies', 11615), ('gaming', 7198), ('comics', 3424), ('publicauthorities', 14008), ('councils', 3942), ('dwp', 5527), ('dwpcrimes', 5528), ('catholicchurch', 2744), ('church', 3099), ('vatican', 18841), ('missed', 11374), ('referee', 14482), ('treat', 18139), ('specially', 16531), ('negative', 11869), ('refuses', 14512), ('disappear', 4976), ('mp', 11617), ('promoting', 13879), ('weve', 19372), ('appears', 864), ('moving', 11616), ('onward', 12473), ('blind', 1916), ('brexitshambles', 2245), ('brexitmeansbrexit', 2244), ('paris', 12850), ('agreement', 344), ('committed', 3464), ('towards', 18028), ('paying', 12975), ('third', 17736), ('world', 19690), ('places', 13288), ('cal', 2534), ('gonna', 7482), ('tip', 17872), ('assholes', 1058), ('effected', 5619), ('radiation', 14214), ('mentions', 11153), ('lady', 9954), ('gaga', 7172), ('known', 9858), ('immortal', 8754), ('mike', 11261), ('constitutional', 3723), ('season', 15509), ('dick', 4870), ('magnificent', 10741), ('tremendous', 18149), ('puppet', 14059), ('whips', 19435), ('senility', 15636), ('victory', 18932), ('science', 15430), ('ecology', 5577), ('interesting', 9110), ('demoncraps', 4635), ('inventive', 9170), ('cartoons', 2707), ('originally', 12593), ('koolaide', 9879), ('drinkers', 5407), ('scum', 15492), ('earth', 5554), ('article', 981), ('relevant', 14599), ('soonclintonfoundation', 16436), ('clintoncrimes', 3244), ('temperament', 17503), ('noyou', 12201), ('intellectual', 9085), ('brilliance', 2270), ('goat', 7437), ('tweeting', 18352), ('tds', 17438), ('fool', 6845), ('locked', 10486), ('front', 7045), ('door', 5276), ('neighbors', 11884), ('dv', 5519), ('shir', 15860), ('grab', 7566), ('couldnt', 3936), ('leavem', 10103), ('lucky', 10647), ('center', 2818), ('tonight', 17951), ('declass', 4464), ('ajsjjsjdkkdjdk', 391), ('obey', 12291), ('loss', 10569), ('friend', 7025), ('characterizations', 2904), ('famous', 6376), ('cue', 4210), ('race', 14198), ('baiters', 1340), ('necrophiliac', 11853), ('knowyou', 9863), ('suck', 17076), ('chess', 2986), ('dimensional', 4929), ('chessyou', 2987), ('manychange', 10862), ('handle', 7893), ('dumbaf', 5477), ('ish', 9242), ('defected', 4510), ('wheres', 19415), ('testy', 17571), ('decide', 4452), ('paid', 12767), ('shill', 15848), ('hanging', 7909), ('around', 960), ('youll', 19933), ('open', 12489), ('borders', 2088), ('full', 7107), ('blown', 1961), ('temper', 17502), ('tantrum', 17381), ('manafort', 10803), ('toxic', 18037), ('spirited', 16594), ('va', 18789), ('issue', 9279), ('determine', 4802), ('whether', 19418), ('nrafinanced', 12204), ('rep', 14662), ('comstock', 3544), ('wins', 19550), ('reelection', 14478), ('oshaeterry', 12610), ('thuglife', 17808), ('behaved', 1591), ('ordinary', 12564), ('disposable', 5079), ('magarallyrules', 10723), ('texaspolice', 17577), ('bunk', 2429), ('crying', 4189), ('spaces', 16497), ('elite', 5694), ('college', 3371), ('boycott', 2139), ('mcenroethis', 11023), ('constitution', 3722), ('driven', 5413), ('votedemsout', 19047), ('votered', 19054), ('therainmakers', 17671), ('wwgwga', 19789), ('antiantifa', 720), ('chico', 3007), ('wise', 19568), ('chihuahua', 3010), ('hardcore', 7945), ('xx', 19816), ('selfserving', 15599), ('reject', 14563), ('mrs', 11623), ('mays', 10998), ('de', 4399), ('facto', 6287), ('remain', 14617), ('begone', 1585), ('insurgent', 9080), ('hashtag', 7986), ('signifing', 16035), ('monkey', 11510), ('wife', 19503), ('addiction', 188), ('battle', 1484), ('relapsed', 14567), ('demons', 4646), ('bay', 1491), ('speaking', 16525), ('behalf', 1587), ('idly', 8648), ('bully', 2418), ('disgusting', 5041), ('rangers', 14280), ('breaking', 2208), ('union', 18590), ('proudtobebritish', 13952), ('changed', 2884), ('discussed', 5022), ('backing', 1290), ('powerful', 13575), ('lobby', 10474), ('group', 7697), ('hopefully', 8393), ('realise', 14353), ('ended', 5807), ('shitshow', 15879), ('booom', 2069), ('mac', 10695), ('sector', 15536), ('properly', 13893), ('magic', 10736), ('tree', 18146), ('disaster', 4988), ('crisis', 4120), ('competing', 3502), ('sectors', 15537), ('smdh', 16268), ('pitiful', 13269), ('soaring', 16343), ('rid', 14920), ('pen', 13040), ('shattered', 15803), ('speeches', 16547), ('thateverything', 17608), ('safety', 15234), ('eg', 5631), ('rifles', 14936), ('og', 12387), ('followeri', 6828), ('hardly', 7951), ('tweetedso', 18350), ('honors', 8373), ('raising', 14252), ('dinner', 4942), ('partys', 12896), ('oligarchs', 12420), ('ripping', 14984), ('soviet', 16486), ('gain', 7175), ('bulb', 2399), ('lucrative', 10648), ('endeavor', 5804), ('types', 18392), ('minig', 11313), ('donybrooke', 5268), ('charts', 2928), ('overall', 12681), ('cardi', 2653), ('catch', 2727), ('niki', 12010), ('replies', 14687), ('conference', 3596), ('jihadi', 9452), ('vets', 18898), ('disagree', 4970), ('freaking', 6981), ('tom', 17938), ('arnold', 959), ('privileged', 13779), ('hubby', 8486), ('rushed', 15179), ('shakes', 15754), ('flick', 6753), ('pic', 13203), ('thru', 17800), ('evening', 6032), ('feed', 6512), ('boss', 2104), ('reinforce', 14558), ('gutter', 7803), ('frankoz', 6969), ('ruins', 15153), ('defundpbs', 4548), ('lump', 10655), ('nutbags', 12241), ('admitting', 228), ('least', 10099), ('facist', 6279), ('groupsantifa', 7700), ('rip', 14979), ('expose', 6204), ('shits', 15878), ('relate', 14569), ('anyway', 822), ('noncitizens', 12077), ('ride', 14924), ('backs', 1295), ('taxpayer', 17419), ('pyramid', 14118), ('bono', 2043), ('dark', 4347), ('globalism', 7408), ('cuz', 4277), ('ten', 17515), ('commandments', 3433), ('definitely', 4538), ('previous', 13720), ('administration', 213), ('sane', 15292), ('wallet', 19143), ('closet', 3264), ('chips', 3034), ('voteredtosaveamerica', 19057), ('ignore', 8665), ('excellent', 6104), ('intelligent', 9090), ('relentless', 14596), ('awful', 1238), ('although', 526), ('main', 10753), ('terror', 17549), ('leona', 10186), ('alleslev', 465), ('cross', 4153), ('floor', 6773), ('join', 9496), ('betrayal', 1706), ('consult', 3730), ('seemingly', 15558), ('dougford', 5320), ('decided', 4453), ('premier', 13652), ('modern', 11451), ('bright', 2263), ('founding', 6939), ('fathers', 6443), ('slaveowners', 16184), ('slavery', 16185), ('principles', 13752), ('nuanced', 12215), ('granular', 7605), ('conservative', 3673), ('shallow', 15761), ('withstand', 19589), ('ohio', 12395), ('jim', 9458), ('renacci', 14650), ('senate', 15621), ('dirtbag', 4965), ('snowballs', 16333), ('chance', 2878), ('dimwit', 4936), ('losing', 10568), ('manerrlike', 10819), ('auhm', 1157), ('whatever', 19390), ('identify', 8627), ('tired', 17876), ('redwaverising', 14473), ('scotuskavenaugh', 15453), ('collective', 3367), ('psychosis', 13995), ('yrs', 19965), ('crazier', 4056), ('educated', 5604), ('batsht', 1478), ('sheepfoot', 15813), ('soldiers', 16385), ('certifiable', 2841), ('beyond', 1723), ('figure', 6604), ('night', 12000), ('brett', 2234), ('serves', 15684), ('beacon', 1517), ('waythere', 19243), ('themi', 17653), ('themthere', 17658), ('morals', 11546), ('conscience', 3662), ('shambles', 15765), ('lack', 9942), ('doldrums', 5220), ('betrayed', 1707), ('leave', 10101), ('brexitbritain', 2240), ('obesity', 12290), ('catches', 2729), ('portion', 13509), ('sidewalk', 16010), ('afraid', 298), ('weed', 19302), ('shhhh', 15839), ('stoned', 16892), ('wheat', 19398), ('crackers', 4028), ('fordnation', 6870), ('onpoli', 12466), ('onpc', 12465), ('responsibility', 14798), ('invoking', 9195), ('art', 979), ('overriding', 12699), ('judicial', 9560), ('processes', 13802), ('indicate', 8892), ('looney', 10539), ('possession', 13529), ('aesir', 274), ('lots', 10576), ('vanir', 18824), ('examples', 6097), ('mixing', 11408), ('instance', 9054), ('theologically', 17663), ('recognize', 14423), ('tribes', 18161), ('fortitude', 6915), ('perseverance', 13112), ('mcconnell', 11017), ('six', 16110), ('yearold', 19858), ('referencing', 14487), ('slot', 16236), ('refers', 14493), ('bloombergs', 1954), ('mine', 11306), ('michael', 11224), ('bloomberg', 1953), ('anna', 676), ('energized', 5830), ('idiot', 8640), ('surfaced', 17188), ('yessssshhhhh', 19891), ('shitgull', 15869), ('ryme', 15201), ('schools', 15426), ('address', 193), ('instagram', 9048), ('dropping', 5422), ('album', 415), ('sometime', 16417), ('pc', 12986), ('crowd', 4163), ('toned', 17947), ('kooky', 9876), ('espn', 5974), ('traumatised', 18122), ('shooter', 15905), ('drills', 5404), ('distracted', 5117), ('fear', 6489), ('hypocrite', 8584), ('cbs', 2772), ('sez', 15732), ('ceo', 2833), ('leslie', 10192), ('moonves', 11537), ('several', 15709), ('coo', 3837), ('joseph', 9518), ('iannello', 8602), ('interim', 9117), ('accuses', 124), ('ends', 5818), ('ooops', 12483), ('bs', 2349), ('insane', 9019), ('appropriate', 898), ('mourning', 11595), ('enact', 5784), ('lawshe', 10047), ('upholds', 18702), ('demanded', 4594), ('senator', 15622), ('publicizing', 14011), ('target', 17391), ('comprised', 3534), ('names', 11762), ('high', 8190), ('random', 14276), ('suspended', 17224), ('lists', 10419), ('devil', 4831), ('priests', 13735), ('pope', 13481), ('remove', 14643), ('rapist', 14294), ('tweets', 18353), ('focused', 6807), ('consolidating', 3707), ('fewer', 6571), ('miss', 11373), ('needa', 11857), ('hates', 8005), ('nevertrump', 11927), ('exposed', 6205), ('hate', 7995), ('thumbs', 17812), ('abortion', 38), ('allies', 471), ('boggles', 2008), ('whenever', 19407), ('dong', 5253), ('screwed', 15480), ('owns', 12733), ('exact', 6087), ('wrath', 19737), ('upon', 18703), ('enemies', 5825), ('cares', 2668), ('gold', 7469), ('digging', 4909), ('possibly', 13533), ('recordings', 14437), ('haul', 8012), ('harms', 7964), ('druggie', 5430), ('yup', 19974), ('ll', 10444), ('deny', 4689), ('fair', 6313), ('exchange', 6111), ('based', 1452), ('recent', 14402), ('past', 12917), ('interactions', 9104), ('ratings', 14309), ('gooooooooooood', 7515), ('unity', 18604), ('grow', 7706), ('voiceslibs', 19025), ('band', 1378), ('rightfollow', 14944), ('dorsey', 5287), ('credit', 4088), ('openly', 12492), ('acknowledged', 139), ('culture', 4224), ('within', 19585), ('company', 3487), ('hostile', 8429), ('blood', 1944), ('perpetrator', 13105), ('shape', 15781), ('cheating', 2948), ('flotusrocks', 6781), ('wingers', 19540), ('kaepernick', 9621), ('sales', 15251), ('bump', 2423), ('nikes', 12009), ('earnings', 5551), ('week', 19304), ('nikead', 12007), ('boycottnfl', 2145), ('boycottnike', 2146), ('hasnt', 7988), ('reform', 14500), ('particular', 12875), ('write', 19750), ('suppose', 17167), ('tomorrow', 17943), ('prophet', 13897), ('human', 8501), ('moron', 11556), ('gesture', 7320), ('stfu', 16852), ('loool', 10543), ('jamaican', 9364), ('isn', 9268), ('resonate', 14775), ('african', 300), ('representation', 14702), ('caribbean', 2670), ('share', 15785), ('thoughts', 17766), ('carnival', 2682), ('outside', 12670), ('dc', 4391), ('weeks', 19309), ('becaus', 1550), ('ordered', 12559), ('print', 13753), ('copies', 3862), ('concept', 3556), ('thousands', 17768), ('peopl', 13057), ('ehave', 5644), ('cthulhu', 4197), ('reference', 14484), ('retard', 14830), ('cred', 4082), ('meas', 11052), ('tourist', 18019), ('holiday', 8323), ('parents', 12848), ('sticker', 16854), ('pole', 13412), ('turkey', 18325), ('ate', 1091), ('restaurant', 14803), ('delirious', 4578), ('brady', 2162), ('rating', 14308), ('platform', 13316), ('meaningful', 11044), ('rezz', 14894), ('rude', 15142), ('awakening', 1222), ('bnf', 1980), ('mexico', 11214), ('alert', 424), ('attacked', 1116), ('breibartcomic', 2226), ('section', 15533), ('wwetake', 19786), ('knee', 9829), ('usual', 18775), ('tenet', 17522), ('systemaccompanies', 17311), ('secretary', 15528), ('pompeo', 13463), ('sir', 16091), ('true', 18212), ('fbi', 6472), ('hotbed', 8434), ('dennehy', 4674), ('robyn', 15031), ('posts', 13550), ('selfie', 15591), ('stops', 16911), ('desperate', 4764), ('delay', 4564), ('halt', 7871), ('aware', 1227), ('romy', 15069), ('omfg', 12432), ('met', 11192), ('bff', 1728), ('moves', 11611), ('dangerous', 4330), ('sliding', 16210), ('scale', 15371), ('bunch', 2426), ('vilify', 18956), ('justify', 9602), ('actions', 158), ('turning', 18331), ('perceive', 13069), ('offensive', 12366), ('voting', 19069), ('optional', 12544), ('novemeber', 12188), ('critical', 4126), ('mustvote', 11714), ('wakeuprepublicans', 19120), ('network', 11913), ('brainwashed', 2174), ('demonrats', 4645), ('trashed', 18116), ('weaponized', 19268), ('quit', 14180), ('county', 3970), ('deepstate', 4494), ('obamaworstpresidentever', 12288), ('parkland', 12853), ('victims', 18922), ('sep', 15652), ('thread', 17771), ('later', 10009), ('caused', 2756), ('saddest', 15218), ('younger', 19935), ('parris', 12860), ('island', 9262), ('jersey', 9425), ('academy', 80), ('municipal', 11676), ('class', 3180), ('tending', 17521), ('bar', 1408), ('customers', 4262), ('agitated', 334), ('defensive', 4521), ('stance', 16730), ('medicines', 11081), ('condition', 3582), ('ma', 10689), ('suggesting', 17102), ('sanctions', 15281), ('regime', 14523), ('informs', 8962), ('rates', 14306), ('benefit', 1644), ('graph', 7608), ('suggest', 17100), ('lower', 10610), ('observations', 12309), ('pressure', 13694), ('bitten', 1849), ('imposition', 8800), ('inauthenticity', 8831), ('citizenship', 3137), ('assume', 1074), ('equalities', 5923), ('apply', 880), ('widely', 19497), ('shared', 15787), ('alaska', 408), ('chiming', 3025), ('inif', 8982), ('murkowski', 11692), ('decimate', 4456), ('natives', 11804), ('super', 17138), ('tommy', 17941), ('robinson', 15023), ('cost', 3921), ('folks', 6820), ('woodwords', 19658), ('slander', 16167), ('tool', 17957), ('sensible', 15644), ('blue', 1964), ('garbage', 7207), ('cleaned', 3198), ('paired', 12776), ('woohoo', 19661), ('brothel', 2322), ('cartoon', 2706), ('total', 17995), ('stars', 16759), ('star', 16747), ('mincing', 11297), ('denying', 4690), ('porn', 13500), ('willing', 19522), ('knew', 9837), ('fema', 6543), ('contacted', 3739), ('toldits', 17931), ('hit', 8268), ('panties', 12818), ('rethuglicans', 14838), ('absurd', 62), ('fielding', 6588), ('feminists', 6552), ('communists', 3479), ('form', 6898), ('peaceful', 12997), ('transition', 18096), ('occur', 12340), ('guys', 7806), ('moral', 11543), ('pushing', 14093), ('burnt', 2449), ('outed', 12648), ('sexual', 15725), ('predator', 13623), ('feinstein', 6528), ('hero', 8153), ('mondy', 11496), ('mile', 11266), ('raped', 14290), ('closernation', 3261), ('reports', 14697), ('reaching', 14335), ('tweeted', 18349), ('earlier', 5546), ('kaduna', 9619), ('stadium', 16696), ('wisconsin', 19565), ('bubbler', 2363), ('duck', 5451), ('goose', 7516), ('honest', 8363), ('acknowledge', 138), ('trans', 18087), ('stuff', 17012), ('disorder', 5063), ('normal', 12117), ('serving', 15687), ('district', 5127), ('continues', 3766), ('suffer', 17092), ('butyou', 2488), ('saidyou', 15239), ('pretending', 13705), ('notyou', 12176), ('wont', 19647), ('genetic', 7288), ('co', 3295), ('opted', 12538), ('twisted', 18362), ('definition', 4539), ('inferior', 8932), ('beer', 1573), ('cabbage', 2516), ('break', 2202), ('unbelievable', 18477), ('liberallosers', 10263), ('trumpman', 18241), ('marr', 10910), ('attlee', 1137), ('orwell', 12603), ('interested', 9108), ('poltics', 13453), ('economics', 5581), ('imho', 8734), ('lie', 10316), ('feeds', 6518), ('evicted', 6063), ('houseguests', 8452), ('tortured', 17984), ('ans', 705), ('crminal', 4136), ('jail', 9355), ('behararen', 1589), ('jewish', 9444), ('siding', 16014), ('playbook', 13323), ('york', 19916), ('pandering', 12806), ('rush', 15178), ('knowing', 9853), ('realizing', 14362), ('implications', 8786), ('damage', 4308), ('mocked', 11434), ('sjws', 16122), ('extremely', 6240), ('clever', 3219), ('satire', 15325), ('denigrate', 4672), ('motives', 11589), ('bigoted', 1771), ('misogynist', 11366), ('medically', 11074), ('histrionic', 8266), ('personality', 13118), ('disorderbtw', 5064), ('brave', 2190), ('heroineics', 8158), ('booksthen', 2060), ('accept', 83), ('india', 8889), ('engineers', 5844), ('generally', 7276), ('confusing', 3630), ('competence', 3499), ('organisational', 12571), ('structure', 16994), ('thrive', 17785), ('allows', 484), ('chocker', 3042), ('trust', 18268), ('dobson', 5174), ('term', 17534), ('loosley', 10551), ('city', 3141), ('behaving', 1593), ('petulant', 13151), ('delusional', 4588), ('airforce', 381), ('territory', 17546), ('antifajust', 744), ('civil', 3146), ('quotes', 14190), ('eat', 5563), ('willy', 19524), ('brain', 2166), ('poster', 13541), ('worries', 19701), ('lou', 10581), ('directing', 4957), ('thwarted', 17822), ('satan', 15320), ('timing', 17862), ('revealing', 14858), ('deep', 4491), ('swamp', 17239), ('creatures', 4081), ('redtsunami', 14465), ('sharyl', 15799), ('attkisson', 1136), ('truthteller', 18284), ('queen', 14161), ('rap', 14288), ('knot', 9847), ('ah', 351), ('shite', 15868), ('match', 10955), ('mute', 11716), ('tickets', 17830), ('kop', 9881), ('atmosphere', 1106), ('kenny', 9738), ('licking', 10314), ('pathological', 12932), ('lecture', 10108), ('credibility', 4084), ('ignorance', 8663), ('representatives', 14704), ('studies', 17008), ('schmata', 15417), ('fakenews', 6334), ('near', 11840), ('nitwit', 12022), ('accusers', 122), ('soley', 16388), ('political', 13429), ('persuasion', 13128), ('hypocritical', 8586), ('lov', 10592), ('kisses', 9810), ('jamie', 9368), ('oliver', 12423), ('fucks', 7089), ('meal', 11039), ('deals', 4412), ('tesco', 17557), ('cunt', 4233), ('pairs', 12777), ('socks', 16374), ('smear', 16269), ('despicable', 4767), ('cheap', 2941), ('plastic', 13313), ('version', 18886), ('engaged', 5839), ('extortion', 6230), ('racket', 14212), ('austerity', 1170), ('borrowed', 2099), ('papercup', 12824), ('cake', 2532), ('crypt', 4191), ('agentofchaurch', 324), ('temples', 17510), ('expectations', 6168), ('goals', 7436), ('dreams', 5386), ('asked', 1018), ('doctor', 5180), ('decisions', 4458), ('advisement', 264), ('growing', 7707), ('medicaid', 11072), ('elderly', 5664), ('disabled', 4969), ('welfarefoall', 19331), ('shall', 15760), ('wash', 19199), ('soap', 16340), ('utmost', 18781), ('admiration', 219), ('cops', 3866), ('bags', 1331), ('steady', 16806), ('buddies', 2373), ('drain', 5360), ('sexy', 15730), ('claims', 3159), ('logical', 10503), ('humanitarian', 8503), ('explanation', 6190), ('spy', 16661), ('received', 14398), ('putin', 14103), ('explains', 6189), ('defeated', 4506), ('razzinfrazzinmaggle', 14327), ('orgs', 12585), ('faith', 6319), ('goldy', 7475), ('experience', 6175), ('fools', 6853), ('duet', 5464), ('cutiee', 4271), ('awesomee', 1235), ('expressions', 6218), ('killing', 9784), ('nly', 12026), ('mybubblygirl', 11728), ('anupama', 801), ('dreamgirl', 5384), ('bco', 1504), ('doll', 5221), ('organisations', 12572), ('exclusively', 6120), ('teds', 17476), ('boots', 2081), ('striking', 16973), ('distance', 5106), ('retake', 14827), ('franken', 6965), ('seat', 15512), ('colon', 3380), ('cancerhaving', 2599), ('bowel', 2129), ('apt', 906), ('wgi', 19376), ('oncologist', 12442), ('chicago', 2993), ('dangerousdemocrats', 4331), ('suede', 17090), ('shipped', 15857), ('russa', 15184), ('gapbelike', 7204), ('circumstance', 3125), ('forced', 6863), ('defend', 4512), ('eventuality', 6036), ('realm', 14366), ('possibility', 13531), ('foolishly', 6850), ('arrive', 970), ('quickly', 14173), ('save', 15341), ('talks', 17364), ('books', 2059), ('copy', 3867), ('writerwednesday', 19753), ('avg', 1208), ('voter', 19053), ('feels', 6522), ('govts', 7561), ('dnt', 5169), ('education', 5606), ('faults', 6450), ('socialization', 16363), ('unions', 18593), ('boards', 1986), ('statement', 16778), ('entertainment', 5883), ('serena', 15665), ('greatest', 7632), ('female', 6544), ('tennis', 17526), ('player', 13328), ('play', 13321), ('ref', 14479), ('stems', 16827), ('resentment', 14753), ('debate', 4427), ('tuesday', 18305), ('borrow', 2098), ('holds', 8320), ('whip', 19433), ('governing', 7553), ('lien', 10320), ('sells', 15606), ('rebuild', 14390), ('road', 15008), ('village', 18957), ('shocking', 15897), ('undercover', 18509), ('exposes', 6207), ('rules', 15158), ('sara', 15303), ('carter', 2704), ('oooohohohohohoh', 12481), ('wild', 19510), ('posted', 13540), ('internet', 9122), ('connection', 3649), ('outlets', 12657), ('moore', 11538), ('hoot', 8389), ('salty', 15260), ('tryna', 18291), ('ya', 19818), ('perjury', 13096), ('booted', 2077), ('gosh', 7532), ('dangit', 4333), ('reasonable', 14378), ('replica', 14685), ('craziness', 4059), ('applauded', 870), ('criticizing', 4133), ('inept', 8919), ('denounced', 4679), ('ituser', 9322), ('dull', 5471), ('troubled', 18198), ('polite', 13427), ('groped', 7685), ('ploy', 13360), ('deter', 4799), ('eats', 5567), ('paint', 12771), ('wanker', 19158), ('vast', 18838), ('neighboring', 11883), ('indiana', 8891), ('toughest', 18014), ('lowest', 10612), ('gunrelated', 7781), ('ala', 401), ('hawaii', 8027), ('tropics', 18195), ('update', 18693), ('shell', 15827), ('latest', 10010), ('details', 4789), ('florence', 6776), ('advisory', 268), ('nbcct', 11829), ('hetero', 8171), ('swalwell', 17238), ('pencil', 13047), ('neck', 11852), ('busted', 2469), ('melt', 11114), ('leftlove', 10133), ('demo', 4607), ('breakdown', 2203), ('reelected', 14477), ('statues', 16791), ('desks', 4761), ('silently', 16043), ('plead', 13340), ('present', 13672), ('broadcast', 2297), ('sewage', 15714), ('jonah', 9509), ('ratted', 14317), ('wdym', 19252), ('al', 400), ('assaulting', 1045), ('mock', 11433), ('accusing', 125), ('alleged', 460), ('incident', 8846), ('cup', 4236), ('existence', 6154), ('privy', 13782), ('strongest', 16991), ('supporter', 17161), ('washington', 19204), ('primary', 13739), ('potus', 13560), ('marching', 10872), ('peacefully', 12998), ('couple', 3972), ('occasions', 12336), ('confronting', 3627), ('altright', 530), ('gnight', 7430), ('nfl', 11956), ('face', 6263), ('enthusiastic', 5886), ('loot', 10552), ('angela', 647), ('wipe', 19556), ('croocked', 4145), ('lil', 10365), ('levity', 10225), ('heavy', 8088), ('dissonance', 5105), ('pray', 13599), ('animal', 661), ('feckers', 6501), ('sam', 15266), ('singing', 16073), ('thanked', 17593), ('houseguest', 8451), ('nuts', 12247), ('replace', 14678), ('nword', 12256), ('turncoat', 18329), ('lindsey', 10386), ('graham', 7582), ('spending', 16561), ('billion', 1787), ('debt', 4433), ('screamed', 15471), ('heavens', 8085), ('taklked', 17351), ('privitizing', 13780), ('hydro', 8574), ('hilarious', 8209), ('deal', 4408), ('remainers', 14619), ('failed', 6306), ('argument', 937), ('hardbrexit', 7944), ('boo', 2046), ('sound', 16469), ('ignorant', 8664), ('resisting', 14769), ('nation', 11791), ('wake', 19115), ('walk', 19127), ('multiversity', 11668), ('ideia', 8624), ('hunt', 8533), ('crazyset', 4062), ('reporting', 14696), ('yesterday', 19892), ('regard', 14517), ('lawyer', 10053), ('attending', 1128), ('fordfestnd', 6869), ('guest', 7751), ('canadas', 2590), ('anarchist', 614), ('intends', 9093), ('disrupt', 5096), ('event', 6034), ('hundert', 8521), ('hawd', 8028), ('fuckkk', 7087), ('slapper', 16175), ('clarify', 3172), ('socialism', 16355), ('tuesdaythoughts', 18308), ('globalcitizen', 7407), ('elections', 5670), ('candidates', 2604), ('boy', 2138), ('photoshopped', 13191), ('lefty', 10141), ('christian', 3065), ('roman', 15061), ('catholics', 2745), ('flock', 6767), ('kennedy', 9736), ('misconduct', 11346), ('irony', 9226), ('ryans', 15200), ('famously', 6377), ('oklahoma', 12408), ('campaigned', 2574), ('nationally', 11800), ('matt', 10968), ('murdock', 11690), ('wellknown', 19341), ('standing', 16739), ('elses', 5717), ('ground', 7693), ('entering', 5877), ('property', 13895), ('starting', 16766), ('burn', 2441), ('honestly', 8365), ('grocery', 7678), ('shopping', 15917), ('balaam', 1350), ('raced', 14199), ('donkeys', 5256), ('gambled', 7189), ('races', 14200), ('fastest', 6433), ('jerusalem', 9426), ('sweepstakes', 17261), ('finish', 6650), ('samaritan', 15267), ('africans', 302), ('blamed', 1884), ('loud', 10582), ('minutes', 11331), ('krishn', 9900), ('bhakt', 1740), ('wouldnt', 19721), ('presence', 13671), ('absence', 52), ('typical', 18394), ('chandigarh', 2881), ('mentality', 11149), ('manship', 10852), ('caged', 2528), ('sunday', 17124), ('sloth', 16237), ('hightechlynching', 8202), ('fight', 6598), ('djt', 5157), ('thankful', 17594), ('building', 2394), ('esteem', 5987), ('signal', 16025), ('supremacy', 17175), ('satisfaction', 15326), ('pissing', 13260), ('displays', 5076), ('hatefulness', 7998), ('deserve', 4745), ('mcenroe', 11022), ('europe', 6011), ('weez', 19312), ('stoopid', 16900), ('celebrities', 2804), ('learn', 10095), ('thursday', 17815), ('training', 18076), ('gleefully', 7400), ('pushed', 14089), ('jimmy', 9463), ('finding', 6635), ('lows', 10621), ('hair', 7852), ('accountability', 107), ('hollering', 8326), ('voices', 19024), ('helm', 8123), ('letter', 10209), ('whistle', 19439), ('inform', 8956), ('jeopardize', 9410), ('attendees', 1127), ('email', 5722), ('finishing', 6653), ('ongoing', 12456), ('dnc', 5165), ('cosnstitution', 3918), ('farwell', 6416), ('stands', 16741), ('totalitarain', 17996), ('electoral', 5672), ('marginalizing', 10879), ('politically', 13430), ('civically', 3144), ('generation', 7280), ('relegated', 14595), ('status', 16792), ('disproven', 5082), ('ignored', 8666), ('lgbtq', 10233), ('beast', 1530), ('spiralling', 16592), ('cbc', 2771), ('ctv', 4199), ('bbc', 1494), ('retweet', 14851), ('terrorists', 17552), ('brothers', 2326), ('link', 10395), ('sweetie', 17265), ('starts', 16768), ('hahahaha', 7839), ('inb', 8832), ('extremist', 6243), ('source', 16478), ('antifascist', 756), ('handbook', 7884), ('bray', 2196), ('falsehoods', 6355), ('kanaugh', 9644), ('ellison', 5706), ('excited', 6112), ('con', 3546), ('manga', 10821), ('cons', 3661), ('nose', 12132), ('distracts', 5122), ('ms', 11625), ('desanctis', 4730), ('comforted', 3419), ('letting', 10213), ('ambition', 555), ('assaultharassment', 1044), ('plague', 13292), ('centuries', 2831), ('traditionalist', 18060), ('buh', 2388), ('snowflake', 16334), ('trippin', 18178), ('conclusions', 3569), ('actualy', 177), ('banned', 1398), ('sicko', 16002), ('scheme', 15407), ('rham', 14897), ('emanuel', 5724), ('quote', 14187), ('serious', 15674), ('waste', 19212), ('battering', 1481), ('rams', 14268), ('sinister', 16078), ('beneathhumanity', 1642), ('pos', 13516), ('viacom', 18906), ('bought', 2119), ('ownership', 12731), ('splc', 16602), ('soooo', 16440), ('networkorganization', 11914), ('report', 14691), ('actress', 170), ('li', 10236), ('bingbing', 1798), ('abducted', 18), ('dianefeinstein', 4863), ('solution', 16393), ('clarencethomas', 3169), ('tricks', 18166), ('confirmcoachk', 3607), ('congratulations', 3635), ('refugees', 14506), ('pms', 13376), ('handouts', 7900), ('therefore', 17680), ('happily', 7928), ('desperation', 4766), ('abuse', 66), ('beaboutit', 1515), ('utterly', 18785), ('defenseless', 4519), ('bravery', 2191), ('tools', 17962), ('prevents', 13718), ('rewrite', 14889), ('ist', 9284), ('es', 5960), ('thedeepstate', 17631), ('jesuiten', 9432), ('cabal', 2515), ('satanists', 15323), ('nwo', 12255), ('kalergiplan', 9634), ('kalergipreis', 9635), ('whitegenocide', 19445), ('communism', 3475), ('albertpike', 414), ('lockthemallup', 10491), ('guantanamo', 7739), ('expropriate', 6220), ('pricks', 13730), ('secondhand', 15523), ('pincushion', 13238), ('awake', 1219), ('zeland', 19993), ('among', 592), ('syndicate', 17303), ('retire', 14840), ('lgnf', 10235), ('circulated', 3123), ('rioted', 14974), ('celebrated', 2800), ('haha', 7835), ('blocklists', 1934), ('scraping', 15463), ('publicly', 14012), ('available', 1196), ('blocktogether', 1936), ('incorrectly', 8871), ('blocked', 1930), ('impasse', 8764), ('aren', 926), ('force', 6862), ('tm', 17895), ('ballot', 1365), ('paper', 12822), ('leaving', 10105), ('independent', 8885), ('nor', 12114), ('wishes', 19572), ('controlobozo', 3803), ('asset', 1055), ('electionswhen', 5671), ('amends', 570), ('openselection', 12498), ('passes', 12905), ('lead', 10076), ('cater', 2738), ('harder', 7949), ('degenerate', 4551), ('deviant', 4828), ('cultural', 4221), ('marxists', 10928), ('disrespect', 5090), ('likelihood', 10354), ('dim', 4926), ('shine', 15851), ('ancient', 622), ('homies', 8356), ('cock', 3309), ('cocks', 3316), ('fighting', 6601), ('athens', 1097), ('fjshdhjs', 6709), ('doomentio', 5273), ('pain', 12769), ('ad', 180), ('ab', 10), ('salary', 15249), ('increases', 8874), ('station', 16784), ('crooked', 4147), ('praise', 13595), ('crookedmedia', 4149), ('anime', 667), ('cutie', 4269), ('intruder', 9157), ('morning', 11553), ('aka', 394), ('absolute', 57), ('duh', 5466), ('defends', 4516), ('abusers', 69), ('mocking', 11436), ('nonvictims', 12101), ('claiming', 3158), ('hood', 8376), ('ny', 12258), ('enjoy', 5852), ('liking', 10364), ('qualified', 14145), ('supremecists', 17179), ('generalize', 7274), ('convert', 3822), ('discouraged', 5005), ('act', 151), ('emotion', 5753), ('understanding', 18527), ('condemning', 3578), ('rational', 14311), ('screw', 15479), ('smh', 16277), ('sell', 15600), ('worry', 19702), ('sis', 16095), ('versatile', 18884), ('albums', 416), ('selena', 15580), ('copying', 3869), ('each', 5539), ('falsely', 6356), ('physically', 13198), ('attacking', 1119), ('nazi', 11819), ('matter', 10970), ('celebs', 2807), ('loop', 10546), ('celeb', 2797), ('interest', 9107), ('western', 19366), ('evaluate', 6020), ('placing', 13289), ('vendetta', 18860), ('incredible', 8877), ('contributions', 3788), ('community', 3483), ('reply', 14689), ('shush', 15980), ('ship', 15856), ('lvmpd', 10671), ('mgm', 11219), ('held', 8114), ('accountable', 108), ('vegasshooting', 18851), ('subsequent', 17047), ('coverup', 3998), ('jerk', 9419), ('curious', 4242), ('surveillance', 17207), ('released', 14586), ('exclusive', 6119), ('dueprocess', 5462), ('permitted', 13102), ('documented', 5187), ('doublestandards', 5309), ('confirmkavanaughnow', 3613), ('weekend', 19306), ('festival', 6566), ('stanley', 16744), ('park', 12851), ('closing', 3265), ('nelson', 11889), ('street', 16953), ('burrard', 2450), ('rssreachesout', 15132), ('rss', 15131), ('covention', 3991), ('inability', 8821), ('grasp', 7612), ('blowing', 1960), ('confederacy', 3593), ('considered', 3696), ('lincoln', 10382), ('hmmmm', 8287), ('exciting', 6114), ('gov', 7548), ('cuomo', 4235), ('endorsement', 5815), ('nations', 11801), ('largest', 9994), ('swear', 17250), ('rachel', 14201), ('madcows', 10702), ('accomplish', 98), ('goal', 7433), ('hidden', 8183), ('hid', 8182), ('everyrhing', 6053), ('nipigon', 12020), ('bridge', 2255), ('barred', 1438), ('sickens', 15996), ('schiffbrains', 15411), ('wi', 19488), ('crossed', 4155), ('belly', 1628), ('snake', 16303), ('cases', 2711), ('irrelevant', 9230), ('investigate', 9174), ('bank', 1391), ('robbery', 15016), ('robbed', 15014), ('banks', 1397), ('heartbroken', 8068), ('bot', 2107), ('prouduncle', 13954), ('finest', 6642), ('cheerleader', 2962), ('te', 17439), ('amo', 591), ('stinky', 16868), ('showed', 15956), ('polish', 13425), ('triggered', 18171), ('tina', 17864), ('sleep', 16195), ('purp', 14073), ('chris', 3062), ('cj', 3154), ('psa', 13976), ('plelleeaaaaseeeee', 13353), ('sobbed', 16345), ('screen', 15476), ('sleeeeeeeps', 16194), ('jimin', 9460), ('protected', 13928), ('faultshe', 6451), ('cheat', 2944), ('unemployment', 18549), ('hunts', 8538), ('lynch', 10682), ('mobs', 11432), ('parades', 12830), ('confused', 3629), ('millennials', 11283), ('muslimsgo', 11707), ('iran', 9212), ('language', 9985), ('messiah', 11189), ('thugs', 17809), ('freedom', 6992), ('speach', 16519), ('btw', 2357), ('clueless', 3281), ('contempt', 3748), ('congress', 3637), ('violating', 18973), ('run', 15168), ('domestic', 5230), ('short', 15920), ('zero', 19997), ('accuse', 119), ('politicians', 13432), ('improve', 8810), ('watched', 19220), ('statue', 16790), ('desk', 4760), ('harm', 7960), ('suppression', 17172), ('gerrymandering', 7318), ('limits', 10377), ('explodes', 6193), ('budget', 2376), ('voteblue', 19043), ('double', 5302), ('standards', 16736), ('dad', 4292), ('rosenstein', 15086), ('attorneys', 1140), ('helped', 8127), ('charges', 2913), ('highschool', 8199), ('named', 11760), ('witness', 19593), ('denies', 4671), ('pjnet', 13280), ('nomoreprogressiveliberals', 12072), ('sorrynotsorry', 16457), ('breastfeed', 2213), ('milk', 11281), ('allergy', 464), ('switch', 17275), ('formula', 6908), ('parenting', 12847), ('diet', 4892), ('lactose', 9949), ('soy', 16492), ('warn', 19179), ('needless', 11861), ('asylum', 1088), ('seekers', 15553), ('tmx', 17900), ('nafta', 11747), ('relax', 14582), ('adults', 247), ('ex', 6086), ('partner', 12883), ('treason', 18133), ('coup', 3971), ('detat', 4792), ('keeping', 9716), ('cat', 2722), ('drag', 5356), ('north', 12125), ('amongst', 593), ('pass', 12900), ('fill', 6614), ('sky', 16151), ('brilliancy', 2271), ('begin', 1582), ('humbled', 8509), ('brief', 2260), ('shining', 15854), ('guide', 7754), ('assertions', 1050), ('protesters', 13939), ('aaa', 1), ('dibales', 4869), ('niggaz', 11997), ('buying', 2491), ('guiltythis', 7761), ('leftwingers', 10139), ('domake', 5229), ('scattered', 15397), ('eve', 6029), ('nomination', 12066), ('derail', 4718), ('kavanagh', 9672), ('picks', 13208), ('delete', 4569), ('tbt', 17432), ('shoutout', 15946), ('blog', 1938), ('coolest', 3850), ('town', 18033), ('ncddorg', 11834), ('creating', 4071), ('welcoming', 19328), ('square', 16667), ('revivecivility', 14875), ('tothevillagesquare', 18002), ('rimmyantifa', 14967), ('proletarian', 13863), ('prohibited', 13850), ('possessor', 13530), ('soldier', 16384), ('ptsd', 14004), ('administrationcant', 214), ('insurance', 9079), ('eitherstill', 5656), ('rightshoping', 14956), ('fix', 6701), ('wrongs', 19760), ('labeling', 9934), ('veterans', 18895), ('backdoor', 1282), ('nine', 12015), ('eggman', 5636), ('disappointed', 4978), ('awww', 1246), ('pocket', 13380), ('evangelicals', 6024), ('traditionalists', 18061), ('hypocrites', 8585), ('lmaoyou', 10453), ('pages', 12765), ('chlorine', 3041), ('cmon', 3285), ('chicken', 3002), ('volunteer', 19036), ('weren', 19358), ('solidarity', 16390), ('christine', 3073), ('blasey', 1892), ('hmmmthey', 8289), ('piss', 13257), ('supported', 17160), ('took', 17956), ('dive', 5135), ('period', 13092), ('𝓭𝔂𝓼𝓹𝓱𝓸𝓻𝓲𝓪', 20029), ('grief', 7661), ('calm', 2558), ('nuggets', 12223), ('wasn', 19206), ('rewarding', 14888), ('diagnosis', 4857), ('incorrect', 8870), ('assumption', 1078), ('yaay', 19821), ('reasoning', 14381), ('results', 14821), ('thus', 17819), ('kicked', 9768), ('advice', 261), ('jeans', 9397), ('dislike', 5050), ('hmm', 8285), ('closest', 3263), ('emoji', 5752), ('shovel', 15949), ('rn', 15003), ('amount', 596), ('presuming', 13701), ('donald', 5239), ('busy', 2471), ('buddy', 2374), ('bishop', 1831), ('jonso', 9514), ('yesonkavanaugh', 19886), ('miserable', 11352), ('tantrums', 17382), ('gamble', 7188), ('manitoba', 10841), ('ndp', 11837), ('leader', 10077), ('wab', 19087), ('kinew', 9799), ('carbontax', 2649), ('yourselves', 19948), ('winnipeg', 19549), ('mbpoli', 11005), ('date', 4362), ('anthony', 713), ('weiner', 19317), ('sicking', 15999), ('dogs', 5205), ('resist', 14762), ('blaming', 1887), ('hahahahahahahaha', 7842), ('strategy', 16941), ('spoiled', 16609), ('sore', 16448), ('television', 17491), ('viewed', 18941), ('reversed', 14864), ('conditions', 3584), ('wall', 19140), ('quick', 14172), ('underestimating', 18514), ('fever', 6568), ('wapo', 19170), ('comment', 3438), ('journalism', 9523), ('uncle', 18490), ('christopher', 3079), ('tristan', 18180), ('aunt', 1160), ('carla', 2675), ('bickle', 1755), ('ik', 8677), ('rappers', 14297), ('antidrug', 728), ('music', 11701), ('birthdays', 1826), ('fame', 6363), ('blobs', 1926), ('cells', 2811), ('indict', 8897), ('prolaw', 13862), ('richer', 14916), ('speaker', 16522), ('early', 5547), ('sounds', 16474), ('familiar', 6368), ('smells', 16274), ('progressives', 13847), ('stray', 16946), ('causes', 2757), ('gunsense', 7784), ('pot', 13553), ('grows', 7709), ('council', 3939), ('growsin', 7710), ('reductionand', 14471), ('controlalready', 3792), ('announced', 685), ('mm', 11414), ('waymaybe', 19239), ('kp', 9888), ('immersion', 8746), ('blender', 1908), ('aims', 375), ('masked', 10935), ('mccarthyism', 11013), ('shrugs', 15972), ('worker', 19682), ('laughable', 10022), ('extreme', 6239), ('departments', 4693), ('prosecute', 13914), ('limit', 10373), ('weapons', 19270), ('department', 4692), ('reluctant', 14614), ('doings', 5213), ('cough', 3931), ('eddandflow', 5590), ('snapchat', 16306), ('slip', 16221), ('chuck', 3085), ('juanita', 9545), ('broderick', 2303), ('crediblekeith', 4086), ('girlfriend', 7372), ('stirrer', 16872), ('mans', 10851), ('impeccable', 8773), ('careerembarrass', 2664), ('daughtersall', 4369), ('sleazy', 16191), ('yliberals', 19904), ('corporations', 3886), ('assassinating', 1037), ('unarmed', 18469), ('blacks', 1873), ('killshot', 9787), ('mondaymotivation', 11492), ('accuser', 121), ('episode', 5915), ('scotuspick', 15454), ('praised', 13596), ('adultery', 245), ('superstar', 17150), ('mccain', 11009), ('liberalismisamentaldisorder', 10260), ('fail', 6305), ('nails', 11754), ('pillows', 13230), ('recommend', 14430), ('stays', 16800), ('soul', 16465), ('coast', 3303), ('nc', 11831), ('staying', 16799), ('hubs', 8488), ('complaining', 3511), ('corporate', 3883), ('lmaooo', 10449), ('politely', 13428), ('stylist', 17026), ('bangle', 1387), ('bracelets', 2159), ('unnecessary', 18629), ('accessories', 90), ('yyyy', 19981), ('steepppp', 16821), ('unproven', 18642), ('straws', 16945), ('notplastic', 12170), ('leaning', 10093), ('karyakarta', 9660), ('complains', 3512), ('fox', 6942), ('espionage', 5973), ('reporters', 14695), ('yours', 19944), ('settles', 15703), ('pacified', 12748), ('deceives', 4445), ('playboy', 13325), ('disobedience', 5062), ('paramount', 12835), ('dumpford', 5489), ('dictatorship', 4881), ('liars', 10243), ('topoli', 17975), ('municipalities', 11677), ('christina', 3071), ('courtney', 3986), ('hadwin', 7831), ('amateur', 544), ('worth', 19711), ('decades', 4437), ('prevented', 13715), ('unga', 18570), ('bunga', 2428), ('dummies', 5483), ('wish', 19570), ('meanwhile', 11051), ('fusion', 7148), ('orbis', 12552), ('steeles', 16820), ('swaying', 17248), ('slant', 16172), ('lib', 10245), ('makeup', 10781), ('bumper', 2424), ('expensive', 6174), ('fell', 6535), ('tos', 17991), ('site', 16101), ('deviants', 4829), ('sitting', 16106), ('nominated', 12063), ('perverted', 13135), ('stoptrump', 16914), ('savescotus', 15349), ('justifies', 9601), ('tippi', 17873), ('hedren', 8096), ('julie', 9565), ('rifftrax', 14934), ('scene', 15399), ('birdemic', 1817), ('credited', 4089), ('hotel', 8436), ('cleaning', 3200), ('shitty', 15890), ('policiesnow', 13420), ('bestlol', 1691), ('popular', 13490), ('equal', 5922), ('teachers', 17444), ('unfair', 18554), ('perks', 13097), ('jeff', 9401), ('flaking', 6724), ('bullshe', 2414), ('heryoure', 8165), ('happenedgive', 7921), ('sarah', 15304), ('palin', 12793), ('courageous', 3976), ('ilegal', 8681), ('invader', 9161), ('kills', 9786), ('dollars', 5223), ('witnesses', 19595), ('axes', 1250), ('grind', 7671), ('fully', 7111), ('financed', 6629), ('collected', 3364), ('dept', 4713), ('havoc', 8025), ('wtf', 19770), ('catfight', 2740), ('meow', 11156), ('prefer', 13638), ('latter', 10018), ('option', 12543), ('uncultured', 18501), ('uneducated', 18543), ('declared', 4462), ('eject', 5658), ('adopt', 233), ('precious', 13620), ('dregs', 5393), ('perspective', 13126), ('dirty', 4966), ('george', 7307), ('payroll', 12980), ('shirley', 15861), ('xxx', 19817), ('forgetting', 6886), ('objective', 12294), ('pundit', 14049), ('subjective', 17031), ('expert', 6181), ('fuckill', 7080), ('leak', 10088), ('anyways', 824), ('dipshits', 4953), ('enabling', 5783), ('preventing', 13716), ('iowa', 9204), ('itne', 9309), ('ko', 9867), ('burnol', 2447), ('khana', 9760), ('padega', 12759), ('adorable', 238), ('mommy', 11483), ('lefties', 10123), ('neo', 11891), ('papers', 12825), ('proper', 13892), ('journalistic', 9526), ('ethics', 5999), ('magyar', 10745), ('nemzet', 11890), ('népszabadság', 12268), ('highest', 8192), ('communistic', 3478), ('franchise', 6958), ('qb', 14128), ('concentration', 3555), ('tells', 17496), ('angling', 654), ('sessions', 15693), ('approved', 902), ('replacement', 14680), ('otherwise', 12624), ('senators', 15624), ('stab', 16688), ('session', 15692), ('lg', 10230), ('packing', 12757), ('aurora', 1165), ('learning', 10097), ('drawing', 5375), ('counting', 3960), ('laughts', 10027), ('playfully', 13332), ('kiss', 9809), ('breaked', 2204), ('pecks', 13010), ('underrated', 18524), ('pure', 14066), ('raised', 14250), ('employee', 5766), ('plays', 13338), ('covet', 4000), ('fashion', 6424), ('ipad', 9206), ('strange', 16932), ('phobia', 13176), ('amazingly', 550), ('jump', 9568), ('foot', 6854), ('freak', 6976), ('agreeing', 343), ('adult', 243), ('memes', 11128), ('choices', 3045), ('developed', 4821), ('comprehend', 3531), ('homophobic', 8360), ('saveourcountry', 15345), ('agholor', 332), ('successful', 17069), ('jmatt', 9472), ('nike', 12006), ('proved', 13957), ('undeniably', 18506), ('reckoned', 14419), ('release', 14585), ('lotwvideo', 10580), ('corrected', 3891), ('memorable', 11131), ('lmfao', 10455), ('google', 7504), ('pr', 13588), ('literal', 10426), ('sweden', 17255), ('gang', 7199), ('capital', 2627), ('migrants', 11259), ('welcomed', 19325), ('vetted', 18900), ('equipped', 5933), ('nominee', 12067), ('physical', 13197), ('insultedwhitehouse', 9076), ('counselor', 3947), ('saysbecause', 15365), ('atempted', 1092), ('murderer', 11683), ('ran', 14270), ('solve', 16395), ('created', 4069), ('code', 3327), ('detectives', 4795), ('hiring', 8254), ('mondays', 11494), ('tarnished', 17397), ('wwgiwga', 19787), ('casey', 2712), ('craziest', 4058), ('mf', 11215), ('sadly', 15223), ('applies', 879), ('interracial', 9131), ('marriage', 10911), ('average', 1203), ('price', 13724), ('thatcher', 17606), ('charge', 2910), ('ratio', 14310), ('fundamental', 7118), ('build', 2391), ('genuinely', 7301), ('affordable', 294), ('wasting', 19216), ('resources', 14780), ('bruh', 2337), ('ita', 9293), ('hella', 8118), ('lmfaooo', 10457), ('carbon', 2648), ('electricity', 5677), ('cartel', 2702), ('fond', 6837), ('cruz', 4183), ('sheeple', 15814), ('stamp', 16727), ('statist', 16785), ('forehead', 6875), ('accordingly', 104), ('espically', 5972), ('semiautomatic', 15612), ('weaponsbetonotfortexas', 19271), ('comedians', 3405), ('debating', 4430), ('swung', 17286), ('rationale', 14312), ('fleeted', 6751), ('peace', 12996), ('utopian', 18783), ('protect', 13927), ('grader', 7577), ('metallic', 11195), ('birthday', 1825), ('sneaking', 16315), ('funeral', 7127), ('joebiden', 9485), ('calls', 2555), ('organized', 12579), ('ukraine', 18437), ('steals', 16810), ('ukrainian', 18438), ('zog', 20012), ('weight', 19316), ('destroying', 4782), ('bullshitting', 2416), ('motherfucker', 11576), ('website', 19286), ('rumors', 15166), ('assassination', 1038), ('lee', 10112), ('hide', 8184), ('pple', 13584), ('depend', 4694), ('actor', 167), ('info', 8955), ('green', 7644), ('yellow', 19870), ('grew', 7658), ('caring', 2673), ('reminder', 14636), ('interests', 9112), ('mid', 11237), ('card', 2651), ('challenges', 2864), ('partyconservatives', 12893), ('unwanted', 18678), ('flushes', 6795), ('toilet', 17928), ('celebrate', 2799), ('jiminssi', 9461), ('bout', 2124), ('banner', 1400), ('antideutsch', 727), ('infiltrators', 8940), ('online', 12459), ('mag', 10714), ('bunker', 2430), ('connections', 3650), ('fashy', 6429), ('prožižek', 13972), ('chan', 2877), ('leftypol', 10142), ('goto', 7540), ('image', 8715), ('archived', 920), ('theyve', 17705), ('morphed', 11561), ('cash', 2713), ('ie', 8653), ('upset', 18714), ('utter', 18784), ('discredited', 5013), ('chequers', 2977), ('crash', 4046), ('weather', 19279), ('corruption', 3909), ('existed', 6153), ('cats', 2747), ('favor', 6456), ('spit', 16597), ('kool', 9877), ('aid', 366), ('snitched', 16322), ('spice', 16571), ('snitching', 16323), ('suspend', 17223), ('riddled', 14923), ('errors', 5958), ('fabricates', 6258), ('influencers', 8950), ('exist', 6152), ('categorizes', 2736), ('farright', 6412), ('bastards', 1467), ('everywhere', 6060), ('luckily', 10646), ('extremists', 6245), ('jeremy', 9414), ('corbyns', 3873), ('counter', 3950), ('balance', 1351), ('ultra', 18446), ('revert', 14867), ('strictly', 16970), ('ben', 1636), ('vial', 18908), ('field', 6586), ('opinions', 12509), ('aback', 13), ('indie', 8900), ('noun', 12179), ('talented', 17355), ('spot', 16635), ('opportunity', 12519), ('knock', 9843), ('everybody', 6046), ('breitbart', 2227), ('legalized', 10148), ('federally', 6507), ('asmr', 1026), ('eel', 5612), ('sushi', 17218), ('salmon', 15257), ('eating', 5566), ('bites', 1845), ('yaya', 19842), ('lit', 10423), ('mma', 11415), ('accounts', 110), ('dbc', 4388), ('ntknetwork', 12212), ('rnc', 15004), ('prolife', 13865), ('background', 1288), ('wrapschance', 19736), ('rabid', 14196), ('magaas', 10716), ('enforcement', 5834), ('entities', 5890), ('attempting', 1123), ('magas', 10725), ('breed', 2223), ('govern', 7551), ('krav', 9892), ('classes', 3181), ('pleasure', 13349), ('utilising', 18780), ('timetable', 17859), ('actively', 161), ('patriotic', 12945), ('undermine', 18518), ('presidency', 13680), ('prosperity', 13922), ('shop', 15913), ('arrests', 969), ('covering', 3996), ('brennan', 2230), ('lion', 10400), ('hurting', 8554), ('fantasies', 6394), ('nebraska', 11845), ('program', 13839), ('vcr', 18844), ('highlights', 8196), ('alien', 435), ('anger', 650), ('harboring', 7941), ('underlying', 18517), ('lordt', 10557), ('godless', 7451), ('inclined', 8852), ('directive', 4959), ('projection', 13856), ('successfully', 17070), ('cranky', 4041), ('condemnations', 3576), ('discussion', 5024), ('correction', 3893), ('falsemajority', 6357), ('emphasis', 5760), ('electoralreform', 5673), ('connected', 3646), ('ggg', 7334), ('bosses', 2105), ('moscow', 11567), ('witchhunt', 19578), ('beaware', 1545), ('tyler', 18388), ('mastermind', 10950), ('kaycee', 9696), ('refused', 14511), ('differant', 4894), ('product', 13813), ('antifalite', 747), ('acrookedlettercrookedletter', 149), ('count', 3948), ('pregnant', 13644), ('disarming', 4986), ('obsession', 12313), ('susansarandon', 17217), ('research', 14749), ('spouting', 16642), ('defined', 4535), ('valid', 18807), ('peoplesvote', 13064), ('pawn', 12966), ('babyadults', 1271), ('sheisaliar', 15822), ('classical', 3183), ('burying', 2455), ('sand', 15285), ('libs', 10300), ('authoritarian', 1178), ('wannabe', 19162), ('inciting', 8849), ('targeted', 17392), ('upgrading', 18697), ('versions', 18887), ('maid', 10748), ('outfit', 12649), ('poorly', 13478), ('worded', 19668), ('aftermath', 305), ('aspect', 1027), ('cow', 4001), ('mobile', 11427), ('cows', 4014), ('escape', 5964), ('govegan', 7549), ('daughters', 4368), ('pussys', 14100), ('cam', 2560), ('batting', 1483), ('wrote', 19763), ('nyt', 12265), ('oped', 12488), ('yuge', 19971), ('final', 6625), ('fruitcake', 7054), ('mogg', 11460), ('profiting', 13834), ('bts', 2356), ('paul', 12961), ('legit', 10167), ('trader', 18055), ('worksed', 19688), ('conspire', 3712), ('smoke', 16289), ('skin', 16137), ('aubree', 1148), ('mandatory', 10814), ('sentence', 15647), ('punish', 14051), ('politician', 13431), ('pols', 13451), ('air', 379), ('predictable', 13628), ('sake', 15246), ('voice', 19022), ('often', 12386), ('dos', 5289), ('worthless', 19712), ('kdksksks', 9704), ('complaint', 3513), ('forms', 6907), ('notes', 12146), ('staging', 16708), ('socialistdemocrats', 16359), ('shadowed', 15746), ('till', 17847), ('storm', 16919), ('amen', 563), ('escaped', 5965), ('regret', 14536), ('loyalwolf', 10625), ('benfica', 1647), ('games', 7195), ('math', 10963), ('nessasary', 11907), ('rinos', 14972), ('facebook', 6264), ('ruining', 15152), ('march', 10869), ('changer', 2886), ('makeithappen', 10775), ('survivors', 17214), ('populism', 13496), ('cambridge', 2561), ('dictionary', 4882), ('unite', 18598), ('capacity', 2625), ('serve', 15680), ('tide', 17832), ('tacozt', 17323), ('lethal', 10202), ('combos', 3397), ('standby', 16737), ('arm', 947), ('tries', 18169), ('runaway', 15169), ('libshateamerica', 10301), ('commiessuck', 3452), ('shameful', 15767), ('installed', 9051), ('tea', 17440), ('overrated', 12697), ('hans', 7918), ('hermann', 8151), ('hoppe', 8397), ('walking', 19137), ('dating', 4365), ('handicapped', 7890), ('seeits', 15550), ('immoral', 8753), ('demsaredangerous', 4659), ('funnier', 7131), ('stall', 16725), ('appointed', 883), ('wellknow', 19340), ('unlike', 18622), ('counted', 3949), ('dianne', 4864), ('abbott', 15), ('alcatraz', 418), ('pit', 13261), ('pictures', 13212), ('loving', 10605), ('summer', 17116), ('shade', 15742), ('project', 13854), ('mandys', 10816), ('havin', 8023), ('grim', 7670), ('adventures', 254), ('billy', 1792), ('mandy', 10815), ('smell', 16272), ('wheeew', 19400), ('dumpsters', 5492), ('unconstitutional', 18495), ('complicit', 3524), ('henceforth', 8137), ('tangerine', 17371), ('toddlers', 17918), ('ffs', 6574), ('loyalists', 10624), ('kyles', 9926), ('adoptive', 237), ('nickname', 11986), ('nightmare', 12002), ('ufc', 18415), ('messed', 11184), ('yh', 19900), ('hollyweird', 8331), ('unserious', 18659), ('seeker', 15552), ('iphone', 9207), ('posters', 13543), ('upstairs', 18721), ('dinners', 4943), ('overrun', 12700), ('shootout', 15910), ('bystanders', 2511), ('series', 15673), ('sword', 17281), ('novels', 12184), ('mangas', 10822), ('described', 4735), ('tech', 17464), ('hahahahahahasaid', 7843), ('handed', 7887), ('iranians', 9214), ('foreign', 6876), ('emotions', 5756), ('fueling', 7098), ('rhetoric', 14899), ('catching', 2730), ('sign', 16023), ('bionic', 1808), ('memory', 11135), ('safely', 15229), ('surrounded', 17204), ('masks', 10936), ('diversity', 5138), ('opponent', 12514), ('defended', 4513), ('hoods', 8379), ('beating', 1538), ('strangers', 16935), ('egghead', 5634), ('bible', 1751), ('challenge', 2860), ('obnoxious', 12302), ('phasing', 13162), ('psychopaths', 13994), ('role', 15055), ('model', 11441), ('thanknyou', 17598), ('taught', 17410), ('removable', 14641), ('magazines', 10733), ('limiting', 10376), ('cap', 2620), ('mags', 10744), ('legislation', 10161), ('curb', 4239), ('replaced', 14679), ('starfleet', 16752), ('sigh', 16018), ('inhales', 8976), ('bestfriend', 1688), ('erick', 5949), ('erickson', 5950), ('persona', 13115), ('discredit', 5012), ('phinnaly', 13175), ('sons', 16432), ('winners', 19546), ('loserssee', 10566), ('democratlol', 4620), ('step', 16828), ('approach', 893), ('behind', 1598), ('require', 14739), ('stressing', 16961), ('rightwing', 14960), ('conservatards', 3671), ('nothelping', 12149), ('jokes', 9503), ('forttrump', 6918), ('poland', 13408), ('boomingeconomy', 2065), ('gravely', 7620), ('mistaken', 11390), ('rise', 14986), ('struggle', 16996), ('identity', 8629), ('nobodies', 12036), ('priority', 13762), ('capitalism', 2628), ('multiple', 11665), ('axis', 1251), ('exploitation', 6195), ('handcuffs', 7885), ('killings', 9785), ('repulsed', 14729), ('antics', 725), ('lived', 10434), ('countrys', 3968), ('gunfire', 7773), ('hitting', 8276), ('passing', 12906), ('rallies', 14257), ('snoop', 16327), ('seek', 15551), ('sa', 15203), ('yoongi', 19914), ('smile', 16280), ('schumer', 15427), ('irs', 9236), ('organizations', 12577), ('chucky', 3091), ('nominees', 12068), ('namjoon', 11764), ('sharing', 15792), ('ignores', 8667), ('ton', 17945), ('feminist', 6551), ('monte', 11526), ('mcnaughton', 11029), ('failing', 6307), ('uphold', 18700), ('sided', 16004), ('campers', 2579), ('indigenous', 8903), ('equally', 5926), ('rig', 14938), ('choose', 3049), ('subject', 17030), ('honey', 8366), ('cookies', 3842), ('psychological', 13988), ('madness', 10711), ('dr', 5352), ('rossiter', 15094), ('motivating', 11585), ('electing', 5668), ('frustrated', 7060), ('bills', 1791), ('buhbye', 2390), ('apart', 831), ('coalition', 3301), ('moderating', 11449), ('mob', 11426), ('gt', 7720), ('slamming', 16165), ('hayes', 8030), ('putinpuppet', 14105), ('assange', 1034), ('hall', 7866), ('repro', 14712), ('boner', 2037), ('syria', 17308), ('alternativefacts', 523), ('walkawayfromdemocrats', 19131), ('liberalismisamentaldisease', 10259), ('sugardaddyneeded', 17099), ('socialiststaxpayers', 16362), ('quran', 14192), ('products', 13817), ('dandruff', 4327), ('kc', 9702), ('fairness', 6316), ('sop', 16446), ('seriousness', 15676), ('demand', 4592), ('resign', 14758), ('blindly', 1919), ('wouldve', 19722), ('learned', 10096), ('symbol', 17291), ('due', 5460), ('platforms', 13317), ('censoring', 2815), ('censored', 2814), ('penalty', 13044), ('given', 7382), ('penalized', 13041), ('childish', 3014), ('provide', 13963), ('competent', 3501), ('justifying', 9603), ('algorithm', 431), ('designed', 4753), ('britain', 2285), ('congresswoman', 3642), ('devastates', 4818), ('communities', 3482), ('mvp', 11724), ('expressed', 6215), ('dismissive', 5060), ('attitude', 1134), ('outcry', 12644), ('toast', 17907), ('joking', 9504), ('hours', 8447), ('officers', 12376), ('fire', 6658), ('sometimes', 16418), ('recall', 14394), ('moss', 11571), ('famer', 6365), ('rounder', 15110), ('committee', 3465), ('birth', 1824), ('roe', 15047), ('wade', 19093), ('deprive', 4712), ('tmi', 17898), ('controls', 3807), ('subtly', 17060), ('habits', 7819), ('dint', 4946), ('hershes', 8164), ('yawn', 19840), ('howie', 8469), ('vegas', 18850), ('spend', 16560), ('earned', 5549), ('vacation', 18791), ('scrawny', 15469), ('talentagtresults', 17354), ('agt', 348), ('miscreant', 11348), ('wellhe', 19337), ('firmly', 6672), ('establishmentlets', 5984), ('elon', 5711), ('smoking', 16293), ('dope', 5279), ('batch', 1469), ('vessel', 18891), ('rescue', 14747), ('thailandchildren', 17588), ('maxi', 10983), ('mazzone', 11002), ('convinced', 3829), ('acts', 172), ('passer', 12904), ('relativizing', 14581), ('bizarre', 1855), ('saving', 15352), ('connor', 3658), ('browns', 2332), ('gameplan', 7194), ('bell', 1625), ('tweeeeeetrrrr', 18346), ('trains', 18077), ('follw', 6835), ('removed', 14644), ('protecting', 13929), ('chum', 3094), ('punches', 14046), ('punched', 14045), ('whaooaaaaa', 19382), ('otoh', 12625), ('murdering', 11685), ('dupe', 5501), ('ilysm', 8712), ('prepared', 13658), ('page', 12763), ('repair', 14663), ('friendly', 7027), ('fessy', 6564), ('tylers', 18389), ('boundaries', 2122), ('emotionally', 5755), ('manipulate', 10835), ('behaviour', 1597), ('embraced', 5735), ('killer', 9781), ('breathe', 2218), ('antipernickety', 780), ('bastard', 1466), ('hadexincursion', 7828), ('jerry', 9423), ('lewis', 10227), ('ripoff', 14982), ('fuckoff', 7088), ('twain', 18340), ('eyes', 6252), ('position', 13522), ('detector', 4796), ('anxious', 805), ('blasting', 1896), ('volumes', 19034), ('implying', 8791), ('devils', 4832), ('saul', 15337), ('alinsky', 447), ('rulesforradicals', 15160), ('veiled', 18859), ('accusation', 116), ('fingerprints', 6647), ('perverse', 13133), ('cop', 3861), ('vulnerable', 19080), ('thug', 17805), ('imagined', 8723), ('abuser', 68), ('instances', 9055), ('womans', 19625), ('physique', 13201), ('bits', 1847), ('selfprofessed', 15597), ('populists', 13498), ('norms', 12124), ('labelled', 9935), ('latte', 10017), ('elitists', 5697), ('addict', 186), ('pervert', 13134), ('molonlabe', 11473), ('momsdemand', 11485), ('wednesdaywisdom', 19297), ('awaken', 1220), ('asinine', 1014), ('stupidity', 17021), ('liked', 10352), ('pretended', 13704), ('chap', 2896), ('misery', 11354), ('gainful', 7177), ('employment', 5768), ('dream', 5379), ('amendment', 565), ('deeper', 4492), ('izlam', 9335), ('totes', 18001), ('reformation', 14501), ('drank', 5372), ('concentrate', 3553), ('emergency', 5739), ('marijuana', 10883), ('bribe', 2249), ('pharma', 13158), ('rubbed', 15137), ('knight', 9839), ('witty', 19599), ('sith', 16104), ('alderaan', 421), ('favourite', 6465), ('minds', 11304), ('boohoo', 2052), ('fortune', 6921), ('stickerwoman', 16856), ('post', 13536), ('becca', 1553), ('stiring', 16871), ('dig', 4906), ('handled', 7894), ('declassified', 4466), ('docs', 5178), ('transparency', 18101), ('declassifyitall', 4470), ('visit', 19000), ('mommie', 11481), ('dearest', 4417), ('pepsi', 13067), ('considering', 3697), ('pretend', 13703), ('interfering', 9116), ('missouri', 11384), ('donaldtrump', 5240), ('donaldtrumprallies', 5242), ('featured', 6496), ('springfield', 16654), ('increased', 8873), ('decrease', 4478), ('kyle', 9925), ('receiver', 14399), ('route', 15114), ('ers', 5959), ('asses', 1051), ('denouncing', 4680), ('exercise', 6141), ('infringe', 8967), ('tattoo', 17408), ('fuckin', 7081), ('fabric', 6255), ('string', 16974), ('hers', 8162), ('ha', 7816), ('reminds', 14638), ('monica', 11506), ('knees', 9835), ('sleeze', 16201), ('maintain', 10759), ('addicted', 187), ('programs', 13843), ('fend', 6555), ('hispanics', 8258), ('chained', 2853), ('roy', 15120), ('masterbate', 10947), ('medical', 11073), ('warrantless', 19188), ('searches', 15505), ('offices', 12377), ('effort', 5626), ('theatrics', 17620), ('polygraphi', 13459), ('habitual', 7820), ('liarthey', 10244), ('memberinsane', 11120), ('yrsif', 19967), ('complancey', 3516), ('messi', 11188), ('goalkeeping', 7434), ('affect', 281), ('bow', 2127), ('mention', 11151), ('engineer', 5842), ('beholden', 1601), ('arguing', 936), ('againstbthe', 314), ('describe', 4734), ('anarchy', 616), ('factual', 6296), ('presidents', 13686), ('stage', 16703), ('qanons', 14124), ('greatawakeningworldwide', 7630), ('justsayin', 9607), ('fakeoutrage', 6338), ('lunaticleft', 10659), ('tempertantrums', 17508), ('embarrassing', 5728), ('betomale', 1704), ('businesses', 2465), ('scored', 15443), ('drop', 5420), ('outta', 12675), ('rat', 14302), ('organization', 12576), ('copycat', 3868), ('nvsen', 12254), ('rudeand', 15143), ('sleepy', 16199), ('antifreedom', 766), ('tuition', 18310), ('fees', 6524), ('piggy', 13223), ('denounce', 4678), ('funding', 7123), ('deluded', 4585), ('walked', 19134), ('pls', 13361), ('nba', 11827), ('plant', 13306), ('alumni', 534), ('christineblaseykavanaugh', 3075), ('herand', 8142), ('loomer', 10536), ('rollins', 15059), ('boston', 2106), ('plans', 13305), ('decriminalize', 4481), ('petty', 13150), ('crowded', 4164), ('hailed', 7851), ('intimidated', 9146), ('european', 6012), ('animation', 666), ('weighing', 19314), ('cali', 2541), ('tectics', 17473), ('lgbt', 10232), ('tikoo', 17845), ('sunny', 17132), ('leone', 10188), ('videos', 18937), ('sri', 16678), ('krisna', 9903), ('definetly', 4536), ('resistantifa', 14766), ('ncaa', 11832), ('loves', 10603), ('wayne', 19240), ('drake', 5367), ('gotta', 7543), ('minded', 11300), ('woodsplease', 19654), ('published', 14015), ('ipledgetovote', 9208), ('redtoblue', 14464), ('followback', 6824), ('prize', 13784), ('incl', 8851), ('salaries', 15248), ('curriculum', 4247), ('indoctrinating', 8909), ('generations', 7283), ('youth', 19950), ('sees', 15563), ('fitmy', 6692), ('gas', 7219), ('tank', 17374), ('antifathats', 760), ('waysbe', 19242), ('careful', 2666), ('fluctuat', 6785), ('nec', 11846), ('mergitur', 11169), ('latin', 10012), ('tossed', 17993), ('sink', 16079), ('motto', 11590), ('investigation', 9179), ('responding', 14792), ('unfamiliar', 18556), ('incentives', 8843), ('mate', 10958), ('tax', 17413), ('chart', 2924), ('morneau', 11552), ('shepell', 15833), ('stock', 16877), ('tsx', 18299), ('friendsandfamily', 7029), ('keel', 9709), ('ripe', 14980), ('twat', 18342), ('cess', 2845), ('pool', 13470), ('theatres', 17619), ('councillor', 3940), ('shouting', 15945), ('groominggangs', 7682), ('jeremycorbyns', 9416), ('babies', 1267), ('bil', 1782), ('stole', 16884), ('fanniemae', 6391), ('sat', 15319), ('slush', 16247), ('fanniegate', 6390), ('releasethetexts', 14592), ('noredactions', 12115), ('obamagate', 12281), ('obamaknew', 12283), ('gtthe', 7735), ('revolution', 14881), ('usconstitution', 18753), ('asshole', 1057), ('muted', 11717), ('arming', 953), ('idaho', 8614), ('racismbullshit', 14206), ('brilliant', 2272), ('commentary', 3439), ('bothering', 2111), ('pittsburgh', 13273), ('philly', 13172), ('naming', 11763), ('glorious', 7416), ('hogg', 8309), ('labeled', 9933), ('sensitive', 15645), ('unfiltered', 18559), ('ain', 376), ('uor', 18688), ('kkkkk', 9820), ('plus', 13370), ('homicide', 8353), ('ratecoincidence', 14305), ('melbourne', 11110), ('permanent', 13098), ('kcollege', 9703), ('indoctrination', 8910), ('censorship', 2817), ('likewise', 10363), ('hwood', 8568), ('openseason', 12497), ('trumpists', 18237), ('antifatypes', 761), ('exponential', 6202), ('dsa', 5442), ('evisceration', 6073), ('bor', 2084), ('esp', 5970), ('shat', 15801), ('faced', 6265), ('developer', 4822), ('market', 10897), ('chatting', 2937), ('clubs', 3279), ('uni', 18576), ('crook', 4146), ('trumptime', 18260), ('wisdomwednesday', 19567), ('forgiveness', 6890), ('guarantee', 7740), ('duster', 5513), ('directed', 4956), ('ffl', 6573), ('dealers', 4410), ('violate', 18970), ('straw', 16943), ('purchases', 14064), ('knowingly', 9854), ('puppets', 14060), ('gay', 7240), ('pbs', 12983), ('documentary', 5185), ('ty', 18386), ('overseas', 12702), ('achieve', 131), ('hits', 8274), ('dung', 5496), ('foreclosure', 6873), ('seculars', 15541), ('yoga', 19907), ('vegan', 18848), ('occupation', 12337), ('shift', 15843), ('els', 5715), ('mollie', 11471), ('tibet', 17825), ('receive', 14397), ('reward', 14886), ('eyebrow', 6248), ('pinched', 13237), ('opperman', 12513), ('knockmy', 9846), ('infact', 8925), ('lookout', 10533), ('tellu', 17498), ('hv', 8565), ('nearly', 11841), ('ring', 14969), ('fence', 6554), ('nics', 11988), ('yp', 19962), ('wld', 19605), ('spa', 16495), ('battlebus', 1485), ('traitors', 18081), ('solid', 16389), ('columbia', 3392), ('bugle', 2386), ('gfy', 7333), ('bravest', 2193), ('generationally', 7281), ('promises', 13873), ('improvements', 8813), ('almostalmost', 494), ('possess', 13527), ('sip', 16088), ('trusty', 18276), ('vault', 18842), ('canteen', 2619), ('trumper', 18227), ('wtrump', 19776), ('onit', 12458), ('beliefs', 1612), ('cordial', 3875), ('upsetting', 18716), ('comedian', 3403), ('votehimout', 19049), ('votethemout', 19067), ('blackmail', 1871), ('uses', 18764), ('rehab', 14548), ('officer', 12374), ('classless', 3187), ('boring', 2092), ('carole', 2684), ('intentions', 9100), ('confirming', 3609), ('remembered', 14629), ('itthats', 9320), ('twatter', 18343), ('sport', 16627), ('brings', 2280), ('celebrates', 2801), ('masculinity', 10933), ('colour', 3390), ('upbringing', 18690), ('opens', 12496), ('foolish', 6849), ('gains', 7179), ('pcs', 12991), ('directly', 4960), ('ches', 2985), ('performed', 13086), ('debates', 4429), ('bottle', 2116), ('vodka', 19020), ('reps', 14715), ('radicalized', 14219), ('feminazis', 6549), ('abolish', 33), ('laughing', 10024), ('clegg', 3214), ('tories', 17979), ('ideal', 8618), ('cameron', 2567), ('bedfellow', 1562), ('promo', 13875), ('maulis', 10977), ('journey', 9528), ('shield', 15841), ('leads', 10082), ('crushed', 4179), ('midfield', 11242), ('mostly', 11574), ('doomsday', 5275), ('titan', 17882), ('sooner', 16437), ('hasn', 7987), ('charted', 2925), ('trends', 18152), ('mold', 11463), ('fall', 6345), ('spotlight', 16636), ('nasks', 11786), ('carruing', 2693), ('flags', 6719), ('patrol', 12952), ('naheru', 11749), ('zina', 20003), ('indira', 8904), ('worlds', 19693), ('slave', 16183), ('importantly', 8794), ('romanian', 15062), ('gypsy', 7814), ('blockyou', 1937), ('badi', 1319), ('handicap', 7889), ('darling', 4353), ('brat', 2186), ('mug', 11648), ('shots', 15932), ('meth', 11198), ('weirdo', 19322), ('shitbiscuit', 15866), ('tempe', 17501), ('gutierrez', 7795), ('conner', 3653), ('coz', 4017), ('pakistani', 12779), ('mocks', 11438), ('nationalists', 11796), ('concert', 3563), ('darcy', 4342), ('expecting', 6170), ('balanced', 1352), ('satanist', 15322), ('russia', 15186), ('tx', 18381), ('almostcousins', 495), ('established', 5981), ('cursing', 4249), ('began', 1579), ('counterprotesters', 3955), ('injured', 8989), ('cohorts', 3342), ('immediately', 8743), ('screaming', 15473), ('walkawayfromdemocratsnow', 19132), ('updated', 18694), ('scrapers', 15462), ('besth', 1689), ('excusing', 6129), ('fisa', 6677), ('lips', 10404), ('ships', 15859), ('alec', 422), ('problematic', 13794), ('phooey', 13184), ('stepping', 16835), ('wield', 19502), ('crude', 4172), ('sharp', 15794), ('axe', 1249), ('uks', 18439), ('fraud', 6971), ('affected', 282), ('style', 17025), ('outraged', 12663), ('inclusion', 8858), ('faiths', 6323), ('success', 17066), ('helpful', 8128), ('channel', 2890), ('plethora', 13356), ('topics', 17974), ('peruse', 13131), ('photography', 13188), ('gear', 7254), ('fruits', 7058), ('deceiver', 4444), ('likes', 10360), ('stiffen', 16860), ('hips', 8248), ('pressing', 13693), ('maiden', 10749), ('barnes', 1432), ('bite', 1843), ('merely', 11167), ('unaccustomed', 18463), ('commit', 3459), ('ear', 5545), ('attorney', 1139), ('landry', 9978), ('encourages', 5792), ('jeffsessions', 9403), ('bigtech', 1776), ('ag', 309), ('recently', 14403), ('speakin', 16524), ('troof', 18190), ('reach', 14332), ('gentleman', 7297), ('mud', 11640), ('slinging', 16220), ('spinning', 16591), ('iwas', 9331), ('popping', 13486), ('popped', 13483), ('demented', 4603), ('penthouse', 13056), ('magazine', 10732), ('contemplates', 3746), ('chair', 2855), ('technically', 17466), ('slouches', 16238), ('waits', 19112), ('defender', 4514), ('bum', 2421), ('stormy', 16920), ('daniels', 4337), ('dancer', 4325), ('gogo', 7462), ('belt', 1635), ('table', 17316), ('hush', 8559), ('chances', 2880), ('whore', 19473), ('libtard', 10303), ('coaching', 3299), ('staff', 16698), ('fyi', 7159), ('radicalism', 14217), ('sobs', 16348), ('occupy', 12339), ('gitmo', 7377), ('vogue', 19021), ('wind', 19529), ('blessing', 1911), ('delivers', 4583), ('relationship', 14574), ('deliver', 4579), ('meaning', 11043), ('willfully', 19515), ('mutated', 11715), ('interviewed', 9140), ('kaine', 9626), ('ties', 17837), ('finished', 6651), ('registered', 14529), ('equivalent', 5936), ('lunch', 10662), ('stream', 16948), ('required', 14740), ('npr', 12202), ('cia', 3103), ('halper', 7870), ('beware', 1719), ('rightist', 14948), ('nationalist', 11795), ('theresistance', 17685), ('bashthefash', 1459), ('smashfascism', 16265), ('lair', 9959), ('leftest', 10119), ('nutty', 12250), ('pd', 12992), ('wholeheartedly', 19464), ('childhood', 3013), ('civilians', 3148), ('couldn', 3935), ('military', 11276), ('grade', 7576), ('bleeding', 1905), ('battling', 1489), ('cancer', 2598), ('driver', 5414), ('wrecked', 19741), ('fled', 6747), ('subsidies', 17050), ('complex', 3520), ('evidently', 6069), ('study', 17011), ('flawed', 6742), ('parrot', 12862), ('misleading', 11364), ('everytown', 6057), ('addictssites', 189), ('spotty', 16640), ('sale', 15250), ('nationwide', 11802), ('sobbing', 16346), ('norm', 12116), ('qanda', 14121), ('currently', 4246), ('la', 9929), ('trustee', 18270), ('divest', 5141), ('fossil', 6928), ('fuels', 7099), ('accomplished', 99), ('letitia', 10204), ('james', 9366), ('sept', 15659), ('coward', 4002), ('charade', 2909), ('sabotage', 15205), ('facelifted', 6268), ('soft', 16378), ('imuser', 8816), ('educate', 5603), ('talked', 17358), ('hadn', 7829), ('sought', 16464), ('allowing', 483), ('programmes', 13842), ('cbb', 2770), ('lw', 10672), ('sums', 17121), ('offered', 12368), ('tournament', 18021), ('whoever', 19462), ('pounce', 13564), ('levi', 10218), ('links', 10398), ('planned', 13302), ('parenthood', 12846), ('pledging', 13351), ('nonprofits', 12094), ('partnering', 12885), ('joined', 9497), ('breast', 2212), ('simon', 16054), ('garth', 7216), ('writes', 19754), ('ketterer', 9746), ('kettterer', 9748), ('unstoppable', 18662), ('meltdown', 11115), ('detail', 4787), ('godblessamerica', 7441), ('godblesshumanity', 7442), ('withdraw', 19580), ('spare', 16508), ('tinderbox', 17866), ('ttt', 18301), ('expand', 6164), ('majorities', 10764), ('ant', 710), ('variety', 18832), ('fortnite', 6916), ('opportunities', 12518), ('esport', 5975), ('approve', 901), ('rose', 15081), ('hesitation', 8169), ('toohe', 17955), ('genius', 7290), ('hobag', 8302), ('takendted', 17344), ('eaten', 5564), ('closer', 3260), ('dignify', 4914), ('posting', 13545), ('consumers', 3734), ('privatised', 13774), ('essential', 5978), ('service', 15685), ('capitalist', 2629), ('gon', 7479), ('crib', 4102), ('champion', 2871), ('slow', 16240), ('teeth', 17484), ('dtmag', 5445), ('giffords', 7345), ('targeting', 17393), ('proa', 13786), ('districts', 5128), ('cowering', 4009), ('sicker', 15997), ('bb', 1493), ('overhyped', 12690), ('imbecild', 8731), ('desirable', 4756), ('anyday', 809), ('keith', 9724), ('hence', 8136), ('referred', 14491), ('anqueefa', 704), ('mesel', 11178), ('basement', 1455), ('insignificant', 9033), ('contestant', 3756), ('generous', 7286), ('lt', 10631), ('songs', 16425), ('weaponizing', 19269), ('ulterior', 18443), ('fiberals', 6578), ('creature', 4080), ('radius', 14224), ('awwh', 1245), ('alooot', 499), ('bhabi', 1732), ('rightthe', 14959), ('deaths', 4425), ('vastly', 18839), ('googled', 7507), ('sayin', 15359), ('wat', 19217), ('daddy', 4293), ('nonflzonehome', 12086), ('furthers', 7146), ('mission', 11378), ('dying', 5532), ('collaborating', 3355), ('royal', 15121), ('bloodline', 1947), ('mixes', 11407), ('accident', 92), ('led', 10111), ('shielding', 15842), ('nana', 11765), ('restriction', 14816), ('blanket', 1891), ('statements', 16779), ('sheep', 15812), ('cruzcrew', 4184), ('florida', 6777), ('voteredtosavetexas', 19059), ('voteredtosaveflorida', 19058), ('bcuz', 1509), ('direction', 4958), ('heading', 8041), ('eye', 6247), ('spewed', 16566), ('disregard', 5088), ('catastrophe', 2725), ('atmos', 1105), ('consulting', 3732), ('profits', 13835), ('spreading', 16648), ('gloom', 7414), ('oil', 12400), ('salesmen', 15254), ('cheaper', 2943), ('car', 2645), ('windows', 19533), ('smash', 16263), ('fucktards', 7090), ('slap', 16174), ('box', 2133), ('yassssss', 19839), ('special', 16528), ('affiliated', 288), ('financial', 6631), ('presedent', 13670), ('command', 3430), ('burka', 2440), ('freely', 7000), ('shiny', 15855), ('objects', 12296), ('wethepeople', 19370), ('natalie', 11789), ('youngest', 19936), ('coach', 3296), ('ruined', 15151), ('compared', 3490), ('older', 12414), ('invents', 9171), ('doubtfire', 5314), ('scotland', 15449), ('depressed', 4709), ('confident', 3600), ('track', 18047), ('slack', 16160), ('gardening', 7210), ('updatesyou', 18696), ('cum', 4226), ('importance', 8792), ('drives', 5416), ('rolling', 15058), ('proverbialyou', 13960), ('lowness', 10620), ('liberalwe', 10285), ('dolook', 5225), ('historybut', 8265), ('duke', 5468), ('bordersdoesn', 2089), ('empathymorals', 5758), ('discussing', 5023), ('antisemitism', 788), ('traded', 18053), ('winter', 19553), ('catcher', 2728), ('itsnot', 9317), ('pittis', 13272), ('dishonored', 5044), ('zone', 20016), ('dangerously', 4332), ('edges', 5593), ('ghetto', 7337), ('rats', 14315), ('bloodflies', 1945), ('unjust', 18611), ('upside', 18718), ('ditch', 5132), ('wheels', 19405), ('lazily', 10063), ('wealth', 19262), ('thirsty', 17740), ('wheel', 19401), ('britishtorycarcrash', 2291), ('toriesout', 17981), ('learns', 10098), ('spelling', 16558), ('myself', 11734), ('westminster', 19367), ('brexiteers', 2242), ('outoftheeu', 12660), ('annasourpuss', 678), ('noeudeal', 12050), ('forging', 6887), ('fuckeu', 7077), ('romford', 15066), ('potters', 13559), ('fuckass', 7070), ('fifth', 6594), ('downtown', 5338), ('cincinnati', 3113), ('soccer', 16351), ('tn', 17901), ('winner', 19545), ('attended', 1126), ('overcome', 12684), ('resisters', 14768), ('el', 5660), ('presidente', 13682), ('exit', 6158), ('allaying', 455), ('fears', 6493), ('potential', 13555), ('hinges', 8242), ('reorganize', 14661), ('dam', 4307), ('lorna', 10560), ('mmmmmm', 11418), ('edible', 5595), ('greek', 7643), ('alot', 501), ('presentation', 13673), ('film', 6619), ('frat', 6970), ('californian', 2545), ('professors', 13826), ('snark', 16308), ('kidding', 9774), ('cancel', 2595), ('traced', 18045), ('cracking', 4031), ('offering', 12369), ('probely', 13791), ('immature', 8739), ('dime', 4927), ('questioning', 14168), ('andy', 641), ('announcement', 686), ('trumpies', 18233), ('bandwagonists', 1382), ('campaigning', 2576), ('sleazballs', 16189), ('walkingaway', 19138), ('mangina', 10824), ('loyal', 10623), ('married', 10912), ('flat', 6735), ('clownbottom', 3274), ('sellout', 15605), ('figures', 6608), ('douche', 5317), ('showman', 15961), ('pipes', 13253), ('villifying', 18963), ('rant', 14285), ('imaginary', 8720), ('bolsheviks', 2021), ('attracted', 1143), ('amused', 602), ('respectable', 14783), ('intimidating', 9147), ('serenadon', 15666), ('favors', 6463), ('bakersfield', 1345), ('canny', 2613), ('er', 5938), ('somecunt', 16405), ('bananas', 1375), ('cos', 3915), ('french', 7004), ('spiking', 16582), ('drinks', 5409), ('kerr', 9743), ('turns', 18336), ('round', 15108), ('shouts', 15947), ('dunt', 5499), ('revkin', 14877), ('stuck', 17003), ('faux', 6453), ('liberalslike', 10275), ('andywonder', 642), ('proponent', 13899), ('conceal', 3549), ('eric', 5947), ('housing', 8459), ('climbing', 3233), ('ladder', 9951), ('incarnate', 8838), ('estate', 5986), ('builders', 2393), ('birds', 1819), ('lab', 9930), ('lds', 10074), ('gauge', 7233), ('quantum', 14152), ('differential', 4898), ('geometry', 7305), ('strength', 16958), ('tensor', 17530), ('curvature', 4254), ('jv', 9613), ('squad', 16665), ('silent', 16042), ('assaultedwe', 1043), ('blacklivesmatter', 1870), ('baltimoreriots', 1370), ('ferguson', 6559), ('werent', 19359), ('grandkids', 7590), ('hispanic', 8257), ('felony', 6541), ('shotjailed', 15931), ('az', 1256), ('underage', 18508), ('amy', 604), ('iook', 9203), ('inspring', 9046), ('conquer', 3660), ('heughan', 8173), ('fuss', 7149), ('femfrauds', 6547), ('maddow', 10703), ('morningjoe', 11555), ('authority', 1184), ('arbiter', 909), ('original', 12591), ('requiring', 14743), ('fringes', 7039), ('populace', 13489), ('differentiate', 4899), ('elizabethkisses', 5701), ('italy', 9296), ('deserves', 4748), ('mutualsfollowers', 11721), ('laserfocused', 10002), ('outdated', 12645), ('bells', 1627), ('sneaky', 16316), ('epithats', 5917), ('establishment', 5983), ('outsider', 12671), ('millionaires', 11289), ('retarded', 14831), ('italian', 9294), ('hateif', 7999), ('recovery', 14445), ('centrists', 2829), ('dealing', 4411), ('protector', 13933), ('markets', 10900), ('prince', 13744), ('tiny', 17870), ('fraction', 6950), ('contracts', 3774), ('mlb', 11412), ('arenado', 927), ('defensively', 4522), ('chapman', 2898), ('benefiting', 1645), ('todays', 17915), ('stating', 16783), ('basic', 1460), ('diverting', 5140), ('utah', 18777), ('slc', 16188), ('elizabethsmart', 5702), ('brainchild', 2167), ('jen', 9406), ('mailer', 10752), ('linking', 10397), ('nixon', 12023), ('aides', 368), ('fred', 6986), ('moustache', 11597), ('illiterate', 8700), ('bribes', 2251), ('nospeakermccarthy', 12135), ('privat', 13771), ('xvi', 19815), ('cardinal', 2655), ('seclusion', 15518), ('prayer', 13602), ('meditation', 11083), ('nuncio', 12233), ('molehill', 11464), ('mountain', 11592), ('oust', 12636), ('francis', 6960), ('gaining', 7178), ('subs', 17042), ('youtuber', 19953), ('maple', 10866), ('leaf', 10083), ('ranks', 14284), ('whiff', 19421), ('saudi', 15334), ('barry', 1444), ('soweto', 16488), ('crawl', 4053), ('coaches', 3298), ('considerationbe', 3695), ('brandon', 2184), ('trip', 18175), ('sprint', 16656), ('formations', 6902), ('rallying', 14259), ('forwarded', 6925), ('maxine', 10988), ('walters', 19149), ('rants', 14286), ('secret', 15527), ('owners', 12730), ('strike', 16971), ('lawyers', 10054), ('served', 15681), ('jury', 9586), ('instructions', 9068), ('sway', 17247), ('deliberations', 4575), ('annual', 694), ('grounds', 7696), ('gore', 7526), ('correcting', 3892), ('democratsliberals', 4626), ('farrakhan', 6411), ('dare', 4343), ('facism', 6278), ('fixing', 6706), ('possessed', 13528), ('nay', 11818), ('rourke', 15112), ('immigration', 8752), ('fortunate', 6919), ('bushcheney', 2459), ('fuckingclass', 7084), ('charged', 2911), ('conspiracy', 3708), ('scandal', 15382), ('scandals', 15384), ('wave', 19232), ('parse', 12864), ('whiteprivilege', 19449), ('presumably', 13698), ('trivial', 18182), ('harrowing', 7972), ('lord', 10555), ('extravagant', 6238), ('lifestyle', 10338), ('below', 1634), ('defending', 4515), ('fords', 6871), ('bias', 1744), ('area', 922), ('polled', 13441), ('homan', 8340), ('itself', 9312), ('stopkavanaughnow', 16907), ('uwu', 18787), ('weeabo', 19300), ('pride', 13731), ('dennison', 4676), ('extremistische', 6244), ('idee', 8623), ('settled', 15701), ('gaginducing', 7173), ('spokesperson', 16615), ('commercialized', 3447), ('club', 3278), ('range', 14279), ('convenient', 3817), ('tpp', 18044), ('everybodys', 6048), ('doin', 5211), ('itmaga', 9308), ('kindness', 9797), ('militaryleos', 11277), ('nowwatching', 12200), ('uhhh', 18427), ('sadam', 15216), ('gassed', 7223), ('kurds', 9917), ('sp', 16494), ('duly', 5473), ('schiffhead', 15412), ('rightwingers', 14961), ('discrepancies', 5015), ('narratives', 11778), ('examing', 6095), ('supposed', 17168), ('yen', 19876), ('harassment', 7940), ('assaults', 1046), ('funds', 7126), ('revealed', 14857), ('chose', 3056), ('headline', 8042), ('delighted', 4577), ('exclude', 6115), ('select', 15575), ('northwestern', 12127), ('asian', 1011), ('correlation', 3899), ('cherrypicked', 2982), ('euro', 6010), ('creativity', 4077), ('sexists', 15723), ('especially', 5971), ('judging', 9557), ('veracity', 18869), ('gender', 7267), ('loans', 10471), ('realistic', 14356), ('hitlary', 8270), ('bucky', 2370), ('doj', 5216), ('lawenforcement', 10040), ('policestate', 13418), ('paramilitary', 12834), ('goons', 7513), ('leftwing', 10138), ('solidify', 16391), ('grip', 7674), ('eddie', 5591), ('begging', 1581), ('guylmfao', 7805), ('freakin', 6980), ('pill', 13227), ('swallow', 17235), ('theresa', 17682), ('jeopardy', 9413), ('violated', 18971), ('pinch', 13235), ('salt', 15258), ('spreads', 16650), ('misinformation', 11359), ('promise', 13871), ('honorable', 8369), ('shuttle', 15986), ('terminal', 17535), ('airport', 383), ('agents', 325), ('reminded', 14635), ('wheelchair', 19402), ('passenger', 12903), ('feds', 6510), ('museum', 11697), ('chairs', 2858), ('pose', 13517), ('purposely', 14079), ('orcastrated', 12555), ('sets', 15697), ('noone', 12105), ('corbyn', 3872), ('defence', 4511), ('justified', 9600), ('incredibly', 8878), ('whites', 19450), ('manipulated', 10836), ('anythingkind', 820), ('angeela', 645), ('seasonthey', 15511), ('isthats', 9287), ('tolerate', 17935), ('standup', 16742), ('preached', 13612), ('smeared', 16270), ('conservativesrepublicans', 3684), ('pond', 13464), ('hides', 8187), ('yell', 19866), ('toll', 17936), ('booth', 2079), ('hugs', 8497), ('milo', 11293), ('gtgt', 7725), ('ramble', 14261), ('smiling', 16284), ('kate', 9662), ('guessing', 7750), ('nola', 12058), ('exception', 6108), ('williams', 19518), ('displayed', 5074), ('tempered', 17506), ('ye', 19846), ('opportunist', 12516), ('cabinet', 2517), ('rightly', 14951), ('task', 17400), ('core', 3876), ('unhinged', 18575), ('lowuser', 10622), ('treated', 18140), ('controversy', 3814), ('differently', 4900), ('usta', 18774), ('monger', 11502), ('rage', 14226), ('relatives', 14578), ('finna', 6655), ('crispy', 4123), ('jogging', 9490), ('suit', 17107), ('nuff', 12222), ('intitled', 9149), ('fuk', 7101), ('sucker', 17079), ('softest', 16379), ('untrue', 18674), ('familyprotection', 6375), ('rebranding', 14389), ('efforts', 5629), ('livingtrust', 10440), ('ccw', 2779), ('virtually', 18989), ('unlimited', 18624), ('sight', 16021), ('fiona', 6657), ('unjustly', 18614), ('kneeling', 9834), ('villianized', 18962), ('bwahahahahahashe', 2501), ('md', 11036), ('bankrupted', 1396), ('libel', 10249), ('consist', 3699), ('husband', 8557), ('bonus', 2045), ('affection', 284), ('wewe', 19373), ('cashing', 2715), ('checks', 2955), ('safeguard', 15227), ('marshal', 10917), ('forces', 6865), ('welfare', 19330), ('billionaires', 1789), ('covers', 3997), ('verse', 18885), ('allhe', 469), ('ferengi', 6558), ('gettting', 7330), ('cu', 4200), ('enugu', 5903), ('hiac', 8181), ('sdlive', 15499), ('roster', 15095), ('nov', 12180), ('burger', 2437), ('pakistaniget', 12780), ('manif', 10830), ('deleiver', 4568), ('pk', 13282), ('pakistaniyou', 12782), ('pakistanijust', 12781), ('registration', 14532), ('non', 12073), ('forefathers', 6874), ('adulting', 246), ('perjurer', 13095), ('lackey', 9944), ('votenoonkavanaugh', 19052), ('tml', 17899), ('favorability', 6457), ('retiring', 14844), ('semper', 15619), ('fi', 6575), ('marines', 10886), ('lectures', 10109), ('atsushikun', 1112), ('whispered', 19436), ('adopted', 234), ('nephew', 11898), ('impeach', 8766), ('zoe', 20011), ('salesforce', 15252), ('billionaire', 1788), ('marc', 10868), ('benioff', 1657), ('illegalaliens', 8687), ('sanctuarycities', 15284), ('thewall', 17698), ('trumpwall', 18264), ('cheer', 2960), ('whitney', 19457), ('whitey', 19455), ('divorced', 5152), ('couples', 3974), ('whatareyouthinking', 19388), ('estoy', 5988), ('alterando', 519), ('rahm', 14233), ('omen', 12431), ('congratz', 3636), ('pcpo', 12990), ('ondp', 12444), ('toronto', 17983), ('tocouncil', 17911), ('stack', 16693), ('sliced', 16206), ('bread', 2201), ('fella', 6536), ('connelly', 3652), ('craigkardashian', 4039), ('vulgar', 19079), ('attempt', 1121), ('reduce', 14466), ('sisterhood', 16097), ('genitalia', 7289), ('admitshe', 226), ('stacked', 16694), ('gillibrand', 7358), ('abortions', 41), ('racistwhen', 14211), ('racistif', 14208), ('racistliberals', 14209), ('peopleit', 13059), ('wayyy', 19246), ('libtarded', 10304), ('hating', 8006), ('appointee', 884), ('motivated', 11583), ('slightest', 16212), ('hats', 8008), ('unison', 18596), ('distrust', 5129), ('brutally', 2348), ('hundred', 8522), ('beatin', 1537), ('confront', 3624), ('blather', 1901), ('crocheting', 4139), ('doilies', 5210), ('automatically', 1193), ('presumed', 13700), ('stroke', 16985), ('winded', 19530), ('nights', 12004), ('downplay', 5333), ('quad', 14140), ('marriedtomedicine', 10913), ('usb', 18749), ('token', 17929), ('reliable', 14600), ('information', 8958), ('hhahahahahahaha', 8179), ('points', 13398), ('alt', 516), ('operative', 12503), ('dana', 4323), ('blessings', 1912), ('sublime', 17033), ('elison', 5693), ('minnesota', 11319), ('pulpit', 14036), ('cheery', 2964), ('fought', 6932), ('flagcountry', 6718), ('inseparable', 9025), ('wacked', 19089), ('birdlandia', 1818), ('birdsize', 1820), ('notion', 12162), ('rod', 15042), ('serlings', 15677), ('escort', 5969), ('birdbrain', 1816), ('barrett', 1442), ('number', 12229), ('apparantly', 853), ('republicansconservatives', 14722), ('baselessly', 1454), ('participate', 12871), ('congressional', 3638), ('risk', 14990), ('satanic', 15321), ('strip', 16977), ('cast', 2717), ('hells', 8122), ('brand', 2180), ('producer', 13810), ('garbagegood', 7208), ('tick', 17828), ('tock', 17910), ('mayor', 10995), ('bait', 1338), ('feedbackuser', 6514), ('description', 4738), ('associated', 1068), ('disrespected', 5091), ('urself', 18738), ('korzemba', 9886), ('liberalling', 10261), ('conservativesthis', 3686), ('ec', 5572), ('onomy', 12464), ('percentthis', 13075), ('itits', 9306), ('probs', 13798), ('waitstaff', 19113), ('press', 13691), ('mainstream', 10758), ('ought', 12628), ('printers', 13756), ('integral', 9081), ('shutting', 15985), ('bag', 1327), ('cher', 2979), ('stretchedface', 16964), ('veritas', 18879), ('footage', 6855), ('teaparty', 17457), ('winblue', 19527), ('uniteblue', 18599), ('violation', 18974), ('sob', 16344), ('palpable', 12798), ('despicabledemocrats', 4768), ('factsmatter', 6293), ('msmedialies', 11632), ('bigredwave', 1774), ('bluepuddle', 1966), ('followlike', 6832), ('usaguard', 18743), ('unable', 18460), ('divorce', 5151), ('wifes', 19504), ('pig', 13220), ('doctrine', 5182), ('misfits', 11355), ('unsuccessful', 18664), ('snl', 16324), ('beanie', 1521), ('mindmill', 11303), ('thescore', 17687), ('charm', 2920), ('ka', 9615), ('ng', 11963), ('hiphop', 8246), ('minsan', 11326), ('acorns', 144), ('cheeks', 2957), ('astonishing', 1083), ('reached', 14333), ('eotp', 5908), ('bing', 1797), ('duckduckgo', 5452), ('bullsht', 2417), ('losser', 10570), ('degenerative', 4554), ('creeps', 4095), ('onto', 12471), ('sovereignty', 16485), ('hannah', 7914), ('ac', 76), ('visiting', 19002), ('impacted', 8760), ('areas', 923), ('notch', 12142), ('jedi', 9398), ('awakens', 1223), ('solo', 16392), ('rouge', 15104), ('wars', 19193), ('disney', 5061), ('hungry', 8530), ('rino', 14971), ('rauner', 14318), ('severely', 15711), ('illinois', 8697), ('touting', 18024), ('coat', 3305), ('rounded', 15109), ('exterminated', 6228), ('counselled', 3945), ('confession', 3598), ('shiva', 15891), ('laps', 9990), ('betcha', 1698), ('advantage', 252), ('tolls', 17937), ('computer', 3539), ('kaze', 9700), ('rting', 15134), ('looting', 10554), ('interpretation', 9128), ('tongueincheek', 17950), ('relating', 14572), ('psychiatric', 13984), ('qualifications', 14144), ('highlight', 8194), ('ironic', 9223), ('counterintuitive', 3952), ('insider', 9028), ('andrew', 633), ('touchy', 18009), ('gloss', 7421), ('perhaps', 13090), ('misinterpret', 11361), ('misdrawed', 11351), ('blonde', 1942), ('joan', 9475), ('characters', 2907), ('paste', 12918), ('stcshooting', 16802), ('kneejerk', 9830), ('restrictive', 14818), ('pity', 13274), ('explained', 6187), ('wretched', 19745), ('responses', 14796), ('lewinski', 10226), ('branded', 2181), ('produced', 13809), ('ole', 12418), ('neoliberalism', 11895), ('middleclass', 11240), ('ppc', 13582), ('pnpcbc', 13377), ('populist', 13497), ('bigot', 1770), ('hw', 8567), ('polcan', 13411), ('cpc', 4019), ('lpc', 10626), ('android', 638), ('app', 850), ('bluntness', 1975), ('bluntly', 1974), ('rudely', 15144), ('oppressed', 12530), ('gotcha', 7537), ('appeal', 857), ('kinds', 9798), ('esuser', 5989), ('sh', 15737), ('unqualified', 18643), ('darned', 4355), ('nuclear', 12218), ('fuel', 7096), ('according', 103), ('echr', 5576), ('inhuman', 8980), ('degrading', 4555), ('civilised', 3149), ('tougher', 18013), ('backwards', 1307), ('disagrees', 4975), ('effectively', 5622), ('wordshe', 19672), ('mouthreally', 11602), ('leftliberals', 10132), ('membership', 11122), ('goers', 7456), ('massacred', 10940), ('ruger', 15148), ('unethical', 18551), ('isits', 9249), ('yougov', 19927), ('premisehave', 13655), ('runs', 15174), ('couch', 3929), ('intense', 9094), ('grieving', 7664), ('cyber', 4281), ('willuser', 19523), ('trumpers', 18228), ('burning', 2445), ('sneakers', 16314), ('georgia', 7309), ('universityyour', 18610), ('tolerance', 17933), ('rhino', 14902), ('stepped', 16833), ('liberalism', 10256), ('remarkable', 14624), ('sucessful', 17074), ('spectrum', 16542), ('nationalism', 11794), ('hyping', 8579), ('ima', 8714), ('bother', 2109), ('incompetent', 8866), ('devious', 4835), ('betray', 1705), ('peril', 13091), ('eroding', 5956), ('oompa', 12479), ('loompa', 10537), ('compliment', 3527), ('artists', 987), ('analysis', 610), ('blinded', 1917), ('turnbull', 18328), ('removal', 14642), ('popularity', 13492), ('mingling', 11310), ('ohno', 12397), ('obstruct', 12316), ('steffywhy', 16823), ('liam', 10240), ('bh', 1731), ('cuckoo', 4207), ('boycotting', 2144), ('fooled', 6846), ('reflecting', 14496), ('ideals', 8621), ('drive', 5411), ('nutted', 12249), ('coddled', 3326), ('athlete', 1098), ('legend', 10153), ('unindicted', 18585), ('coconspirator', 3322), ('booker', 2056), ('pt', 13999), ('superman', 17145), ('whatsatstake', 19396), ('colluding', 3376), ('scjous', 15436), ('cockeyed', 3313), ('fb', 6471), ('hnh', 8296), ('mouthpieces', 11601), ('hysteria', 8589), ('override', 12698), ('humanrights', 8506), ('nuns', 12236), ('pacific', 12747), ('hopelessly', 8394), ('naïve', 11826), ('frauds', 6973), ('malign', 10796), ('purposes', 14080), ('verified', 18876), ('weirdest', 19320), ('bo', 1982), ('retirement', 14843), ('feeding', 6517), ('starving', 16773), ('trumpshe', 18250), ('railways', 14243), ('flooded', 6770), ('dumbaes', 5476), ('anybody', 807), ('allegedly', 461), ('liberty', 10291), ('nslmccarthyism', 12210), ('dissent', 5101), ('paratroopers', 12841), ('quash', 14157), ('candlelight', 2605), ('quo', 14186), ('goodbye', 7488), ('purge', 14068), ('buildthewall', 2397), ('sundayfunday', 17125), ('foxnews', 6944), ('jealous', 9394), ('scrunchie', 15490), ('crocs', 4142), ('proudly', 13950), ('pea', 12995), ('lionsden', 10402), ('magakag', 10721), ('trail', 18070), ('kicking', 9770), ('fingers', 6648), ('goingkonjam', 7465), ('tears', 17460), ('tanrums', 17379), ('wifi', 19505), ('locking', 10489), ('terrorize', 17554), ('belief', 1611), ('cockroach', 3314), ('lisa', 10408), ('distraction', 5120), ('gullible', 7764), ('hinder', 8235), ('describing', 4737), ('multimillionaire', 11662), ('impress', 8805), ('becoz', 1559), ('scrutiny', 15491), ('gallivanting', 7184), ('scraps', 15465), ('intel', 9083), ('unfettered', 18558), ('gross', 7690), ('hack', 7822), ('cunning', 4232), ('dedicated', 4483), ('teams', 17452), ('bye', 2506), ('flakey', 6723), ('abominable', 35), ('legislature', 10165), ('justintrudeau', 9605), ('acedemia', 127), ('minions', 11316), ('immaturity', 8740), ('goverment', 7550), ('darkseid', 4350), ('perennial', 13079), ('universe', 18607), ('daxamite', 4380), ('menace', 11137), ('menaces', 11138), ('fights', 6602), ('outrage', 12662), ('historically', 8263), ('progessive', 13838), ('nah', 11748), ('pti', 14000), ('bargain', 1425), ('generators', 7284), ('folds', 6818), ('highvalue', 8203), ('madeup', 10706), ('distract', 5116), ('penis', 13048), ('microscopic', 11236), ('critically', 4127), ('path', 12928), ('seats', 15514), ('huffing', 8492), ('spray', 16644), ('crack', 4026), ('outsiders', 12672), ('swing', 17270), ('scott', 15450), ('walker', 19136), ('theirs', 17643), ('sleeeeeeepppp', 16193), ('ret', 14825), ('pansy', 12815), ('bailey', 1336), ('buzzfeed', 2496), ('declined', 4474), ('contents', 3754), ('classmate', 3188), ('awhile', 1241), ('easier', 5557), ('andrea', 631), ('mitchell', 11401), ('embedded', 5730), ('tone', 17946), ('commending', 3437), ('shoots', 15911), ('vitriol', 19010), ('scheming', 15409), ('incite', 8848), ('precisely', 13622), ('lunacy', 10657), ('scheduling', 15404), ('americaphobes', 577), ('cliff', 3226), ('ncaaonsundays', 11833), ('senegalese', 15632), ('hunch', 8520), ('sanctimonious', 15279), ('trigger', 18170), ('insulting', 9077), ('tuesdaythought', 18307), ('profession', 13821), ('federalist', 6506), ('wellfostered', 19336), ('prime', 13742), ('dictate', 4878), ('superior', 17143), ('brazen', 2197), ('votethemallout', 19066), ('toe', 17919), ('miles', 11269), ('nullifies', 12228), ('restricting', 14815), ('neill', 11886), ('rode', 15043), ('revorded', 14885), ('judged', 9550), ('griexsevia', 7665), ('avery', 1206), ('fig', 6597), ('manhattan', 10826), ('bus', 2456), ('aim', 372), ('qarmy', 14126), ('recordshaving', 14440), ('hospital', 8423), ('doctors', 5181), ('nurses', 12239), ('goso', 7533), ('correctly', 3896), ('robe', 15018), ('bluewave', 1969), ('govoner', 7559), ('staggering', 16707), ('defies', 4531), ('exposing', 6210), ('receiving', 14401), ('uhmthen', 18428), ('threaten', 17774), ('partially', 12870), ('steelers', 16819), ('org', 12569), ('banished', 1389), ('united', 18600), ('east', 5560), ('hahai', 7847), ('pilled', 13229), ('month', 11528), ('convoso', 3834), ('conflicting', 3621), ('viewpoints', 18946), ('score', 15442), ('conservativesgop', 3679), ('sjsnsn', 16120), ('messaged', 11182), ('slent', 16203), ('impossible', 8801), ('steak', 16807), ('pointing', 13396), ('finger', 6645), ('collapse', 3357), ('scandalous', 15383), ('ahhh', 359), ('dorter', 5288), ('badasses', 1313), ('comedy', 3408), ('hangs', 7911), ('agencies', 319), ('airwaves', 385), ('hed', 8093), ('altshite', 531), ('providing', 13966), ('proving', 13970), ('foulmouthed', 6934), ('eighjt', 5648), ('gangs', 7200), ('tied', 17835), ('cellar', 2810), ('dexades', 4844), ('livid', 10438), ('ascend', 996), ('cripple', 4118), ('radical', 14215), ('downside', 5336), ('swallowed', 17236), ('doggie', 5202), ('girlfriends', 7373), ('thw', 17820), ('bothered', 2110), ('invasion', 9165), ('space', 16496), ('complain', 3508), ('references', 14486), ('byebye', 2508), ('worldwide', 19695), ('enacted', 5785), ('partners', 12886), ('express', 6214), ('worldonlines', 19692), ('polloftheday', 13443), ('align', 441), ('spoiler', 16610), ('promote', 13876), ('turd', 18323), ('rightfully', 14946), ('railed', 14238), ('recusal', 14450), ('immensely', 8745), ('elegant', 5679), ('badly', 1321), ('crazymaxine', 4061), ('horrendously', 8406), ('joy', 9531), ('waving', 19235), ('clive', 3250), ('minus', 11329), ('boypussy', 2153), ('wrecking', 19742), ('cruising', 4175), ('wyatt', 19793), ('commie', 3449), ('amid', 580), ('obsolete', 12314), ('liberalsdemocrats', 10268), ('truthful', 18280), ('hears', 8062), ('whistles', 19441), ('trained', 18074), ('racially', 14203), ('antiwhite', 796), ('harry', 7973), ('potter', 13558), ('pipe', 13251), ('spat', 16515), ('yay', 19841), ('pile', 13225), ('laughed', 10023), ('crow', 4161), ('squirm', 16674), ('worms', 19697), ('drowning', 5427), ('sunshine', 17135), ('suddenly', 17087), ('somethingu', 16416), ('ishe', 9243), ('captured', 2644), ('rfthen', 14895), ('comebackappear', 3402), ('kai', 9625), ('islandlatest', 9263), ('parallel', 12833), ('worldwhat', 19694), ('banbury', 1376), ('hired', 8252), ('fixed', 6703), ('wacko', 19090), ('repeats', 14674), ('bandwagon', 1381), ('codedthe', 3328), ('bonet', 2040), ('safetyits', 15235), ('rednecks', 14460), ('engineering', 5843), ('kneel', 9831), ('sisters', 16099), ('bummer', 2422), ('excluding', 6116), ('alist', 451), ('astarisborn', 1082), ('testing', 17569), ('moviepass', 11614), ('neednt', 11863), ('longterm', 10527), ('advantages', 253), ('supply', 17157), ('chain', 2852), ('landowners', 9977), ('homes', 8350), ('hackett', 7825), ('chief', 3008), ('executive', 6138), ('hatteras', 8010), ('afterward', 306), ('thirtyfive', 17743), ('dignified', 4913), ('intimidate', 9145), ('pat', 12923), ('shurmer', 15979), ('eagles', 5544), ('playoffs', 13336), ('saints', 15243), ('miracle', 11333), ('taxes', 17416), ('towels', 18031), ('thrown', 17797), ('amputees', 600), ('limbs', 10371), ('cart', 2700), ('strait', 16928), ('jacket', 9341), ('presenters', 13676), ('label', 9932), ('sha', 15738), ('douchebag', 5318), ('mentioned', 11152), ('filled', 6615), ('deflection', 4545), ('frequency', 7009), ('row', 15117), ('carryons', 2696), ('bulkhead', 2401), ('flight', 6756), ('sacrificing', 15214), ('topic', 17973), ('dota', 5297), ('implies', 8787), ('undisputable', 18537), ('current', 4244), ('til', 17846), ('fabulous', 6261), ('neocon', 11892), ('marlow', 10906), ('lines', 10390), ('stranahahn', 16930), ('separating', 15655), ('rushfamily', 15180), ('bengals', 1648), ('whoopin', 19470), ('overton', 12707), ('shifted', 15844), ('wsj', 19766), ('hyperpartisan', 8578), ('linda', 10383), ('sarsour', 15315), ('ocasio', 12332), ('legislatively', 10163), ('legalize', 10147), ('minimum', 11314), ('increase', 8872), ('december', 4447), ('affiliate', 287), ('resigned', 14760), ('pirates', 13255), ('picking', 13207), ('pace', 12744), ('lift', 10342), ('glands', 7392), ('elsewhere', 5718), ('defeat', 4505), ('certain', 2838), ('motive', 11588), ('pakneedsmediapolicy', 12783), ('desi', 4750), ('uncontrolled', 18497), ('acceptable', 84), ('affirm', 290), ('beauty', 1544), ('wthin', 19773), ('gtunfuckable', 7737), ('ugh', 18417), ('precinct', 13619), ('dumbfuck', 5482), ('bret', 2232), ('pounded', 13566), ('submission', 17034), ('provided', 13964), ('boot', 2076), ('camp', 2571), ('related', 14570), ('compare', 3489), ('rei', 14552), ('evangelion', 6025), ('conceptdesign', 3557), ('removes', 14645), ('barriers', 1443), ('swagodking', 17234), ('grave', 7619), ('error', 5957), ('viktor', 18953), ('orban', 12551), ('costume', 3925), ('invisible', 9187), ('antisemitic', 787), ('insult', 9074), ('injury', 8992), ('devoid', 4836), ('empathy', 5757), ('subsidised', 17051), ('maker', 10777), ('hitter', 8275), ('grant', 7602), ('snead', 16312), ('wr', 19732), ('ii', 8674), ('battleground', 1488), ('quebec', 14160), ('payers', 12974), ('moneyliberals', 11501), ('lefts', 10135), ('pressed', 13692), ('trashno', 18118), ('neptune', 11899), ('opposes', 12523), ('loan', 10468), ('refinancing', 14494), ('hundreds', 8523), ('borrowers', 2101), ('net', 11909), ('glasses', 7397), ('beta', 1696), ('gunplay', 7780), ('graphics', 7610), ('themself', 17655), ('spooky', 16624), ('nauseous', 11812), ('mysterious', 11735), ('warriorscoach', 19192), ('fundraising', 7125), ('pac', 12743), ('pacgoldenstatewarriors', 12746), ('stevekerr', 16846), ('headcoach', 8038), ('babe', 1264), ('dress', 5396), ('blond', 1941), ('damigo', 4314), ('berkeley', 1671), ('lieit', 10319), ('tacticnothing', 17328), ('moredisgusting', 11549), ('lmfaoo', 10456), ('altleft', 527), ('numerous', 12232), ('agreed', 340), ('officials', 12380), ('designated', 4752), ('jourdan', 9522), ('cc', 2774), ('maps', 10867), ('cohesive', 3340), ('outright', 12667), ('twentieth', 18354), ('governments', 7556), ('facilitated', 6274), ('carlson', 2678), ('slimeball', 16215), ('representative', 14703), ('disgusted', 5040), ('avenatti', 1200), ('pedophiles', 13022), ('interviews', 9142), ('offend', 12359), ('molest', 11465), ('fcks', 6485), ('blew', 1913), ('guided', 7755), ('powerless', 13576), ('deplorables', 4703), ('implode', 8788), ('pauly', 12963), ('usas', 18748), ('environmental', 5905), ('brookee', 2317), ('baldwin', 1356), ('erin', 5953), ('burnett', 2444), ('cleavage', 3213), ('boobies', 2048), ('hoping', 8396), ('backup', 1304), ('disarmthem', 4987), ('stunt', 17017), ('antifagoons', 738), ('backfires', 1287), ('kinda', 9792), ('fukushimadaiichi', 7105), ('comparing', 3492), ('apples', 875), ('orangutans', 12550), ('sleepover', 16197), ('stalkers', 16722), ('industrial', 8915), ('boom', 2061), ('neighborhoods', 11882), ('liberala', 10252), ('filthy', 6624), ('whose', 19477), ('strictest', 16969), ('turnout', 18333), ('asians', 1012), ('guna', 7768), ('spell', 16556), ('frida', 7021), ('congrats', 3631), ('courage', 3975), ('determination', 4801), ('nailed', 11753), ('oathmaga', 12275), ('aww', 1244), ('exploiting', 6197), ('spiders', 16578), ('arachnophobia', 908), ('train', 18073), ('facing', 6277), ('transgender', 18092), ('lusted', 10666), ('daughter', 4366), ('morality', 11544), ('judgment', 9558), ('dies', 4891), ('solely', 16387), ('appearance', 861), ('dudeignored', 5457), ('blasted', 1895), ('winchester', 19528), ('pumpaction', 14040), ('shotgun', 15929), ('blames', 1886), ('watches', 19223), ('nikki', 12011), ('haley', 7859), ('misplaced', 11369), ('wrongwrongwrong', 19762), ('resists', 14770), ('newest', 11933), ('trend', 18150), ('carrying', 2695), ('retention', 14834), ('holster', 8336), ('thot', 17760), ('hourly', 8446), ('massive', 10943), ('barf', 1423), ('squishy', 16676), ('selfrighteous', 15598), ('tbc', 17424), ('whove', 19479), ('sj', 16117), ('prager', 13594), ('lame', 9967), ('oneit', 12447), ('trap', 18112), ('complaintalk', 3514), ('shells', 15828), ('accusersever', 123), ('againespecially', 311), ('prayed', 13601), ('propagating', 13889), ('sources', 16479), ('verify', 18878), ('opposing', 12524), ('hahahahaanother', 7840), ('attorneysguess', 1141), ('innocencepostponethevote', 9007), ('whine', 19426), ('garland', 7212), ('shhh', 15838), ('twtich', 18380), ('appreciated', 890), ('yesterdays', 19893), ('stopkanavaugh', 16904), ('extent', 6226), ('prettier', 13708), ('kerry', 9744), ('gator', 7232), ('netflix', 11910), ('kayla', 9697), ('libertarians', 10288), ('authoritarianismshock', 1180), ('prc', 13609), ('burns', 2448), ('yeahh', 19851), ('weirdos', 19323), ('juvenile', 9611), ('offenders', 12362), ('leniency', 10182), ('regularly', 14541), ('teenage', 17479), ('imposing', 8799), ('teen', 17478), ('rapists', 14296), ('shred', 15966), ('disturbing', 5131), ('bushs', 2463), ('invest', 9173), ('solvent', 16397), ('draw', 5374), ('nezha', 11955), ('nidus', 11989), ('temporarily', 17511), ('orange', 12548), ('fu', 7067), ('hosts', 8432), ('insinuating', 9037), ('illogical', 8704), ('theswamp', 17692), ('colinjost', 3351), ('michaelche', 11226), ('boycottemmys', 2142), ('filth', 6623), ('coverups', 3999), ('vow', 19073), ('celibacy', 2808), ('purity', 14072), ('giant', 7339), ('sleaze', 16190), ('fest', 6565), ('priesthood', 13734), ('permission', 13100), ('truthjustice', 18282), ('wipers', 19558), ('releasethedocuments', 14590), ('alan', 404), ('takedown', 17342), ('evs', 6081), ('jiyoonfact', 9468), ('kuniva', 9915), ('studio', 17009), ('contact', 3738), ('ruthless', 15196), ('reduced', 14467), ('wicked', 19491), ('sea', 15501), ('waters', 19228), ('mire', 11336), ('saith', 15244), ('isaiah', 9240), ('divided', 5143), ('rulings', 15162), ('ticket', 17829), ('ages', 326), ('pink', 13241), ('brimming', 2275), ('opposed', 12522), ('wannabes', 19163), ('properties', 13894), ('virginia', 18987), ('beach', 1516), ('slightly', 16213), ('bobbybrown', 1994), ('leolahbrown', 10185), ('exwife', 6246), ('fabrication', 6260), ('celebnmusic', 2798), ('celebritynews', 2806), ('breakingnews', 2209), ('thebobbybrownstory', 17623), ('clients', 3225), ('actuality', 175), ('disco', 4997), ('overbite', 12683), ('classic', 3182), ('drum', 5433), ('mothers', 11578), ('anthem', 712), ('interestingcause', 9111), ('usbut', 18750), ('regulary', 14542), ('shootstab', 15912), ('allin', 473), ('ignoresuppor', 8668), ('itantifa', 9298), ('kavenaugh', 9693), ('oral', 12547), ('tapdance', 17386), ('substantive', 17058), ('shtick', 15974), ('woul', 19717), ('koch', 9868), ('bros', 2321), ('un', 18459), ('aggers', 327), ('booty', 2083), ('peterlook', 13144), ('senseit', 15642), ('liberalsand', 10265), ('anythingjust', 819), ('varda', 18830), ('fav', 6454), ('valar', 18805), ('badass', 1312), ('melkor', 11112), ('agrees', 345), ('compelled', 3497), ('kavanah', 9673), ('upholding', 18701), ('botox', 2113), ('treatments', 18144), ('reunion', 14854), ('smug', 16300), ('sears', 15507), ('measurements', 11055), ('tasting', 17404), ('carolina', 2685), ('useruser', 18763), ('informed', 8960), ('schedule', 15402), ('gamestop', 7196), ('usually', 18776), ('conversations', 3820), ('womanwants', 19626), ('prima', 13736), ('donna', 5257), ('developing', 4823), ('nextgen', 11953), ('girlsshe', 7375), ('shootingsmust', 15909), ('waking', 19122), ('meeting', 11092), ('disagreeing', 4972), ('spontaneously', 16622), ('combust', 3399), ('woker', 19616), ('nut', 12240), ('imo', 8757), ('blows', 1962), ('trick', 18165), ('euphoria', 6009), ('hmmthoughts', 8290), ('livedexperiencedisevidence', 10435), ('dismissing', 5059), ('spin', 16586), ('shaft', 15749), ('shafticus', 15750), ('taravat', 17390), ('canadien', 2594), ('citizenshop', 3138), ('faso', 6430), ('scores', 15444), ('positions', 13525), ('yorkers', 19918), ('lunatics', 10660), ('removing', 14646), ('boris', 2093), ('johnson', 9494), ('mistress', 11397), ('selfish', 15594), ('rtoday', 15135), ('treating', 18142), ('clowns', 3276), ('optics', 12540), ('jeopardizes', 9411), ('viability', 18904), ('washed', 19200), ('hun', 8519), ('talent', 17353), ('theif', 17641), ('yessss', 19890), ('stinks', 16867), ('videographer', 18935), ('tragic', 18069), ('dobut', 5175), ('photos', 13189), ('hecking', 8090), ('fluffer', 6786), ('loopholes', 10547), ('kettle', 9747), ('pulling', 14033), ('sorts', 16461), ('stunts', 17018), ('yourmyour', 19943), ('hilariously', 8210), ('skyped', 16155), ('wa', 19084), ('skyping', 16157), ('ct', 4196), ('morrison', 11562), ('achieved', 132), ('demonstrate', 4648), ('unsuitable', 18665), ('jeremyhunt', 9417), ('skills', 16136), ('workjams', 19685), ('buyit', 2492), ('beg', 1578), ('themthe', 17657), ('treasons', 18136), ('outrageous', 12664), ('motivate', 11582), ('disgraceful', 5033), ('libtards', 10305), ('niggas', 11996), ('dey', 4845), ('durag', 5506), ('irresponsible', 9233), ('fringe', 7038), ('wastes', 19215), ('junkees', 9579), ('germany', 7315), ('exploding', 6194), ('orders', 12562), ('sacrament', 15209), ('catechism', 2733), ('trent', 18153), ('publishers', 14016), ('grandpa', 7595), ('argue', 934), ('chick', 3001), ('decreased', 4479), ('eh', 5642), ('accord', 102), ('dairy', 4301), ('sm', 16251), ('hillarys', 8218), ('uranium', 18726), ('questionable', 14166), ('investigated', 9176), ('accomplishments', 101), ('parrishes', 12861), ('elizabethholmes', 5700), ('theranos', 17672), ('cms', 3288), ('male', 10791), ('nu', 12213), ('metal', 11194), ('late', 10006), ('limp', 10380), ('biscuit', 1829), ('recognized', 14424), ('utters', 18786), ('liability', 10237), ('zim', 20001), ('midrand', 11246), ('stayed', 16798), ('monthsaccording', 11531), ('reserve', 14754), ('atlanta', 1101), ('mids', 11248), ('churchill', 3101), ('standadd', 16733), ('stink', 16865), ('andriese', 637), ('stretched', 16963), ('innings', 9004), ('torey', 17978), ('dragon', 5359), ('quest', 14164), ('judgekavanaughs', 9552), ('broliberals', 2311), ('brent', 2231), ('musburger', 11694), ('outlaw', 12654), ('childrenthe', 3019), ('childrenno', 3017), ('belch', 1608), ('fcking', 6484), ('central', 2821), ('quaker', 14141), ('chickens', 3003), ('hatched', 7994), ('leftism', 10124), ('conform', 3622), ('groupthink', 7701), ('ethnic', 6001), ('helps', 8132), ('nerd', 11900), ('options', 12545), ('bigger', 1765), ('stages', 16705), ('myth', 11736), ('podcastful', 13385), ('blockchainful', 1929), ('itsful', 9314), ('meansful', 11048), ('bewise', 1721), ('mothersful', 11579), ('makewise', 10782), ('issomebody', 9277), ('downuser', 5340), ('ks', 9908), ('mccabe', 11008), ('coconspirators', 3323), ('antitrump', 792), ('lockherup', 10487), ('comey', 3414), ('comygate', 3545), ('comeyshouldbeindicted', 3415), ('tw', 18339), ('blatantly', 1900), ('shorts', 15924), ('masturbate', 10953), ('scholarlike', 15421), ('conservatism', 3672), ('xnot', 19809), ('heroic', 8155), ('define', 4534), ('godsarmy', 7453), ('jesuslives', 9439), ('catchtheredwave', 2731), ('conservatorship', 3689), ('fannie', 6389), ('mae', 10712), ('freddie', 6987), ('feinsteins', 6531), ('spartacus', 16513), ('yooooo', 19915), ('cavill', 2766), ('steping', 16832), ('speedster', 16554), ('bullies', 2412), ('grandstands', 7598), ('surrounding', 17205), ('gungrabber', 7775), ('thief', 17711), ('wack', 19088), ('embarrassment', 5729), ('males', 10792), ('litterally', 10430), ('omygod', 12438), ('glock', 7413), ('purchase', 14062), ('dental', 4683), ('casket', 2716), ('czech', 4287), ('nibbling', 11972), ('lip', 10403), ('upwards', 18724), ('stevie', 16850), ('bravos', 2195), ('unaccompanied', 18462), ('minors', 11324), ('angelina', 648), ('jolie', 9506), ('desert', 4744), ('chancellor', 2879), ('merkelkratie', 11173), ('maassen', 10693), ('merkel', 11172), ('seehofer', 15548), ('teens', 17482), ('records', 14439), ('expunged', 6221), ('hag', 7832), ('outing', 12652), ('abide', 24), ('brownshirt', 2333), ('inflict', 8946), ('wingsbeercountry', 19542), ('lessthan', 10198), ('nooooo', 12108), ('volts', 19032), ('ltkicks', 10635), ('pitgt', 13267), ('circuit', 3120), ('facetious', 6270), ('incapable', 8836), ('contradictions', 3778), ('peach', 13001), ('naturally', 11808), ('toadette', 17905), ('nintendo', 12019), ('playable', 13322), ('nsmbu', 12211), ('kidnapped', 9775), ('chooses', 3052), ('isis', 9246), ('function', 7114), ('gotti', 7545), ('capone', 2636), ('sooooo', 16441), ('berlin', 1672), ('bec', 1547), ('hated', 7996), ('dallas', 4305), ('lier', 10321), ('campaing', 2578), ('marxiststhey', 10930), ('stateonly', 16780), ('ukip', 18434), ('vietnam', 18939), ('france', 6957), ('surrendered', 17203), ('supremo', 17182), ('chi', 2991), ('minh', 11311), ('jfk', 9447), ('lbj', 10069), ('restore', 14809), ('draft', 5354), ('loony', 10541), ('tunes', 18319), ('ruled', 15156), ('scrubbed', 15489), ('activism', 162), ('grandmom', 7593), ('anon', 697), ('psychic', 13986), ('sun', 17122), ('becomes', 1556), ('tiring', 17879), ('frankly', 6968), ('zena', 19995), ('mexican', 11212), ('descent', 4733), ('barely', 1422), ('desensitize', 4743), ('endangered', 5796), ('species', 16532), ('grass', 7614), ('roots', 15079), ('caricature', 2672), ('maryland', 10932), ('rednovember', 14461), ('booming', 2064), ('butch', 2473), ('noo', 12103), ('boii', 2011), ('fl', 6715), ('bae', 1322), ('powers', 13578), ('oligarchy', 12421), ('amorphous', 595), ('faceless', 6267), ('everchanging', 6040), ('jerome', 9422), ('corsi', 3912), ('clapping', 3164), ('gtmo', 7731), ('robust', 15030), ('greed', 7641), ('fallacy', 6346), ('semantics', 15610), ('regarding', 14519), ('crappy', 4045), ('joblisten', 9480), ('responded', 14790), ('picked', 13206), ('neverforget', 11924), ('ian', 8601), ('sinclair', 16069), ('brook', 2315), ('actors', 168), ('seas', 15508), ('derangement', 4721), ('syndrome', 17304), ('hardball', 7943), ('tucker', 18304), ('thoughtful', 17765), ('teenagers', 17481), ('smacks', 16254), ('molester', 11468), ('roymoore', 15125), ('congratulaions', 3632), ('terrific', 17542), ('umpire', 18455), ('toad', 17904), ('mariokart', 10889), ('picturing', 13215), ('naked', 11757), ('broadcaster', 2298), ('brainwash', 2173), ('raping', 14293), ('lynched', 10683), ('pressuring', 13695), ('assist', 1063), ('swearers', 17252), ('lotts', 10579), ('international', 9121), ('comparisons', 3494), ('lancets', 9972), ('stolen', 16885), ('creator', 4078), ('brotherhood', 2324), ('monahan', 11488), ('foul', 6933), ('slaughter', 16180), ('oppa', 12512), ('gut', 7793), ('bored', 2091), ('askally', 1017), ('flush', 6794), ('aaaahh', 4), ('scribe', 15483), ('mantis', 10856), ('psychotic', 13996), ('thin', 17715), ('btwthanks', 2359), ('bsinsures', 2351), ('offenses', 12365), ('paragon', 12832), ('tacos', 17322), ('capitalize', 2631), ('tragedy', 18068), ('rephrase', 14677), ('dildo', 4918), ('kraken', 9891), ('modest', 11453), ('wordswords', 19673), ('monday', 11489), ('pugchat', 14025), ('bakery', 1346), ('goodluck', 7494), ('gilbert', 7354), ('doxing', 5343), ('suspensions', 17227), ('whatsoever', 19397), ('doxxing', 5345), ('hang', 7904), ('lock', 10484), ('assassinate', 1036), ('frightened', 7033), ('elder', 5663), ('owen', 12721), ('engrained', 5848), ('linked', 10396), ('dubakoor', 5448), ('mumtaj', 11675), ('survived', 17210), ('loveforjess', 10596), ('hopes', 8395), ('houseapartment', 8449), ('unpredictable', 18637), ('aw', 1217), ('monuments', 11532), ('stately', 16777), ('factsyou', 6295), ('grabber', 7568), ('fucker', 7074), ('fleece', 6749), ('flooding', 6771), ('dollar', 5222), ('easiest', 5558), ('fairly', 6315), ('progun', 13849), ('iswhy', 9290), ('dictator', 4879), ('thatll', 17609), ('fakerepublican', 6340), ('devin', 4834), ('nunez', 12235), ('causing', 2758), ('riots', 14977), ('whinning', 19431), ('survive', 17209), ('simplemore', 16057), ('ads', 242), ('equals', 5927), ('illiterates', 8701), ('stitches', 16873), ('imagines', 8726), ('sarcastic', 15309), ('foxy', 6946), ('terrorsits', 17555), ('respecting', 14787), ('wondered', 19640), ('remainer', 14618), ('mater', 10959), ('answered', 707), ('succeed', 17064), ('mbappe', 11003), ('bang', 1383), ('averagewould', 1205), ('bricks', 2254), ('plglad', 13357), ('league', 10085), ('womenconservatives', 19630), ('todayfew', 17913), ('twist', 18361), ('twice', 18356), ('jamming', 9369), ('ju', 9542), ('skeptical', 16125), ('juan', 9543), ('olbob', 12411), ('sezwhite', 15733), ('alrighty', 512), ('thenanother', 17661), ('scratch', 15466), ('thetourist', 17693), ('destination', 4775), ('cuba', 4202), ('venezuela', 18862), ('unionim', 18591), ('ashamed', 1005), ('payoffs', 12979), ('necular', 11854), ('goodby', 7487), ('clean', 3197), ('mess', 11180), ('colored', 3387), ('atlantic', 1102), ('reboot', 14386), ('contacts', 3741), ('apologize', 845), ('inconvenience', 8869), ('wassamatta', 19210), ('deeds', 4488), ('cell', 2809), ('prob', 13787), ('autumn', 1195), ('oranges', 12549), ('thanksgivingblack', 17600), ('friday', 7022), ('thee', 17633), ('tf', 17582), ('sheets', 15819), ('avoid', 1211), ('bacon', 1310), ('cheeseburger', 2966), ('gaza', 7245), ('funnywnba', 7137), ('championship', 2875), ('amazingand', 549), ('itohrightshe', 9310), ('facewhats', 6272), ('nextcomplete', 11952), ('armor', 954), ('idioms', 8639), ('itwhat', 9323), ('outthe', 12676), ('ahole', 362), ('felicia', 6534), ('activity', 166), ('explosive', 6199), ('throws', 17798), ('treats', 18145), ('bald', 1354), ('stomach', 16886), ('approves', 903), ('narcissist', 11775), ('hanghim', 7907), ('dominique', 5234), ('matthew', 10974), ('stabbed', 16689), ('dagenham', 4299), ('cnews', 3291), ('wrestling', 19744), ('sauce', 15333), ('slice', 16205), ('astounded', 1084), ('rs', 15129), ('marsha', 10916), ('blackburn', 1865), ('martha', 10919), ('mcsally', 11033), ('arizona', 943), ('tennessee', 17525), ('supression', 17183), ('asl', 1023), ('package', 12752), ('korea', 9882), ('dealt', 4413), ('nsa', 12209), ('hackers', 7824), ('kim', 9789), ('sonnuvaguns', 16429), ('computers', 3540), ('virus', 18994), ('completion', 3519), ('quitters', 14183), ('gooo', 7514), ('shittin', 15887), ('nubes', 12217), ('dba', 4387), ('quiet', 14175), ('afterwards', 307), ('vdatafile', 18845), ('mic', 11223), ('regular', 14540), ('plummeted', 13366), ('kavannah', 9687), ('workand', 19680), ('reveal', 14856), ('demonic', 4638), ('texans', 17575), ('ridiculing', 14928), ('brainwashing', 2175), ('dregsofsociety', 5394), ('fed', 6504), ('penalizing', 13042), ('vaping', 18827), ('alcohol', 419), ('flavored', 6741), ('coolers', 3849), ('diverse', 5136), ('justly', 9606), ('represents', 14707), ('reckognize', 14417), ('foolhardy', 6847), ('athwart', 1100), ('dred', 5388), ('plessy', 13355), ('cumming', 4229), ('ed', 5588), ('lateinourhistory', 10007), ('revolutionary', 14883), ('floris', 6778), ('spank', 16503), ('leah', 10087), ('curtis', 4253), ('adam', 181), ('kl', 9822), ('shehe', 15820), ('development', 4824), ('pesky', 13139), ('campuss', 2585), ('whining', 19430), ('moaning', 11425), ('lesson', 10195), ('coop', 3854), ('trapped', 18113), ('jared', 9379), ('fiasco', 6576), ('happiness', 7929), ('overdosed', 12686), ('destruction', 4783), ('bathing', 1471), ('polluters', 13446), ('patient', 12937), ('competitor', 3505), ('earn', 5548), ('wjc', 19603), ('died', 4888), ('complicity', 3525), ('gregg', 7654), ('appeared', 862), ('hannityhe', 7916), ('illegitimate', 8692), ('racing', 14204), ('meneither', 11142), ('handout', 7899), ('islamic', 9252), ('recruit', 14446), ('repeated', 14670), ('policeand', 13416), ('militarythe', 11278), ('brock', 2301), ('cultpolitburo', 4220), ('parroting', 12863), ('admins', 216), ('longs', 10525), ('weakness', 19260), ('soo', 16434), ('eliza', 5698), ('opened', 12490), ('listens', 10417), ('menapausal', 11140), ('yentas', 19877), ('femanazis', 6546), ('ravens', 14321), ('diligence', 4921), ('angles', 653), ('screams', 15474), ('releases', 14588), ('gallons', 7185), ('squirt', 16675), ('supersoldiers', 17149), ('repub', 14716), ('civility', 3150), ('cosign', 3917), ('pair', 12775), ('loaned', 10470), ('multibillion', 11659), ('empire', 5761), ('mos', 11566), ('kryptonianturns', 9906), ('asks', 1021), ('refuge', 14504), ('puts', 14109), ('introduces', 9155), ('shaking', 15759), ('buller', 2404), ('wiunion', 19600), ('wipolitics', 19560), ('wiright', 19564), ('demonicrats', 4639), ('pervertsinc', 13137), ('tanked', 17375), ('ridicule', 14927), ('apparent', 854), ('entitled', 5891), ('speedy', 16555), ('graf', 7580), ('stats', 16789), ('greats', 7639), ('shabby', 15739), ('bogave', 2007), ('magastupid', 10726), ('jes', 9427), ('atleast', 1103), ('qalert', 14120), ('magaforallinc', 10720), ('toolate', 17958), ('steamrolling', 16816), ('parliament', 12857), ('hellbent', 8119), ('manufacturing', 10860), ('disavow', 4992), ('backlinks', 1292), ('batshit', 1477), ('adm', 209), ('deterioration', 4800), ('readers', 14341), ('pissed', 13258), ('borrower', 2100), ('immediate', 8742), ('replaces', 14682), ('wonting', 19648), ('stan', 16729), ('texted', 17581), ('steph', 16830), ('abt', 63), ('appeasing', 868), ('restaurants', 14804), ('advertise', 256), ('crabcakes', 4024), ('arrested', 966), ('watchin', 19224), ('ff', 6572), ('wang', 19156), ('ture', 18324), ('clearance', 3207), ('shirts', 15863), ('sbornwomen', 15369), ('amassed', 543), ('ni', 11971), ('doubloons', 5312), ('hmg', 8284), ('pirate', 13254), ('swomen', 17280), ('alongside', 498), ('blast', 1894), ('cannon', 2611), ('torythieves', 17990), ('parlay', 12855), ('mango', 10825), ('mussolini', 11708), ('hs', 8481), ('emails', 5723), ('nytimes', 12266), ('author', 1177), ('considers', 3698), ('nationalised', 11793), ('industries', 8916), ('profit', 13830), ('malignant', 10797), ('kinscem', 9805), ('projecting', 13855), ('prior', 13757), ('lonely', 10518), ('slick', 16207), ('assholeyou', 1059), ('meps', 11158), ('elect', 5665), ('attend', 1125), ('framework', 6955), ('operate', 12499), ('sassy', 15318), ('interrupting', 9134), ('stripes', 16978), ('deary', 4421), ('titleif', 17885), ('include', 8854), ('mista', 11388), ('gates', 7227), ('shah', 15751), ('bano', 1403), ('tripletalaq', 18177), ('appease', 865), ('confuse', 3628), ('smut', 16301), ('moe', 11456), ('mnuchin', 11422), ('busing', 2468), ('moderates', 11448), ('kagan', 9623), ('sotomayer', 16463), ('understood', 18530), ('morn', 11551), ('hunkered', 8531), ('cont', 3737), ('stable', 16691), ('wrdstill', 19738), ('tziyon', 18406), ('shalom', 15762), ('musica', 11702), ('lucho', 10641), ('jazz', 9387), ('voccomp', 19018), ('obamacare', 12280), ('priveledged', 13776), ('benifit', 1655), ('cuts', 4272), ('goodell', 7490), ('lions', 10401), ('suits', 17110), ('deplorable', 4701), ('pappy', 12827), ('irish', 9219), ('cheater', 2946), ('ump', 18454), ('hint', 8243), ('thewhitehouse', 17700), ('ahah', 353), ('preserve', 13678), ('gtfo', 7724), ('steve', 16845), ('willeford', 19514), ('microphone', 11234), ('haven', 8018), ('attn', 1138), ('brooks', 2319), ('pander', 12805), ('embracing', 5737), ('nuremberg', 12237), ('sos', 16462), ('bars', 1445), ('mgk', 11218), ('ems', 5778), ('lemme', 10175), ('floatin', 6765), ('downstream', 5337), ('horrorland', 8415), ('madam', 10701), ('pmb', 13373), ('addressing', 196), ('profiles', 13828), ('scammers', 15378), ('customer', 4261), ('sites', 16103), ('lisapage', 10409), ('muellerinvestigation', 11642), ('oblivious', 12301), ('donethey', 5252), ('mediathey', 11068), ('researched', 14750), ('cult', 4215), ('ugliest', 18420), ('trumpstard', 18251), ('standlast', 16740), ('vontae', 19040), ('investigations', 9180), ('subversion', 17061), ('gazelle', 7247), ('fleeing', 6750), ('tana', 17370), ('shown', 15963), ('replacements', 14681), ('tevagas', 17573), ('undersized', 18525), ('dummy', 5484), ('goforward', 7459), ('roache', 15007), ('strung', 16999), ('luke', 10652), ('chowing', 3061), ('females', 6545), ('manager', 10808), ('redwood', 14474), ('selfconscious', 15584), ('size', 16115), ('inadequate', 8824), ('entertaining', 5882), ('montel', 11527), ('feeble', 6511), ('af', 275), ('ummm', 18453), ('lessons', 10197), ('checker', 2952), ('tc', 17433), ('slogan', 16229), ('trending', 18151), ('rosie', 15090), ('tend', 17518), ('durable', 5505), ('unbiased', 18479), ('august', 1156), ('itll', 9307), ('israels', 9275), ('sour', 16477), ('grapes', 7607), ('clarity', 3175), ('marine', 10885), ('truewhere', 18216), ('captain', 2641), ('bonepurs', 2036), ('pussygrabber', 14097), ('trumpie', 18232), ('presidential', 13683), ('weaken', 19255), ('religious', 14606), ('moniker', 11507), ('hog', 8307), ('trumpism', 18236), ('willienelson', 19521), ('theview', 17697), ('mog', 11459), ('quack', 14138), ('procrastinate', 13806), ('ramos', 14266), ('banishing', 1390), ('accts', 112), ('zjail', 20009), ('applejacks', 874), ('walkawaymarch', 19133), ('downpoof', 5334), ('morally', 11545), ('dish', 5042), ('hung', 8524), ('bla', 1862), ('horrid', 8410), ('reap', 14373), ('sow', 16487), ('fubar', 7068), ('leukemia', 10214), ('tbf', 17428), ('nascar', 11784), ('significant', 16032), ('difficulty', 4903), ('shoot', 15904), ('zealous', 19991), ('oversight', 12703), ('fishing', 6688), ('jrs', 9538), ('fantasy', 6398), ('gtthank', 7734), ('nomaga', 12061), ('casual', 2720), ('europeans', 6013), ('deemed', 4489), ('chiraq', 3035), ('lolchicago', 10511), ('barack', 1409), ('wagon', 19100), ('rocks', 15037), ('intimidation', 9148), ('lawd', 10039), ('hazard', 8032), ('key', 9751), ('eastern', 5561), ('iam', 8598), ('cale', 2539), ('jill', 9457), ('valor', 18813), ('drama', 5368), ('pulled', 14032), ('momgive', 11478), ('detroit', 4812), ('owened', 12722), ('bankrupt', 1395), ('homeless', 8343), ('tight', 17841), ('gawd', 7238), ('hopeful', 8392), ('someday', 16406), ('classy', 3190), ('gal', 7180), ('stretching', 16966), ('hee', 8098), ('obstruction', 12318), ('betoi', 1703), ('mfundedbynyandhollywoodleftistsbutpretendingtobeatexano', 11217), ('keeptexasred', 9721), ('secure', 15542), ('gestures', 7321), ('raccoon', 14197), ('jumps', 9571), ('bike', 1779), ('supersoldier', 17148), ('firearm', 6659), ('homelessness', 8344), ('fiddle', 6583), ('performer', 13087), ('tottori', 18004), ('prefectural', 13637), ('residents', 14757), ('fly', 6799), ('checked', 2951), ('conclusionshe', 3570), ('twitan', 18365), ('earners', 5550), ('receipts', 14396), ('sanghi', 15296), ('bark', 1428), ('canadiani', 2592), ('termlimits', 17538), ('ridiculousunbelievable', 14931), ('genuine', 7300), ('portrait', 13511), ('wese', 19360), ('bahut', 1333), ('aur', 1163), ('krty', 9904), ('hn', 8294), ('ppp', 13586), ('pe', 12994), ('aa', 0), ('sary', 15316), ('silenced', 16041), ('heavily', 8087), ('recourse', 14441), ('levels', 10216), ('sue', 17088), ('mistreatment', 11396), ('discontent', 5001), ('packed', 12754), ('perjure', 13094), ('magnum', 10743), ('smoken', 16291), ('mirrors', 11340), ('establishmnt', 5985), ('inbred', 8834), ('demon', 4634), ('lucifer', 10642), ('sorosobamaclinton', 16452), ('juncture', 9575), ('reversepcism', 14865), ('rebuke', 14392), ('remarry', 14626), ('persons', 13122), ('priori', 13758), ('denied', 4670), ('extrajudicial', 6232), ('suspect', 17220), ('surprising', 17200), ('constituent', 3720), ('disclosure', 4995), ('contribute', 3783), ('lmaoo', 10448), ('ao', 827), ('fic', 6580), ('entertain', 5879), ('pins', 13246), ('tattoos', 17409), ('ribbons', 14908), ('alternative', 522), ('instruction', 9067), ('raytas', 14325), ('dravidanaduvallahs', 5373), ('secessionists', 15517), ('proofs', 13886), ('wasted', 19213), ('corruptions', 3910), ('fluffywolf', 6790), ('facsicm', 6281), ('preacher', 13613), ('devastating', 4819), ('biter', 1844), ('deviancy', 4827), ('involves', 9200), ('homophobia', 8359), ('jimjordan', 9462), ('markfoley', 10902), ('bobpackwood', 1996), ('desecrating', 4742), ('graves', 7621), ('reiterate', 14562), ('offence', 12358), ('ewa', 6083), ('socalled', 16350), ('particularly', 12876), ('partisan', 12879), ('hacks', 7826), ('woodward', 19656), ('keeper', 9715), ('elo', 5710), ('booter', 2078), ('exposer', 6206), ('levis', 10221), ('commercial', 3446), ('painter', 12773), ('stopbrexitsavebritain', 16903), ('stopbrexit', 16902), ('vehicle', 18854), ('annoying', 692), ('iranian', 9213), ('imports', 8797), ('deadline', 4403), ('upppp', 18711), ('kliff', 9826), ('gayer', 7241), ('murders', 11687), ('justsaying', 9608), ('caymans', 2769), ('spunk', 16658), ('folly', 6836), ('relation', 14573), ('abroad', 50), ('lnvestigation', 10462), ('iniated', 8981), ('gimmie', 7363), ('tit', 17881), ('tacticidea', 17327), ('anons', 698), ('entirety', 5889), ('leia', 10171), ('convicted', 3826), ('pitted', 13271), ('nuances', 12216), ('buhari', 2389), ('pdp', 12993), ('alreadydebunked', 510), ('viral', 18984), ('hoax', 8301), ('decides', 4454), ('debunked', 4435), ('rosetta', 15088), ('mcquaid', 11031), ('wayyyyy', 19247), ('invited', 9190), ('kh', 9757), ('kingdom', 9801), ('hearts', 8072), ('duper', 5503), ('embrace', 5734), ('spewing', 16567), ('liesyou', 10327), ('enuf', 5902), ('lick', 10310), ('straps', 16937), ('chicagou', 2999), ('manipulatorgo', 10840), ('vack', 18796), ('indonesia', 8911), ('rtd', 15133), ('boosting', 2074), ('planting', 13310), ('intentionally', 9099), ('audiences', 1152), ('clap', 3163), ('accomplishment', 100), ('nasa', 11783), ('linktrumps', 10399), ('comeback', 3401), ('iraq', 9216), ('binary', 1796), ('vigorously', 18951), ('os', 12605), ('fates', 6441), ('feh', 6526), ('jacob', 9350), ('garden', 7209), ('blushed', 1977), ('amd', 561), ('trys', 18294), ('wisperd', 19575), ('fictional', 6582), ('oren', 12567), ('ishii', 9244), ('princess', 13745), ('aura', 1164), ('laura', 10034), ('palmer', 12797), ('tagging', 17335), ('bn', 1979), ('despair', 4763), ('informational', 8959), ('cotton', 3927), ('vegetable', 18852), ('reflect', 14495), ('bothers', 2112), ('kamau', 9641), ('spoke', 16612), ('slimy', 16218), ('shld', 15892), ('relevancy', 14598), ('adrift', 241), ('offtrack', 12385), ('duel', 5461), ('deliberately', 4574), ('audio', 1153), ('reverts', 14868), ('blah', 1879), ('troubleshooting', 18199), ('circuitry', 3121), ('commons', 3469), ('thursdays', 17817), ('mps', 11618), ('boxing', 2137), ('ppls', 13585), ('youd', 19924), ('resident', 14756), ('amidst', 581), ('trumpnation', 18242), ('drainingthedeepstateswamp', 5363), ('leftdemocrats', 10117), ('trumpderangementsyndrome', 18226), ('promoted', 13877), ('middleton', 11241), ('keepamericagreat', 9714), ('ball', 1359), ('naive', 11755), ('exis', 6151), ('homework', 8352), ('inand', 8826), ('unprepared', 18638), ('cobble', 3306), ('contract', 3773), ('proposal', 13901), ('lengths', 10181), ('pedovore', 13026), ('prosecution', 13918), ('agsessions', 347), ('tentacle', 17531), ('wth', 19771), ('pedogatenews', 13019), ('academic', 79), ('spells', 16559), ('genre', 7295), ('writing', 19755), ('upperuppermiddle', 18708), ('char', 2900), ('compares', 3491), ('bingo', 1800), ('unflattering', 18562), ('daughterif', 4367), ('roughed', 15106), ('setting', 15698), ('filed', 6611), ('gunbroker', 7769), ('ranges', 14281), ('desperately', 4765), ('shed', 15810), ('ungrateful', 18572), ('hominem', 8357), ('cigarettes', 3108), ('neutral', 11918), ('paycheck', 12970), ('cited', 3130), ('motivations', 11587), ('hypocrisymuch', 8583), ('opponents', 12515), ('bigstuff', 1775), ('restingbitchface', 14806), ('lust', 10665), ('bare', 1421), ('midriff', 11247), ('micromini', 11233), ('grandmother', 7594), ('legs', 10170), ('rockstar', 15038), ('everyones', 6052), ('minoritiesthey', 11322), ('selfies', 15592), ('reportedly', 14693), ('possive', 13534), ('frankie', 6966), ('outplayed', 12661), ('misrepresenting', 11372), ('randomly', 14277), ('dns', 5168), ('mannerisms', 10847), ('exhibited', 6149), ('cf', 2846), ('knowor', 9859), ('trial', 18156), ('therapist', 17673), ('dreamt', 5387), ('fur', 7139), ('occupier', 12338), ('editorial', 5600), ('editor', 5599), ('xmen', 19807), ('editors', 5601), ('champions', 2874), ('rotation', 15099), ('pecking', 13009), ('herrera', 8160), ('mctomminay', 11034), ('essentially', 5979), ('resting', 14805), ('leg', 10144), ('wokeisis', 19615), ('nova', 12181), ('scotia', 15447), ('figured', 6605), ('hirono', 8255), ('kamakazee', 9637), ('pilots', 13232), ('minion', 11315), ('blade', 1877), ('flip', 6759), ('oriented', 12589), ('idealistic', 8619), ('regressive', 14535), ('varying', 18836), ('degrees', 4557), ('relative', 14576), ('location', 10482), ('phillies', 13171), ('distressed', 5124), ('beloved', 1633), ('sor', 16447), ('din', 4937), ('kakulitan', 9631), ('inggit', 8973), ('ang', 644), ('peg', 13036), ('capt', 2640), ('barber', 1415), ('pushawardsmaywards', 14088), ('lad', 9950), ('slut', 16249), ('krzysztof', 9907), ('szczepanski', 17314), ('kris', 9899), ('sorely', 16449), ('oss', 12612), ('illigal', 8695), ('aliens', 440), ('oyela', 12740), ('flashing', 6734), ('sexualize', 15727), ('knives', 9841), ('trashing', 18117), ('wherever', 19416), ('purpose', 14077), ('putrajaya', 14107), ('coal', 3300), ('asbestos', 995), ('comedianthought', 3406), ('employ', 5764), ('revolutionaries', 14882), ('poopy', 13474), ('diaper', 4866), ('panicking', 12813), ('appeals', 859), ('flies', 6755), ('jet', 9441), ('cringe', 4116), ('pop', 13479), ('lambs', 9966), ('forth', 6914), ('accepting', 87), ('compromise', 3535), ('pedophilia', 13023), ('destined', 4776), ('bin', 1795), ('starter', 16763), ('morningi', 11554), ('prochoice', 13804), ('aca', 77), ('homer', 8347), ('resemblance', 14752), ('shoving', 15951), ('keemstar', 9711), ('sever', 15708), ('rust', 15193), ('popin', 13482), ('ooks', 12478), ('db', 4386), ('gotourpiece', 7541), ('absent', 53), ('ginger', 7364), ('hammer', 7877), ('prodcutive', 13807), ('nefarious', 11866), ('muellersmountain', 11644), ('endthegop', 5820), ('endthenra', 5821), ('treasonousgoverment', 18135), ('tack', 17319), ('bullet', 2405), ('detached', 4785), ('masses', 10942), ('maximum', 10987), ('translation', 18098), ('occasionally', 12335), ('dresses', 5398), ('sacrifices', 15213), ('represented', 14705), ('scares', 15390), ('upcyberpunk', 18692), ('panic', 12811), ('theredo', 17678), ('regrettable', 14538), ('lf', 10229), ('discreet', 5014), ('fanatics', 6380), ('assisted', 1065), ('yepsays', 19879), ('twins', 18359), ('prescott', 13666), ('meat', 11058), ('hfjdhd', 8177), ('infinity', 8943), ('realized', 14360), ('gluten', 7424), ('allergies', 463), ('anxiety', 803), ('depression', 4711), ('bi', 1743), ('polar', 13410), ('schizophrenia', 15415), ('warcraft', 19172), ('limn', 10378), ('thanx', 17604), ('brighten', 2264), ('closely', 3258), ('aligned', 442), ('grabbed', 7567), ('cameramen', 2565), ('fakenewscnn', 6335), ('beside', 1684), ('lap', 9988), ('rowdy', 15118), ('mealso', 11041), ('ham', 7873), ('pictureslet', 13213), ('themhe', 17652), ('bombs', 2029), ('smack', 16252), ('rubberstamp', 15138), ('sycophant', 17287), ('nancy', 11766), ('pelosi', 13039), ('regurgitates', 14547), ('fbr', 6478), ('justiceclarencethomas', 9593), ('yr', 19964), ('gmother', 7428), ('injustice', 8993), ('sheriff', 15835), ('ohh', 12390), ('tall', 17365), ('antiguncontrol', 770), ('simultaneously', 16062), ('humble', 8508), ('universal', 18605), ('swedishstyle', 17259), ('swedes', 17257), ('hunters', 8536), ('berniecrats', 1675), ('bipolar', 1811), ('commenting', 3442), ('crush', 4178), ('boycotts', 2147), ('touched', 18007), ('cigarette', 3107), ('bebest', 1546), ('chooseright', 3051), ('malicious', 10795), ('pamphlet', 12804), ('anderson', 625), ('viewers', 18943), ('bron', 2312), ('spends', 16562), ('weekends', 19307), ('cadistrict', 2523), ('ol', 12409), ('moneybags', 11498), ('mccarthy', 11012), ('californians', 2546), ('mattacongress', 10969), ('sendmccarthypacking', 15629), ('cadeservesbetter', 2522), ('dickdurbin', 4872), ('constipated', 3718), ('diarrhea', 4867), ('popcorn', 13480), ('wwgonewgall', 19788), ('basking', 1465), ('mccaskill', 11015), ('husbands', 8558), ('subsidy', 17052), ('windfall', 19531), ('libdemconf', 10247), ('void', 19026), ('constructive', 3729), ('myriad', 11732), ('pitching', 13266), ('doggy', 5203), ('hamilton', 7876), ('continued', 3765), ('untrustworthy', 18675), ('niggaaahhhh', 11994), ('elitist', 5696), ('biting', 1846), ('seasons', 15510), ('segment', 15566), ('fitton', 6697), ('highlighting', 8195), ('wigs', 19507), ('detailed', 4788), ('lovelondon', 10598), ('mayoral', 10996), ('selection', 15577), ('imbackingboff', 8728), ('strikes', 16972), ('bluffing', 1972), ('stunned', 17015), ('airtime', 384), ('yaaas', 19819), ('compete', 3498), ('monster', 11520), ('glare', 7393), ('oldest', 12415), ('satans', 15324), ('hahahah', 7838), ('ancestors', 620), ('gutierries', 7796), ('yetand', 19897), ('yesits', 19885), ('rendell', 14652), ('andrewgillum', 635), ('systems', 17313), ('llc', 10445), ('infowars', 8963), ('agency', 320), ('nondomestic', 12082), ('entity', 5894), ('tackle', 17320), ('advanced', 249), ('combined', 3396), ('righteous', 14942), ('upcoming', 18691), ('offerings', 12370), ('siwc', 16109), ('boruto', 2102), ('dealer', 4409), ('bale', 1358), ('mondaymorning', 11491), ('mondaymood', 11490), ('mondaythoughts', 11495), ('christianity', 3066), ('orchestratedprovoked', 12556), ('conspiracyhe', 3709), ('peanut', 13006), ('farm', 6406), ('dbld', 4390), ('hrc', 8478), ('contradicts', 3780), ('claimed', 3157), ('uncontrollably', 18496), ('bf', 1726), ('bch', 1503), ('behar', 1588), ('muzzle', 11723), ('clone', 3254), ('situations', 16108), ('fornicate', 6909), ('romper', 15068), ('avowed', 1215), ('plum', 13363), ('instantly', 9057), ('oboma', 12303), ('prof', 13819), ('blaséford', 1898), ('harrasses', 7969), ('threatens', 17777), ('heightened', 8107), ('corner', 3880), ('sturmabteilung', 17022), ('diseases', 5028), ('selfenrichment', 15589), ('takeusaback', 17349), ('constitutionday', 3725), ('bullcrap', 2403), ('presume', 13699), ('lifeanddeath', 10331), ('circumstances', 3126), ('bitchhh', 1838), ('bitchhhhhh', 1839), ('bitxh', 1853), ('eveb', 6030), ('feet', 6525), ('usain', 18745), ('bolt', 2024), ('consistency', 3702), ('probaly', 13790), ('mindboggling', 11299), ('acquainted', 146), ('marks', 10905), ('truthfulness', 18281), ('item', 9302), ('rm', 15000), ('ordering', 12561), ('undergo', 18515), ('psych', 13983), ('eval', 6019), ('dared', 4344), ('horrors', 8416), ('daeshisis', 4296), ('crazies', 4057), ('flatout', 6736), ('mercury', 11164), ('biopic', 1809), ('careerand', 2663), ('gig', 7350), ('sober', 16347), ('cage', 2527), ('bowls', 2131), ('groomed', 7681), ('puppy', 14061), ('flying', 6800), ('las', 9999), ('host', 8425), ('relatable', 14568), ('tales', 17356), ('nurse', 12238), ('valuable', 18814), ('rarely', 14301), ('spectacular', 16541), ('wereare', 19357), ('aimed', 373), ('nearuniversal', 11843), ('armamenttraining', 949), ('contemporary', 3747), ('design', 4751), ('ownedpossessed', 12728), ('tout', 18023), ('reduction', 14470), ('classist', 3186), ('rolls', 15060), ('royce', 15124), ('refernce', 14490), ('percentage', 13073), ('negotiations', 11876), ('preexisting', 13635), ('clause', 3193), ('dang', 4328), ('mama', 10799), ('chu', 3083), ('apartment', 834), ('doors', 5277), ('fart', 6413), ('alzheimers', 538), ('favourites', 6466), ('daddys', 4294), ('wordbecause', 19667), ('allinonlonnieisntfunny', 474), ('marchonfromwalker', 10873), ('scones', 15438), ('biochem', 1805), ('gtcalls', 7721), ('trumpster', 18252), ('hy', 8570), ('protesting', 13941), ('blasphemy', 1893), ('tearing', 17459), ('micropoetry', 11235), ('bigtop', 1777), ('wig', 19506), ('technology', 17472), ('blasé', 1897), ('underneath', 18521), ('gloriously', 7417), ('absofuckinglutely', 56), ('hindu', 8238), ('doughpastry', 5322), ('plateful', 13315), ('puris', 14071), ('asma', 1025), ('saviour', 15355), ('parasite', 12838), ('universallyunwanted', 18606), ('bauble', 1490), ('imposed', 8798), ('brandin', 2182), ('cooks', 3844), ('lemmings', 10176), ('ewww', 6085), ('imagery', 8717), ('idio', 8637), ('illllegal', 8702), ('pedofiles', 13017), ('gritting', 7677), ('pumped', 14041), ('darts', 4357), ('aiming', 374), ('minor', 11320), ('manny', 10849), ('rebuttal', 14393), ('jesse', 9429), ('antifabullies', 735), ('hatersbullies', 8003), ('lake', 9960), ('corey', 3877), ('mountains', 11593), ('almighty', 492), ('emmanuel', 5747), ('il', 8680), ('predators', 13625), ('buehlerthat', 2379), ('transference', 18090), ('predominately', 13634), ('became', 1548), ('blumenthal', 1973), ('millionaire', 11288), ('kavanaughconfirmationhearings', 9678), ('awh', 1240), ('anarchists', 615), ('protocols', 13945), ('zion', 20004), ('behold', 1600), ('pale', 12789), ('william', 19517), ('cooper', 3855), ('congressmen', 3641), ('doasisaynotasido', 5173), ('nove', 12182), ('reputationtour', 14734), ('pcas', 12987), ('theconcerttour', 17627), ('classified', 3184), ('presidnet', 13689), ('documents', 5188), ('harmful', 7962), ('rly', 14999), ('issss', 9278), ('asleep', 1024), ('atheist', 1095), ('hindus', 8241), ('covered', 3995), ('krishna', 9901), ('tyrant', 18403), ('pssst', 13979), ('bonos', 2044), ('cars', 2697), ('sharpie', 15798), ('downhigh', 5328), ('priced', 13725), ('bj', 1859), ('giver', 7383), ('bone', 2034), ('patriotsunited', 12950), ('twinsie', 18360), ('uncanny', 18484), ('polyester', 13456), ('fibers', 6579), ('yoda', 19906), ('backtheblue', 1301), ('rapistdemocrats', 14295), ('frauddemocrats', 6972), ('undertaker', 18531), ('haw', 8026), ('firebombing', 6662), ('residence', 14755), ('identypolitics', 8632), ('embarrassed', 5727), ('dillusional', 4923), ('unleashed', 18618), ('jesussaves', 9440), ('connecticut', 3647), ('praaaaaaaaayeer', 13589), ('alinaae', 446), ('hah', 7834), ('catherine', 2742), ('mighty', 11256), ('hunter', 8535), ('planning', 13304), ('tour', 18015), ('february', 6498), ('septemberbeginning', 15661), ('october', 12348), ('motivation', 11586), ('crystal', 4193), ('definite', 4537), ('lettermaga', 10210), ('stamps', 16728), ('boysgirls', 2155), ('admired', 221), ('frontline', 7047), ('discriminationwe', 5020), ('truthfeed', 18279), ('mainly', 10757), ('inflated', 8945), ('prices', 13728), ('lending', 10180), ('practices', 13592), ('factory', 6289), ('sum', 17113), ('sling', 16219), ('tread', 18132), ('carefully', 2667), ('seditious', 15546), ('deranged', 4720), ('amenadiels', 564), ('triangle', 18158), ('spots', 16638), ('fingertips', 6649), ('preach', 13611), ('imposters', 8802), ('legion', 10157), ('marked', 10893), ('gadarenes', 7166), ('ergnews', 5945), ('antinazigr', 778), ('antifagr', 739), ('stopthehate', 16913), ('goldendawn', 7471), ('gdtrial', 7252), ('jesuschrist', 9434), ('jesusislord', 9437), ('jesusisgod', 9436), ('mosque', 11570), ('predicted', 13629), ('ssm', 16685), ('muck', 11638), ('fighters', 6600), ('skinny', 16140), ('playin', 13333), ('endorse', 5813), ('wit', 19576), ('lowkie', 10615), ('frustration', 7062), ('subside', 17049), ('soothing', 16445), ('kajillions', 9630), ('zombified', 20015), ('dogswhy', 5207), ('appalled', 851), ('advocating', 273), ('giys', 7386), ('communicate', 3473), ('safer', 15230), ('limitations', 10374), ('amendmenturl', 569), ('alpolitics', 507), ('pleased', 13345), ('greatness', 7637), ('rob', 15013), ('juggernaut', 9562), ('boyfriend', 2150), ('engage', 5838), ('mythical', 11737), ('skinnier', 16139), ('curtin', 4252), ('tamir', 17368), ('rice', 14912), ('mere', 11166), ('suspicion', 17228), ('knife', 9838), ('shitall', 15865), ('stated', 16776), ('shutdown', 15982), ('phil', 13167), ('jacksonville', 9348), ('smith', 16286), ('wesson', 19361), ('finds', 6636), ('crucify', 4170), ('intentional', 9098), ('hearsay', 8063), ('lockstep', 10490), ('desantis', 4731), ('roberto', 15020), ('clemente', 3215), ('smirky', 16285), ('banter', 1406), ('mann', 10844), ('smoove', 16298), ('gee', 7256), ('boat', 1989), ('fiscal', 6681), ('transphobia', 18105), ('review', 14870), ('phoenix', 13178), ('toomany', 17964), ('harrys', 7974), ('angst', 659), ('nosedive', 12133), ('consists', 3705), ('weenie', 19311), ('mommies', 11482), ('hurtful', 8553), ('droves', 5425), ('hippie', 8247), ('beano', 1522), ('leftthey', 10137), ('intellegence', 9088), ('obvio', 12326), ('sinmaduroyo', 16083), ('machine', 10696), ('corporation', 3885), ('carol', 2683), ('pronoun', 13884), ('himmales', 8226), ('authoritarianism', 1179), ('sargon', 15313), ('akkad', 399), ('tham', 17589), ('obsessed', 12312), ('disrespectful', 5092), ('shud', 15975), ('separate', 15653), ('pros', 13912), ('insanity', 9021), ('lebron', 10106), ('useful', 18756), ('bury', 2453), ('staunch', 16795), ('audrey', 1155), ('bones', 2038), ('heroes', 8154), ('quiz', 14185), ('frog', 7042), ('canon', 2615), ('cronies', 4144), ('protects', 13935), ('shooters', 15906), ('marvel', 10922), ('overused', 12711), ('thanos', 17603), ('compromised', 3536), ('aikido', 371), ('kravmaga', 9893), ('evidencebased', 6066), ('cdc', 2781), ('cdcwords', 2783), ('bannedwords', 1399), ('doubleplusgoodspeak', 5305), ('trumphasdementia', 18229), ('delusion', 4587), ('bushclinton', 2460), ('pointless', 13397), ('humidity', 8512), ('flakewell', 6722), ('infinitely', 8942), ('obviouslyduh', 12330), ('thankstrump', 17601), ('necessary', 11850), ('cowards', 4004), ('lands', 9979), ('refugeesnotwelcome', 14507), ('pussies', 14095), ('unchecked', 18486), ('austria', 1175), ('responders', 14791), ('religions', 14604), ('creepyjoebiden', 4097), ('gravy', 7624), ('punk', 14056), ('joedonttouchsomuch', 9486), ('hillbillieshmmm', 8220), ('hillbillies', 8219), ('incomes', 8861), ('humour', 8517), ('coworker', 4011), ('stretch', 16962), ('utara', 18778), ('loghat', 10501), ('democratsaredangerous', 4623), ('continent', 3760), ('demographics', 4632), ('mediatoo', 11070), ('putrid', 14108), ('sig', 16017), ('cmalt', 3284), ('altc', 518), ('vibe', 18909), ('uproar', 18712), ('untill', 18670), ('inc', 8835), ('hb', 8035), ('credits', 4090), ('ucs', 18412), ('owellian', 12720), ('controll', 3798), ('armageddon', 948), ('sinks', 16081), ('poorest', 13477), ('christianmorals', 3068), ('jcpmnow', 9390), ('disabilityrights', 4968), ('chuckchequers', 3086), ('organizer', 12580), ('pearls', 13008), ('clutching', 3282), ('righteousness', 14943), ('moments', 11477), ('belichick', 1609), ('crafty', 4037), ('receivers', 14400), ('germansthey', 7314), ('refugee', 14505), ('violenceit', 18979), ('germanistan', 7312), ('mcdonalds', 11021), ('coffee', 3332), ('tabs', 17318), ('asia', 1010), ('argento', 932), ('mfs', 11216), ('coons', 3852), ('disagreements', 4974), ('peeps', 13033), ('lesser', 10194), ('clash', 3178), ('shastrartha', 15800), ('rae', 14225), ('antifaareterrorists', 733), ('inmate', 8998), ('antijujubes', 772), ('horrendous', 8405), ('precedent', 13618), ('horny', 8404), ('makeout', 10776), ('hazy', 8034), ('recollecting', 14428), ('loon', 10538), ('repressed', 14708), ('shuts', 15984), ('rationalize', 14313), ('intolerant', 9151), ('headgear', 8040), ('ubi', 18408), ('plz', 13371), ('console', 3706), ('liberalismcausesmentalretardation', 10258), ('kavanaughthe', 9684), ('spill', 16583), ('ultimate', 18444), ('tease', 17461), ('targets', 17394), ('newspaper', 11942), ('executes', 6135), ('multicultural', 11660), ('phones', 13181), ('prepping', 13663), ('convince', 3828), ('impart', 8762), ('mindset', 11305), ('selfhate', 15590), ('victimhood', 18919), ('areyour', 930), ('indication', 8895), ('prejudices', 13646), ('xenophobic', 19802), ('stem', 16826), ('accurate', 114), ('metaphor', 11196), ('globalist', 7409), ('samsung', 15275), ('afford', 293), ('workspeople', 19689), ('noting', 12161), ('professionalism', 13823), ('lifewhy', 10341), ('ronald', 15071), ('lays', 10062), ('netneutrality', 11912), ('oppose', 12521), ('fccs', 6482), ('repeal', 14666), ('phrasing', 13194), ('swearer', 17251), ('overwhelmingly', 12715), ('disprove', 5081), ('polices', 13417), ('feinstinkle', 6532), ('leaked', 10089), ('brit', 2284), ('convincing', 3830), ('loosely', 10549), ('definitively', 4541), ('crucial', 4168), ('anywayits', 823), ('theu', 17695), ('unfortunate', 18565), ('implemented', 8783), ('measure', 11054), ('forcereasoning', 6864), ('alinskysrules', 450), ('radicals', 14221), ('stir', 16870), ('kickback', 9767), ('principals', 13748), ('feedback', 6513), ('warping', 19186), ('perceptions', 13077), ('factions', 6286), ('heartbeat', 8066), ('quoteoftheday', 14189), ('hows', 8473), ('notrust', 12171), ('noconfidence', 12043), ('crimesyndicate', 4109), ('mafia', 10713), ('investigator', 9182), ('criminalsinuniform', 4114), ('criminalsoutofnumber', 4115), ('gtto', 7736), ('gentle', 7296), ('faerie', 6301), ('conceding', 3552), ('thugaratti', 17806), ('shapiro', 15783), ('hoped', 8391), ('endlessly', 5812), ('ally', 491), ('expression', 6217), ('urged', 18732), ('venom', 18866), ('abomination', 36), ('malam', 10787), ('catalog', 2723), ('articles', 982), ('bolaji', 2017), ('pleading', 13341), ('dale', 4303), ('chumps', 3096), ('declassify', 4467), ('blueripple', 1967), ('kateswall', 9663), ('obamaspygate', 12285), ('noamnesty', 12030), ('nodaca', 12045), ('volient', 19030), ('monopoles', 11516), ('groupjust', 7698), ('unrestrained', 18651), ('minutestrump', 11332), ('proverbial', 13959), ('aaaaaaaaa', 2), ('wbu', 19249), ('babie', 1266), ('tradition', 18058), ('aside', 1013), ('belongs', 1632), ('thankyou', 17602), ('crowdfunding', 4165), ('gofundme', 7460), ('monsterfunder', 11521), ('fervent', 6562), ('donate', 5243), ('whiped', 19434), ('convo', 3832), ('lover', 10601), ('exposé', 6212), ('policing', 13421), ('detrimental', 4811), ('centres', 2826), ('schemes', 15408), ('mildmoderate', 11265), ('interestedqualified', 9109), ('sorrynothing', 16456), ('setup', 15705), ('passports', 12914), ('bona', 2031), ('fide', 6585), ('nicking', 11985), ('awb', 1231), ('sequitur', 15664), ('liquor', 10406), ('license', 10307), ('revoked', 14879), ('weigh', 19313), ('lbs', 10070), ('butter', 2479), ('deregulation', 4724), ('dramatic', 5369), ('supervision', 17153), ('rubbish', 15139), ('gathering', 7230), ('switched', 17276), ('bigots', 1773), ('monkeys', 11512), ('dehumanize', 4559), ('surplus', 17197), ('againtske', 315), ('deliberate', 4573), ('sc', 15370), ('transphobic', 18106), ('tim', 17849), ('koontz', 9880), ('niners', 12016), ('comical', 3422), ('commissioner', 3457), ('fooln', 6852), ('spiteful', 16599), ('seeking', 15554), ('youngo', 19937), ('wide', 19495), ('eyed', 6250), ('chamber', 2866), ('soundtrack', 16475), ('dmed', 5162), ('tracks', 18049), ('serenawilliams', 15671), ('boycotted', 2141), ('wising', 19574), ('imageinstead', 8716), ('calculative', 2538), ('agendas', 322), ('bided', 1758), ('calculated', 2535), ('colours', 3391), ('defcon', 4504), ('wuppertal', 19780), ('masters', 10952), ('wisely', 19569), ('devotees', 4840), ('elementary', 5681), ('curry', 4248), ('abandon', 14), ('graphic', 7609), ('patriotsfight', 12948), ('unitedwestand', 18602), ('wakeup', 19117), ('redoctober', 14462), ('lahore', 9957), ('gallery', 7183), ('polygraph', 13457), ('inadmissible', 8825), ('signs', 16037), ('separations', 15657), ('cavanagh', 2762), ('yuzusft', 19978), ('mod', 11439), ('dl', 5158), ('crybaby', 4188), ('cofounder', 3335), ('association', 1070), ('regarded', 14518), ('forerunner', 6879), ('islamicextremism', 9253), ('grenell', 7655), ('assessment', 1053), ('manly', 10842), ('betas', 1697), ('specialist', 16529), ('deflected', 4543), ('kentucky', 9739), ('tooliberalfornky', 17961), ('patterned', 12956), ('wordthere', 19675), ('civilized', 3152), ('shotgunsthe', 15930), ('associations', 1071), ('blair', 1880), ('selfaggrandizing', 15582), ('fancy', 6387), ('metoowitchhunt', 11207), ('bullhit', 2409), ('plot', 13358), ('thickens', 17709), ('rioting', 14976), ('scumbags', 15494), ('moreso', 11550), ('drew', 5400), ('gorl', 7530), ('streaming', 16951), ('bearded', 1526), ('woooow', 19663), ('meta', 11193), ('calculations', 2537), ('grandstanding', 7597), ('terry', 17556), ('porters', 13507), ('pi', 13202), ('osu', 12617), ('alumn', 533), ('naw', 11815), ('aaron', 7), ('hernandez', 8152), ('shithole', 15872), ('bodyguards', 2003), ('concentrating', 3554), ('focusing', 6809), ('constituents', 3721), ('increasing', 8875), ('sundown', 17129), ('carnage', 2680), ('emptiness', 5776), ('altho', 525), ('sponsors', 16620), ('torylies', 17987), ('democraps', 4612), ('appreciation', 892), ('bestie', 1690), ('comeliberals', 3409), ('commonsbetter', 3470), ('criticize', 4131), ('groper', 7686), ('hipster', 8249), ('sped', 16545), ('items', 9304), ('patchouly', 12927), ('beard', 1525), ('ebt', 5571), ('healed', 8047), ('sighs', 16020), ('straightening', 16926), ('existent', 6155), ('wrinkle', 19748), ('shirt', 15862), ('joint', 9500), ('harperi', 7967), ('satisfied', 15327), ('fleas', 6746), ('sami', 15272), ('operation', 12501), ('disappointment', 4980), ('numbered', 12230), ('shoes', 15900), ('distinguish', 5109), ('wmilitary', 19608), ('butmost', 2476), ('vaterans', 18840), ('trumpsamerica', 18248), ('tihnks', 17844), ('leonaalleslev', 10187), ('cgi', 2849), ('accuracy', 113), ('toss', 17992), ('scheduled', 15403), ('sanity', 15298), ('mazie', 11000), ('sensationalism', 15640), ('hire', 8251), ('um', 18449), ('whilst', 19424), ('disputed', 5084), ('whataboutery', 19384), ('bullie', 2410), ('sencollins', 15625), ('letgod', 10201), ('shocker', 15896), ('sarcasm', 15308), ('outspoken', 12673), ('critic', 4125), ('goods', 7498), ('zeckenbiss', 19992), ('hetzjagd', 8172), ('longt', 10526), ('restate', 14802), ('prejudice', 13645), ('discrimination', 5019), ('justification', 9598), ('distinction', 5108), ('arbitrary', 910), ('shifting', 15845), ('exhaling', 6146), ('shakily', 15757), ('tempted', 17514), ('cheeky', 2958), ('mo', 11423), ('cybersecurity', 4282), ('marketing', 10898), ('begun', 1586), ('bullied', 2411), ('inch', 8844), ('feign', 6527), ('increasingly', 8876), ('weaponised', 19266), ('supremacist', 17173), ('refer', 14480), ('moderate', 11445), ('dummydonniejr', 5485), ('apple', 872), ('enoughisenough', 5864), ('liarinchief', 10242), ('acquiring', 147), ('believer', 1617), ('yer', 19882), ('hannity', 7915), ('feeder', 6515), ('radio', 14223), ('òne', 20022), ('jailed', 9356), ('promising', 13874), ('illness', 8703), ('falls', 6351), ('victoria', 18925), ('reverse', 14863), ('normalized', 12119), ('craley', 4040), ('peta', 13141), ('tofu', 17923), ('repulsive', 14730), ('projections', 13857), ('deems', 4490), ('lest', 10199), ('applied', 878), ('oneself', 12450), ('trumpstyle', 18255), ('repeatedly', 14671), ('propose', 13903), ('concerts', 3564), ('throat', 17787), ('denials', 4669), ('meaningless', 11046), ('puzzle', 14114), ('toys', 18041), ('jfc', 9446), ('naaa', 11744), ('fink', 6654), ('wiv', 19601), ('muscle', 11695), ('puleeeze', 14030), ('lieyour', 10329), ('buyout', 2493), ('wisdom', 19566), ('flaws', 6745), ('doo', 5269), ('rmt', 15002), ('swr', 17285), ('guards', 7745), ('principle', 13750), ('defo', 4546), ('schiff', 15410), ('releasing', 14594), ('bureaucratic', 2436), ('purged', 14069), ('unemployed', 18547), ('carrey', 2688), ('mansion', 10853), ('preorder', 13656), ('cutting', 4275), ('bun', 2425), ('googlers', 7508), ('mongers', 11504), ('watcher', 19221), ('becausecolor', 1552), ('goofy', 7503), ('blondes', 1943), ('ft', 7066), ('manipulations', 10838), ('appear', 860), ('unbias', 18478), ('susan', 17215), ('sarandrons', 15307), ('monitoring', 11509), ('attackers', 1118), ('misguided', 11356), ('obamas', 12284), ('heaven', 8083), ('degree', 4556), ('beshe', 1683), ('mode', 11440), ('pigeon', 13221), ('pigeons', 13222), ('poop', 13473), ('keyboard', 9752), ('stalking', 16724), ('appointees', 885), ('staged', 16704), ('stonewalling', 16895), ('lovers', 10602), ('fakes', 6341), ('conadidate', 3547), ('pacedat', 12745), ('chosen', 3057), ('entropy', 5899), ('clincher', 3235), ('yards', 19834), ('happpen', 7930), ('dimension', 4928), ('audible', 1150), ('household', 8453), ('trillion', 18174), ('jobmaybe', 9481), ('respct', 14781), ('client', 3224), ('variance', 18831), ('oscar', 12609), ('bizzniss', 1858), ('randian', 14274), ('deludes', 4586), ('directorship', 4962), ('artificial', 984), ('disturbed', 5130), ('bewaresome', 1720), ('lights', 10348), ('offlike', 12381), ('streetlights', 16955), ('offended', 12360), ('madison', 10708), ('antipresident', 782), ('semite', 15616), ('semamtics', 15608), ('sullivan', 17112), ('innnew', 9005), ('yourk', 19942), ('specifically', 16534), ('fkat', 6711), ('rakers', 14255), ('culling', 4213), ('millennium', 11284), ('loitering', 10507), ('sharethelove', 15790), ('averages', 1204), ('imply', 8790), ('lend', 10179), ('heifer', 8105), ('sombody', 16401), ('ellisons', 5707), ('unwilling', 18684), ('chairperson', 2857), ('britains', 2286), ('priorities', 13759), ('lighten', 10345), ('wrind', 19747), ('cared', 2659), ('traditional', 18059), ('honoring', 8372), ('chokes', 3047), ('vomit', 19038), ('serial', 15672), ('condemned', 3577), ('adopting', 235), ('ihra', 8673), ('tinubu', 17869), ('yoruba', 19919), ('pour', 13568), ('glass', 7396), ('bowl', 2130), ('steamy', 16817), ('towel', 18030), ('comfortable', 3417), ('framing', 6956), ('sincero', 16068), ('yeaaaahh', 19848), ('coarse', 3302), ('lapdpgs', 9989), ('ambush', 560), ('demonstrates', 4649), ('sickness', 16001), ('homeowner', 8346), ('downloading', 5331), ('unknown', 18617), ('stripping', 16981), ('revenue', 14862), ('dev', 4814), ('devs', 4842), ('careers', 2665), ('islamists', 9255), ('foe', 6812), ('smudge', 16299), ('teamdanny', 17451), ('sharper', 15796), ('businessmen', 2466), ('concepts', 3559), ('perplexed', 13108), ('trumptariffs', 18259), ('grand', 7586), ('negotiation', 11875), ('pallets', 12795), ('discord', 5003), ('incarcerated', 8837), ('baldfaced', 1355), ('bezos', 1725), ('melissa', 11111), ('bunny', 2431), ('distant', 5107), ('drellenbrandt', 5395), ('cchqpress', 2775), ('natfednews', 11790), ('announce', 684), ('longerterm', 10522), ('partnerships', 12888), ('ambitious', 556), ('groundbreaking', 7694), ('initiative', 8986), ('hayley', 8031), ('dms', 5163), ('wished', 19571), ('layer', 10057), ('golan', 7468), ('heights', 8109), ('hightech', 8201), ('lynching', 10684), ('uppity', 18710), ('declare', 4461), ('dcl', 4394), ('teaches', 17446), ('explore', 6198), ('banking', 1393), ('logging', 10500), ('logged', 10499), ('experiencing', 6178), ('technical', 17465), ('difficulties', 4902), ('heathen', 8077), ('enforce', 5832), ('confiscation', 3617), ('luves', 10668), ('admendment', 210), ('approaching', 895), ('birmingham', 1822), ('programme', 13840), ('misconstrued', 11347), ('fucken', 7073), ('christ', 3063), ('exceptable', 6106), ('hunted', 8534), ('notonemore', 12166), ('guncontrolnow', 7771), ('dncsorosantifa', 5166), ('filledbut', 6616), ('react', 14336), ('sparky', 16512), ('disease', 5027), ('soulless', 16466), ('murderers', 11684), ('cutsie', 4273), ('prepare', 13657), ('refs', 14503), ('killthezebras', 9788), ('disapproval', 4981), ('sued', 17089), ('defamation', 4500), ('substantiated', 17057), ('blessed', 1910), ('byandlarge', 2505), ('extraordinarily', 6235), ('conartists', 3548), ('lackies', 9946), ('auburn', 1149), ('sec', 15516), ('homosexual', 8361), ('excepting', 6107), ('lordy', 10558), ('percentile', 13074), ('height', 8106), ('wears', 19276), ('shoe', 15899), ('counterprotestors', 3956), ('cville', 4278), ('instigated', 9060), ('initially', 8984), ('supremacists', 17174), ('clergy', 3217), ('characterize', 2905), ('antiwoman', 797), ('irreplaceable', 9232), ('heather', 8078), ('indeeda', 8881), ('watered', 19227), ('needy', 11865), ('condemnation', 3575), ('equivocal', 5937), ('begins', 1584), ('diluted', 4925), ('suggests', 17103), ('gratitude', 7618), ('posturing', 13552), ('theyd', 17702), ('requisite', 14744), ('letters', 10211), ('challengers', 2863), ('gutless', 7798), ('witless', 19592), ('cnnmoney', 3293), ('undies', 18536), ('puke', 14027), ('someones', 16412), ('davido', 4374), ('oga', 12388), ('davidos', 4375), ('na', 11743), ('haterz', 8004), ('chop', 3054), ('burden', 2432), ('examination', 6091), ('reaches', 14334), ('israeli', 9274), ('winger', 19539), ('simplistic', 16059), ('density', 4682), ('contributors', 3789), ('amendments', 568), ('whooo', 19468), ('influential', 8953), ('delayed', 4565), ('desire', 4757), ('islamistsantifaleftists', 9256), ('wreath', 19739), ('filmantifa', 6620), ('miserably', 11353), ('christinablaseyford', 3072), ('appearing', 863), ('chrome', 3080), ('trailer', 18071), ('hitch', 8269), ('bam', 1371), ('cried', 4104), ('disguised', 5038), ('assumptions', 1079), ('isle', 9266), ('kaise', 9628), ('bache', 1277), ('ki', 9764), ('tarah', 17389), ('talker', 17359), ('bowed', 2128), ('shadow', 15743), ('coherent', 3339), ('booking', 2058), ('appointments', 887), ('arrogance', 972), ('specialists', 16530), ('impressive', 8808), ('architects', 919), ('beautifull', 1543), ('keithellison', 9725), ('stopthebias', 16912), ('strauss', 16942), ('donating', 5246), ('establishing', 5982), ('neveragain', 11922), ('gunsensenow', 7786), ('opposites', 12526), ('ltimagine', 10634), ('tarzan', 17398), ('voicegt', 19023), ('nocollusion', 12041), ('labourparty', 9940), ('cling', 3236), ('wobbly', 19613), ('housingcrisis', 8460), ('housingmarket', 8462), ('walldoesntprotectfromamericans', 19142), ('charters', 2927), ('bipartisan', 1810), ('university', 18609), ('certificate', 2842), ('disgracing', 5035), ('graduated', 7579), ('cycle', 4283), ('hr', 8477), ('distribute', 5125), ('secondary', 15522), ('greedy', 7642), ('betsydevos', 1710), ('olds', 12417), ('mifsud', 11253), ('evading', 6018), ('suspension', 17226), ('explicitly', 6191), ('immune', 8755), ('heinous', 8111), ('frosting', 7049), ('aboard', 31), ('ratbags', 14303), ('afd', 276), ('afdordner', 277), ('reagiert', 14348), ('niedersachsen', 11991), ('shakin', 15758), ('prey', 13722), ('dodgers', 5192), ('washedout', 19201), ('potusi', 13562), ('shamifesto', 15775), ('rising', 14989), ('hoc', 8305), ('onevoice', 12452), ('benz', 1662), ('oresident', 12568), ('servant', 15679), ('controlit', 3797), ('eliminated', 5690), ('memorize', 11134), ('goldwater', 7474), ('travesty', 18126), ('liberatarianism', 10286), ('russ', 15183), ('vermin', 18880), ('obozo', 12304), ('sessionsdo', 15694), ('awaits', 1218), ('hogan', 8308), ('touchdown', 18006), ('defenses', 4520), ('caption', 2642), ('yonks', 19912), ('michelle', 11230), ('spilled', 16584), ('pedestal', 13014), ('prasident', 13598), ('knocked', 9844), ('appropo', 897), ('thingshe', 17720), ('colins', 3353), ('guenther', 7746), ('caller', 2550), ('rebuilding', 14391), ('improvement', 8812), ('uniform', 18580), ('boarder', 1984), ('splendidraincos', 16603), ('etsy', 6006), ('engine', 5841), ('dry', 5439), ('ours', 12633), ('economic', 5579), ('precipice', 13621), ('contacting', 3740), ('heirloom', 8113), ('underoath', 18522), ('tires', 17877), ('fires', 6668), ('birch', 1814), ('sexuality', 15726), ('ww', 19784), ('cheers', 2963), ('matey', 10962), ('bwahahahawork', 2502), ('toolshonest', 17963), ('chubby', 3084), ('alsoi', 515), ('submit', 17036), ('kremlin', 9898), ('speculating', 16544), ('trademark', 18054), ('gabole', 7164), ('negatif', 11868), ('quin', 14177), ('invented', 9168), ('creepy', 4096), ('uber', 18407), ('fakeuberdriver', 6342), ('bodywraprestraint', 2005), ('crimenews', 4107), ('eth', 5995), ('hardwallet', 7954), ('ego', 5637), ('fort', 6913), ('horseshit', 8419), ('ulster', 18442), ('unionists', 18592), ('reciprocate', 14413), ('partnership', 12887), ('hardened', 7947), ('followthewhiterabbit', 6834), ('presidentmaduro', 13685), ('feasts', 6495), ('saltbae', 15259), ('venezuelans', 18863), ('flee', 6748), ('lbc', 10065), ('jeremycorbyn', 9415), ('folk', 6819), ('frequent', 7010), ('vocal', 19016), ('critics', 4134), ('ranging', 14282), ('tariffs', 17395), ('quitting', 14184), ('tulsa', 18313), ('bonkers', 2041), ('trustworthy', 18275), ('dye', 5530), ('haircolors', 7854), ('jin', 9465), ('englishconservatism', 5847), ('certificates', 2843), ('recognizing', 14426), ('competition', 3503), ('excellence', 6103), ('thinblueline', 17716), ('bluelivesmatter', 1965), ('preller', 13647), ('skins', 16141), ('adamandeve', 182), ('parklandkids', 12854), ('misappropriated', 11343), ('phrase', 13192), ('virtue', 18990), ('foriegn', 6896), ('invaders', 9162), ('whiners', 19428), ('wno', 19609), ('hawks', 8029), ('prorussia', 13911), ('roads', 15009), ('saggy', 15236), ('talkin', 17360), ('victoriasecrets', 18928), ('slur', 16245), ('fifty', 6596), ('installing', 9052), ('amendmentcampus', 566), ('felons', 6540), ('huckster', 8490), ('marcy', 10876), ('projects', 13860), ('zimmerman', 20002), ('woulda', 19719), ('wood', 19651), ('beams', 1519), ('louder', 10583), ('unthinkable', 18668), ('jajaja', 9361), ('bowman', 2132), ('rookie', 15074), ('oop', 12484), ('hierarchy', 8189), ('darkest', 4348), ('dojcia', 5217), ('theresamay', 17683), ('shortlisted', 15923), ('shaunbaileyuk', 15804), ('andrewboff', 634), ('joymorrissey', 9533), ('asu', 1087), ('solutions', 16394), ('reducing', 14469), ('nonautomatic', 12074), ('designers', 4754), ('firemalyoung', 6665), ('slogans', 16231), ('legatron', 10152), ('havana', 8016), ('slam', 16163), ('dildos', 4919), ('butts', 2487), ('blocking', 1933), ('humiliating', 8514), ('deserved', 4746), ('srsly', 16680), ('vital', 19009), ('hooligans', 8385), ('mayhem', 10993), ('doyourjob', 5347), ('dotherightthing', 5299), ('stellar', 16825), ('judgekavanaugh', 9551), ('ba', 1259), ('obstructing', 12317), ('unpopular', 18635), ('sincere', 16065), ('san', 15277), ('jose', 9517), ('batsbottles', 1476), ('pepper', 13065), ('greatestthingsaboutthes', 7633), ('treacherous', 18130), ('benny', 1658), ('conspired', 3713), ('maggie', 10734), ('fatally', 6438), ('matches', 10956), ('nerves', 11904), ('brutal', 2344), ('insists', 9040), ('ginsburg', 7369), ('depressing', 4710), ('churches', 3100), ('espouse', 5976), ('roles', 15056), ('mavericks', 10981), ('markcuban', 10892), ('nicas', 11973), ('glimpse', 7403), ('canpoli', 2617), ('enriching', 5867), ('cousins', 3990), ('rican', 14909), ('ragey', 14229), ('guaranteed', 7741), ('behave', 1590), ('reeee', 14475), ('terrifying', 17544), ('greenish', 7648), ('tint', 17868), ('greenhouse', 7645), ('gases', 7220), ('apon', 849), ('widespread', 19499), ('obfuscate', 12292), ('mood', 11534), ('retaliate', 14828), ('dorks', 5285), ('grill', 7669), ('efects', 5616), ('connecting', 3648), ('disconnect', 4998), ('german', 7311), ('award', 1224), ('collecting', 3365), ('hater', 8001), ('amazes', 547), ('colin', 3350), ('boycottcolinjost', 2140), ('emmyawards', 5749), ('hypnotized', 8580), ('miraculously', 11334), ('freakingliars', 6982), ('obstructionist', 12319), ('louis', 10586), ('raging', 14231), ('antisemite', 786), ('kingggg', 9802), ('inventing', 9169), ('consideration', 3694), ('perceptive', 13078), ('wu', 19777), ('users', 18762), ('predominantly', 13633), ('affects', 286), ('latino', 10014), ('cleveland', 3218), ('cavaliers', 2761), ('fanbase', 6381), ('fakeness', 6333), ('apartaments', 832), ('instant', 9056), ('loveit', 10597), ('dcrats', 4395), ('nyc', 12259), ('ducky', 5453), ('ar', 907), ('skyrocket', 16158), ('reynolds', 14893), ('orbit', 12553), ('validated', 18809), ('obligated', 12297), ('presented', 13675), ('convincingly', 3831), ('janet', 9374), ('yellen', 19868), ('staffpick', 16702), ('groupwhats', 7703), ('againoh', 312), ('yeahantifa', 19850), ('diffrent', 4904), ('kyky', 9923), ('anfield', 643), ('putain', 14102), ('cliiimmmm', 3228), ('livpsg', 10441), ('reader', 14340), ('mcfartney', 11024), ('beatles', 1539), ('jon', 9508), ('harley', 7959), ('rouda', 15103), ('moderatepro', 11447), ('businesspro', 2467), ('familyand', 6373), ('smoked', 16290), ('kansas', 9649), ('mentor', 11154), ('karl', 9655), ('popper', 13484), ('motivates', 11584), ('antiborder', 722), ('antinationalism', 775), ('gunrights', 7782), ('falsehood', 6354), ('rightsgun', 14954), ('indicates', 8893), ('biase', 1745), ('starters', 16764), ('qbs', 14129), ('givekapachance', 7381), ('imwithkap', 8818), ('specify', 16538), ('deceptive', 4451), ('associates', 1069), ('arron', 975), ('humiliation', 8515), ('pakistan', 12778), ('issuesconservatives', 9282), ('labor', 9937), ('cloaks', 3251), ('knob', 9842), ('pricethat', 13729), ('methinks', 11199), ('signature', 16028), ('rabble', 14195), ('rousing', 15113), ('ireland', 9218), ('preachers', 13614), ('dreamed', 5381), ('drugs', 5432), ('colledge', 3369), ('occurred', 12342), ('tantamount', 17380), ('organised', 12573), ('reprehensible', 14700), ('ineffective', 8918), ('entrenches', 5896), ('rot', 15096), ('alp', 503), ('foodie', 6842), ('gladly', 7389), ('palate', 12788), ('regression', 14534), ('eliminate', 5689), ('commitment', 3462), ('flannel', 6730), ('slips', 16224), ('adearfriendnjust', 198), ('amir', 582), ('kava', 9671), ('dogooodthers', 5204), ('assisting', 1066), ('glance', 7391), ('campus', 2583), ('guarding', 7744), ('thivery', 17748), ('bake', 1343), ('mof', 11457), ('doubling', 5311), ('postal', 13537), ('slaughtered', 16181), ('ns', 12208), ('fishermen', 6686), ('kameron', 9642), ('scotians', 15448), ('fisheries', 6685), ('implicated', 8785), ('slaves', 16186), ('fatties', 6446), ('whent', 19409), ('thrill', 17783), ('milford', 11273), ('niggers', 11999), ('enforcing', 5836), ('tyranny', 18401), ('diagnosed', 4856), ('january', 9375), ('nj', 12024), ('aborts', 44), ('stores', 16917), ('bleachbit', 1903), ('sledge', 16192), ('paulbergeruser', 12962), ('researching', 14751), ('fierce', 6591), ('ethical', 5997), ('futanary', 7151), ('nuked', 12226), ('anyother', 816), ('reinforcement', 14559), ('yee', 19863), ('drink', 5405), ('shoulders', 15937), ('indicating', 8894), ('tense', 17528), ('library', 10299), ('patronizing', 12953), ('seven', 15707), ('plea', 13339), ('foods', 6844), ('disrespecting', 5094), ('unacceptable', 18461), ('bailout', 1337), ('plannedparenthood', 13303), ('usgoverment', 18765), ('savetheth', 15351), ('repealtheth', 14668), ('tl', 17893), ('pg', 13154), ('speedboost', 16550), ('halfdecent', 7863), ('creators', 4079), ('draining', 5362), ('greening', 7647), ('contested', 3758), ('yw', 19980), ('advance', 248), ('motion', 11580), ('dion', 4947), ('approval', 900), ('telesmokacatin', 17490), ('sticking', 16857), ('noses', 12134), ('inz', 9202), ('depth', 4714), ('ontarians', 12468), ('swapping', 17242), ('sareptians', 15311), ('wad', 19092), ('flo', 6763), ('showbarking', 15954), ('ordersparting', 12563), ('onoh', 12463), ('wasr', 19209), ('unborn', 18481), ('undone', 18541), ('puzzling', 14115), ('flustered', 6797), ('script', 15484), ('sovereign', 16484), ('sharialaw', 15791), ('celebrity', 2805), ('excused', 6126), ('ounce', 12630), ('relevance', 14597), ('netherlandstaxhaven', 11911), ('cosby', 3916), ('activates', 159), ('sprayed', 16645), ('ammo', 587), ('infringing', 8969), ('restricted', 14814), ('pregnancy', 13643), ('freshmen', 7016), ('bucket', 2366), ('equivalence', 5934), ('contrived', 3790), ('controversies', 3813), ('division', 5148), ('refusal', 14509), ('obstacles', 12315), ('foreseeable', 6880), ('sucking', 17082), ('viewership', 18944), ('snooze', 16328), ('geno', 7292), ('martin', 10921), ('homosexuality', 8362), ('snatcher', 16310), ('blot', 1958), ('dharmic', 4851), ('kashmiri', 9661), ('pandits', 12807), ('modernity', 11452), ('reflects', 14498), ('hinduphobia', 8240), ('republicandominated', 14720), ('commerce', 3445), ('congressman', 3639), ('chos', 3055), ('hyt', 8591), ('googlecide', 7506), ('tbeevilcorp', 17425), ('oligarchies', 12419), ('erasing', 5942), ('transforming', 18091), ('civilization', 3151), ('totalitarian', 17997), ('controlling', 3801), ('aspects', 1028), ('googlesplaining', 7509), ('stomped', 16888), ('charter', 2926), ('holt', 8337), ('renfrew', 14655), ('shopper', 15916), ('horwath', 8422), ('bugs', 2387), ('oreilly', 12566), ('exressing', 6222), ('shock', 15894), ('previously', 13721), ('provincially', 13969), ('siege', 16015), ('cultlogic', 4219), ('humbles', 8510), ('stafford', 16701), ('rusty', 15194), ('inconsistent', 8868), ('gd', 7249), ('cnnor', 3294), ('chats', 2935), ('onya', 12474), ('tbqh', 17431), ('monopoly', 11518), ('mews', 11211), ('papacy', 12821), ('joey', 9488), ('condone', 3586), ('thatno', 17610), ('scars', 15394), ('trauma', 18121), ('illegalalien', 8686), ('fwy', 7158), ('damaged', 4309), ('losangeles', 10561), ('traces', 18046), ('colorado', 3385), ('sitroom', 16105), ('thelead', 17646), ('outfront', 12651), ('pbsnews', 12984), ('pbsnewshour', 12985), ('tlot', 17894), ('sgp', 15736), ('baltimore', 1369), ('milwaukee', 11295), ('denver', 4688), ('stlouis', 16876), ('houston', 8463), ('cowardly', 4003), ('boasted', 1987), ('tallest', 17367), ('antinationalist', 776), ('antinatalist', 774), ('typically', 18395), ('basing', 1462), ('counteracts', 3951), ('heals', 8050), ('prolib', 13864), ('delivered', 4581), ('pitt', 13270), ('pictured', 13211), ('overlooking', 12693), ('houses', 8456), ('digital', 4910), ('whitehot', 19447), ('betweengt', 1717), ('redblooded', 14455), ('bootsontheground', 2082), ('avatar', 1198), ('polytechnofascistsavatardigital', 13461), ('nonreality', 12095), ('uglydidn', 18423), ('trolls', 18188), ('aunty', 1162), ('resort', 14776), ('obviousare', 12328), ('alos', 500), ('gitmos', 7378), ('expansion', 6166), ('breathing', 2219), ('organisation', 12570), ('dlc', 5159), ('trueshe', 18214), ('killary', 9779), ('baker', 1344), ('dayand', 4382), ('walkedaway', 19135), ('narrator', 11779), ('xhezhe', 19803), ('massachussetts', 10939), ('wart', 19194), ('aboilish', 32), ('bubble', 2362), ('counseling', 3944), ('frigid', 7036), ('cockamamy', 3311), ('lesbian', 10191), ('affair', 279), ('cillizza', 3110), ('thomashill', 17753), ('pundits', 14050), ('cynical', 4286), ('manipulation', 10837), ('applauding', 871), ('leaves', 10104), ('truththe', 18285), ('cino', 3117), ('sterilizing', 16840), ('sterilize', 16839), ('backward', 1306), ('vids', 18938), ('brooke', 2316), ('cold', 3348), ('sftv', 15735), ('buser', 2457), ('routine', 15115), ('enjoylike', 5856), ('capable', 2623), ('slagged', 16161), ('undemocratic', 18505), ('unons', 18631), ('owes', 12724), ('thursdaymotivation', 17816), ('polluting', 13447), ('antagonist', 711), ('canons', 2616), ('villain', 18958), ('playersviewers', 13330), ('sympathize', 17294), ('soarguable', 16342), ('analytica', 612), ('harassedattacked', 7938), ('bob', 1992), ('jackiedp', 9344), ('proudtobeaconservativefromacouncilestate', 13951), ('pornhub', 13501), ('myers', 11729), ('wynn', 19796), ('smithsgrove', 16287), ('thorn', 17755), ('madman', 10709), ('conflicted', 3620), ('hostage', 8426), ('peddling', 13013), ('uhave', 18425), ('antifamsmdnc', 750), ('obtain', 12322), ('restrictions', 14817), ('looted', 10553), ('repaying', 14665), ('debts', 4434), ('chatterbox', 2936), ('addition', 191), ('hoodie', 8378), ('drift', 5402), ('emerge', 5738), ('dissatisfaction', 5100), ('scarf', 15391), ('waited', 19107), ('refund', 14508), ('hrs', 8480), ('processing', 13803), ('stubby', 17002), ('punching', 14047), ('jumped', 9569), ('dispute', 5083), ('edd', 5589), ('relates', 14571), ('dier', 4890), ('durham', 5508), ('thatwhat', 17613), ('pishwhat', 13256), ('boobs', 2049), ('tatas', 17407), ('writer', 19751), ('sponsored', 16619), ('fascistsintraining', 6422), ('corralled', 3889), ('liberties', 10290), ('lynchings', 10685), ('prominent', 13870), ('mediayeawe', 11071), ('doneand', 5250), ('cams', 2586), ('battery', 1482), ('nooses', 12111), ('freaked', 6979), ('unmasking', 18628), ('releasethememo', 14591), ('susanrice', 17216), ('wandering', 19155), ('models', 11444), ('plane', 13298), ('sunset', 17134), ('aisle', 389), ('inclineed', 8853), ('fashioned', 6426), ('yeeeeess', 19864), ('butchers', 2475), ('butchering', 2474), ('bushie', 2461), ('stalkhunters', 16723), ('imbecile', 8732), ('tony', 17953), ('chemical', 2972), ('bots', 2114), ('cheese', 2965), ('shelter', 15829), ('acc', 81), ('sleeping', 16196), ('pills', 13231), ('falsified', 6359), ('clarification', 3170), ('nuke', 12225), ('button', 2486), ('desecrate', 4741), ('awesomeness', 1236), ('imparting', 8763), ('gems', 7265), ('stuffing', 17014), ('jurist', 9584), ('weighs', 19315), ('merits', 11171), ('determines', 4804), ('cotus', 3928), ('adherance', 202), ('metoowaronmen', 11206), ('blmwaroncops', 1924), ('antifawaronsociety', 762), ('abortionwar', 42), ('entry', 5900), ('taxi', 17418), ('cab', 2514), ('roxhamroad', 15119), ('paperwork', 12826), ('specification', 16535), ('criticising', 4128), ('standardised', 16735), ('requesting', 14738), ('contender', 3752), ('borderline', 2087), ('callingdisgusting', 2553), ('tire', 17875), ('baseand', 1450), ('loveourpotus', 10600), ('sanctuary', 15283), ('aiding', 369), ('abetting', 20), ('dragging', 5358), ('hires', 8253), ('fabricating', 6259), ('cheaters', 2947), ('everytime', 6056), ('farmers', 6408), ('sacrifice', 15211), ('vague', 18800), ('zuckerberg', 20020), ('xi', 19804), ('purdue', 14065), ('streeter', 16954), ('impressed', 8806), ('stageyou', 16706), ('bestdjthank', 1687), ('hardwell', 7955), ('thisthe', 17746), ('dipshit', 4952), ('youshhh', 19949), ('likenoother', 10358), ('gamestopcontest', 7197), ('croft', 4143), ('sarandon', 15306), ('rambling', 14262), ('click', 3222), ('christmas', 3078), ('cube', 4203), ('investors', 9186), ('ridley', 14933), ('reaction', 14337), ('widdle', 19494), ('limited', 10375), ('orderguess', 12560), ('internalized', 9120), ('grips', 7676), ('halfidiot', 7864), ('river', 14995), ('schmuck', 15419), ('ovomit', 12716), ('mouths', 11603), ('methods', 11202), ('gym', 7811), ('brushing', 2342), ('lasting', 10005), ('leftdems', 10118), ('travel', 18124), ('wnra', 19610), ('imp', 8758), ('replacing', 14683), ('abstinence', 61), ('teachings', 17448), ('favours', 6467), ('steer', 16822), ('iceberg', 8608), ('presumption', 13702), ('innocence', 9006), ('lefist', 10115), ('penn', 13049), ('leagues', 10086), ('default', 4502), ('twin', 18358), ('ke', 9705), ('typoness', 18398), ('gidle', 7343), ('idle', 8646), ('importation', 8796), ('adds', 197), ('aye', 1253), ('glutton', 7425), ('punishment', 14055), ('drinker', 5406), ('debs', 4432), ('mantra', 10857), ('helpmto', 8131), ('helpuser', 8133), ('wheeling', 19404), ('paranoid', 12837), ('spam', 16500), ('telltale', 17497), ('aguearo', 349), ('slight', 16211), ('kane', 9645), ('creative', 4076), ('clinical', 3239), ('finishers', 6652), ('het', 8170), ('stone', 16890), ('cutters', 4274), ('stonecutter', 16891), ('theft', 17638), ('deceit', 4441), ('welfareforall', 19332), ('iatrogenesis', 8603), ('generic', 7285), ('wwyd', 19792), ('prestigious', 13696), ('brainer', 2170), ('humiliated', 8513), ('caed', 2525), ('goper', 7519), ('kochsucker', 9870), ('tingling', 17867), ('apiece', 837), ('noscope', 12131), ('kraber', 9890), ('bathroom', 1472), ('contemptuous', 3749), ('avi', 1209), ('testifying', 17567), ('ditchmitch', 5133), ('peelpelosi', 13030), ('inevitable', 8922), ('dump', 5487), ('appeaser', 867), ('partybeforecountry', 12892), ('massmedia', 10945), ('evasion', 6028), ('gilliam', 7357), ('owning', 12732), ('corrupting', 3908), ('youaregoingtojail', 19922), ('youhavebeenexposed', 19929), ('prays', 13607), ('entrance', 5895), ('requirements', 14741), ('universities', 18608), ('passionate', 12908), ('flash', 6732), ('kev', 9749), ('kern', 9742), ('dosomething', 5294), ('troubling', 18200), ('diane', 4862), ('spiderman', 16577), ('nostalgia', 12136), ('web', 19283), ('swinging', 17271), ('mechanics', 11060), ('bey', 1722), ('yacht', 19822), ('vacay', 18792), ('positionposts', 13524), ('showmance', 15962), ('ericyou', 5951), ('swathes', 17246), ('aches', 129), ('kyla', 9924), ('pristin', 13769), ('ㅜㅡㅜ', 20024), ('eachother', 5540), ('quantities', 14151), ('showcased', 15955), ('tedcruz', 17475), ('revictimized', 14869), ('unclassifie', 18488), ('righthe', 14947), ('itanyone', 9299), ('mastered', 10949), ('nowhe', 12195), ('disconnected', 4999), ('networks', 11915), ('hacked', 7823), ('democommunists', 4609), ('allready', 485), ('molestors', 11469), ('killers', 9782), ('kissing', 9811), ('frustrating', 7061), ('humane', 8502), ('neccessarily', 11847), ('bwaaaaa', 2500), ('whotrumpbwaaaaaaa', 19478), ('godsend', 7454), ('rival', 14993), ('infighting', 8935), ('fanbasethis', 6382), ('priceless', 13726), ('entryist', 5901), ('theory', 17669), ('grok', 7680), ('grannies', 7599), ('brokeback', 2307), ('throne', 17789), ('upsideup', 18719), ('pinche', 13236), ('yayay', 19843), ('sanfrancisco', 15294), ('nomorelevis', 12071), ('libertarian', 10287), ('kanebrown', 9646), ('westandtogether', 19363), ('loaded', 10465), ('cod', 3325), ('helpless', 8130), ('founders', 6938), ('realdonaldtrump', 14350), ('endgame', 5808), ('vlad', 19014), ('expendable', 6172), ('dohe', 5209), ('ponder', 13465), ('nhssocial', 11970), ('careemergency', 2661), ('wages', 19097), ('antikavanaugh', 773), ('disclosures', 4996), ('rain', 14244), ('lacking', 9947), ('fuckbucket', 7071), ('reich', 14553), ('brussels', 2343), ('actaully', 154), ('regaining', 14516), ('confidence', 3599), ('purely', 14067), ('harassed', 7937), ('timid', 17861), ('skiddish', 16132), ('adjust', 207), ('playful', 13331), ('molly', 11472), ('roll', 15057), ('mmm', 11416), ('lecturing', 10110), ('theories', 17666), ('patriachy', 12940), ('harmed', 7961), ('hotspot', 8439), ('lau', 10019), ('cutest', 4268), ('taughtyou', 17411), ('comic', 3421), ('julieburchill', 9566), ('nme', 12027), ('vacuous', 18797), ('drivel', 5412), ('courtesy', 3983), ('spineless', 16589), ('eejits', 5611), ('inanimate', 8828), ('object', 12293), ('inherently', 8977), ('holocaust', 8335), ('ovens', 12679), ('mobilizes', 11430), ('obumer', 12324), ('onebut', 12446), ('entirely', 5888), ('fallout', 6350), ('melanie', 11108), ('heartless', 8071), ('puertoricans', 14022), ('hurricanemaria', 8548), ('thisisamerica', 17745), ('swedens', 17256), ('feminizing', 6553), ('genderless', 7268), ('taboo', 17317), ('allnow', 477), ('experts', 6182), ('thou', 17761), ('shalt', 15763), ('photoshop', 13190), ('deadlier', 4402), ('uc', 18409), ('loonyleft', 10542), ('upstanding', 18722), ('hir', 8250), ('blogger', 1939), ('fiction', 6581), ('soonyi', 16438), ('mineta', 11309), ('whiny', 19432), ('felon', 6539), ('mixed', 11406), ('beaten', 1534), ('fukn', 7104), ('roaming', 15011), ('fuckers', 7076), ('imwithdave', 8817), ('smallest', 16258), ('wo', 19611), ('horses', 8418), ('freckles', 6985), ('ohhhjhhh', 12393), ('au', 1147), ('decline', 4473), ('flutie', 6798), ('uncomefortbul', 18492), ('nunes', 12234), ('uhwasn', 18429), ('womannot', 19623), ('formed', 6903), ('antipo', 781), ('unfollowed', 18563), ('commentsthis', 3444), ('burned', 2442), ('bravo', 2194), ('daca', 4290), ('communistsactivistsantifaofa', 3480), ('incompatibles', 8864), ('wusculturefelons', 19781), ('violenceparticipation', 18980), ('includes', 8856), ('potusdestroysovereignusausconstndemy', 13561), ('wmarxist', 19606), ('threichnwo', 17781), ('tyrannytreason', 18402), ('deadly', 4404), ('richard', 14915), ('cephalic', 2834), ('remembering', 14630), ('recovered', 14443), ('moderately', 11446), ('counts', 3969), ('politicized', 13434), ('rightwrong', 14962), ('goodevil', 7492), ('approaches', 894), ('achieving', 135), ('worser', 19705), ('hoo', 8374), ('shuyou', 15988), ('crossers', 4156), ('bailed', 1335), ('antifaand', 731), ('acornand', 143), ('palled', 12794), ('hahahahahhado', 7845), ('malarkey', 10789), ('frogs', 7043), ('muzzie', 11722), ('terriorist', 17545), ('btch', 2355), ('newsletters', 11938), ('sections', 15535), ('ross', 15092), ('arrange', 962), ('sheet', 15818), ('currentaffairs', 4245), ('poorer', 13476), ('advisors', 267), ('sunk', 17130), ('lowhow', 10614), ('edited', 5596), ('file', 6610), ('formal', 6899), ('malloy', 10798), ('voterednovember', 19055), ('widget', 19500), ('mia', 11221), ('cushioney', 4258), ('thry', 17801), ('tobusiness', 17908), ('maroon', 10908), ('victimize', 18920), ('nod', 12044), ('wink', 19544), ('swampers', 17240), ('choosing', 3053), ('trials', 18157), ('indicators', 8896), ('realness', 14367), ('everybodytalks', 6049), ('unique', 18594), ('monsters', 11524), ('phantom', 13156), ('menance', 11139), ('antifacurrently', 736), ('singularly', 16077), ('illequipped', 8693), ('assess', 1052), ('postponethevote', 13548), ('ncpol', 11835), ('endpc', 5817), ('portland', 13510), ('promotes', 13878), ('transgendersgt', 18094), ('endculturalmarxism', 5800), ('demrun', 4657), ('authentic', 1176), ('rider', 14925), ('seinfeld', 15571), ('jk', 9470), ('dodge', 5190), ('whores', 19474), ('hmmm', 8286), ('qdrop', 14132), ('dosent', 5291), ('squeal', 16671), ('exposethetruth', 6209), ('quantifiably', 14150), ('improved', 8811), ('conservativesnone', 3683), ('cometrue', 3413), ('neghate', 11871), ('yourfamily', 19941), ('cory', 3913), ('kkks', 9821), ('robert', 15019), ('byrd', 2510), ('corybooker', 3914), ('presidenttrump', 13687), ('ping', 13240), ('pong', 13466), ('starved', 16772), ('vision', 18998), ('fashltthats', 6428), ('exmuslim', 6160), ('apologists', 844), ('ltgods', 10633), ('conservativesgt', 3680), ('baptist', 1407), ('pastor', 12921), ('kaylor', 9698), ('huckabee', 8489), ('sanders', 15286), ('hilary', 8211), ('bola', 2016), ('carcrash', 2650), ('certainty', 2840), ('trading', 18057), ('nichts', 11979), ('haltbarer', 7872), ('als', 513), ('eine', 5652), ('temporäre', 17512), ('lösung', 10688), ('lmaoooo', 10450), ('guttenberg', 7801), ('tescos', 17558), ('hеy', 8596), ('hеre', 8595), ('elaborate', 5661), ('detriment', 4810), ('mcdaniel', 11018), ('fighter', 6599), ('congratulation', 3634), ('pun', 14043), ('wittle', 19598), ('feelwings', 6523), ('bos', 2103), ('era', 5939), ('robin', 15022), ('yesyou', 19895), ('exempted', 6140), ('indian', 8890), ('expressly', 6219), ('identifying', 8628), ('tryants', 18287), ('waging', 19099), ('gained', 7176), ('tyrannical', 18400), ('crew', 4098), ('soit', 16381), ('cumm', 4228), ('inn', 9000), ('cosy', 3926), ('stocks', 16880), ('infinite', 8941), ('predict', 13627), ('consistent', 3703), ('orientations', 12588), ('facets', 6271), ('narcissism', 11774), ('hardy', 7956), ('identical', 8625), ('bucks', 2368), ('perfectly', 13083), ('orton', 12602), ('idc', 8615), ('bentley', 1661), ('crate', 4049), ('pee', 13028), ('arguably', 933), ('smhtweeting', 16278), ('elimination', 5692), ('tpeople', 18043), ('hav', 8015), ('intrusion', 9158), ('lawabiding', 10037), ('gunsuch', 7791), ('relationships', 14575), ('challenging', 2865), ('experiences', 6177), ('makeamericagreatagain', 10769), ('winthorpe', 19555), ('iii', 8675), ('ophelia', 12507), ('hampden', 7879), ('wembley', 19348), ('greeting', 7651), ('pinned', 13244), ('faints', 6312), ('nerve', 11903), ('fluffy', 6789), ('connie', 3655), ('woo', 19650), ('cri', 4101), ('evritiem', 6080), ('ehat', 5643), ('flavor', 6740), ('dispensed', 5068), ('cooler', 3848), ('groupthinkstinks', 7702), ('avenue', 1202), ('exert', 6142), ('coercive', 3331), ('demonstrator', 4651), ('eventually', 6037), ('stalked', 16720), ('dynamic', 5535), ('performs', 13089), ('category', 2737), ('chairman', 2856), ('oxford', 12736), ('ceiling', 2795), ('creationists', 4075), ('genders', 7269), ('scientific', 15431), ('breasts', 2215), ('breastfeeding', 2214), ('cruelty', 4174), ('spygate', 16662), ('nobel', 12034), ('tacticstrategy', 17330), ('secularprogressive', 15540), ('archetype', 915), ('countryconstitution', 3965), ('mrms', 11620), ('brohe', 2304), ('cray', 4054), ('mehn', 11101), ('favoritism', 6462), ('buckle', 2367), ('fbidoj', 6474), ('genes', 7287), ('commonly', 3468), ('collage', 3356), ('overheard', 12689), ('mutual', 11720), ('masturbation', 10954), ('awards', 1226), ('icon', 8610), ('pioneer', 13249), ('demsdesperate', 4662), ('handlers', 7895), ('disruptive', 5097), ('tbere', 17426), ('unintelligible', 18588), ('robo', 15025), ('comrades', 3543), ('jacked', 9340), ('starbucks', 16748), ('charms', 2922), ('inherited', 8979), ('sinful', 16070), ('mary', 10931), ('ltbecause', 10632), ('현재gt', 20028), ('gió', 7387), ('ngày', 11966), ('thu', 17804), ('năm', 12269), ('golden', 7470), ('beryl', 1682), ('현재', 20027), ('cherish', 2980), ('happyhyunjaeday', 7933), ('believehyunjaeday', 1616), ('너의존재가기적이야', 20025), ('antonio', 799), ('oprah', 12534), ('winfrey', 19537), ('issuing', 9283), ('sly', 16250), ('theats', 17621), ('shelby', 15824), ('onetroy', 12451), ('gotrojans', 7542), ('proudalum', 13948), ('arkansas', 944), ('mason', 10937), ('cusa', 4257), ('pivot', 13275), ('ip', 9205), ('carl', 2674), ('paladino', 12786), ('beef', 1569), ('drumpf', 5436), ('uofgh', 18687), ('assistant', 1064), ('glenn', 7401), ('hanna', 7913), ('worlders', 19691), ('respectfully', 14786), ('preference', 13639), ('notified', 12160), ('placed', 13287), ('liststerrorist', 10420), ('loland', 10510), ('notificed', 12159), ('alpha', 504), ('omega', 12430), ('itgun', 9305), ('controloh', 3804), ('hoggy', 8311), ('pitches', 13265), ('rightcali', 14941), ('hahahait', 7846), ('gril', 7668), ('wemakeamericagreat', 19346), ('origins', 12594), ('fk', 6710), ('newyork', 11948), ('misled', 11365), ('globalists', 7410), ('grandfather', 7589), ('lmbo', 10454), ('destriment', 4778), ('tangled', 17372), ('weave', 19281), ('practice', 13591), ('offshore', 12384), ('whereas', 19413), ('theater', 17617), ('investigates', 9177), ('zeroed', 19998), ('vegetables', 18853), ('unclean', 18491), ('sock', 16373), ('thankfully', 17595), ('takeastandnotaknee', 17341), ('pov', 13570), ('polling', 13442), ('crews', 4100), ('viewer', 18942), ('chiefs', 3009), ('sightthe', 16022), ('kaufman', 9668), ('prosecutor', 13919), ('kathryn', 9664), ('recognition', 14422), ('proscribed', 13913), ('denial', 4668), ('protecckaiser', 13926), ('sweetheart', 17264), ('godamn', 7440), ('gaf', 7169), ('uncivil', 18487), ('lickawitch', 10311), ('exempt', 6139), ('document', 5183), ('flaky', 6725), ('overlords', 12694), ('vail', 18801), ('olive', 12422), ('beagle', 1518), ('lodge', 10495), ('anns', 693), ('videoing', 18936), ('seniors', 15638), ('blockers', 1932), ('homophobes', 8358), ('militia', 11280), ('nansbabh', 11769), ('mulller', 11656), ('duct', 5454), ('tape', 17387), ('sufficient', 17096), ('sonofabitch', 16431), ('usamaga', 18746), ('greasy', 7627), ('harwoods', 7980), ('shimmmy', 15850), ('ayumi', 1255), ('baton', 1475), ('omarosa', 12429), ('mail', 10750), ('jhope', 9450), ('gif', 7344), ('gifs', 7346), ('bohot', 2009), ('badhai', 1318), ('bhuvan', 1742), ('bhai', 1737), ('surpassing', 17195), ('millionsubscribers', 11291), ('milestone', 11270), ('jisne', 9466), ('apne', 838), ('dum', 5474), ('subscribers', 17045), ('kiye', 9818), ('sicily', 15993), ('notions', 12163), ('antifascism', 755), ('dictators', 4880), ('hasten', 7990), ('demise', 4606), ('empowering', 5774), ('executioners', 6137), ('squalor', 16666), ('supplies', 17156), ('reflection', 14497), ('midnight', 11245), ('awkward', 1242), ('austin', 1171), ('rogers', 15052), ('eloquently', 5713), ('dust', 5511), ('repeating', 14673), ('uncharismatic', 18485), ('hosting', 8431), ('endless', 5811), ('dreg', 5391), ('gtgtgtgtgt', 7728), ('ltltltltltlt', 10638), ('fumes', 7112), ('talklikeapirateday', 17362), ('scurvy', 15497), ('plundered', 13368), ('pension', 13052), ('marooned', 10909), ('wormy', 19698), ('biscuits', 1830), ('sail', 15240), ('broadside', 2300), ('plank', 13301), ('backto', 1302), ('likejust', 10353), ('welp', 19344), ('shamelessly', 15769), ('introduced', 9154), ('rename', 14651), ('hijacked', 8207), ('freakazoids', 6977), ('getgo', 7325), ('wallace', 19141), ('shep', 15832), ('succeeding', 17065), ('yemens', 19875), ('mukalla', 11651), ('alqaeda', 508), ('manhood', 10828), ('nickidagoat', 11984), ('ibelievechristine', 8605), ('hideous', 8185), ('womenarewatching', 19629), ('fellas', 6537), ('synonymous', 17305), ('pleeease', 13352), ('truck', 18205), ('deficits', 4527), ('stipulations', 16869), ('molestation', 11466), ('heinz', 8112), ('uncovered', 18500), ('elites', 5695), ('arelike', 925), ('cockroaches', 3315), ('therefor', 17679), ('relinquished', 14609), ('regulate', 14543), ('keita', 9723), ('selfless', 15596), ('detracting', 4808), ('achievements', 134), ('granted', 7603), ('preferred', 13640), ('unrecuse', 18647), ('intratec', 9152), ('dims', 4935), ('chickschumer', 3006), ('fridayfeeling', 7023), ('demdirtytrick', 4599), ('todayfun', 17914), ('merck', 11163), ('arrogant', 973), ('fraudulent', 6974), ('bloggers', 1940), ('follofollo', 6822), ('chaos', 2895), ('stifle', 16861), ('dialogue', 4860), ('plaguing', 13294), ('societal', 16367), ('relocate', 14612), ('joblesshomeless', 9479), ('bulgaria', 2400), ('brexity', 2246), ('nonbinding', 12076), ('pathway', 12935), ('sads', 15225), ('legitamately', 10168), ('technicaltrade', 17467), ('myy', 11741), ('brotherr', 2325), ('atrocious', 1110), ('buried', 2439), ('chef', 2970), ('lilly', 10368), ('northern', 12126), ('nightmake', 12001), ('ccp', 2778), ('collapses', 3358), ('rump', 15167), ('splits', 16606), ('tendency', 17520), ('consequently', 3669), ('youvoteblue', 19959), ('phd', 13163), ('physics', 13200), ('chemistry', 2974), ('wideeyed', 19496), ('recoil', 14427), ('tag', 17333), ('bulletproof', 2407), ('sucked', 17078), ('vortex', 19041), ('karel', 9654), ('banquet', 1404), ('ona', 12440), ('newsroom', 11944), ('destructive', 4784), ('neoliberals', 11896), ('privatise', 13773), ('burdening', 2433), ('risks', 14992), ('centrism', 2827), ('coached', 3297), ('scam', 15376), ('midterm', 11249), ('wakes', 19116), ('idol', 8649), ('whined', 19427), ('stomp', 16887), ('snakes', 16304), ('cherry', 2981), ('oakwood', 12272), ('hostess', 8428), ('ron', 15070), ('wer', 19355), ('markedly', 10894), ('affluent', 292), ('carson', 2698), ('fruitful', 7056), ('moores', 11539), ('horribly', 8409), ('aspersions', 1029), ('donates', 5245), ('hometown', 8351), ('untouchable', 18672), ('funniest', 7132), ('etiquette', 6003), ('moderation', 11450), ('candiace', 2601), ('gtcomparing', 7722), ('weaklings', 19259), ('wwii', 19790), ('thanking', 17597), ('teller', 17494), ('virtues', 18991), ('dave', 4370), ('subverting', 17063), ('tracking', 18048), ('weaver', 19282), ('semi', 15611), ('autos', 1194), ('bend', 1639), ('eb', 5568), ('tits', 17887), ('initiativethe', 8987), ('whoabama', 19461), ('dismayed', 5054), ('philadelphia', 13168), ('donor', 5260), ('berniernation', 1678), ('tyr', 18399), ('typo', 18397), ('restraint', 14813), ('overly', 12695), ('tendencies', 17519), ('imploding', 8789), ('mirosoft', 11338), ('translations', 18099), ('cups', 4238), ('nicely', 11976), ('mrredwood', 11622), ('smearing', 16271), ('justices', 9596), ('ultraleft', 18448), ('resolve', 14773), ('holders', 8318), ('segregated', 15569), ('explaining', 6188), ('kery', 9745), ('jailjust', 9357), ('oncve', 12443), ('illigally', 8696), ('gooing', 7510), ('anymorejust', 811), ('sayingwe', 15361), ('despise', 4770), ('fr', 6948), ('preview', 13719), ('summary', 17115), ('passively', 12912), ('oppressive', 12532), ('enjoyed', 5854), ('sixandahalf', 16111), ('sixonehalfyears', 16112), ('drawings', 5376), ('involving', 9201), ('notespacily', 12147), ('chapters', 2899), ('intersections', 9136), ('lane', 9983), ('drill', 5403), ('cp', 4018), ('interviewing', 9141), ('reviews', 14873), ('imperialist', 8777), ('hegemony', 8101), ('pertain', 13130), ('lawless', 10042), ('perpetrated', 13104), ('patterns', 12957), ('comprehensive', 3533), ('vetting', 18901), ('parasites', 12839), ('sean', 15503), ('fantasizes', 6396), ('distinguished', 5110), ('wc', 19250), ('cubs', 4204), ('nyfw', 12262), ('maher', 10747), ('interferes', 9115), ('democracies', 4610), ('polititians', 13439), ('mumbling', 11672), ('exceptional', 6109), ('implementation', 8782), ('hoarded', 8299), ('distributed', 5126), ('withheld', 19584), ('repent', 14675), ('gate', 7225), ('broad', 2296), ('eternity', 5993), ('markjudge', 10904), ('foxreport', 6945), ('ptos', 14002), ('weekday', 19305), ('bypass', 2509), ('wholly', 19465), ('icymi', 8612), ('install', 9049), ('kavanope', 9689), ('humanitys', 8505), ('disagreement', 4973), ('halfassed', 7861), ('igl', 8660), ('mure', 11691), ('prepwork', 13664), ('niko', 12012), ('map', 10865), ('mibr', 11222), ('fallen', 6347), ('superstars', 17151), ('karrigan', 9658), ('gmail', 7427), ('hjf', 8281), ('mustache', 11710), ('havevut', 8022), ('cancelled', 2596), ('alleslve', 466), ('weakest', 19258), ('aligns', 443), ('definitions', 4540), ('classify', 3185), ('plants', 13311), ('construction', 3728), ('trynna', 18292), ('feast', 6494), ('noodles', 12104), ('adding', 190), ('feinsteinbacked', 6529), ('omnibus', 12436), ('islandthe', 9265), ('issued', 9280), ('aluminum', 532), ('gods', 7452), ('judgement', 9553), ('woodwardthou', 19657), ('deceived', 4443), ('sows', 16490), ('annointed', 683), ('hail', 7850), ('involed', 9196), ('skill', 16134), ('obamavomit', 12287), ('doofuses', 5270), ('woodworks', 19660), ('voterepublican', 19060), ('americanredmidterms', 575), ('reforms', 14502), ('undecided', 18503), ('ljmaga', 10442), ('goredstatebystate', 7527), ('wortless', 19715), ('generate', 7277), ('hste', 8483), ('somone', 16422), ('thre', 17770), ('shane', 15779), ('unstanning', 18661), ('disavoving', 4991), ('rehmanchishti', 14551), ('elmer', 5708), ('elephant', 5683), ('karachiites', 9653), ('pkbritish', 13283), ('britishcouncil', 2290), ('bri', 2247), ('wakeupstandupspeakup', 19121), ('patting', 12958), ('scalise', 15374), ('croatia', 4137), ('lmfaoooooo', 10459), ('blinding', 1918), ('stolded', 16883), ('diners', 4940), ('madmaxinewaters', 10710), ('ginning', 7366), ('fukin', 7103), ('frm', 7041), ('greets', 7652), ('thereupon', 17686), ('clouds', 3270), ('bardbits', 1420), ('mobilizing', 11431), ('bget', 1730), ('impeachtrump', 8772), ('muellertime', 11645), ('stooges', 16899), ('lsu', 10630), ('pasting', 12920), ('caps', 2639), ('interactive', 9105), ('sidelines', 16007), ('chip', 3033), ('bergh', 1668), ('peopleoverprofits', 13061), ('joker', 9502), ('waifu', 19103), ('projectreality', 13859), ('upped', 18705), ('fuser', 7147), ('favour', 6464), ('taxdodgers', 17415), ('exitfrombrexit', 6159), ('relocation', 14613), ('endthechaos', 5819), ('finalsay', 6627), ('bert', 1681), ('ernie', 5954), ('wtaf', 19768), ('campigne', 2580), ('loosing', 10550), ('campaigne', 2573), ('policallly', 13414), ('amature', 545), ('spokesman', 16614), ('norman', 12122), ('unanimous', 18468), ('climates', 3231), ('galaxies', 7181), ('buddhist', 2372), ('stereotype', 16837), ('hehe', 8103), ('antifamomentum', 749), ('delivering', 4582), ('advertises', 259), ('horror', 8414), ('samford', 15271), ('sanford', 15293), ('owed', 12719), ('ruling', 15161), ('moan', 11424), ('damian', 4313), ('believers', 1618), ('ariana', 940), ('togethernow', 17926), ('resigning', 14761), ('verge', 18875), ('collapsethe', 3359), ('behinder', 1599), ('warehouse', 19174), ('runway', 15175), ('indicted', 8898), ('legitimate', 10169), ('wher', 19410), ('euthanasia', 6015), ('genocide', 7293), ('bulls', 2413), ('blk', 1922), ('pools', 13471), ('nash', 11785), ('upthey', 18723), ('shitttt', 15889), ('geeezz', 7257), ('tension', 17529), ('fueled', 7097), ('byamong', 2504), ('othersnra', 12623), ('refusing', 14513), ('resource', 14779), ('alejandro', 423), ('prayerfully', 13603), ('recuse', 14451), ('proceedings', 13800), ('authoritative', 1182), ('disposal', 5080), ('messages', 11183), ('unwittingly', 18686), ('tenets', 17523), ('goofball', 7502), ('unify', 18582), ('cancelsouthpark', 2597), ('suckin', 17081), ('mommas', 11480), ('titty', 17889), ('woodstock', 19655), ('straightfire', 16927), ('rightful', 14945), ('merry', 11177), ('mates', 10961), ('crazyunclejoe', 4065), ('howa', 8465), ('steves', 16849), ('hooch', 8375), ('deargod', 4418), ('veteran', 18894), ('threw', 17782), ('sack', 15207), ('helmet', 8124), ('retribution', 14846), ('endanger', 5795), ('pet', 13140), ('expressing', 6216), ('amirite', 584), ('mmmhm', 11417), ('erg', 5944), ('fudging', 7095), ('tmay', 17897), ('injustices', 8994), ('occurring', 12343), ('generationblack', 7282), ('britons', 2292), ('deporting', 4708), ('institutionalracism', 9064), ('desired', 4758), ('rao', 14287), ('manners', 10848), ('isaac', 9239), ('unbecoming', 18476), ('uniforms', 18581), ('barzal', 1448), ('confederate', 3594), ('uppercuts', 18707), ('steppenwolf', 16834), ('henry', 8140), ('torys', 17989), ('normality', 12118), ('ingles', 8974), ('johny', 9495), ('veterens', 18896), ('affairs', 280), ('sullied', 17111), ('trumpbaaaaaaaa', 18222), ('japanese', 9377), ('haitian', 7856), ('scooters', 15440), ('jackasses', 9338), ('stonewill', 16896), ('amounting', 597), ('jwb', 9614), ('formerfirst', 6905), ('sayn', 15362), ('itand', 9297), ('evolution', 6074), ('danielle', 4336), ('rainy', 14248), ('flowers', 6784), ('planted', 13309), ('whistleblower', 19440), ('toucher', 18008), ('walls', 19145), ('catchy', 2732), ('replying', 14690), ('pusheror', 14091), ('gloating', 7405), ('kevin', 9750), ('williamsons', 19519), ('giants', 7340), ('hahahahahasureshe', 7844), ('bratand', 2187), ('berserk', 1680), ('deflect', 4542), ('jordan', 9515), ('endangers', 5798), ('fck', 6483), ('ohhhhhh', 12392), ('chin', 3026), ('champ', 2869), ('obtaining', 12323), ('leo', 10184), ('scope', 15441), ('fedlocal', 6509), ('trolly', 18189), ('stranger', 16934), ('walks', 19139), ('verbal', 18872), ('commands', 3434), ('indefensible', 8882), ('melania', 11107), ('memoir', 11129), ('allison', 475), ('incomparable', 8863), ('marin', 10884), ('mazzie', 11001), ('radiance', 14213), ('vghc', 18902), ('stickers', 16855), ('trucksexclusively', 18207), ('trucks', 18206), ('carsseem', 2699), ('spoken', 16613), ('involve', 9197), ('maria', 10880), ('ht', 8484), ('evonomy', 6079), ('malaise', 10786), ('dilemma', 4920), ('nikeboycott', 12008), ('colinkaepernick', 3352), ('nflfootball', 11957), ('trumpresign', 18245), ('jd', 9391), ('thwart', 17821), ('dt', 5444), ('herc', 8144), ('ce', 2789), ('raikou', 14237), ('everify', 6043), ('sendthemhome', 15631), ('resurrected', 14824), ('permanently', 13099), ('hogge', 8310), ('knocking', 9845), ('towns', 18035), ('unlikable', 18621), ('cane', 2607), ('fooling', 6848), ('snp', 16336), ('housewife', 8457), ('jackson', 9347), ('misanthropy', 11342), ('baiter', 1339), ('elicit', 5687), ('aight', 370), ('unaffordable', 18465), ('snm', 16325), ('participation', 12873), ('flaunts', 6739), ('firstand', 6675), ('sexit', 15724), ('whack', 19378), ('timed', 17851), ('barking', 1429), ('outbekhit', 12641), ('fahim', 6303), ('stans', 16745), ('ph', 13155), ('entitlements', 5893), ('auspol', 1168), ('hasbeen', 7982), ('visibly', 18997), ('tighter', 17842), ('store', 16916), ('bachelor', 1278), ('adorably', 239), ('thick', 17708), ('accent', 82), ('ward', 19173), ('presenting', 13677), ('commentating', 3440), ('jordans', 9516), ('scammer', 15377), ('loathe', 10472), ('womani', 19622), ('bk', 1861), ('op', 12486), ('foresight', 6881), ('harden', 7946), ('dishonest', 5043), ('collude', 3374), ('desires', 4759), ('reread', 14745), ('exaggeration', 6090), ('withstanding', 19590), ('blake', 1882), ('posh', 13520), ('brainy', 2176), ('qt', 14136), ('peakshe', 13005), ('surgeons', 17191), ('dentists', 4684), ('themfecking', 17651), ('leftie', 10121), ('lunaticscruffbag', 10661), ('handing', 7891), ('cartels', 2703), ('pats', 12954), ('effing', 5625), ('vomiting', 19039), ('bureaucracy', 2435), ('psychologist', 13990), ('wolf', 19617), ('commies', 3451), ('yourselfthe', 19947), ('displeasure', 5078), ('suckers', 17080), ('disguses', 5039), ('finances', 6630), ('tryouts', 18293), ('quarters', 14156), ('equate', 5928), ('energetic', 5829), ('scatter', 15396), ('longevity', 10523), ('jackie', 9343), ('execs', 6132), ('exec', 6131), ('evolved', 6077), ('stalinist', 16718), ('goolag', 7511), ('decommissioned', 4475), ('merchandise', 11160), ('zazzle', 19987), ('merch', 11159), ('economicswell', 5582), ('albert', 412), ('faked', 6326), ('insecurities', 9024), ('displacing', 5072), ('duncan', 5494), ('calif', 2543), ('luv', 10667), ('redistributing', 14456), ('menu', 11155), ('slop', 16233), ('libya', 10306), ('iraqi', 9217), ('fiscally', 6682), ('hooked', 8381), ('dunno', 5498), ('fatal', 6437), ('shark', 15793), ('sametime', 15269), ('philosophically', 13173), ('scholar', 15420), ('petition', 13148), ('demands', 4596), ('tooo', 17965), ('patience', 12936), ('compliance', 3521), ('dwi', 5526), ('chimed', 3024), ('daffy', 4298), ('mitchthat', 11402), ('truea', 18213), ('shills', 15849), ('wantsthe', 19169), ('overturns', 12710), ('goa', 7432), ('selfdefense', 15585), ('secondamendment', 15520), ('gunfreezones', 7774), ('nero', 11902), ('fiddles', 6584), ('golf', 7476), ('boycottthenfl', 2148), ('justdont', 9591), ('wontlaws', 19649), ('strapped', 16936), ('russells', 15185), ('jeep', 9399), ('stroll', 16988), ('tinys', 17871), ('thirty', 17742), ('drove', 5424), ('triggering', 18172), ('pedophile', 13021), ('chemicals', 2973), ('magnify', 10742), ('intensity', 9095), ('asphalt', 1030), ('carrie', 2690), ('dehydrate', 4560), ('region', 14526), ('fruitcakes', 7055), ('hussein', 8560), ('contribution', 3787), ('caper', 2626), ('contravention', 3782), ('outlaws', 12656), ('baaaaa', 1260), ('baaaaathats', 1261), ('roger', 15051), ('freealexjones', 6991), ('megyn', 11099), ('unload', 18625), ('cents', 2830), ('yalls', 19829), ('friendship', 7030), ('peep', 13031), ('saudiarabia', 15335), ('thecatholics', 17626), ('sham', 15764), ('drainthedeepstateswamp', 5365), ('snipped', 16321), ('beretta', 1666), ('victors', 18931), ('correlationdefinitely', 3900), ('overs', 12701), ('iamalexjones', 8599), ('load', 10464), ('illios', 8699), ('insta', 9047), ('torb', 17976), ('flame', 6726), ('chat', 2934), ('moira', 11462), ('doomfist', 5274), ('breaker', 2205), ('lingerie', 10393), ('dojo', 5219), ('evacuate', 6016), ('swift', 17267), ('appealed', 858), ('womenespecially', 19631), ('harderand', 7950), ('alienate', 436), ('notices', 12157), ('repubs', 14726), ('conjure', 3644), ('thinkers', 17726), ('nedia', 11855), ('portrays', 13514), ('vols', 19031), ('blackwood', 1875), ('cowper', 4013), ('sheepyou', 15815), ('entertainers', 5881), ('unfunny', 18569), ('scripted', 15485), ('imbalance', 8729), ('obamabushiiclintonbushi', 12279), ('byear', 2507), ('boon', 2066), ('trumponomics', 18243), ('barun', 1447), ('sobti', 16349), ('shazam', 15806), ('wings', 19541), ('ebert', 5569), ('thewallstreetjournal', 17699), ('wallstreetjournal', 19146), ('hillbilly', 8221), ('deplorabledreg', 4702), ('trumpsarmy', 18249), ('teamtrump', 17455), ('shoveling', 15950), ('trumpwhat', 18266), ('grabberthats', 7570), ('randolph', 14275), ('wives', 19602), ('damnthats', 4318), ('doappeal', 5172), ('afterwardswas', 308), ('bcpoli', 1507), ('ontpoli', 12472), ('alpoli', 506), ('underestimate', 18513), ('salzburg', 15264), ('salzburgsummit', 15265), ('nukes', 12227), ('pops', 13488), ('udiot', 18413), ('colleague', 3361), ('lax', 10055), ('existing', 6156), ('nguni', 11965), ('languages', 9986), ('msuthu', 11636), ('umsuthu', 18457), ('mosotho', 11569), ('sesotho', 15691), ('muntu', 11678), ('umuntu', 18458), ('pouring', 13569), ('headlinenews', 8044), ('selfinflicts', 15593), ('detention', 4798), ('centers', 2820), ('nonexistent', 12085), ('democratically', 4617), ('athletes', 1099), ('purpleumpkin', 14076), ('murples', 11693), ('shy', 15989), ('influenced', 8949), ('cfo', 2848), ('cries', 4105), ('podium', 13388), ('colleagues', 3362), ('fec', 6499), ('chaid', 2851), ('fcb', 6481), ('ssshhhhhiiiiiiiiiiiiiiiit', 16686), ('chad', 2850), ('spar', 16507), ('sesamestreet', 15690), ('spox', 16643), ('incensed', 8841), ('dolls', 5224), ('newly', 11935), ('purchased', 14063), ('fashions', 6427), ('lgbtqtwitter', 10234), ('imperical', 8778), ('attribute', 1145), ('insubstantial', 9069), ('wayward', 19244), ('patricia', 12941), ('hewitt', 8174), ('hooking', 8383), ('sexal', 15718), ('anybodys', 808), ('justicenow', 9595), ('annalovestrump', 677), ('nvm', 12253), ('dodging', 5193), ('queens', 14162), ('creates', 4070), ('consequences', 3667), ('purposefully', 14078), ('damsel', 4321), ('protag', 13925), ('sticks', 16859), ('hind', 8234), ('kickass', 9766), ('gameday', 7192), ('tidy', 17833), ('whities', 19456), ('oy', 12739), ('displace', 5069), ('queue', 14171), ('benchers', 1638), ('attacker', 1117), ('pegged', 13037), ('manhis', 10827), ('ga', 7161), ('brad', 2160), ('scripture', 15486), ('consuming', 3735), ('theonomists', 17665), ('odia', 12355), ('rw', 15197), ('reppowervote', 14699), ('strengthened', 16959), ('powerprayers', 13577), ('tsunami', 18298), ('antigerman', 767), ('coopt', 3858), ('proisrael', 13853), ('mariota', 10890), ('johnmccain', 9492), ('notably', 12139), ('passage', 12901), ('memorial', 11132), ('suckup', 17084), ('weasel', 19277), ('voteif', 19050), ('sonja', 16427), ('dorinda', 5283), ('efficient', 5624), ('fade', 6299), ('payer', 12973), ('repealed', 14667), ('ensure', 5872), ('severly', 15712), ('comie', 3425), ('freshman', 7015), ('justin', 9604), ('pulease', 14029), ('msmedia', 11631), ('shitsmear', 15880), ('marxine', 10925), ('pavlovian', 12965), ('adviser', 265), ('entitlement', 5892), ('plug', 13362), ('gaps', 7205), ('mediationfact', 11069), ('threads', 17772), ('preparedness', 13659), ('injecting', 8988), ('betty', 1715), ('kavenaughs', 9694), ('evict', 6062), ('naomi', 11771), ('compassion', 3495), ('skank', 16123), ('harf', 7958), ('dncwbore', 5167), ('lyingskank', 10680), ('doshes', 5292), ('pastshe', 12922), ('anyonei', 814), ('psycho', 13987), ('gorsuch', 7531), ('goedert', 7455), ('annnnnnnnnnnnnd', 682), ('alwaysacowboy', 536), ('nflsunday', 11959), ('cowboysnation', 4006), ('dezbryant', 4847), ('blemishes', 1907), ('hags', 7833), ('suffragettes', 17098), ('waitress', 19111), ('cockadoodle', 3310), ('illustrated', 8707), ('deborah', 4431), ('zemkes', 19994), ('sunrise', 17133), ('illustrations', 8709), ('insulted', 9075), ('comedic', 3407), ('antiamericans', 719), ('goodtimes', 7499), ('dynomite', 5537), ('piped', 13252), ('sociability', 16352), ('quotient', 14191), ('bork', 2095), ('tootrump', 17969), ('bashed', 1457), ('wired', 19562), ('speeds', 16553), ('requested', 14737), ('arrived', 971), ('pin', 13233), ('telephone', 17488), ('ikkk', 8678), ('btain', 2354), ('kida', 9773), ('ahhooo', 361), ('streamer', 16950), ('favs', 6468), ('wownot', 19727), ('avfc', 1207), ('bruceout', 2336), ('thinly', 17733), ('flirting', 6761), ('edgy', 5594), ('secretly', 15530), ('trope', 18193), ('dramione', 5371), ('webberforcongress', 19284), ('tessyfiy', 17562), ('stadiums', 16697), ('violently', 18983), ('bullets', 2408), ('psychopath', 13993), ('catkiller', 2746), ('foxhunting', 6943), ('animalcruelty', 662), ('geeezzz', 7258), ('zombie', 20013), ('ivanka', 9328), ('treasonous', 18134), ('divisive', 5150), ('demorats', 4655), ('abhorrent', 21), ('foward', 6941), ('empirical', 5763), ('rotated', 15098), ('gliding', 7402), ('backstabbing', 1300), ('farce', 6402), ('civilian', 3147), ('suckage', 17077), ('lawlessness', 10043), ('unitedkingdom', 18601), ('forit', 6897), ('pushes', 14092), ('lockthemup', 10492), ('nflwalkaway', 11961), ('japan', 9376), ('australias', 1174), ('spike', 16581), ('zealand', 19988), ('msnbc', 11634), ('iddy', 8616), ('biddy', 1757), ('peopleso', 13063), ('vox', 19075), ('contributes', 3785), ('meaningfully', 11045), ('internment', 9126), ('uighur', 18430), ('communismkills', 3476), ('luciferiarising', 10643), ('radicalisation', 14216), ('welles', 19334), ('crowther', 4167), ('analogy', 609), ('unwell', 18683), ('broom', 2320), ('cor', 3870), ('consciousness', 3664), ('creation', 4072), ('mossad', 11572), ('blane', 1890), ('ambrose', 557), ('metoomovement', 11205), ('jag', 9353), ('älskar', 20021), ('sverige', 17232), ('naziism', 11820), ('admits', 225), ('chaulk', 2939), ('scrathed', 15468), ('successes', 17068), ('idgaf', 8636), ('afe', 278), ('bio', 1804), ('worships', 19709), ('hobbits', 8303), ('ringwraith', 14970), ('bnp', 1981), ('rural', 15176), ('somerset', 16413), ('chester', 2989), ('recruits', 14448), ('burnley', 2446), ('halifax', 7865), ('invert', 9172), ('dash', 4359), ('director', 4961), ('wavy', 19236), ('scenes', 15400), ('sunken', 17131), ('grandmaster', 7592), ('ballots', 1366), ('evolve', 6076), ('levistrausscompany', 10223), ('badge', 1315), ('dillinger', 4922), ('montana', 11525), ('donjr', 5254), ('facility', 6276), ('donaldtrumpjr', 5241), ('visuals', 19007), ('smiles', 16283), ('duped', 5502), ('everythings', 6055), ('faithfully', 6322), ('executing', 6136), ('disclaimer', 4993), ('necessarily', 11849), ('vagina', 18799), ('buffoon', 2381), ('rockthe', 15039), ('votedayna', 19046), ('grieve', 7663), ('rainbow', 14245), ('inna', 9001), ('notable', 12138), ('descriptive', 4740), ('dershowitz', 4728), ('cable', 2519), ('snapped', 16307), ('doesent', 5196), ('hahahahaha', 7841), ('stiglitz', 16862), ('stockbroker', 16878), ('evanne', 6027), ('claustrophobic', 3195), ('suppress', 17171), ('shortcummings', 15921), ('yess', 19887), ('savage', 15339), ('goodread', 7497), ('repressive', 14710), ('regimes', 14525), ('commonsense', 3471), ('tomorrows', 17944), ('crumbs', 4176), ('triggers', 18173), ('worthwhile', 19713), ('courses', 3979), ('moneyhow', 11500), ('frend', 7005), ('yoll', 19910), ('arrestedright', 967), ('politico', 13436), ('cannibals', 2610), ('visitor', 19003), ('istotal', 9288), ('publicity', 14010), ('bhagwad', 1735), ('gita', 7376), ('guts', 7800), ('kuran', 9916), ('intellectualidiot', 9086), ('ewu', 6084), ('anumanu', 800), ('generated', 7278), ('antifalike', 746), ('dothat', 5298), ('fuckuser', 7091), ('absolutist', 60), ('offends', 12363), ('unoffensive', 18630), ('chastise', 2933), ('evera', 6039), ('antifirst', 765), ('islamophobia', 9259), ('jess', 9428), ('mummy', 11674), ('operations', 12502), ('falseflags', 6353), ('highly', 8197), ('palestine', 12790), ('chosenpeople', 3058), ('hums', 8518), ('pulls', 14034), ('happenin', 7922), ('dez', 4846), ('cowboys', 4005), ('encouraged', 5790), ('swiftgpi', 17268), ('crossborder', 4154), ('payments', 12977), ('bfnewyork', 1729), ('fiber', 6577), ('vicariously', 18913), ('millionth', 11292), ('mattress', 10975), ('tbey', 17427), ('lakeland', 9961), ('devastated', 4817), ('realtor', 14369), ('pacing', 12750), ('vaporizes', 18828), ('thingthe', 17722), ('routinely', 15116), ('conclusion', 3568), ('biblical', 1752), ('scholarship', 15422), ('bart', 1446), ('ehrman', 5646), ('schlockwell', 15416), ('disisive', 5049), ('boob', 2047), ('detect', 4793), ('truths', 18283), ('lindasarsour', 10384), ('fakefeminist', 6329), ('antisemetic', 785), ('brooklyn', 2318), ('palestinian', 12791), ('leopard', 10189), ('pcliberal', 12988), ('trusts', 18272), ('zealots', 19990), ('tongs', 17948), ('disinfectant', 5046), ('touchébut', 18010), ('flashes', 6733), ('areunless', 929), ('registering', 14530), ('convicts', 3827), ('stare', 16749), ('decisis', 4459), ('barret', 1441), ('hyperbole', 8577), ('theatre', 17618), ('mythif', 11739), ('rent', 14656), ('landyou', 9982), ('yepthat', 19880), ('consensual', 3665), ('urinating', 18735), ('trumphes', 18231), ('starsshhh', 16760), ('dreamers', 5383), ('beings', 1605), ('womb', 19627), ('equivalency', 5935), ('jumpy', 9573), ('cream', 4066), ('eater', 5565), ('fiftiesbornwomen', 6595), ('shouldertoshoulder', 15938), ('wepaidinyoupayout', 19354), ('waspi', 19208), ('statepensionage', 16781), ('libdem', 10246), ('rectify', 14449), ('criticismlite', 4130), ('hotlinewhats', 8438), ('xenoblade', 19801), ('bw', 2499), ('commissions', 3458), ('artistforhire', 986), ('commission', 3456), ('robots', 15029), ('anthro', 714), ('furry', 7144), ('monstergirls', 11522), ('cyclops', 4285), ('magikarp', 10739), ('catgirls', 2741), ('possum', 13535), ('artistsontwitter', 988), ('meetings', 11093), ('solving', 16399), ('discussions', 5025), ('mulford', 11653), ('wore', 19677), ('wrestle', 19743), ('jokingbut', 9505), ('poontang', 13472), ('clan', 3162), ('comicart', 3423), ('drone', 5418), ('abi', 23), ('condensed', 3580), ('bick', 1753), ('smiled', 16281), ('skipped', 16145), ('bug', 2383), ('slipped', 16222), ('kavanaughwithdraw', 9685), ('kavanaughscotus', 9683), ('orthodox', 12601), ('expirrence', 6185), ('plummet', 13365), ('afloat', 296), ('macys', 10699), ('rebounded', 14388), ('engrossed', 5849), ('thames', 17590), ('fm', 6802), ('deficitswhile', 4529), ('lookingtell', 10532), ('harpers', 7968), ('pmjt', 13374), ('deficitstake', 4528), ('timeno', 17855), ('historians', 8260), ('affiliation', 289), ('shid', 15840), ('brushed', 2341), ('gunsgun', 7787), ('closeminded', 3259), ('manifort', 10834), ('junior', 9577), ('kushner', 9919), ('puking', 14028), ('understands', 18528), ('seizure', 15573), ('abhorres', 22), ('likelove', 10355), ('dressing', 5399), ('wealthy', 19263), ('ijustdontseemyself', 8676), ('liberalsguns', 10271), ('ilk', 8682), ('literalviolence', 10428), ('phrases', 13193), ('wahh', 19102), ('silliness', 16046), ('neverending', 11923), ('stockholm', 16879), ('swedish', 17258), ('sik', 16038), ('heil', 8110), ('backside', 1297), ('boyfriends', 2151), ('straighten', 16925), ('ata', 1090), ('chant', 2892), ('vid', 18933), ('medicine', 11080), ('depts', 4715), ('glaring', 7394), ('embarassed', 5726), ('triple', 18176), ('digits', 4912), ('bordering', 2086), ('atheists', 1096), ('crackheads', 4030), ('adulterers', 244), ('statute', 16793), ('jurisdiction', 9583), ('authorities', 1183), ('crossing', 4159), ('benedict', 1643), ('pruitt', 13973), ('chewing', 2990), ('golding', 7472), ('knowthat', 9861), ('franklin', 6967), ('movementhad', 11609), ('automatic', 1192), ('hounds', 8443), ('carls', 2677), ('tranny', 18085), ('typed', 18391), ('psy', 13981), ('stale', 16716), ('whoviille', 19480), ('thx', 17823), ('negotiate', 11873), ('satisfies', 15328), ('sings', 16075), ('liberalfool', 10253), ('sacred', 15210), ('towrds', 18036), ('scummy', 15496), ('scales', 15372), ('drown', 5426), ('responsibilities', 14797), ('lolololololololo', 10516), ('questioned', 14167), ('sluch', 16243), ('payoff', 12978), ('settlements', 15702), ('relief', 14601), ('goonies', 7512), ('gz', 7815), ('someway', 16419), ('ebola', 5570), ('symptoms', 17300), ('progressing', 13845), ('reads', 14344), ('whit', 19443), ('congressmana', 3640), ('himdemocrats', 8225), ('speakwe', 16527), ('itd', 9301), ('liberaltarian', 10283), ('freshest', 7014), ('sesame', 15689), ('hateliberals', 8000), ('bubba', 2361), ('enters', 5878), ('yoshi', 19920), ('patchmade', 12926), ('jay', 9385), ('burnered', 2443), ('contradicted', 3776), ('throughout', 17793), ('forduniversitysorosantifabull', 6872), ('defeats', 4508), ('circle', 3118), ('jude', 9546), ('thaddeus', 17587), ('wolfe', 19618), ('boochi', 2050), ('causality', 2753), ('lawmakers', 10044), ('instituted', 9062), ('scofflaws', 15437), ('statistics', 16788), ('cohort', 3341), ('emma', 5746), ('gonzalez', 7483), ('advocate', 270), ('qarmytrain', 14127), ('centerleft', 2819), ('interacted', 9102), ('vice', 18914), ('versa', 18883), ('functionality', 7115), ('structured', 16995), ('rulesbased', 15159), ('nonconservatives', 12079), ('resultsgoalsbased', 14822), ('contend', 3751), ('rulebreakers', 15155), ('womenshouldruletheworld', 19636), ('pogba', 13393), ('kamara', 9640), ('disservice', 5103), ('ticats', 17827), ('cornhole', 3881), ('fails', 6309), ('himseem', 8228), ('guilt', 7757), ('incoming', 8862), ('mickie', 11232), ('justiceforoliver', 9594), ('techno', 17470), ('trusttheplan', 18274), ('grest', 7657), ('edwsrd', 5609), ('peterson', 13146), ('lawton', 10052), ('rhony', 14905), ('rough', 15105), ('keefe', 9708), ('organizing', 12582), ('tuesdaytips', 18309), ('invaded', 9160), ('smg', 16276), ('jfkjr', 9448), ('wreckage', 19740), ('assumed', 1075), ('tweep', 18347), ('drunkest', 5438), ('swings', 17272), ('portraying', 13513), ('jc', 9389), ('dense', 4681), ('unleavened', 18619), ('apologizing', 847), ('puhlease', 14026), ('kiki', 9777), ('childess', 3012), ('consistently', 3704), ('frisk', 7040), ('definable', 4532), ('characteristics', 2903), ('cnco', 3289), ('premiosheat', 13653), ('latingrammycnco', 10013), ('cnconellen', 3290), ('thelatinartist', 17645), ('followerickonig', 6829), ('scamming', 15379), ('nothinglower', 12154), ('alexis', 428), ('arquette', 961), ('abc', 16), ('protrump', 13946), ('rethinking', 14836), ('bee', 1567), ('breathtakingly', 2222), ('handsome', 7903), ('influx', 8954), ('insults', 9078), ('unicorn', 18577), ('mediocre', 11082), ('lean', 10092), ('chaste', 2932), ('cheek', 2956), ('lid', 10315), ('kitchen', 9814), ('gunned', 7778), ('osbourne', 12608), ('overlooked', 12692), ('debacle', 4426), ('deficit', 4526), ('probing', 13792), ('scottish', 15451), ('conservativesit', 3681), ('nickferrari', 11982), ('paedophiles', 12760), ('ferrari', 6560), ('lbcradio', 10067), ('taser', 17399), ('takeover', 17345), ('geologically', 7304), ('discourse', 5008), ('jason', 9381), ('denys', 4691), ('bruce', 2335), ('nats', 11805), ('inning', 9003), ('strasburgh', 16938), ('totalitarianism', 17998), ('theleft', 17647), ('victories', 18929), ('halfcentury', 7862), ('fuddyduddy', 7093), ('horseshoe', 8420), ('grounded', 7695), ('chivalry', 3038), ('differences', 4896), ('equality', 5924), ('mandate', 10813), ('induced', 8912), ('maneuver', 10820), ('installation', 9050), ('crates', 4050), ('element', 5680), ('safest', 15233), ('sidenote', 16008), ('preaches', 13615), ('documentaries', 5184), ('eyeopener', 6251), ('payment', 12976), ('visits', 19004), ('ama', 540), ('yoo', 19913), ('deputy', 4716), ('treasury', 18138), ('frank', 6964), ('newman', 11936), ('mmt', 11419), ('confirms', 3615), ('nonmmt', 12088), ('insiders', 9029), ('lowemissions', 10609), ('transport', 18108), ('announces', 688), ('lowemission', 10608), ('vehicles', 18855), ('spicer', 16573), ('happier', 7926), ('respected', 14784), ('dennis', 4675), ('kucinich', 9910), ('garrett', 7215), ('resulting', 14820), ('welcomes', 19327), ('disguise', 5037), ('devolved', 4837), ('epson', 5921), ('printer', 13755), ('twittershouldbe', 18375), ('underwater', 18532), ('oxygen', 12737), ('tanks', 17377), ('sycophantic', 17288), ('retweeted', 14852), ('impeachment', 8771), ('lois', 10506), ('clark', 3176), ('kings', 9803), ('walmart', 19147), ('superheavily', 17140), ('welltreated', 19343), ('pornstar', 13503), ('gullibility', 7763), ('misandry', 11341), ('bea', 1514), ('arthur', 980), ('bath', 1470), ('coconut', 3324), ('rub', 15136), ('bedtime', 1565), ('adore', 240), ('bitchy', 1842), ('spree', 16652), ('forbid', 6861), ('measuresoh', 11057), ('avoiding', 1213), ('nvestigated', 12252), ('doxx', 5344), ('meuller', 11210), ('sportsman', 16632), ('ahahaha', 354), ('asshats', 1056), ('ughyou', 18418), ('cradle', 4034), ('avoided', 1212), ('physicalsocial', 13199), ('supes', 17154), ('krypton', 9905), ('tshirt', 18295), ('tua', 18302), ('announcing', 689), ('housebuilders', 8450), ('aalayahi', 5), ('classmates', 3189), ('suffered', 17093), ('juani', 9544), ('blamein', 1885), ('ricardo', 14911), ('rosello', 15084), ('roselló', 15085), ('behavioryoure', 1596), ('eli', 5686), ('exhaustive', 6147), ('protester', 13938), ('donated', 5244), ('cracks', 4033), ('toughen', 18012), ('campuses', 2584), ('nono', 12090), ('kma', 9827), ('disliked', 5051), ('oc', 12331), ('amai', 541), ('kira', 9806), ('mum', 11669), ('gavin', 7237), ('mcinnes', 11027), ('harmless', 7963), ('gillum', 7359), ('voterondesantis', 19062), ('leveon', 10217), ('yds', 19845), ('conners', 3654), ('calves', 2559), ('persecution', 13111), ('persecuted', 13110), ('legislative', 10162), ('coupled', 3973), ('diplomat', 4951), ('sways', 17249), ('varadkar', 18829), ('realthis', 14368), ('unblocked', 18480), ('gently', 7299), ('dammit', 4315), ('chanting', 2893), ('regrann', 14533), ('trumpbabes', 18223), ('milfsfortrump', 11274), ('babesfortrump', 1265), ('gaff', 7170), ('hijinx', 8208), ('chicanery', 3000), ('buffoons', 2382), ('urban', 18729), ('keepitpublic', 9718), ('closes', 3262), ('groggy', 7679), ('staffed', 16699), ('eager', 5541), ('overlook', 12691), ('insist', 9038), ('doublestandard', 5307), ('justifications', 9599), ('coffers', 3333), ('greg', 7653), ('walden', 19124), ('mccleod', 11016), ('skinner', 16138), ('treasure', 18137), ('telecom', 17486), ('antifair', 742), ('internetanti', 9123), ('oatmeal', 12276), ('uphill', 18699), ('climb', 3232), ('seething', 15564), ('harassing', 7939), ('barrack', 1436), ('animic', 668), ('twittershe', 18374), ('actressbut', 171), ('divert', 5139), ('focuskuch', 6810), ('toh', 17927), ('log', 10497), ('kahengeunko', 9624), ('kaam', 9616), ('hai', 7848), ('kehna', 9722), ('orcs', 12557), ('orc', 12554), ('dumpster', 5491), ('diehard', 4889), ('disgracewithout', 5034), ('leeches', 10113), ('soross', 16453), ('secretive', 15529), ('rubio', 15141), ('answering', 708), ('bribery', 2250), ('anchor', 621), ('wed', 19291), ('premeditated', 13650), ('rehearsed', 14550), ('adhered', 204), ('settle', 15700), ('settling', 15704), ('dismiss', 5056), ('crouton', 4160), ('prov', 13955), ('raiding', 14236), ('ei', 5647), ('props', 13909), ('steward', 16851), ('purse', 14083), ('pffft', 13153), ('interface', 9113), ('dottering', 5301), ('demoncrats', 4637), ('disowned', 5065), ('inspiration', 9042), ('maggot', 10735), ('vindicated', 18967), ('penalties', 13043), ('normally', 12121), ('dismissed', 5057), ('auntie', 1161), ('geaux', 7255), ('tigers', 17840), ('mastercard', 10948), ('biglylolbigly', 1768), ('wonhe', 19645), ('aholewhat', 364), ('kickedvagina', 9769), ('hatslol', 8009), ('nick', 11980), ('brittany', 2294), ('recorded', 14435), ('similarly', 16052), ('islands', 9264), ('unsurprising', 18666), ('abject', 27), ('adams', 183), ('hydrated', 8573), ('bore', 2090), ('tracksuit', 18050), ('ooooo', 12482), ('quoted', 14188), ('tp', 18042), ('spotlightshe', 16637), ('untreatable', 18673), ('bagel', 1328), ('yard', 19833), ('mushrooms', 11700), ('authors', 1188), ('binoculars', 1802), ('whoring', 19475), ('alcantara', 417), ('nfw', 11962), ('fluffing', 6787), ('ski', 16131), ('clock', 3252), ('rbg', 14329), ('hopping', 8398), ('adefenders', 199), ('spanish', 16501), ('unjustice', 18612), ('freedomofexpression', 6995), ('spain', 16499), ('fakedemocracy', 6327), ('cddr', 2784), ('shameonspain', 15771), ('sub', 17028), ('minding', 11301), ('recollections', 14429), ('corroboration', 3904), ('survivor', 17213), ('reflex', 14499), ('cliches', 3221), ('thort', 17757), ('haleigh', 7858), ('immaculate', 8737), ('sylvester', 17290), ('skunk', 16150), ('challenged', 2861), ('heremy', 8146), ('boyhood', 2152), ('socioeconomic', 16370), ('rigged', 14939), ('scarborough', 15387), ('chickenshit', 3004), ('hana', 7882), ('hina', 8233), ('lyes', 10674), ('prohibition', 13851), ('sanctity', 15282), ('subjugation', 17032), ('paradox', 12831), ('pursued', 14084), ('johnny', 9493), ('screwing', 15482), ('ciansa', 3104), ('alternatives', 524), ('enmeshed', 5861), ('anal', 607), ('cavity', 2767), ('primatives', 13741), ('describes', 4736), ('atrocities', 1111), ('disasters', 4989), ('trumpisamoron', 18234), ('nytimesopedbyqanon', 12267), ('bloodshed', 1949), ('asb', 994), ('asa', 992), ('buzzwords', 2497), ('mah', 10746), ('dunnit', 5497), ('neat', 11844), ('follback', 6821), ('economist', 5583), ('concrete', 3573), ('couldve', 3937), ('tongue', 17949), ('briefs', 2262), ('underwear', 18533), ('tighty', 17843), ('formally', 6900), ('loll', 10514), ('autocratic', 1191), ('exceeds', 6102), ('wthe', 19772), ('plagarismuser', 13290), ('niggah', 11995), ('complimenting', 3528), ('poetic', 13391), ('comradeim', 3542), ('printed', 13754), ('tshirts', 18296), ('patriotism', 12946), ('premeditation', 13651), ('greater', 7631), ('scalia', 15373), ('specified', 16537), ('upheld', 18698), ('dirk', 4963), ('plumber', 13364), ('dan', 4322), ('majerle', 10762), ('danny', 4340), ('ainge', 377), ('shoudnt', 15934), ('backfield', 1285), ('thinner', 17734), ('exhibit', 6148), ('aclu', 142), ('conservativesantifa', 3677), ('delivery', 4584), ('ayers', 1254), ('dismisses', 5058), ('yiannopoulos', 19902), ('scientologist', 15434), ('lecor', 10107), ('frame', 6953), ('drops', 5423), ('expectus', 6171), ('gunsensecandidates', 7785), ('gotv', 7546), ('throwthemout', 17799), ('murda', 11680), ('yeahhhhh', 19852), ('destiny', 4777), ('cayde', 2768), ('liker', 10359), ('mexicans', 11213), ('colluded', 3375), ('rebecca', 14383), ('wana', 19152), ('photographer', 13187), ('tips', 17874), ('zodiac', 20010), ('sagittarius', 15237), ('michigan', 11231), ('wolverines', 19619), ('hshshahhsjjjsjsjs', 8482), ('tic', 17826), ('tacs', 17324), ('magnetjust', 10740), ('ahh', 357), ('frontin', 7046), ('grandparents', 7596), ('punishing', 14054), ('outages', 12640), ('outage', 12639), ('batman', 1474), ('rampant', 14267), ('internets', 9125), ('retweeting', 14853), ('perceived', 13070), ('ballgame', 1361), ('elizabeth', 5699), ('warren', 19189), ('fundraises', 7124), ('holier', 8324), ('beloeve', 1629), ('beats', 1540), ('recieve', 14407), ('gimme', 7362), ('galpal', 7187), ('bookclub', 2054), ('heartwarming', 8074), ('keaton', 9706), ('jane', 9373), ('fonda', 6838), ('candice', 2602), ('bergun', 1670), ('steamburgen', 16814), ('wobble', 19612), ('kod', 9871), ('baff', 1325), ('dun', 5493), ('breez', 2225), ('nips', 12021), ('ehen', 5645), ('nao', 11770), ('liketake', 10361), ('shove', 15948), ('jumpsuit', 9572), ('arkansasalong', 945), ('deplorableshe', 4704), ('karma', 9656), ('bitc', 1833), ('dues', 5463), ('rodham', 15046), ('clintonlucerferian', 3246), ('kanye', 9650), ('alternate', 521), ('disembowels', 5029), ('roevwade', 15049), ('rhe', 14898), ('imngonna', 8756), ('uppdoals', 18704), ('supplymanagement', 17158), ('stubbornly', 17001), ('clinging', 3237), ('distorts', 5115), ('andwhat', 640), ('demonize', 4640), ('stoneman', 16893), ('douglas', 5324), ('randy', 14278), ('patriotsunite', 12949), ('growthenetwork', 7712), ('thestormisuponus', 17690), ('theeyeofthestorm', 17636), ('iloveamerica', 8710), ('yayyyyy', 19844), ('gunslinger', 7790), ('usagunslinger', 18744), ('nou', 12178), ('een', 5613), ('desinfo', 4755), ('cindy', 3115), ('hyde', 8572), ('dearprofessorford', 4420), ('appreciates', 891), ('scaramucci', 15386), ('collar', 3360), ('penny', 13050), ('portfolio', 13508), ('finestine', 6643), ('lokk', 10508), ('july', 9567), ('steam', 16813), ('amazed', 546), ('yknow', 19903), ('xcultureinstitutionetc', 19799), ('examined', 6094), ('fallon', 6349), ('woosy', 19664), ('returns', 14850), ('immigrant', 8747), ('achtung', 136), ('hungarian', 8525), ('compassionate', 3496), ('rocker', 15033), ('vested', 18892), ('vampire', 18819), ('lemon', 10177), ('fisadocs', 6679), ('backstabber', 1299), ('backuser', 1305), ('weaker', 19257), ('focuses', 6808), ('truman', 18219), ('libleft', 10294), ('dwellers', 5524), ('nonnewtonian', 12089), ('fluid', 6791), ('oobleck', 12475), ('unexpected', 18552), ('wwe', 19785), ('resolved', 14774), ('acted', 155), ('chuka', 3093), ('khan', 9759), ('blairite', 1881), ('cosplaying', 3919), ('alberta', 413), ('pronazi', 13882), ('toolbox', 17959), ('animate', 664), ('waaaay', 19086), ('booger', 2051), ('stripper', 16980), ('smelling', 16273), ('cologne', 3378), ('ukgov', 18433), ('dumping', 5490), ('swansea', 17241), ('offers', 12371), ('noncommittal', 12078), ('degenerated', 4552), ('abound', 45), ('tuned', 18318), ('trumplies', 18240), ('jameis', 9365), ('fitzmagic', 6698), ('fitztragic', 6699), ('jets', 9442), ('thebills', 17622), ('addressed', 194), ('saferyou', 15232), ('controlwhat', 3811), ('probable', 13788), ('scenario', 15398), ('isisantifa', 9247), ('cola', 3347), ('chaplain', 2897), ('lifting', 10343), ('boats', 1991), ('lowgrowth', 10613), ('highregulation', 8198), ('flourishing', 6782), ('flaming', 6728), ('nominating', 12065), ('appt', 904), ('happyhappy', 7932), ('missy', 11387), ('awewww', 1237), ('mugs', 11650), ('secrecy', 15526), ('governmental', 7555), ('palestinians', 12792), ('mcdonald', 11020), ('glc', 7399), ('mc', 11006), ('granny', 7600), ('nowadays', 12193), ('steps', 16836), ('disclosing', 4994), ('complaints', 3515), ('gtgtgtgtsimcoe', 7729), ('bruin', 2338), ('bustingbeardown', 2470), ('allocated', 478), ('sadiqkhant', 15222), ('warzones', 19195), ('balloon', 1364), ('substance', 17053), ('mayoroflondon', 10997), ('amusing', 603), ('knots', 9848), ('pointed', 13395), ('deception', 4450), ('sentences', 15648), ('graaawrl', 7565), ('wyvern', 19797), ('breakfast', 2207), ('healer', 8048), ('babysit', 1275), ('foolishness', 6851), ('criminally', 4112), ('terps', 17540), ('capricorn', 2638), ('stephen', 16831), ('def', 4499), ('sickkidsinlove', 16000), ('inspo', 9045), ('sues', 17091), ('demoted', 4656), ('ohr', 12398), ('skirts', 16147), ('enduring', 5823), ('escapades', 5963), ('joshs', 9520), ('uhh', 18426), ('mines', 11308), ('helmets', 8125), ('hotter', 8440), ('crapper', 4044), ('mei', 11102), ('exerted', 6143), ('truest', 18215), ('torylabour', 17986), ('atm', 1104), ('hoard', 8298), ('russiacollusion', 15187), ('fisagate', 6680), ('deepstateisreal', 4496), ('bribing', 2252), ('jennifer', 9407), ('bandit', 1380), ('handiwork', 7892), ('portugal', 13515), ('fluked', 6792), ('outs', 12668), ('cr', 4022), ('armchair', 951), ('quarterbacks', 14155), ('mistakes', 11392), ('managers', 10809), ('bangers', 1384), ('ocd', 12345), ('yeahtotally', 19855), ('floss', 6779), ('gday', 7250), ('monique', 11508), ('forest', 6882), ('pathologist', 12933), ('pillars', 13228), ('defunk', 4549), ('chars', 2923), ('thunks', 17814), ('lavish', 10035), ('rile', 14965), ('confrontations', 3625), ('advertisers', 258), ('rallied', 14256), ('convoluted', 3833), ('pie', 13216), ('stat', 16774), ('imwithsnoop', 8819), ('fry', 7063), ('jihadis', 9453), ('aj', 390), ('nahin', 11751), ('kal', 9632), ('tum', 18314), ('marna', 10907), ('shameless', 15768), ('comet', 3412), ('blocks', 1935), ('surewe', 17187), ('circles', 3119), ('cognitivedissonance', 3337), ('notsorry', 12172), ('romeo', 15064), ('frenkenstien', 7006), ('backshe', 1296), ('mru', 11624), ('crosses', 4157), ('timeline', 17852), ('becareful', 1549), ('venus', 18868), ('newsweek', 11946), ('deepstatepanic', 4497), ('edition', 5598), ('blurted', 1976), ('merrill', 11176), ('garlands', 7213), ('antifagreat', 740), ('bluewaveofviolence', 1970), ('reprobates', 14713), ('parted', 12868), ('lold', 10512), ('asf', 999), ('socialise', 16354), ('primarys', 13740), ('mil', 11262), ('outraising', 12665), ('turnoutmust', 18334), ('neighbor', 11880), ('toting', 18003), ('coughnicky', 3932), ('flawless', 6743), ('henderson', 8138), ('sturridge', 17024), ('misinformed', 11360), ('overdose', 12685), ('tombstone', 17939), ('ripmm', 14981), ('airplane', 382), ('sayno', 15363), ('trek', 18148), ('uglier', 18419), ('zagami', 19984), ('breathtaking', 2221), ('trumpsters', 18253), ('crowing', 4166), ('cards', 2657), ('myyy', 11742), ('saaaaaaadd', 15204), ('echo', 5575), ('conspiratorial', 3711), ('crafted', 4036), ('partial', 12869), ('narrow', 11780), ('preaching', 13616), ('fullblown', 7108), ('subscriber', 17044), ('conduit', 3590), ('upper', 18706), ('buck', 2365), ('applebee', 873), ('novice', 12189), ('outshined', 12669), ('psuedo', 13980), ('nutrition', 12246), ('yutz', 19976), ('valley', 18812), ('reversing', 14866), ('pedos', 13025), ('lowlifes', 10618), ('whyrwpreachesracism', 19486), ('rwluciferiancult', 15198), ('spectacles', 16540), ('stl', 16875), ('notorious', 12168), ('signaling', 16026), ('struggles', 16997), ('feckless', 6503), ('demonized', 4641), ('twitteroxymoron', 18371), ('bafoonicus', 1326), ('punks', 14057), ('ramirez', 14263), ('homers', 8348), ('doubles', 5306), ('snell', 16317), ('cy', 4279), ('degrom', 4558), ('acussed', 179), ('zipit', 20008), ('goalposts', 7435), ('yeahmetoo', 19853), ('condescending', 3581), ('wwire', 19791), ('hangers', 7906), ('terminationesp', 17537), ('ohi', 12394), ('conservs', 3691), ('ds', 5441), ('discourages', 5006), ('betoforsenate', 1702), ('dimly', 4931), ('econ', 5578), ('whataboutism', 19385), ('cucks', 4208), ('shower', 15957), ('inquiring', 9017), ('siobhan', 16087), ('clps', 3277), ('constituency', 3719), ('rian', 14907), ('conclude', 3567), ('regrets', 14537), ('rey', 14891), ('offre', 12382), ('reylo', 14892), ('amyyour', 605), ('listthanks', 10421), ('msaga', 11626), ('makesouthafricagreatagain', 10780), ('gigantic', 7351), ('borisjohnson', 2094), ('sympathies', 17293), ('fbpe', 6477), ('snatch', 16309), ('envy', 5907), ('sleezy', 16202), ('returner', 14848), ('lined', 10389), ('rb', 14328), ('responds', 14793), ('bcashhhhhhhhhhconnectttt', 1502), ('topbuzz', 17972), ('stalker', 16721), ('lpfirsttime', 10627), ('comingggg', 3428), ('ashame', 1004), ('kwasia', 9921), ('shatta', 15802), ('wale', 19125), ('idiothis', 8642), ('reign', 14555), ('seff', 15565), ('vim', 18965), ('factchecking', 6284), ('rivera', 14996), ('wb', 19248), ('vary', 18835), ('sinnfeinn', 16085), ('replays', 14684), ('inviting', 9192), ('omar', 12428), ('bulletcontrol', 2406), ('brah', 2165), ('cider', 3106), ('patch', 12924), ('indifference', 8901), ('characterstrong', 2908), ('msn', 11633), ('geez', 7262), ('daylight', 4384), ('neoliberal', 11894), ('tee', 17477), ('popularist', 13491), ('normalizing', 12120), ('opioids', 12510), ('lotta', 10577), ('yetis', 19898), ('maverick', 10980), ('nerfed', 11901), ('bcoz', 1506), ('pl', 13284), ('religiously', 14608), ('chronicle', 3081), ('installment', 9053), ('bojan', 2014), ('stairway', 16713), ('cohen', 3338), ('phycho', 13196), ('socialismsucks', 16357), ('wiccan', 19489), ('shortsighted', 15925), ('caribbros', 2671), ('oroshimaru', 12597), ('teleports', 17489), ('spawn', 16516), ('onna', 12462), ('glitchy', 7404), ('synch', 17301), ('commuted', 3485), ('consequencesyour', 3668), ('responsehe', 14795), ('insights', 9032), ('whatplatform', 19393), ('fundamentallyrestoringamerica', 7121), ('konku', 9874), ('urlamebrain', 18737), ('gavel', 7236), ('nahhh', 11750), ('vocalistcomposer', 19017), ('salute', 15261), ('carey', 2669), ('holderglobalist', 8317), ('personified', 13120), ('scrub', 15488), ('lird', 10407), ('abs', 51), ('tulip', 18312), ('waitingto', 19110), ('slaughtering', 16182), ('mao', 10863), ('stalin', 16717), ('whiney', 19429), ('uns', 18654), ('connects', 3651), ('fixolas', 6708), ('ahha', 358), ('capitalists', 2630), ('governmentsanctioned', 7557), ('lobbying', 10475), ('limousine', 10379), ('sanctimony', 15280), ('wee', 19299), ('tap', 17384), ('fae', 6300), ('unamerican', 18467), ('lowliness', 10619), ('exorcism', 6162), ('anatomy', 617), ('crewneck', 4099), ('policiy', 13423), ('spie', 16579), ('quasi', 14158), ('diss', 5098), ('slide', 16208), ('marker', 10895), ('psyc', 13982), ('whilewish', 19423), ('parts', 12889), ('wheelchairs', 19403), ('ambulance', 558), ('wasca', 19197), ('myrtle', 11733), ('irrelevantas', 9231), ('asserting', 1049), ('develop', 4820), ('schoolingas', 15425), ('hotdogs', 8435), ('crusts', 4182), ('pizzas', 13279), ('italians', 9295), ('spite', 16598), ('groveled', 7704), ('mullah', 11654), ('frozen', 7052), ('inthe', 9143), ('woods', 19653), ('whrc', 19482), ('hazel', 8033), ('typhoons', 18393), ('cyclones', 4284), ('hurricanes', 8549), ('cousin', 3989), ('demi', 4605), ('od', 12349), ('arianna', 941), ('grande', 7588), ('beliw', 1624), ('visamatas', 18995), ('raw', 14322), ('modi', 11454), ('wildwet', 19511), ('bhajpaa', 1739), ('dalit', 4304), ('lyingthis', 10681), ('delaying', 4566), ('hokey', 8313), ('pokey', 13406), ('comedianactors', 3404), ('founder', 6937), ('devoted', 4839), ('continuing', 3767), ('leigh', 10173), ('trustees', 18271), ('retail', 14826), ('maintenance', 10761), ('advise', 262), ('lackeys', 9945), ('dickbrain', 4871), ('ann', 675), ('coulter', 3938), ('grover', 7705), ('mona', 11487), ('commemoration', 3435), ('seditiontreason', 15545), ('barak', 1410), ('casa', 2708), ('micheladas', 11229), ('sims', 16061), ('knowcame', 9850), ('kufball', 9912), ('harsh', 7975), ('heartedly', 8070), ('advised', 263), ('esa', 5961), ('eligible', 5688), ('sabotaging', 15206), ('pounds', 13567), ('inches', 8845), ('miley', 11271), ('sessionshuber', 15695), ('souls', 16468), ('cashier', 2714), ('nbc', 11828), ('cultists', 4217), ('assert', 1048), ('jot', 9521), ('kavanaughconfirmationhearing', 9677), ('thehandmaidstale', 17640), ('elmo', 5709), ('champagne', 2870), ('indictments', 8899), ('losss', 10572), ('waivers', 19114), ('restraining', 14812), ('rounds', 15111), ('apocalypse', 839), ('despacito', 4762), ('mcginnis', 11026), ('funloved', 7129), ('excitement', 6113), ('yeshe', 19884), ('smoothing', 16297), ('predictions', 13631), ('midget', 11244), ('spectacle', 16539), ('occasion', 12334), ('stereotypes', 16838), ('dwarfism', 5521), ('hugely', 8495), ('damaging', 4312), ('dwarf', 5520), ('teenager', 17480), ('okeefe', 12407), ('gateway', 7228), ('eagle', 5542), ('forum', 6923), ('conspiracynomore', 3710), ('patriotswin', 12951), ('trumptreason', 18263), ('thetruthshallsetusfree', 17694), ('cuter', 4267), ('tha', 17586), ('vise', 18996), ('competency', 3500), ('tad', 17331), ('clarifying', 3173), ('hollyweeders', 8330), ('antigop', 768), ('pardon', 12842), ('youin', 19930), ('imaginejust', 8725), ('howard', 8466), ('fifteen', 6593), ('formerly', 6906), ('controversal', 3812), ('perception', 13076), ('centralistliberals', 2822), ('scampi', 15380), ('nik', 12005), ('nak', 11756), ('spicy', 16575), ('obscures', 12307), ('sheer', 15816), ('brilliantness', 2274), ('griffin', 7666), ('nowreading', 12199), ('grid', 7660), ('bitchass', 1835), ('dipfuck', 4949), ('cooktragic', 3845), ('lnp', 10461), ('lotto', 10578), ('demeaned', 4600), ('kneesyour', 9836), ('vanderbilt', 18822), ('waltzing', 19150), ('confounded', 3623), ('interpreting', 9130), ('suing', 17106), ('discriminating', 5018), ('allergic', 462), ('chocolate', 3043), ('hahah', 7836), ('empowered', 5773), ('ohhhh', 12391), ('highjacked', 8193), ('tunisians', 18320), ('mckenna', 11028), ('defect', 4509), ('kemp', 9734), ('undoing', 18540), ('summons', 17119), ('paybacks', 12969), ('rigs', 14963), ('duhh', 5467), ('nottowatch', 12173), ('philippines', 13170), ('cppnpa', 4021), ('duterte', 5515), ('medicareforall', 11076), ('poles', 13413), ('discourage', 5004), ('bombshell', 2030), ('ripped', 14983), ('decapitated', 4438), ('likeness', 10357), ('baron', 1434), ('misogynistic', 11367), ('tosser', 17994), ('titus', 17890), ('welliver', 19339), ('corbin', 3871), ('licked', 10312), ('flanking', 6729), ('hol', 8314), ('ryou', 15202), ('chuckle', 3087), ('jo', 9474), ('swinson', 17273), ('taylor', 17422), ('aloud', 502), ('abso', 55), ('twisting', 18363), ('defamewe', 4501), ('donenot', 5251), ('mannered', 10846), ('dissapointing', 5099), ('sailor', 15241), ('moon', 11535), ('illusion', 8705), ('mccained', 11010), ('deathpenalty', 4424), ('pedogate', 13018), ('channeling', 2891), ('rope', 15080), ('christianityconservatives', 3067), ('judical', 9559), ('oppress', 12529), ('barbiedreamsvideo', 1417), ('disparity', 5066), ('gouging', 7547), ('dudewhat', 5459), ('messedup', 11185), ('delicious', 4576), ('corn', 3878), ('misses', 11375), ('dearly', 4419), ('facial', 6273), ('clicked', 3223), ('bens', 1659), ('liberalshadnt', 10272), ('chameleon', 2868), ('reviewing', 14872), ('insufferable', 9070), ('crushing', 4181), ('kbmouse', 9701), ('controller', 3800), ('fps', 6947), ('unrealistic', 18645), ('mouse', 11596), ('lyingliberals', 10678), ('veil', 18858), ('brighter', 2265), ('deflecting', 4544), ('bankroll', 1394), ('judiciary', 9561), ('courthouse', 3984), ('remarks', 14625), ('oppression', 12531), ('troughtime', 18202), ('kurt', 9918), ('fantasize', 6395), ('sweating', 17253), ('mushroomcapped', 11699), ('erect', 5943), ('backbenchers', 1280), ('workable', 19679), ('entrepreneur', 5897), ('smb', 16267), ('francisco', 6962), ('pleasant', 13343), ('shitt', 15882), ('wiping', 19559), ('courtroom', 3987), ('marchforourlives', 10871), ('intervene', 9137), ('begged', 1580), ('metrics', 11208), ('podcast', 13383), ('algae', 430), ('zip', 20006), ('lipsbig', 10405), ('buttbig', 2478), ('midfielder', 11243), ('egypt', 5641), ('nile', 12013), ('tribune', 18163), ('sadiq', 15221), ('bozoobama', 2156), ('billayers', 1785), ('disgraced', 5032), ('erikholder', 5952), ('antifablmows', 734), ('movements', 11610), ('yrsbut', 19966), ('sponser', 16617), ('nooo', 12107), ('isislover', 9248), ('bama', 1372), ('origin', 12590), ('sony', 16433), ('republicanconservative', 14719), ('diminish', 4930), ('skewed', 16129), ('misspelled', 11385), ('viagra', 18907), ('quetsiyah', 14170), ('amara', 542), ('silas', 16039), ('bieber', 1760), ('crazed', 4055), ('hubris', 8487), ('preventable', 13714), ('quicksand', 14174), ('awfully', 1239), ('transcending', 18088), ('childs', 3020), ('lifefrom', 10333), ('stringent', 16975), ('ikr', 8679), ('riding', 14932), ('trainer', 18075), ('rear', 14374), ('backwoodsistan', 1309), ('askalivelshi', 1016), ('survival', 17208), ('fittest', 6695), ('inequality', 8920), ('epa', 5909), ('glbl', 7398), ('wrm', 19757), ('spider', 16576), ('avengers', 1201), ('branches', 2179), ('bimbos', 1794), ('heidi', 8104), ('brunette', 2339), ('alexs', 429), ('garner', 7214), ('justwank', 9609), ('thgs', 17707), ('prescreening', 13667), ('shortys', 15927), ('eveything', 6061), ('pussygrabbing', 14098), ('nehru', 11879), ('dynasty', 5536), ('shaken', 15753), ('eminent', 5743), ('intellectuals', 9087), ('antiindia', 771), ('shames', 15774), ('kav', 9670), ('hybrid', 8571), ('capitol', 2632), ('ancom', 623), ('painting', 12774), ('shree', 15967), ('krishnaji', 9902), ('ligic', 10350), ('secular', 15539), ('jaws', 9383), ('starring', 16758), ('chiselchest', 3036), ('buxom', 2489), ('whud', 19483), ('laser', 10001), ('swordsjess', 17283), ('tribunal', 18162), ('courtmondaymotivation', 3985), ('marinesagainsttrump', 10887), ('kavano', 9688), ('remoaners', 14640), ('quislings', 14179), ('nonpatriots', 12092), ('antiuk', 795), ('proeu', 13818), ('bedwetters', 1566), ('leftieluvvieliberals', 10122), ('powered', 13574), ('beeching', 1568), ('lemons', 10178), ('belifs', 1621), ('notcannot', 12141), ('bidding', 1756), ('bootlickers', 2080), ('tessa', 17560), ('extinct', 6229), ('glory', 7420), ('ample', 599), ('exaserbate', 6099), ('thankfulthursday', 17596), ('tours', 18022), ('flights', 6757), ('hotels', 8437), ('negotiator', 11877), ('extraordinaire', 6234), ('jan', 9370), ('resister', 14767), ('viciously', 18916), ('favorably', 6458), ('admonish', 229), ('earthy', 5555), ('fakeass', 6325), ('donuts', 5267), ('liabilitycbs', 10238), ('rushing', 15181), ('cadaver', 2521), ('oppotunity', 12528), ('billboard', 1786), ('peter', 13143), ('strokz', 16987), ('feverishly', 6569), ('corroborate', 3903), ('coco', 3321), ('pomeranian', 13462), ('strategic', 16940), ('cts', 4198), ('electronically', 5678), ('folded', 6816), ('gopers', 7520), ('seated', 15513), ('makotoniijimaweek', 10784), ('winston', 19551), ('jimbo', 9459), ('fisher', 6684), ('predatorhe', 13624), ('prisonhe', 13766), ('sacks', 15208), ('thrilled', 17784), ('lmfaooooo', 10458), ('foh', 6814), ('theemmys', 17635), ('fitted', 6694), ('waists', 19105), ('hourglass', 8445), ('cockwaffle', 3319), ('waffle', 19095), ('idiotalert', 8641), ('suggested', 17101), ('ars', 976), ('bodies', 2000), ('gophypocrites', 7521), ('snot', 16330), ('spark', 16510), ('copkillers', 3863), ('fetus', 6567), ('pregnancies', 13642), ('miscarriage', 11344), ('complications', 3523), ('surviving', 17212), ('hedy', 8097), ('lamarr', 9964), ('fascinating', 6417), ('tie', 17834), ('pathalogical', 12929), ('yuppie', 19975), ('podcasters', 13384), ('encouraging', 5793), ('confirmjudgekavanaugh', 3610), ('killgough', 9783), ('strive', 16983), ('transvestite', 18111), ('shyt', 15992), ('russiaputin', 15191), ('crazythe', 4063), ('paltry', 12801), ('denuclearization', 4685), ('sirmaga', 16094), ('trumparmy', 18221), ('allvetsradio', 489), ('voc', 19015), ('thebrooksbrown', 17625), ('fosters', 6931), ('accurately', 115), ('sisterlol', 16098), ('cincinatti', 3112), ('angy', 660), ('gasps', 7222), ('hellboys', 8120), ('redistribution', 14457), ('jewels', 9443), ('gravitational', 7622), ('mobilized', 11429), ('mobilize', 11428), ('christie', 3070), ('synchronicityit', 17302), ('wexactly', 19374), ('deutschebank', 4813), ('undoubtedly', 18542), ('forensics', 6878), ('wvast', 19783), ('laundering', 10032), ('subpoena', 17038), ('ldconf', 10072), ('resorting', 14777), ('demandbetter', 4593), ('dawg', 4378), ('whitesupremacist', 19451), ('harp', 7965), ('ramsgate', 14269), ('semifinals', 15613), ('dbl', 4389), ('faulted', 6449), ('ballistic', 1363), ('beverly', 1718), ('hills', 8223), ('laguna', 9956), ('neverland', 11925), ('midwest', 11251), ('qualification', 14143), ('peers', 13034), ('classywhat', 3191), ('disrepute', 5089), ('ballin', 1362), ('nancypelosi', 11767), ('chuckschumer', 3090), ('relying', 14616), ('excusehe', 6127), ('dangled', 4334), ('carrot', 2692), ('prostitute', 13923), ('gloriousshe', 7418), ('decompress', 4476), ('drawn', 5377), ('conservativesselfhating', 3685), ('privlages', 13781), ('yankee', 19831), ('atp', 1109), ('segregation', 15570), ('militant', 11275), ('hitlers', 8272), ('armbands', 950), ('allsup', 486), ('shithead', 15870), ('dickweed', 4877), ('gtliterally', 7730), ('muscles', 11696), ('assign', 1060), ('postponing', 13549), ('streams', 16952), ('dominos', 5235), ('apologies', 841), ('delays', 4567), ('albans', 410), ('roadworks', 15010), ('ixine', 9333), ('okai', 12405), ('evident', 6068), ('holly', 8329), ('wheb', 19399), ('sportscasters', 16631), ('throgh', 17788), ('tribalism', 18159), ('culturalappropriation', 4222), ('unwinding', 18685), ('jacks', 9346), ('barrel', 1439), ('barbie', 1416), ('ethic', 5996), ('violations', 18975), ('polygraphs', 13460), ('admissible', 222), ('dosomthing', 5295), ('votethegopout', 19065), ('freeing', 6999), ('nazism', 11823), ('punishes', 14053), ('daydon', 4383), ('backtraced', 1303), ('perverts', 13136), ('demonsperiod', 4647), ('mutts', 11719), ('restoring', 14810), ('ridiculously', 14930), ('unprofessional', 18639), ('virulently', 18993), ('frequently', 7011), ('mercifully', 11162), ('natural', 11806), ('verbally', 18873), ('licensed', 10308), ('instigating', 9061), ('teamtani', 17454), ('ethiopia', 6000), ('costly', 3923), ('wanda', 19154), ('somehowgeez', 16408), ('recorder', 14436), ('demonuts', 4653), ('nobama', 12032), ('participated', 12872), ('tesla', 17559), ('huessein', 8491), ('rahmemanuel', 14234), ('chicagopd', 2997), ('mask', 10934), ('inner', 9002), ('iechicago', 8654), ('nuclearfamily', 12219), ('twill', 18357), ('poet', 13390), ('knoweth', 9851), ('repatriated', 14664), ('kavanaughaccuser', 9675), ('grammar', 7585), ('twt', 18379), ('disputing', 5085), ('botswana', 2115), ('exaggerating', 6089), ('infiltrator', 8939), ('sonic', 16426), ('slimshady', 16217), ('thestorm', 17689), ('jesusisback', 9435), ('godisgreat', 7450), ('whens', 19408), ('maganificient', 10722), ('antifakkk', 745), ('goingdems', 7464), ('bedbuddies', 1561), ('scoop', 15439), ('reciprocally', 14412), ('demolish', 4633), ('omghe', 12435), ('fds', 6488), ('muckspreader', 11639), ('twists', 18364), ('novichok', 12190), ('restrain', 14811), ('downwithgovernmentcorrruption', 5341), ('deported', 4707), ('nk', 12025), ('denuclearizing', 4686), ('outfrickingstanding', 12650), ('goodwin', 7501), ('grop', 7684), ('ack', 137), ('careeeema', 2660), ('despicably', 4769), ('ost', 12613), ('invade', 9159), ('russias', 15192), ('cleansing', 3205), ('shannon', 15780), ('twatts', 18344), ('spreadsheets', 16651), ('betsy', 1709), ('devos', 4838), ('ong', 12454), ('seongwu', 15651), ('bsc', 2350), ('ongly', 12455), ('bcs', 1508), ('encourage', 5789), ('employed', 5765), ('dolt', 5226), ('schmooze', 15418), ('helsinki', 8134), ('infringed', 8968), ('wench', 19350), ('spout', 16641), ('publicexecutions', 14009), ('negotiating', 11874), ('dementia', 4604), ('simples', 16058), ('mushroom', 11698), ('croatian', 4138), ('bikini', 1781), ('hottest', 8441), ('substantial', 17054), ('anitahill', 672), ('unglued', 18571), ('isolating', 9271), ('senseless', 15643), ('pseudo', 13977), ('backbone', 1281), ('doubtful', 5315), ('substantially', 17055), ('babble', 1263), ('grassley', 7615), ('thrash', 17769), ('sneak', 16313), ('oregon', 12565), ('pleaser', 13347), ('positioning', 13523), ('bbcqt', 1499), ('partiers', 12877), ('carbine', 2647), ('catering', 2739), ('chuckmay', 3089), ('bojopm', 2015), ('oxymoron', 12738), ('poly', 13455), ('sci', 15429), ('evergreet', 6042), ('wal', 19123), ('mart', 10918), ('lumpenprole', 10656), ('sorta', 16459), ('laying', 10058), ('suntanning', 17136), ('bland', 1889), ('victimsame', 18923), ('rumbling', 15164), ('barrelling', 1440), ('deafening', 4407), ('oakland', 12271), ('infertile', 8934), ('germs', 7316), ('sideline', 16006), ('burst', 2451), ('retconned', 14833), ('barkley', 1430), ('neutered', 11917), ('meds', 11087), ('snuffy', 16337), ('heroin', 8157), ('telly', 17499), ('joins', 9499), ('kermit', 9741), ('highway', 8204), ('screamer', 15472), ('scoundrel', 15456), ('thumb', 17811), ('chicagos', 2998), ('wednesday', 19293), ('crybabies', 4187), ('fussing', 7150), ('cavanaugh', 2763), ('sectioned', 15534), ('fortunately', 6920), ('betting', 1714), ('ityou', 9324), ('weekly', 19308), ('logo', 10505), ('fn', 6804), ('unscathed', 18656), ('luigi', 10651), ('farmer', 6407), ('thay', 17615), ('canola', 2614), ('olakes', 12410), ('dilute', 4924), ('buttermaybe', 2482), ('enabler', 5782), ('impoverished', 8803), ('dud', 5455), ('mdzs', 11037), ('wen', 19349), ('ning', 12017), ('soup', 16476), ('unseemly', 18658), ('snack', 16302), ('bigbosstamil', 1763), ('janani', 9371), ('dignity', 4915), ('finesse', 6641), ('enthusiasm', 5885), ('ears', 5553), ('vigilant', 18949), ('validation', 18810), ('leaking', 10090), ('coins', 3345), ('palm', 12796), ('trees', 18147), ('visionary', 18999), ('fave', 6455), ('production', 13814), ('everywheh', 6059), ('unrest', 18650), ('publish', 14014), ('importantnot', 8795), ('fuckindead', 7082), ('kaiser', 9629), ('periods', 13093), ('voteblueandbringafriend', 19044), ('slim', 16214), ('dubious', 5449), ('mortgages', 11565), ('ninja', 12018), ('subprime', 17041), ('citing', 3132), ('cmos', 3286), ('derivative', 4726), ('brill', 2269), ('remainiac', 14620), ('enslave', 5870), ('unelected', 18545), ('commsion', 3472), ('farewell', 6403), ('wemarchforourlives', 19347), ('enoughisenoughwhat', 5865), ('solves', 16398), ('controldump', 3796), ('empowerment', 5775), ('consistant', 3700), ('soundbite', 16470), ('propoganda', 13898), ('chinesespy', 3031), ('clintonemails', 3245), ('californiawildfires', 2547), ('redpill', 14463), ('factsonly', 6294), ('makecaliforniagreatagain', 10774), ('liberallogic', 10262), ('gunsights', 7789), ('antitrust', 794), ('shaddowbanning', 15741), ('raison', 14253), ('detre', 4809), ('badineffective', 1320), ('independenceits', 8884), ('bvs', 2498), ('zack', 19983), ('rodgers', 15045), ('heroics', 8156), ('themfaux', 17650), ('liberalsfox', 10269), ('tainted', 17338), ('pearl', 13007), ('bhaiya', 1738), ('crock', 4140), ('cya', 4280), ('outnumber', 12659), ('sequel', 15663), ('dceu', 4393), ('irreversibly', 9234), ('bomber', 2028), ('tactically', 17326), ('nutjobs', 12245), ('provides', 13965), ('contraception', 3771), ('thereby', 17676), ('eliminating', 5691), ('unplanned', 18633), ('institutions', 9065), ('aging', 333), ('conception', 3558), ('maintaining', 10760), ('impuse', 8815), ('fked', 6712), ('wp', 19731), ('cure', 4240), ('membbbqers', 11117), ('listentoindustry', 10418), ('lessonand', 10196), ('thenif', 17662), ('jailthat', 9358), ('funhope', 7128), ('fullest', 7109), ('incompetency', 8865), ('hasty', 7991), ('comfort', 3416), ('equipment', 5932), ('cumbersome', 4227), ('headlines', 8045), ('distorting', 5113), ('tuna', 18316), ('brisket', 2283), ('vegans', 18849), ('encore', 5787), ('fitting', 6696), ('invading', 9163), ('acknowledges', 140), ('makeamericaamericaagain', 10768), ('makeamericastrongagain', 10773), ('makeamericasafeagain', 10771), ('makeamericasaneagain', 10772), ('myths', 11740), ('offender', 12361), ('democratsdividinganddestroyingamerica', 4624), ('democratshateamerica', 4625), ('succinctly', 17071), ('clingvto', 3238), ('demension', 4602), ('cfb', 2847), ('fluffs', 6788), ('locally', 10480), ('carnages', 2681), ('reputable', 14732), ('banging', 1385), ('countless', 3961), ('golly', 7478), ('moses', 11568), ('roeselare', 15048), ('osuna', 12619), ('giles', 7356), ('horrifying', 8413), ('victorian', 18926), ('timeswith', 17858), ('berating', 1665), ('sexism', 15720), ('lrt', 10628), ('transit', 18095), ('corridor', 3902), ('ont', 12467), ('opening', 12491), ('gtnew', 7732), ('philippine', 13169), ('contingent', 3761), ('grotesquely', 7692), ('ousted', 12637), ('ultimately', 18445), ('manifestation', 10831), ('colorblind', 3386), ('krebs', 9896), ('evert', 6044), ('boomer', 2062), ('grift', 7667), ('fremino', 7003), ('aarp', 8), ('perv', 13132), ('piling', 13226), ('trudeaus', 18211), ('juniors', 9578), ('passrusher', 12916), ('sod', 16375), ('corrupted', 3906), ('ontarios', 12470), ('hedgefunders', 8095), ('reans', 14372), ('arcane', 913), ('gale', 7182), ('iv', 9325), ('protestersthere', 13940), ('builder', 2392), ('succumbed', 17072), ('caved', 2765), ('sidewhat', 16012), ('selected', 15576), ('dhudbe', 4852), ('traffic', 18063), ('jerks', 9421), ('carb', 2646), ('hospitals', 8424), ('muffins', 11647), ('revoke', 14878), ('passport', 12913), ('traitoralways', 18079), ('forevaaaaaaaaaaa', 6883), ('wagons', 19101), ('exceptions', 6110), ('potato', 13554), ('inkling', 8995), ('sidekick', 16005), ('meals', 11040), ('regain', 14515), ('itshe', 9316), ('sympathizes', 17297), ('livelihood', 10436), ('larpingyou', 9995), ('wick', 19490), ('imagination', 8721), ('eight', 5649), ('breitbarters', 2228), ('licensereporters', 10309), ('absentee', 54), ('trough', 18201), ('danikaharrod', 4338), ('shitposts', 15877), ('tdp', 17437), ('jhdsfhjsg', 9449), ('curly', 4243), ('horsey', 8421), ('arbys', 911), ('fryfrosty', 7064), ('wendys', 19351), ('dickey', 4873), ('provision', 13971), ('concession', 3565), ('darellmaddoxuser', 4345), ('prevalent', 13712), ('mongering', 11503), ('kneelers', 9833), ('dodged', 5191), ('declassifying', 4469), ('quackery', 14139), ('register', 14528), ('shittedshat', 15884), ('ytd', 19969), ('kg', 9753), ('slobs', 16228), ('harvey', 7979), ('weinstein', 19318), ('annette', 680), ('mediterranean', 11084), ('dace', 4291), ('cakefriend', 2533), ('diagrams', 4859), ('conservativesattackondemocracy', 3678), ('thecpcisapoliticalhategroup', 17629), ('demagogues', 4591), ('partisans', 12880), ('gilmour', 7361), ('bearing', 1527), ('connive', 3656), ('wrap', 19734), ('votedirtypolitics', 19048), ('revenge', 14861), ('puy', 14113), ('chinless', 3032), ('donny', 5259), ('liblabcon', 10293), ('stitchup', 16874), ('uncorroborated', 18499), ('pence', 13045), ('checking', 2953), ('noticing', 12158), ('starthiv', 16765), ('wasteful', 19214), ('comgress', 3420), ('budgets', 2377), ('itemize', 9303), ('diversion', 5137), ('undermined', 18519), ('ajsvsnsksjsj', 392), ('cadwell', 2524), ('therese', 17684), ('pushy', 14094), ('whackos', 19380), ('declaration', 4460), ('independence', 8883), ('creed', 4091), ('realizes', 14361), ('nutsmakes', 12248), ('awareness', 1228), ('antifaetc', 737), ('alexander', 427), ('pog', 13392), ('kgo', 9756), ('mep', 11157), ('coburn', 3308), ('capitulating', 2634), ('instruct', 9066), ('lawsuits', 10051), ('whatbour', 19389), ('yesthats', 19894), ('aus', 1166), ('katter', 9667), ('yearsbecause', 19861), ('conservativecomedy', 3675), ('foff', 6813), ('feinsteinobama', 6530), ('gps', 7563), ('pansies', 12814), ('supposition', 17170), ('oif', 12399), ('hws', 8569), ('crooks', 4151), ('appoint', 882), ('prosecuter', 13916), ('arresting', 968), ('prosecuting', 13917), ('sutherland', 17231), ('pharmacist', 13159), ('pharmacists', 13160), ('fixes', 6705), ('gupta', 7792), ('dreamer', 5382), ('lasted', 10004), ('capture', 2643), ('inquiry', 9018), ('calculating', 2536), ('dots', 5300), ('sarrena', 15314), ('limbaugh', 10370), ('mami', 10801), ('tjhan', 17892), ('flirty', 6762), ('gaze', 7246), ('miu', 11404), ('siri', 16093), ('subsaharan', 17043), ('ren', 14648), ('youfailed', 19925), ('makeamericangreatagain', 10770), ('opportunityknocks', 12520), ('shadowbanned', 15744), ('viable', 18905), ('justathought', 9589), ('bilion', 1783), ('euros', 6014), ('triumph', 18181), ('peyton', 13152), ('carpet', 2686), ('baggers', 1329), ('smelly', 16275), ('catsized', 2748), ('womanor', 19624), ('principaled', 13747), ('rick', 14918), ('knuckledraggers', 9864), ('marrying', 10915), ('granddaughters', 7587), ('innocents', 9010), ('osho', 12611), ('continuously', 3769), ('hints', 8245), ('winhe', 19543), ('yahweh', 19825), ('mounties', 11594), ('internetonly', 9124), ('heavier', 8086), ('houseoflords', 8455), ('showerofshite', 15958), ('ukeu', 18432), ('flood', 6769), ('teump', 17572), ('manages', 10810), ('liberalssorry', 10278), ('withyou', 19591), ('alamo', 403), ('blight', 1915), ('erased', 5941), ('proudboy', 13949), ('extremism', 6242), ('seldom', 15574), ('britian', 2288), ('chump', 3095), ('marvelous', 10923), ('hillarites', 8213), ('shedevil', 15811), ('unsealthedeals', 18657), ('slushfunds', 16248), ('doublestandarddems', 5308), ('declassifyfisa', 4468), ('declassifyreleasesunredacted', 4472), ('declassifypowsdocuments', 4471), ('darktolight', 4352), ('fing', 6644), ('forsaken', 6912), ('looong', 10544), ('transgenders', 18093), ('bathrooms', 1473), ('regards', 14521), ('stealth', 16811), ('aspire', 1031), ('superpower', 17146), ('purrfect', 14081), ('tail', 17336), ('wrapped', 19735), ('paws', 12967), ('buttmunch', 2485), ('sew', 15713), ('ew', 6082), ('bitte', 1848), ('refering', 14489), ('letsgovern', 10207), ('cameto', 2568), ('reputed', 14735), ('dukes', 5469), ('overview', 12712), ('ethically', 5998), ('unaware', 18474), ('adhere', 203), ('endorses', 5816), ('syntactically', 17306), ('nonsensical', 12098), ('lament', 9969), ('glorify', 7415), ('fixated', 6702), ('brag', 2163), ('pageant', 12764), ('contestants', 3757), ('administer', 212), ('backpacks', 1294), ('politicize', 13433), ('cincy', 3114), ('steven', 16847), ('wilson', 19525), ('performers', 13088), ('regretted', 14539), ('celebrating', 2802), ('psychologists', 13991), ('dgps', 4849), ('cem', 2812), ('zeyal', 19999), ('alihan', 444), ('yasakelma', 19836), ('arebut', 924), ('citizenry', 3135), ('acta', 152), ('verba', 18871), ('resisttrump', 14771), ('landslide', 9981), ('fined', 6638), ('concede', 3551), ('antiserena', 789), ('hamas', 7874), ('santa', 15301), ('clarita', 3174), ('trumpwashing', 18265), ('historical', 8262), ('rumor', 15165), ('habs', 7821), ('ddd', 4397), ('matrix', 10966), ('pyro', 14119), ('powdering', 13572), ('gettough', 7329), ('returning', 14849), ('punts', 14058), ('shined', 15852), ('deaf', 4406), ('arts', 989), ('critique', 4135), ('honesthence', 8364), ('tropes', 18194), ('emblem', 5733), ('sanchez', 15278), ('magical', 10737), ('dopest', 5281), ('illest', 8694), ('widdit', 19493), ('politicizing', 13435), ('effects', 5623), ('counselling', 3946), ('shana', 15777), ('tova', 18025), ('warrior', 19190), ('webcam', 19285), ('temple', 17509), ('mount', 11591), ('bottles', 2117), ('dumbasses', 5479), ('battled', 1486), ('sonnykiriakis', 16430), ('willhorton', 19516), ('freddiesmith', 6988), ('chandlermassey', 2882), ('loesch', 10496), ('onlyatyaf', 12461), ('yaftv', 19823), ('mainers', 10755), ('proclamation', 13805), ('toby', 17909), ('listyou', 10422), ('intend', 9091), ('namejust', 11761), ('twitterhe', 18369), ('suprematists', 17177), ('muellerwitchhunt', 11646), ('fbicorruptionmaga', 6473), ('manaforttrial', 10804), ('casen', 2710), ('umm', 18452), ('earphonesstill', 5552), ('noble', 12035), ('personnel', 13121), ('tower', 18032), ('nonpresidential', 12093), ('suite', 17109), ('kit', 9813), ('agressive', 346), ('volume', 19033), ('settings', 15699), ('typing', 18396), ('kap', 9651), ('lbgqt', 10068), ('contributing', 3786), ('golfing', 7477), ('coursethe', 3980), ('stopping', 16910), ('harass', 7936), ('damned', 4317), ('unattractive', 18472), ('justdoit', 9590), ('sowhats', 16489), ('guysim', 7807), ('caucasian', 2751), ('colombian', 3379), ('meespeciallysenkennedywe', 11090), ('transfer', 18089), ('diatribe', 4868), ('folding', 6817), ('funnyhow', 7135), ('largely', 9992), ('relatively', 14577), ('incarnations', 8839), ('antisjws', 790), ('dutch', 5514), ('initial', 8983), ('significantly', 16033), ('yessir', 19889), ('anonymity', 699), ('furniture', 7142), ('shittier', 15886), ('couches', 3930), ('seuday', 15706), ('cowherd', 4010), ('spews', 16568), ('goff', 7458), ('trubisky', 18204), ('mcvays', 11035), ('wider', 19498), ('whomever', 19467), ('immigrantsilegals', 8750), ('mal', 10785), ('staring', 16753), ('affirmative', 291), ('commissar', 3455), ('acknowledging', 141), ('operating', 12500), ('kgbto', 9755), ('conservativesmuch', 3682), ('kgb', 9754), ('technological', 17471), ('advances', 251), ('tiffany', 17838), ('lookin', 10530), ('charlotte', 2918), ('nh', 11967), ('nonresident', 12096), ('ooh', 12477), ('archie', 917), ('switcher', 17277), ('listener', 10414), ('infiltration', 8938), ('protectionist', 13931), ('attached', 1114), ('thst', 17802), ('gruber', 7715), ('flames', 6727), ('afp', 297), ('generalharris', 7271), ('attested', 1132), ('orgsi', 12586), ('negatively', 11870), ('pound', 13565), ('hm', 8283), ('timely', 17854), ('lmaoooooo', 10451), ('nas', 11782), ('bodied', 1999), ('floats', 6766), ('hanged', 7905), ('drowns', 5428), ('anitsemetic', 673), ('henny', 8139), ('manner', 10845), ('exhortation', 6150), ('jackdorseyisabigot', 9339), ('sb', 15368), ('malfeasance', 10793), ('cartersbodysuitsweepstakes', 2705), ('purple', 14074), ('unhappy', 18573), ('yucker', 19970), ('interrupts', 9135), ('guests', 7752), ('michaelavenatti', 11225), ('chunk', 3097), ('kogasa', 9872), ('publishing', 14017), ('accountlists', 109), ('straka', 16929), ('profanity', 13820), ('rioters', 14975), ('buncha', 2427), ('braindead', 2168), ('hauled', 8013), ('en', 5779), ('masse', 10941), ('puting', 14104), ('raven', 14319), ('derrick', 4727), ('kirk', 9808), ('manifested', 10832), ('illadvised', 8684), ('launched', 10029), ('healthyliving', 8055), ('infrastructure', 8965), ('pollution', 13448), ('waterways', 19229), ('kavanaughforscotus', 9679), ('defendthesecond', 4517), ('shareact', 15786), ('nocompromise', 12042), ('rememberyouroath', 14633), ('nraun', 12207), ('herbut', 8143), ('rshe', 15130), ('bugging', 2385), ('timewhich', 17860), ('clinician', 3240), ('fakepsychologist', 6339), ('yaaass', 19820), ('neverthelesssss', 11926), ('cel', 2796), ('sinking', 16080), ('sooooooo', 16442), ('distracting', 5119), ('distractification', 5118), ('utopia', 18782), ('usopen', 18771), ('trol', 18185), ('nonono', 12091), ('fatshame', 6445), ('anyones', 815), ('horrifically', 8412), ('unhealthy', 18574), ('nestlés', 11908), ('cea', 2790), ('ing', 8972), ('sloganpromise', 16230), ('hollow', 8327), ('shepherd', 15834), ('pumpkin', 14042), ('encashing', 5786), ('waseem', 19198), ('corporates', 3884), ('emplyers', 5770), ('pensions', 13053), ('fixit', 6707), ('urgent', 18734), ('delusions', 4589), ('seeks', 15555), ('spicoli', 16574), ('guesses', 7749), ('newsnight', 11941), ('bbcpl', 1498), ('hignfy', 8205), ('uklabour', 18435), ('skynews', 16153), ('bbclive', 1497), ('dp', 5350), ('usl', 18769), ('amiryou', 585), ('larrynassar', 9998), ('alcoholic', 420), ('cealrly', 2791), ('fatty', 6447), ('starlet', 16755), ('lilextra', 10366), ('tays', 17423), ('sheldmaidens', 15825), ('miller', 11285), ('tommyvalhalla', 17942), ('scepticism', 15401), ('kyungsoo', 9928), ('nam', 11758), ('jihyun', 9456), ('exo', 6161), ('deffo', 4523), ('bizpac', 1857), ('invokes', 9194), ('avanetti', 1197), ('msp', 11635), ('duty', 5517), ('witnessing', 19596), ('anymorewe', 812), ('spreadingthe', 16649), ('bent', 1660), ('leather', 10100), ('overbearing', 12682), ('centralized', 2824), ('packet', 12756), ('deficient', 4525), ('insert', 9026), ('feared', 6490), ('paranoia', 12836), ('atomisation', 1107), ('hmp', 8291), ('worshippers', 19708), ('kek', 9728), ('plagiarized', 13291), ('contortionist', 3770), ('sandwich', 15288), ('oneyearold', 12453), ('gunny', 7779), ('kw', 9920), ('slept', 16204), ('maunaloa', 10978), ('crunchtoadifferentbeat', 4177), ('chauvinistic', 2940), ('beater', 1535), ('lawful', 10041), ('martial', 10920), ('om', 12427), ('domo', 5237), ('persuaded', 13127), ('redneck', 14459), ('spoilt', 16611), ('gracious', 7575), ('derwin', 4729), ('horibble', 8400), ('atone', 1108), ('reporter', 14694), ('unplayable', 18634), ('switches', 17278), ('sheesh', 15817), ('psyco', 13997), ('dweller', 5523), ('lightweight', 10349), ('riott', 14978), ('bella', 1626), ('distress', 5123), ('marry', 10914), ('missions', 11380), ('antiscience', 784), ('luddites', 10650), ('rewrites', 14890), ('hallo', 7868), ('diva', 5134), ('heathers', 8080), ('migration', 11260), ('fartacus', 6414), ('faking', 6343), ('sinner', 16084), ('unveiled', 18677), ('sloppy', 16235), ('empower', 5772), ('unemployable', 18546), ('barn', 1431), ('spd', 16518), ('secured', 15543), ('repeater', 14672), ('mario', 10888), ('mindless', 11302), ('commiting', 3461), ('donot', 5262), ('sidhuji', 16013), ('grumpy', 7717), ('grunts', 7718), ('mumbles', 11671), ('dares', 4346), ('cave', 2764), ('societies', 16368), ('solved', 16396), ('savetherepublic', 15350), ('savedemocracy', 15344), ('smartdissent', 16260), ('reggie', 14522), ('boc', 1998), ('fakedrugwar', 6328), ('panicindc', 12812), ('mack', 10698), ('jonesout', 9512), ('advertisement', 257), ('vag', 18798), ('whitewash', 19453), ('accusationsboth', 118), ('necessarylet', 11851), ('hash', 7984), ('significance', 16031), ('crossexamine', 4158), ('hunnid', 8532), ('stax', 16796), ('cite', 3129), ('twitters', 18373), ('checkmarks', 2954), ('bans', 1405), ('verifiedhate', 18877), ('cuffed', 4212), ('shackled', 15740), ('successconnect', 17067), ('cupcakes', 4237), ('thinkeroverturning', 17725), ('trivialized', 18184), ('greatnothing', 7638), ('islamophobic', 9260), ('villainous', 18959), ('cin', 3111), ('wishing', 19573), ('butthead', 2483), ('towed', 18029), ('explosives', 6200), ('georges', 7308), ('andrews', 636), ('keepinghis', 9717), ('conservatard', 3670), ('kabasele', 9618), ('secrets', 15531), ('watfords', 19230), ('beans', 1523), ('spills', 16585), ('avocado', 1210), ('quinoa', 14178), ('brenda', 2229), ('toowe', 17970), ('rené', 14660), ('clasping', 3179), ('lightly', 10347), ('ravenous', 14320), ('pal', 12784), ('benghaziits', 1652), ('sexualmisconduct', 15729), ('youthful', 19951), ('indescretion', 8887), ('mulligan', 11655), ('sshats', 16683), ('est', 5980), ('tourists', 18020), ('nevada', 11920), ('sawedoff', 15357), ('stevens', 16848), ('newfound', 11934), ('treatin', 18141), ('pulse', 14037), ('headlined', 8043), ('biases', 1747), ('theconstitutionisthesolution', 17628), ('radicalizing', 14220), ('antifaresist', 752), ('gaslighting', 7221), ('switzerland', 17279), ('marcus', 10875), ('displeased', 5077), ('affectionate', 285), ('purrs', 14082), ('nonstop', 12099), ('baer', 1324), ('adelaide', 200), ('payday', 12971), ('warfare', 19175), ('txsen', 18384), ('romney', 15067), ('brick', 2253), ('ecstasy', 5585), ('jurkyyou', 9585), ('leavejust', 10102), ('todayyes', 17916), ('rancho', 14272), ('mirage', 11335), ('judgements', 9554), ('applying', 881), ('howitzer', 8470), ('tow', 18026), ('missles', 11382), ('stupidest', 17020), ('maymustgo', 10994), ('oblivion', 12300), ('standupbrexit', 16743), ('privilege', 13778), ('blvd', 1978), ('gossip', 7535), ('tru', 18203), ('fredo', 6989), ('escalated', 5962), ('testament', 17564), ('isthat', 9286), ('statutory', 16794), ('sealed', 15502), ('fish', 6683), ('lobe', 10477), ('gallup', 7186), ('recordlow', 14438), ('kowtowing', 9887), ('manufacturers', 10859), ('antigun', 769), ('osuiteso', 12618), ('deregionised', 4722), ('nicki', 11983), ('jsjdhkdfhjfkfkhsjdhd', 9541), ('messsssss', 11191), ('democratantifa', 4614), ('figurehead', 6606), ('bamn', 1373), ('realtornggiveaway', 14370), ('giveaway', 7380), ('mongoose', 11505), ('cobra', 3307), ('blooming', 1955), ('emo', 5751), ('disqualifying', 5087), ('pitch', 13262), ('resume', 14823), ('novemberiscoming', 12186), ('nodealbrexit', 12047), ('chequersplan', 2978), ('downfall', 5327), ('brightside', 2267), ('brexiteer', 2241), ('failings', 6308), ('maine', 10754), ('nowplaying', 12198), ('slider', 16209), ('manchester', 10812), ('gail', 7174), ('oddly', 12352), ('consensus', 3666), ('lifeordeath', 10336), ('proportional', 13900), ('failures', 6311), ('colleen', 3370), ('meshe', 11179), ('louisville', 10589), ('priesta', 13733), ('leftistlibtards', 10126), ('fabricate', 6256), ('democratsvote', 4630), ('invitation', 9188), ('deadname', 4405), ('rosh', 15089), ('hashana', 7985), ('impact', 8759), ('megumi', 11097), ('skirted', 16146), ('jus', 9587), ('observe', 12310), ('frost', 7048), ('jehovah', 9404), ('contradiction', 3777), ('wkendcriminals', 19604), ('lawssmh', 10049), ('brained', 2169), ('chittlerings', 3037), ('uhall', 18424), ('signatures', 16029), ('supergirl', 17139), ('lkke', 10443), ('ray', 14324), ('follower', 6826), ('opportunistic', 12517), ('fesheyes', 6563), ('minuets', 11328), ('faster', 6432), ('multiplying', 11667), ('monstermay', 11523), ('maxinewaters', 10989), ('goodbyedemocrats', 7489), ('cleaningcanada', 3201), ('canadaelection', 2589), ('crackpots', 4032), ('horde', 8399), ('depending', 4697), ('furnish', 7141), ('razor', 14326), ('suicides', 17105), ('reduces', 14468), ('tripping', 18179), ('changingthe', 2889), ('passqanon', 12915), ('fairfield', 6314), ('bridgeport', 2256), ('bah', 1332), ('alienilegal', 439), ('provincial', 13968), ('loaf', 10466), ('isorry', 9272), ('antitrumps', 793), ('accepted', 86), ('searching', 15506), ('animosity', 669), ('supportersnazis', 17164), ('impeachementwe', 8769), ('animus', 670), ('yassss', 19838), ('libertennial', 10289), ('klan', 9823), ('barbz', 1419), ('remy', 14647), ('flow', 6783), ('shortterm', 15926), ('curtailing', 4250), ('dyke', 5533), ('friendsira', 7031), ('antiameican', 716), ('azz', 1258), ('pas', 12899), ('considerate', 3693), ('valuinghealth', 18818), ('greenville', 7650), ('accidentally', 94), ('spinach', 16587), ('kale', 9633), ('healthsucks', 8053), ('welcum', 19329), ('generalizations', 7273), ('systemic', 17312), ('perp', 13103), ('parentsnever', 12849), ('unattended', 18471), ('dawn', 4379), ('grudge', 7716), ('neurorealist', 11916), ('inclusive', 8859), ('thatd', 17607), ('portray', 13512), ('tiger', 17839), ('sadnews', 15224), ('republicansconservativesdeplorables', 14723), ('democratsliberalstolerables', 4627), ('wethepeopleamericanpeople', 19371), ('perfectionist', 13082), ('vicki', 18917), ('barbolack', 1418), ('js', 9540), ('tge', 17584), ('conventionhis', 3818), ('hollowing', 8328), ('greatfull', 7634), ('thor', 17754), ('duluth', 5472), ('presidentwe', 13688), ('sharpest', 15797), ('construct', 3727), ('continually', 3763), ('honked', 8367), ('crowbar', 4162), ('tepper', 17533), ('fastforward', 6434), ('truthand', 18278), ('bpreds', 2157), ('sox', 16491), ('beyrayal', 1724), ('campshe', 2582), ('lobbied', 10473), ('reaserch', 14376), ('yvette', 19979), ('felarca', 6533), ('coverages', 3994), ('slapping', 16176), ('cocktribute', 3318), ('cumtribute', 4231), ('cumslave', 4230), ('crackhead', 4029), ('victimizing', 18921), ('lifes', 10337), ('screech', 15475), ('displaying', 5075), ('visited', 19001), ('semitic', 15617), ('encountered', 5788), ('globalization', 7411), ('discontents', 5002), ('pppcorporatewelfaredilution', 13587), ('rightsfreedoms', 14953), ('justicesociopolieconfinancial', 9597), ('particratic', 12874), ('cdnpoliticians', 2787), ('boneheads', 2035), ('missionaccomplishedwewontwatch', 11379), ('istand', 9285), ('unforgiving', 18564), ('forgivingness', 6893), ('displaced', 5070), ('watchdisclaimer', 19219), ('whisperer', 19437), ('trades', 18056), ('barbaric', 1412), ('dccircuit', 4392), ('repercussions', 14676), ('launch', 10028), ('judgeships', 9556), ('misdemeanors', 11349), ('decade', 4436), ('flesh', 6752), ('mercy', 11165), ('websters', 19288), ('briefings', 2261), ('scrolls', 15487), ('colonel', 3381), ('recipe', 14409), ('negligence', 11872), ('persistance', 13113), ('longed', 10520), ('compliant', 3522), ('bitching', 1840), ('observed', 12311), ('cafeteria', 2526), ('hamstrung', 7880), ('ancaps', 619), ('jealousy', 9395), ('rears', 14375), ('facei', 6266), ('favored', 6459), ('divine', 5147), ('prophecy', 13896), ('womenfuck', 19633), ('pollute', 13445), ('ari', 939), ('melber', 11109), ('articulate', 983), ('extends', 6223), ('jdkdkdd', 9392), ('realised', 14354), ('surviveif', 17211), ('escapes', 5966), ('deceased', 4440), ('mukga', 11652), ('migrant', 11258), ('deportation', 4706), ('saparli', 15302), ('abetterway', 19), ('peoplekind', 13060), ('partylite', 12894), ('subj', 17029), ('insight', 9030), ('sitemy', 16102), ('mythicalcreature', 11738), ('selfcharacterization', 15583), ('demonratic', 4644), ('buryblue', 2454), ('startvettingsenators', 16770), ('startvettingcongressmen', 16769), ('ginseng', 7370), ('menopausal', 11145), ('squash', 16668), ('recipes', 14410), ('eminem', 5742), ('entertainmentnews', 5884), ('tin', 17863), ('memember', 11127), ('memologist', 11130), ('accidents', 95), ('spontaneous', 16621), ('actsaccidents', 173), ('dramatically', 5370), ('gingers', 7365), ('panthersmaga', 12817), ('awwwww', 1248), ('brilliantly', 2273), ('interact', 9101), ('acceptance', 85), ('innocentright', 9009), ('imbalanced', 8730), ('massively', 10944), ('assessments', 1054), ('rama', 14260), ('lama', 9963), ('dingdong', 4941), ('rails', 14242), ('downhill', 5329), ('secondly', 15524), ('mustve', 11713), ('reminding', 14637), ('darn', 4354), ('wrought', 19764), ('imagineee', 8724), ('fandom', 6388), ('identifies', 8626), ('pentagon', 13055), ('missile', 11376), ('teetering', 17483), ('brink', 2281), ('ode', 12354), ('serenawillams', 15670), ('profiteers', 13833), ('ideological', 8633), ('whim', 19425), ('rindia', 14968), ('dominated', 5233), ('rhinduism', 14901), ('rreligion', 15128), ('raided', 14235), ('personable', 13116), ('wrongwe', 19761), ('fyou', 7160), ('wetbut', 19369), ('controlbreathesight', 3794), ('picturesqueeze', 13214), ('dpd', 5351), ('chic', 2992), ('molina', 11470), ('romero', 15065), ('located', 10481), ('spotting', 16639), ('ensuring', 5874), ('hassert', 7989), ('huntsman', 8539), ('transphobe', 18104), ('comespetition', 3411), ('nflthe', 11960), ('wordwe', 19676), ('forgivenessamerica', 6891), ('dosay', 5290), ('grasping', 7613), ('oblige', 12298), ('spawns', 16517), ('victorious', 18930), ('fanboy', 6383), ('saddo', 15219), ('wiped', 19557), ('effecting', 5620), ('needlessly', 11862), ('scaring', 15392), ('suny', 17137), ('illusterates', 8706), ('cower', 4008), ('propped', 13908), ('coke', 3346), ('sandwiches', 15289), ('splinter', 16604), ('sphincter', 16570), ('bobcat', 1995), ('fdom', 6487), ('txst', 18385), ('threatscan', 17779), ('obamasucks', 12286), ('boomerangs', 2063), ('pints', 13248), ('muggin', 11649), ('wcw', 19251), ('egos', 5639), ('jericho', 9418), ('vince', 18966), ('dressed', 5397), ('patches', 12925), ('titties', 17888), ('censors', 2816), ('toadstool', 17906), ('bridget', 2258), ('flopped', 6774), ('enforced', 5833), ('shorter', 15922), ('halloween', 7869), ('baking', 1347), ('treachery', 18131), ('doc', 5176), ('rots', 15100), ('yah', 19824), ('tagged', 17334), ('shameonyou', 15772), ('inflicting', 8947), ('lockdown', 10485), ('gap', 7203), ('dupes', 5504), ('infuriating', 8970), ('broin', 2305), ('gaelic', 7168), ('tapah', 17385), ('leibh', 10172), ('incel', 8840), ('spunktrumpet', 16659), ('pedaling', 13011), ('sympathizers', 17296), ('slither', 16225), ('costanza', 3922), ('unprotected', 18641), ('stds', 16804), ('frfr', 7018), ('skewer', 16130), ('sushma', 17219), ('swaraj', 17243), ('leftistsliberals', 10128), ('darkness', 4349), ('shines', 15853), ('taxation', 17414), ('lyingggg', 10677), ('hinted', 8244), ('haaaaaa', 7818), ('gor', 7524), ('irrationality', 9228), ('womeni', 19634), ('ashleyyr', 1007), ('comfortablehey', 3418), ('familyfriends', 6374), ('showim', 15959), ('fanwant', 6399), ('happiest', 7927), ('bringbridgethome', 2278), ('bringbridgetback', 2277), ('buckwheat', 2369), ('supremeists', 17181), ('hatters', 8011), ('urbannaxals', 18730), ('mild', 11264), ('nv', 12251), ('struck', 16992), ('memberillegal', 11119), ('amendmentreaches', 567), ('absolutecriminals', 58), ('unarmedpix', 18470), ('polsi', 13452), ('fienstine', 6590), ('thier', 17712), ('assulting', 1073), ('surley', 17193), ('rightshe', 14955), ('patients', 12938), ('bagging', 1330), ('squeeze', 16672), ('shareholder', 15788), ('dividend', 5144), ('neofaux', 11893), ('joanwho', 9476), ('reimu', 14557), ('chuckles', 3088), ('stern', 16842), ('maaayy', 10692), ('stroking', 16986), ('kogasas', 9873), ('heh', 8102), ('youkai', 19932), ('sympathizer', 17295), ('legislates', 10159), ('stacks', 16695), ('listeners', 10415), ('yarn', 19835), ('spinner', 16590), ('jmo', 9473), ('allude', 487), ('unreal', 18644), ('pleaz', 13350), ('conjecture', 3643), ('reviewed', 14871), ('bloodless', 1946), ('villains', 18960), ('garak', 7206), ('factsanctuary', 6291), ('guarantied', 7742), ('invasionobamas', 9166), ('chara', 2901), ('normie', 12123), ('teacherstudent', 17445), ('phenominon', 13166), ('journalistdocumentarian', 9525), ('barracks', 1437), ('assignments', 1062), ('unit', 18597), ('beefing', 1570), ('civics', 3145), ('bisca', 1828), ('bliar', 1914), ('hooks', 8384), ('convict', 3825), ('validity', 18811), ('ptl', 14001), ('healing', 8049), ('ourcountry', 12632), ('slugs', 16244), ('kavauagh', 9692), ('tryed', 18288), ('gb', 7248), ('grabbers', 7569), ('dancing', 4326), ('immediarely', 8741), ('fodder', 6811), ('runcie', 15170), ('craig', 4038), ('hammered', 7878), ('investments', 9185), ('boatload', 1990), ('clintons', 3247), ('druggy', 5431), ('trumptrainportal', 18262), ('yokels', 19909), ('vigilante', 18950), ('controlswamp', 3808), ('boltey', 2025), ('kaate', 9617), ('uski', 18767), ('akal', 395), ('gutno', 7799), ('reti', 14839), ('bday', 1511), ('osama', 12607), ('laden', 9952), ('janaza', 9372), ('nexit', 11949), ('lttrephgt', 10640), ('drip', 5410), ('generating', 7279), ('consumption', 3736), ('hmrchumancost', 8292), ('loancharge', 10469), ('senile', 15635), ('meansit', 11049), ('desrerved', 4773), ('thos', 17758), ('commander', 3431), ('testimony', 17568), ('stbirthday', 16801), ('savagesongs', 15340), ('lst', 10629), ('masterpiece', 10951), ('garynuman', 7218), ('noalbum', 12029), ('dat', 4360), ('tweaked', 18345), ('iconic', 8611), ('controlnot', 3802), ('incentive', 8842), ('weakened', 19256), ('capabilities', 2621), ('supportershe', 17163), ('teamspotlightsunday', 17453), ('meghan', 11096), ('mcdermott', 11019), ('alanna', 406), ('dopey', 5282), ('youbuiltthis', 19923), ('chicagodeathtoll', 2994), ('meee', 11088), ('hug', 8493), ('bodyguard', 2002), ('bds', 1512), ('tract', 18051), ('liketrump', 10362), ('flushing', 6796), ('ashallnotbeinfringed', 1003), ('premise', 13654), ('yelled', 19867), ('relativists', 14579), ('scraficed', 15458), ('condom', 3585), ('pleaseeeeee', 13346), ('scorned', 15445), ('tricky', 18167), ('wording', 19669), ('mistreated', 11394), ('rejoicing', 14565), ('partyantifa', 12891), ('sexist', 15721), ('anc', 618), ('umdala', 18451), ('kangaka', 9647), ('yhuuu', 19901), ('matching', 10957), ('yankees', 19832), ('bronx', 2314), ('shakeyellmotivate', 15755), ('pinstriped', 13247), ('mondaymotivaton', 11493), ('chaser', 2930), ('shyster', 15991), ('sadder', 15217), ('posing', 13521), ('bizarro', 1856), ('monthly', 11529), ('mailbox', 10751), ('aide', 367), ('tanner', 17378), ('sleepwalking', 16198), ('sallbuzz', 15256), ('dreamdoll', 5380), ('rockhardman', 15036), ('diannefeinstein', 4865), ('medication', 11078), ('michaelmoore', 11227), ('fudge', 7094), ('cookie', 3841), ('dough', 5321), ('organisers', 12575), ('predatory', 13626), ('asdfghjkl', 998), ('fakelie', 6331), ('presidentif', 13684), ('bbcan', 1495), ('tier', 17836), ('repug', 14727), ('inaction', 8822), ('vinnie', 18969), ('recognise', 14421), ('tacobellanotherkindoffood', 17321), ('saysitall', 15366), ('iamone', 8600), ('fahrenheit', 6304), ('zealotry', 19989), ('iturl', 9321), ('partisanship', 12881), ('nobodys', 12038), ('counterproductive', 3954), ('affecting', 283), ('conus', 3815), ('newer', 11932), ('kaz', 9699), ('ipo', 9209), ('filing', 6613), ('controlright', 3806), ('lmaaaaoooo', 10446), ('countrymen', 3966), ('dated', 4363), ('weaponize', 19267), ('stinking', 16866), ('radicalsevery', 14222), ('blacksbad', 1874), ('beeto', 1575), ('drivers', 5415), ('sewed', 15715), ('gropers', 7687), ('jrshe', 9539), ('nothingdont', 12152), ('firstresponder', 6676), ('djsjsjjs', 5156), ('slanderlibel', 16170), ('vibes', 18910), ('gestapo', 7319), ('remembers', 14632), ('mightier', 11255), ('faction', 6285), ('unsubstantiated', 18663), ('bitterly', 1851), ('po', 13378), ('novemberkag', 12187), ('flabby', 6716), ('tails', 17337), ('superheroes', 17142), ('mumbojumbo', 11673), ('converted', 3823), ('leftleaning', 10131), ('pitied', 13268), ('waled', 19126), ('proposed', 13904), ('birdsofafeather', 1821), ('shore', 15919), ('warriors', 19191), ('reigned', 14556), ('sniffs', 16319), ('loretta', 10559), ('charming', 2921), ('eloquent', 5712), ('unadulterated', 18464), ('recentlyfreed', 14404), ('disarmed', 4983), ('subordinate', 17037), ('declaring', 4463), ('dallon', 4306), ('inauguration', 8830), ('ltlt', 10636), ('deregulations', 4725), ('powerwe', 13580), ('sleeves', 16200), ('ld', 10071), ('passion', 12907), ('southern', 16481), ('pagan', 12762), ('idolatrous', 8650), ('vouched', 19071), ('vouching', 19072), ('arranged', 963), ('vouch', 19070), ('notong', 12167), ('annually', 695), ('newspeak', 11943), ('urgency', 18733), ('shadowbanning', 15745), ('throttling', 17790), ('freedomofspeech', 6996), ('throwback', 17795), ('bengarrison', 1649), ('medicating', 11077), ('labels', 9936), ('iwantthewall', 9330), ('voight', 19027), ('ideologies', 8634), ('shears', 15809), ('rips', 14985), ('guttenburg', 7802), ('freeze', 7002), ('antiquated', 783), ('trumpconservativesrepublicansgopmagats', 18225), ('mister', 11393), ('jugular', 9563), ('ashes', 1006), ('infiltrated', 8937), ('actorsthe', 169), ('dojfbi', 5218), ('criminality', 4111), ('discover', 5009), ('chambers', 2867), ('eto', 6004), ('hindi', 8236), ('admin', 211), ('trumpstrong', 18254), ('climbs', 3234), ('musiconly', 11703), ('wither', 19583), ('fanatical', 6379), ('evangelical', 6023), ('supremecourt', 17180), ('overturn', 12708), ('rug', 15146), ('gilead', 7355), ('speechless', 16548), ('dodgy', 5194), ('contraceptives', 3772), ('inducing', 8913), ('freedomis', 6994), ('fakelife', 6332), ('railing', 14239), ('ypu', 19963), ('kitchens', 9815), ('uncommon', 18494), ('hotties', 8442), ('xox', 19811), ('robbing', 15017), ('endure', 5822), ('emerges', 5740), ('virginity', 18988), ('everyway', 6058), ('natzi', 11810), ('handmaids', 7898), ('rhonda', 14904), ('outlandish', 12653), ('trot', 18196), ('readings', 14343), ('domme', 5236), ('memelord', 11126), ('beniesanders', 1654), ('cautious', 2760), ('naval', 11813), ('cryingweeeehhhhh', 4190), ('weeeeehhhhhstand', 19303), ('mierdas', 11252), ('wowowow', 19728), ('streak', 16947), ('indoctrinated', 8908), ('programmed', 13841), ('nutcases', 12243), ('challenger', 2862), ('bobwoodward', 1997), ('magats', 10729), ('wylin', 19794), ('serenahowever', 15667), ('rightsshe', 14958), ('finance', 6628), ('recanted', 14395), ('scrambling', 15460), ('demeaning', 4601), ('fbrparty', 6479), ('gopcomplicit', 7518), ('crazytown', 4064), ('magathe', 10728), ('bail', 1334), ('postponed', 13547), ('sargentini', 15312), ('prelude', 13648), ('doubting', 5316), ('yeap', 19856), ('stanced', 16731), ('bombed', 2027), ('tanking', 17376), ('mk', 11410), ('speshul', 16564), ('crabby', 4023), ('hiswell', 8267), ('knowhe', 9852), ('detailsbut', 4790), ('fbiwaitthey', 6475), ('nearlyzero', 11842), ('astronomically', 1086), ('babygirl', 1272), ('roseannebarr', 15083), ('inexcusable', 8923), ('muslimbrotherhood', 11705), ('pcliberals', 12989), ('nationality', 11797), ('unified', 18579), ('mini', 11312), ('bolshevik', 2020), ('cuccinelli', 4205), ('epitome', 5919), ('salesman', 15253), ('orientation', 12587), ('produce', 13808), ('accommodate', 96), ('keele', 9710), ('prioritising', 13761), ('damages', 4311), ('childyou', 3021), ('evidenced', 6067), ('bush', 2458), ('authorization', 1185), ('aumf', 1159), ('authorize', 1186), ('additional', 192), ('fundamentalistsstrange', 7119), ('irl', 9221), ('infractions', 8964), ('morrows', 11564), ('dominant', 5231), ('reliever', 14602), ('cocky', 3320), ('immigrating', 8751), ('request', 14736), ('confidentiality', 3602), ('audioslave', 1154), ('unironically', 18595), ('optimist', 12542), ('himtoo', 8231), ('vasen', 18837), ('violentleft', 18982), ('shuving', 15987), ('pods', 13389), ('nomnom', 12069), ('nom', 12060), ('scotuswe', 15455), ('overturned', 12709), ('youuuuuu', 19956), ('lovee', 10595), ('youuuu', 19954), ('infamous', 8926), ('applications', 877), ('summit', 17118), ('rank', 14283), ('outrank', 12666), ('dickmatized', 4876), ('tastethebarbierainbow', 17403), ('legendary', 10154), ('creepier', 4094), ('frightening', 7034), ('vitue', 19012), ('taketworeferenceswithmoniqueandchloe', 17347), ('somelike', 16409), ('sshh', 16684), ('eirc', 5654), ('friken', 7037), ('childrape', 3015), ('assembly', 1047), ('priest', 13732), ('rabbi', 14193), ('treygowdy', 18154), ('maturerity', 10976), ('stigma', 16863), ('marxism', 10926), ('spew', 16565), ('commitee', 3460), ('pinko', 13242), ('stopkavanagh', 16905), ('undocumented', 18539), ('cherrypicks', 2984), ('deadass', 4401), ('staffers', 16700), ('enhanced', 5850), ('interrogation', 9132), ('plausible', 13320), ('suspects', 17222), ('complied', 3526), ('dissenting', 5102), ('camps', 2581), ('steroids', 16844), ('antisuicide', 791), ('vermont', 18881), ('picante', 13204), ('assad', 1033), ('nicer', 11977), ('friggen', 7032), ('intellect', 9084), ('islamophobe', 9257), ('lords', 10556), ('antifaschismuswirkt', 754), ('crisisinpolicing', 4121), ('policingincollapse', 13422), ('ooooh', 12480), ('enforcers', 5835), ('naxine', 11817), ('watters', 19231), ('rotary', 15097), ('flare', 6731), ('launcher', 10030), ('rga', 14896), ('bippy', 1812), ('pretentious', 13707), ('tryhard', 18289), ('housemate', 8454), ('cringeworthy', 4117), ('bbuk', 1500), ('beijing', 1603), ('lowering', 10611), ('sunblock', 17123), ('goth', 7538), ('ay', 1252), ('corpus', 3888), ('christi', 3064), ('diagnose', 4855), ('diagnostic', 4858), ('angels', 649), ('nicco', 11974), ('shev', 15837), ('serenas', 15668), ('outburst', 12642), ('yogi', 19908), ('nickuser', 11987), ('nickelodeon', 11981), ('foodnetwork', 6843), ('hgtv', 8178), ('hallmark', 7867), ('surpass', 17194), ('lily', 10369), ('shrio', 15970), ('mkultra', 11411), ('catastrophes', 2726), ('demslose', 4665), ('winforus', 19536), ('godglad', 7449), ('enter', 5875), ('demarat', 4597), ('biproduct', 1813), ('pursuit', 14086), ('dolts', 5227), ('schizo', 15414), ('orin', 12595), ('cks', 3155), ('inappropriate', 8829), ('collab', 3354), ('minecraft', 11307), ('films', 6621), ('sucky', 17085), ('rises', 14987), ('invalid', 9164), ('remaining', 14621), ('winsurance', 19552), ('ville', 18961), ('dd', 4396), ('mi', 11220), ('inferred', 8933), ('qualifying', 14148), ('arsenal', 978), ('professionally', 13824), ('legends', 10155), ('overwatch', 12713), ('csgo', 4194), ('format', 6901), ('uf', 18414), ('shmo', 15893), ('sellby', 15601), ('weasels', 19278), ('jacobite', 9351), ('bonnie', 2042), ('charlie', 2916), ('gf', 7332), ('ein', 5651), ('pahh', 12766), ('taurus', 17412), ('statistic', 16786), ('granth', 7604), ('intention', 9097), ('revelations', 14860), ('framers', 6954), ('anglosaxon', 656), ('antifederalists', 764), ('extremes', 6241), ('ngl', 11964), ('pineapple', 13239), ('offf', 12372), ('republicno', 14724), ('timesuptwitter', 17857), ('slams', 16166), ('newsmax', 11940), ('robber', 15015), ('nycs', 12260), ('impaired', 8761), ('levistraussdoublesdown', 10224), ('infant', 8927), ('monopolies', 11517), ('shifts', 15846), ('misremembering', 11371), ('grades', 7578), ('seattle', 15515), ('swiss', 17274), ('understatement', 18529), ('imprison', 8809), ('execute', 6133), ('harshest', 7976), ('imaginable', 8719), ('correctional', 3894), ('corcoran', 3874), ('prisonyes', 13768), ('reallywell', 14365), ('hangin', 7908), ('complacency', 3507), ('weeksenior', 19310), ('admonishment', 231), ('grinding', 7672), ('smallbut', 16256), ('ws', 19765), ('distortion', 5114), ('farther', 6415), ('limelight', 10372), ('sareena', 15310), ('tyrone', 18405), ('woodley', 19652), ('mins', 11325), ('bud', 2371), ('somethings', 16415), ('fishy', 6689), ('insufficient', 9071), ('hull', 8499), ('rossendale', 15093), ('darwen', 4358), ('footsteps', 6858), ('vain', 18802), ('motherfuckers', 11577), ('atheism', 1094), ('doingsnondoings', 5214), ('nyjer', 12263), ('supplied', 17155), ('unimpeachable', 18584), ('documentation', 5186), ('snopes', 16329), ('tt', 18300), ('nauseated', 11811), ('liberalsguess', 10270), ('nodeal', 12046), ('anglosaxons', 657), ('ethnicities', 6002), ('bouncer', 2121), ('postsuspension', 13551), ('graces', 7574), ('shotwho', 15933), ('herring', 8161), ('patrick', 12942), ('orgasim', 12584), ('inbox', 8833), ('whatsapp', 19395), ('sixty', 16114), ('contain', 3742), ('unwelcome', 18682), ('unintentionally', 18589), ('ause', 1167), ('sickholder', 15998), ('cheesy', 2967), ('negarrrr', 11867), ('continuous', 3768), ('missoula', 11383), ('broward', 2328), ('reckon', 14418), ('wacky', 19091), ('wednesdays', 19296), ('splitting', 16607), ('dreaming', 5385), ('wand', 19153), ('streamed', 16949), ('pleas', 13342), ('cooperation', 3857), ('corrections', 3895), ('dogeaters', 5201), ('convey', 3824), ('itch', 9300), ('teased', 17462), ('darkskin', 4351), ('clairvoyant', 3160), ('thiswacko', 17747), ('fvkk', 7156), ('muttafuttah', 11718), ('millenium', 11282), ('magaretweet', 10724), ('deleted', 4570), ('principal', 13746), ('entrepreneurial', 5898), ('binged', 1799), ('cowboywayal', 4007), ('faithcattleco', 6320), ('godfirst', 7448), ('loveurfamily', 10604), ('cody', 3329), ('jrm', 9537), ('deletion', 4572), ('bedroom', 1564), ('implausible', 8780), ('wowthe', 19730), ('withmagakagthanks', 19587), ('youxoxo', 19960), ('semis', 15614), ('runner', 15171), ('wil', 19509), ('liestealuse', 10324), ('bytches', 2512), ('prolly', 13868), ('attitudes', 1135), ('oughta', 12629), ('principalthat', 13749), ('msg', 11628), ('dart', 4356), ('lounge', 10590), ('units', 18603), ('epidemic', 5912), ('savings', 15353), ('igniting', 8662), ('robertsrooms', 15021), ('petersen', 13145), ('pretends', 13706), ('islams', 9261), ('births', 1827), ('niece', 11990), ('categorize', 2734), ('editing', 5597), ('kudos', 9911), ('omggggggg', 12434), ('gettimg', 7327), ('rofl', 15050), ('flunkie', 6793), ('skyrocketed', 16159), ('vetsresistsquadron', 18899), ('scout', 15457), ('vowing', 19074), ('samrat', 15274), ('attract', 1142), ('teju', 17485), ('geetha', 7261), ('kaushalarmy', 9669), ('biggbosstelugu', 1764), ('logically', 10504), ('recover', 14442), ('hared', 7957), ('mames', 10800), ('fakenewsmedia', 6336), ('clay', 3196), ('travis', 18127), ('smaller', 16257), ('whooped', 19469), ('slammed', 16164), ('jihoons', 9455), ('doesntunderstandmetaphors', 5199), ('capitulate', 2633), ('funnythats', 7136), ('notmypope', 12164), ('holland', 8325), ('tunnel', 18321), ('eff', 5617), ('violencedomestic', 18978), ('hormones', 8403), ('testosterone', 17570), ('overpaid', 12696), ('underground', 18516), ('kneeled', 9832), ('manufactured', 10858), ('ironicnews', 9225), ('pantsonfire', 12820), ('trumppocalypse', 18244), ('waved', 19233), ('ranch', 14271), ('speakers', 16523), ('shithouse', 15873), ('sentiment', 15650), ('akin', 398), ('gasses', 7224), ('msd', 11627), ('ostrich', 12616), ('allege', 459), ('tenacity', 17516), ('oj', 12402), ('gifted', 7348), ('goptaxscam', 7522), ('dopes', 5280), ('unfounded', 18568), ('unfairly', 18555), ('strips', 16982), ('spelled', 16557), ('belated', 1607), ('despondent', 4772), ('firerosenstein', 6667), ('peterstrzok', 13147), ('qclearancepatriot', 14131), ('qclearance', 14130), ('uraniumone', 18727), ('lockherupalready', 10488), ('uraniumonedeal', 18728), ('gawdfather', 7239), ('fuxnews', 7155), ('cheapen', 2942), ('localities', 10479), ('damagei', 4310), ('allbut', 456), ('rager', 14227), ('shamer', 15773), ('gpsent', 7564), ('dumped', 5488), ('shitcago', 15867), ('clothed', 3267), ('proverbs', 13961), ('ib', 8604), ('lowlands', 10616), ('meritorious', 11170), ('iwillnotsubmit', 9332), ('plantations', 13308), ('pedowood', 13027), ('lousy', 10591), ('silver', 16048), ('guidance', 7753), ('strzok', 17000), ('twotiered', 18378), ('lawbreakers', 10038), ('impeachjeffsessions', 8770), ('merged', 11168), ('whataretheyhiding', 19387), ('problemswho', 13797), ('parasitic', 12840), ('appalling', 852), ('clearheaded', 3209), ('eyebrows', 6249), ('advocacy', 269), ('contrary', 3781), ('enshrined', 5869), ('circumvent', 3127), ('invent', 9167), ('isi', 9245), ('chalenge', 2859), ('belive', 1623), ('certified', 2844), ('familerize', 6366), ('brettkavanaughhighschoolconfessions', 2236), ('boycotttheview', 2149), ('loselose', 10563), ('proposition', 13907), ('pense', 13051), ('sparking', 16511), ('transmission', 18100), ('goku', 7467), ('outstanding', 12674), ('kathua', 9665), ('financier', 6633), ('electric', 5676), ('startled', 16767), ('horriblei', 8408), ('thatwith', 17614), ('assurances', 1080), ('islamophobepfffft', 9258), ('wordjustin', 19670), ('brie', 2259), ('juice', 9564), ('nap', 11772), ('mats', 10967), ('proposals', 13902), ('vacillate', 18795), ('deceiving', 4446), ('semantic', 15609), ('howls', 8472), ('breakthrough', 2211), ('sewers', 15716), ('carte', 2701), ('blanche', 1888), ('satisfy', 15329), ('vengeance', 18865), ('exposure', 6211), ('bethesda', 1700), ('gangsta', 7201), ('risking', 14991), ('controltake', 3809), ('relaxyou', 14584), ('councillors', 3941), ('episodes', 5916), ('culturally', 4223), ('credibly', 4087), ('cocked', 3312), ('accordinglyyou', 105), ('incivility', 8850), ('onenation', 12448), ('efta', 5630), ('pucker', 14020), ('jerkoff', 9420), ('pam', 12802), ('bondi', 2033), ('ect', 5587), ('hesanidiot', 8167), ('knowmandni', 9857), ('satochi', 15331), ('bigwig', 1778), ('broadcasting', 2299), ('controlantia', 3793), ('betfair', 1699), ('sportbooks', 16628), ('bt', 2353), ('malfunction', 10794), ('jonathan', 9510), ('haidts', 7849), ('elucidate', 5719), ('thinksacts', 17731), ('rationally', 14314), ('geoff', 7303), ('sumn', 17120), ('morphe', 11560), ('choosen', 3050), ('detained', 4791), ('trafficker', 18064), ('patty', 12959), ('prone', 13883), ('bitchc', 1836), ('uwuing', 18788), ('reefer', 14476), ('magabottypes', 10718), ('kinky', 9804), ('detective', 4794), ('starred', 16757), ('strinkingly', 16976), ('beneath', 1641), ('regional', 14527), ('protocol', 13944), ('merrickgarland', 11175), ('rethinkstop', 14837), ('cutdown', 4265), ('altered', 520), ('timelines', 17853), ('nragun', 12205), ('devaluing', 4815), ('disgruntled', 5036), ('fondly', 6840), ('twas', 18341), ('soapbox', 16341), ('backsides', 1298), ('deathbed', 4423), ('coochie', 3838), ('devout', 4841), ('isolated', 9270), ('arnie', 958), ('modeled', 11442), ('badges', 1317), ('royale', 15122), ('fantasia', 6393), ('getaway', 7323), ('familiarserial', 6369), ('reintroduce', 14560), ('brocken', 2302), ('traumatized', 18123), ('doubletalking', 5310), ('facade', 6262), ('downobviously', 5332), ('lawobviously', 10045), ('officerdept', 12375), ('bedo', 1563), ('anne', 679), ('abramoff', 49), ('courted', 3982), ('downingstreet', 5330), ('underpins', 18523), ('clare', 3167), ('ovation', 12678), ('notworthstanding', 12175), ('thyats', 17824), ('gtwellshe', 7738), ('eyesand', 6253), ('personto', 13124), ('agobut', 336), ('smitten', 16288), ('growup', 7713), ('heartbreaking', 8067), ('blisters', 1921), ('contaminated', 3745), ('linewed', 10392), ('teasers', 17463), ('unprompted', 18640), ('unwarranted', 18679), ('undeserved', 18534), ('commenced', 3436), ('struggling', 16998), ('dyrus', 5538), ('scumfuck', 15495), ('dickface', 4874), ('kochs', 9869), ('pollutors', 13449), ('donors', 5261), ('jackoff', 9345), ('oba', 12277), ('jefferson', 9402), ('prez', 13723), ('whitesupremacists', 19452), ('magaveterans', 10730), ('magatalk', 10727), ('yelped', 19873), ('loudly', 10584), ('thirium', 17739), ('gunshot', 7788), ('wounds', 19724), ('haveno', 8019), ('rewarded', 14887), ('effortless', 5627), ('voteyes', 19068), ('geraniuminthecranium', 7310), ('dredge', 5390), ('swallwell', 17237), ('gays', 7243), ('marvollo', 10924), ('riddle', 14922), ('evan', 6022), ('nods', 12048), ('grins', 7673), ('influences', 8951), ('deplatforming', 4700), ('pare', 12844), ('offset', 12383), ('plunge', 13369), ('brownies', 2331), ('tincture', 17865), ('baldwins', 1357), ('sporting', 16629), ('peaking', 13004), ('hizbollah', 8280), ('jace', 9336), ('stagnated', 16710), ('caging', 2530), ('rodenbury', 15044), ('advocated', 271), ('squabbles', 16664), ('dreads', 5378), ('asfuck', 1001), ('prediction', 13630), ('braun', 2189), ('heel', 8100), ('manger', 10823), ('ziggler', 20000), ('anjali', 674), ('van', 18820), ('drie', 5401), ('recipient', 14411), ('analysischarles', 611), ('kimber', 9790), ('aba', 11), ('championforfamilies', 2872), ('soundly', 16473), ('cerberus', 2835), ('dante', 4341), ('worwee', 19716), ('gweek', 7810), ('anxietys', 804), ('nwot', 12257), ('awone', 1243), ('wherw', 19417), ('handles', 7896), ('uganda', 18416), ('unrelated', 18648), ('neccessary', 11848), ('heartsuser', 8073), ('elk', 5703), ('happenis', 7924), ('brokenhearted', 2309), ('ashwariya', 1009), ('sandrayan', 15287), ('bigboss', 1762), ('twitting', 18376), ('aholes', 363), ('backlash', 1291), ('fold', 6815), ('primadonnas', 13737), ('gm', 7426), ('reallly', 14363), ('dom', 5228), ('mets', 11209), ('motions', 11581), ('awwww', 1247), ('ergo', 5946), ('propter', 13910), ('steadily', 16805), ('ef', 5615), ('pussyhats', 14099), ('criticizes', 4132), ('hitman', 8273), ('slaps', 16177), ('dudes', 5458), ('copped', 3864), ('spying', 16663), ('pjw', 13281), ('immigrantion', 8748), ('quarterback', 14154), ('neverwithdraw', 11929), ('fragile', 6951), ('surprisingly', 17201), ('amounts', 598), ('tbose', 17430), ('dup', 5500), ('misuse', 11399), ('bludgeon', 1963), ('liberalsneedtheirownpsychward', 10277), ('unsanitary', 18655), ('fkn', 6714), ('fatnixon', 6444), ('digusting', 4916), ('ndtallest', 11838), ('freudian', 7017), ('devided', 4830), ('leaderless', 10078), ('tuc', 18303), ('fragmenting', 6952), ('dealwto', 4414), ('laid', 9958), ('constanza', 3716), ('jerryin', 9424), ('larger', 9993), ('tooth', 17967), ('istry', 9289), ('antidepressant', 726), ('bangs', 1388), ('maricopa', 10881), ('analog', 608), ('degenerates', 4553), ('paddle', 12758), ('producers', 13811), ('wmas', 19607), ('bandana', 1379), ('mattered', 10971), ('mockingbirdmedia', 11437), ('releasethevideo', 14593), ('qanonchan', 14123), ('temperature', 17505), ('sharpens', 15795), ('stones', 16894), ('advising', 266), ('waiter', 19108), ('obliged', 12299), ('kebab', 9707), ('shouldhave', 15939), ('fixedmasters', 6704), ('dhanya', 4850), ('geei', 7259), ('micheal', 11228), ('hungery', 8529), ('worn', 19699), ('undereducated', 18512), ('consistantly', 3701), ('assumes', 1076), ('smi', 16279), ('progress', 13844), ('unelectable', 18544), ('quasiconservatives', 14159), ('referenced', 14485), ('ptotus', 14003), ('abusing', 71), ('insulating', 9072), ('stark', 16754), ('andover', 629), ('se', 15500), ('endeavors', 5805), ('crud', 4171), ('kindly', 9796), ('ganikalinaaisha', 7202), ('wickstrom', 19492), ('nanos', 11768), ('boondoggles', 2067), ('firing', 6670), ('exculpatory', 6124), ('ukus', 18440), ('intercepted', 9106), ('skypapers', 16154), ('bbcdp', 1496), ('lbclive', 10066), ('talkradio', 17363), ('altnews', 529), ('cityoflondon', 3142), ('uknews', 18436), ('toryparty', 17988), ('morealligatorgreedannulled', 11548), ('dismantle', 5053), ('protections', 13932), ('forprofit', 6911), ('consumables', 3733), ('phoney', 13182), ('supersized', 17147), ('extranew', 6233), ('cits', 3140), ('generallocal', 7275), ('cm', 3283), ('interference', 9114), ('rawr', 14323), ('realitycheck', 14358), ('heathermallick', 8079), ('maxime', 10984), ('hardright', 7952), ('pp', 13581), ('kung', 9913), ('pacifiers', 12749), ('suffisait', 17097), ('perceives', 13071), ('jun', 9574), ('gutiérrez', 7797), ('friended', 7026), ('zerin', 19996), ('bangladesh', 1386), ('expanding', 6165), ('shrink', 15969), ('conservativeyou', 3688), ('detectors', 4797), ('urge', 18731), ('cues', 4211), ('handshake', 7902), ('naturalisation', 11807), ('ceremonies', 2837), ('mccains', 11011), ('evilness', 6072), ('aaaah', 3), ('definantly', 4533), ('neighbourhoods', 11885), ('controlbut', 3795), ('slippery', 16223), ('sloop', 16232), ('dimms', 4932), ('mileask', 11268), ('prz', 13974), ('dimmsthey', 4933), ('amnesty', 590), ('immagration', 8738), ('khabib', 9758), ('guyyyy', 7808), ('postpone', 13546), ('roblox', 15024), ('rapping', 14298), ('duuuueerrrrhhh', 5518), ('somaga', 16400), ('larry', 9997), ('nassar', 11787), ('informatin', 8957), ('recruitment', 14447), ('tents', 17532), ('mediabias', 11065), ('obscene', 12305), ('orr', 12599), ('conservativeswar', 3687), ('babieswar', 1269), ('educationwar', 5608), ('wam', 19151), ('closed', 3256), ('kreamy', 9895), ('exotic', 6163), ('moronsabout', 11558), ('illegally', 8688), ('potion', 13557), ('mane', 10817), ('chase', 2929), ('texan', 17574), ('shaping', 15782), ('interrupt', 9133), ('posterity', 13542), ('passionately', 12909), ('complained', 3510), ('speeding', 16551), ('saver', 15347), ('rabbit', 14194), ('childrens', 3018), ('rhi', 14900), ('annoy', 690), ('dabble', 4289), ('propelled', 13890), ('liberalsmustgo', 10276), ('gonein', 7481), ('victorias', 18927), ('sponsor', 16618), ('chunky', 3098), ('sametrash', 15270), ('albeit', 411), ('subtitled', 17059), ('favorites', 6461), ('oldfashioned', 12416), ('tje', 17891), ('fashionable', 6425), ('doable', 5171), ('diabetics', 4854), ('condemns', 3579), ('paytoplay', 12982), ('feeders', 6516), ('freakyford', 6984), ('appeasement', 866), ('knowledgeable', 9856), ('unintelligent', 18587), ('inexperienced', 8924), ('unwary', 18680), ('espouses', 5977), ('fuckidng', 7078), ('loudmouth', 10585), ('walter', 19148), ('magawalter', 10731), ('fakenewswalter', 6337), ('penchant', 13046), ('themwalter', 17659), ('toenails', 17921), ('infatuated', 8929), ('pediphiles', 13015), ('protectors', 13934), ('imprecation', 8804), ('igor', 8670), ('eschew', 5968), ('virgin', 18986), ('partaken', 12866), ('crops', 4152), ('citizenstheir', 3139), ('pets', 13149), ('murdersers', 11688), ('thieves', 17713), ('americatheyre', 579), ('whoa', 19459), ('angie', 652), ('sfos', 15734), ('electable', 5666), ('buttercup', 2480), ('lameuser', 9971), ('ia', 8597), ('punished', 14052), ('thinkin', 17727), ('psychiatrist', 13985), ('smokes', 16292), ('fridge', 7024), ('ittabloid', 9319), ('stepdown', 16829), ('becos', 1558), ('teli', 17492), ('weebtifa', 19301), ('enabled', 5781), ('profoundly', 13837), ('decay', 4439), ('difi', 4905), ('whiteness', 19448), ('aasertions', 9), ('inane', 8827), ('involvement', 9199), ('vandalism', 18821), ('juxtapositioning', 9612), ('slanted', 16173), ('symptom', 17299), ('falwell', 6361), ('oof', 12476), ('okabe', 12404), ('rluka', 14998), ('bubbles', 2364), ('clownish', 3275), ('poisonous', 13400), ('propeller', 13891), ('defeatism', 4507), ('kaines', 9627), ('brownie', 2330), ('dougie', 5323), ('noise', 12056), ('distopia', 5112), ('shitter', 15885), ('ownthelibs', 12734), ('reactionary', 14338), ('backfire', 1286), ('liberalsbadly', 10266), ('accommodating', 97), ('clintoncfr', 3242), ('experiments', 6180), ('creationist', 4074), ('beliees', 1610), ('lmfaoooooooo', 10460), ('commercials', 3448), ('hectares', 8092), ('cultivated', 4218), ('poppy', 13487), ('opium', 12511), ('exponentially', 6203), ('troop', 18191), ('retreat', 14845), ('myanmar', 11727), ('port', 13505), ('outlier', 12658), ('retards', 14832), ('btwn', 2358), ('codywilson', 3330), ('actully', 178), ('ign', 8661), ('alleyway', 467), ('sexistcould', 15722), ('gentlewoman', 7298), ('lulz', 10653), ('visàve', 19008), ('initiation', 8985), ('brunswick', 2340), ('encouragement', 5791), ('lineantifa', 10388), ('fuuun', 7154), ('simmons', 16053), ('evolutionary', 6075), ('biologists', 1807), ('hisself', 8259), ('wiiu', 19508), ('kendall', 9735), ('surgery', 17192), ('khloe', 9763), ('kylie', 9927), ('wfillers', 19375), ('overdue', 12687), ('veer', 18847), ('regulation', 14545), ('measurable', 11053), ('gary', 7217), ('mauser', 10979), ('extraordinary', 6236), ('scrap', 15461), ('scrapped', 15464), ('lowlife', 10617), ('teamwork', 17456), ('abundantly', 65), ('alienating', 438), ('precautions', 13617), ('bhadbhabie', 1733), ('bhadtranny', 1734), ('faulty', 6452), ('scheerbernier', 15406), ('empireand', 5762), ('louise', 10587), ('mensch', 11147), ('registrar', 14531), ('screenshots', 15478), ('baiting', 1341), ('nutjob', 12244), ('shelves', 15830), ('hindol', 8237), ('sengupta', 15634), ('forosity', 6910), ('illustration', 8708), ('letsgoshooting', 10206), ('rome', 15063), ('campaigner', 2575), ('oconnor', 12346), ('aged', 318), ('capability', 2622), ('decriminalizing', 4482), ('owned', 12727), ('youngsters', 19938), ('alaye', 409), ('laborers', 9938), ('worshiping', 19707), ('boils', 2012), ('irredeemable', 9229), ('gropy', 7689), ('palace', 12785), ('eevery', 5614), ('partnered', 12884), ('vp', 19076), ('markey', 10901), ('unroll', 18653), ('firs', 6673), ('vaxxed', 18843), ('readthebook', 14345), ('cdcwhistleblower', 2782), ('vaccineholocaust', 18794), ('socialsurvey', 16366), ('cristyn', 4124), ('lindsay', 10385), ('dyess', 5531), ('crucifixion', 4169), ('safertomorrowfund', 15231), ('naruto', 11781), ('hulu', 8500), ('coppelion', 3865), ('shon', 15901), ('ktvu', 9909), ('stoke', 16881), ('disrespectfully', 5093), ('liable', 10239), ('displacement', 5071), ('luxury', 10669), ('oppressor', 12533), ('hungerless', 8528), ('hunger', 8527), ('karmys', 9657), ('slovenly', 16239), ('jesuit', 9431), ('brac', 2158), ('maximebernier', 10985), ('gpc', 7562), ('joyous', 9534), ('streetwhere', 16957), ('duality', 5447), ('victor', 18924), ('rebekahismoftheday', 14384), ('callup', 2557), ('litmus', 10429), ('isyou', 9291), ('mistakenly', 11391), ('alienated', 437), ('crashes', 4047), ('townhalls', 18034), ('rapidly', 14292), ('hanoijane', 7917), ('campaigns', 2577), ('mistreating', 11395), ('contest', 3755), ('effortlessly', 5628), ('doct', 5179), ('appropriating', 899), ('exattorney', 6100), ('yasirnobody', 19837), ('pyjamas', 14116), ('thinknow', 17729), ('wallow', 19144), ('inliberals', 8997), ('advancements', 250), ('signage', 16024), ('pummeled', 14038), ('fuckingndbs', 7086), ('funnyhejs', 7134), ('antifastock', 759), ('rescued', 14748), ('architect', 918), ('wednesdaymotivation', 19295), ('lex', 10228), ('longgggg', 10524), ('feb', 6497), ('francoism', 6963), ('separatists', 15658), ('embezzlement', 5732), ('catalonia', 2724), ('vlaams', 19013), ('belang', 1606), ('egomaniac', 5638), ('drafts', 5355), ('predictors', 13632), ('opennesslow', 12495), ('conscientiousness', 3663), ('opennesshigh', 12494), ('booo', 2068), ('hooo', 8386), ('brats', 2188), ('fup', 7138), ('yrsof', 19968), ('greens', 7649), ('resolution', 14772), ('gnc', 7429), ('bloc', 1927), ('liberalswho', 10280), ('bfa', 1727), ('rift', 14937), ('cruzmaga', 4185), ('flippantdismissive', 6760), ('grahn', 7583), ('barbara', 1411), ('skrull', 16148), ('kree', 9897), ('warmly', 19178), ('merci', 11161), ('sire', 16092), ('softly', 16380), ('omportant', 12437), ('waisted', 19104), ('enrichment', 5868), ('centrefold', 2825), ('blathering', 1902), ('amazonpets', 552), ('twitterer', 18368), ('megy', 11098), ('mumbai', 11670), ('apartheid', 833), ('commits', 3463), ('identitypoltics', 8631), ('monolithic', 11513), ('legalizing', 10150), ('cannabis', 2609), ('solar', 16382), ('panels', 12809), ('turbines', 18322), ('yom', 19911), ('unfirtunately', 18560), ('argued', 935), ('agreeds', 342), ('grannytrumptrain', 7601), ('dregofsociety', 5392), ('cleanse', 3202), ('cultures', 4225), ('breeding', 2224), ('heritage', 8149), ('powertothepeople', 13579), ('conducting', 3589), ('embraces', 5736), ('mlm', 11413), ('graffiti', 7581), ('marxistleninistmaoist', 10927), ('maos', 10864), ('venetian', 18861), ('ballroom', 1367), ('dryhumping', 5440), ('inspired', 9043), ('accessory', 91), ('harrison', 7971), ('bergeron', 1667), ('functioning', 7116), ('lowcut', 10607), ('seenmy', 15562), ('thed', 17630), ('rugby', 15147), ('championships', 2876), ('beauden', 1541), ('demonrat', 4643), ('demoncratic', 4636), ('turtles', 18337), ('jihadist', 9454), ('qual', 14142), ('canelo', 2608), ('mayweather', 10999), ('dredds', 5389), ('tuesdaymorning', 18306), ('wednesdaymorning', 19294), ('youvia', 19958), ('dinosaur', 4945), ('steinbrenner', 16824), ('callers', 2551), ('idiocy', 8638), ('soyboy', 16493), ('stickman', 16858), ('dweeb', 5522), ('enraged', 5866), ('phobic', 13177), ('unexplained', 18553), ('poker', 13405), ('bluff', 1971), ('ci', 3102), ('usko', 18768), ('har', 7934), ('cheez', 2969), ('shayad', 15805), ('aisa', 387), ('lagta', 9955), ('jaise', 9360), ('libdems', 10248), ('knucklehead', 9865), ('kindergarten', 9793), ('scramble', 15459), ('brakes', 2177), ('refuted', 14514), ('virgil', 18985), ('chargers', 2912), ('kitty', 9817), ('pol', 13407), ('fireup', 6669), ('superhero', 17141), ('cook', 3839), ('illinoise', 8698), ('populations', 13495), ('fugitive', 7100), ('polanski', 13409), ('banked', 1392), ('apartments', 835), ('productivity', 13816), ('dozens', 5348), ('bloodsuckers', 1951), ('elves', 5720), ('undead', 18502), ('sundaythoughts', 17127), ('hurricaneflorence', 8546), ('bolsonaroeleitoºlugar', 2022), ('bolsonaropresidente', 2023), ('blackout', 1872), ('blackexcellence', 1866), ('planes', 13299), ('downs', 5335), ('trumpsupporters', 18256), ('womenfortrump', 19632), ('elpizo', 5714), ('mmz', 11420), ('fawning', 6469), ('daves', 4372), ('excommunicate', 6121), ('alana', 405), ('proceed', 13799), ('outward', 12677), ('trappings', 18114), ('methodical', 11201), ('jailtreason', 9359), ('ows', 12735), ('thinkspeak', 17732), ('wellpaid', 19342), ('projectveritas', 13861), ('jamesokeefe', 9367), ('heavenly', 8084), ('hedge', 8094), ('tyrants', 18404), ('traffickers', 18065), ('confer', 3595), ('majors', 10766), ('animated', 665), ('smolder', 16295), ('atty', 1146), ('genl', 7291), ('labamba', 9931), ('sheister', 15823), ('hurray', 8543), ('equip', 5931), ('clips', 3249), ('robotare', 15027), ('empoundment', 5771), ('nflfreesundays', 11958), ('democrate', 4615), ('lurch', 10663), ('surfing', 17190), ('amiright', 583), ('siezing', 16016), ('federer', 6508), ('turnoff', 18332), ('vanish', 18825), ('nowheresland', 12197), ('followercount', 6827), ('ulet', 18441), ('compute', 3538), ('feminazi', 6548), ('carrful', 2689), ('smol', 16294), ('supermajority', 17144), ('palpitations', 12799), ('meddling', 11063), ('jeno', 9408), ('skshsksk', 16149), ('steroid', 16843), ('plate', 13314), ('cheeto', 2968), ('cheats', 2949), ('devestated', 4826), ('hurrican', 8544), ('sends', 15630), ('unclassifying', 18489), ('sarahs', 15305), ('egad', 5632), ('nymphet', 12264), ('flats', 6737), ('glasgow', 7395), ('stagnant', 16709), ('mancant', 10811), ('commiserations', 3454), ('losses', 10571), ('brioche', 2282), ('cinnamon', 3116), ('defund', 4547), ('heandshe', 8056), ('newstatus', 11945), ('comingsoon', 3429), ('hplife', 8474), ('rake', 14254), ('twitterpurge', 18372), ('twittercensorship', 18367), ('admission', 223), ('username', 18761), ('pizzagate', 13278), ('hivites', 8278), ('eagleonetowanta', 5543), ('painted', 12772), ('godfearing', 7447), ('antiamerica', 717), ('blossoms', 1956), ('dukin', 5470), ('guite', 7762), ('sacrificed', 15212), ('mccartney', 11014), ('venezuelas', 18864), ('irans', 9215), ('syrian', 17309), ('libnuts', 10296), ('dishwasher', 5045), ('quietly', 14176), ('unlikely', 18623), ('concessions', 3566), ('collect', 3363), ('postcard', 13539), ('lens', 10183), ('temperamental', 17504), ('pampered', 12803), ('termination', 17536), ('whackadoodle', 19379), ('bernies', 1679), ('robot', 15026), ('leos', 10190), ('meets', 11094), ('unpack', 18632), ('bonesbeausid', 2039), ('goodfire', 7493), ('betteryou', 1713), ('wax', 19237), ('examinations', 6092), ('morrow', 11563), ('benign', 1656), ('coopted', 3859), ('swastikas', 17245), ('railroad', 14240), ('junkies', 9581), ('maybach', 10991), ('getup', 7331), ('determining', 4805), ('deciding', 4455), ('preston', 13697), ('nob', 12031), ('goblin', 7438), ('aparachnik', 830), ('hyunjea', 8594), ('theboyz', 17624), ('hyunjae', 8593), ('더보이즈', 20026), ('notoriously', 12169), ('apologist', 843), ('journo', 9529), ('promotion', 13880), ('advertising', 260), ('fargolowes', 6404), ('hurricaneseason', 8550), ('exclusion', 6117), ('authoritarians', 1181), ('devilyouloseagain', 4833), ('letthetribunalsbegin', 10212), ('trumpworld', 18267), ('rainmakersunite', 14247), ('thepersistence', 17670), ('vrc', 19077), ('blues', 1968), ('purples', 14075), ('discovery', 5011), ('playopmayflower', 13337), ('goodtrumpsevil', 7500), ('magabots', 10717), ('digitalsoldiers', 4911), ('enjoytheshow', 5858), ('strawberryrecall', 16944), ('insanityjust', 9022), ('conserve', 3690), ('fracking', 6949), ('orourke', 12598), ('freakdon', 6978), ('spartan', 16514), ('finedjailed', 6639), ('dj', 5155), ('jazzy', 9388), ('berated', 1664), ('resounding', 14778), ('layne', 10060), ('trailing', 18072), ('vic', 18912), ('multi', 11658), ('ot', 12620), ('intial', 9144), ('quits', 14182), ('fuckername', 7075), ('magadingdong', 10719), ('spies', 16580), ('blacklist', 1869), ('maaaad', 10691), ('wellin', 19338), ('comin', 3426), ('woolly', 19662), ('plantation', 13307), ('negroes', 11878), ('fer', 6557), ('britches', 2287), ('shuffle', 15976), ('rhoode', 14906), ('riled', 14966), ('flopping', 6775), ('aces', 128), ('platter', 13319), ('dependent', 4696), ('disempowered', 5030), ('lyingnews', 10679), ('optimism', 12541), ('surfacing', 17189), ('goo', 7484), ('shamelessness', 15770), ('peak', 13002), ('colors', 3388), ('relitigate', 14610), ('anonymously', 701), ('newsman', 11939), ('comparable', 3488), ('technique', 17468), ('unkind', 18616), ('respectful', 14785), ('knack', 9828), ('elevating', 5685), ('lolol', 10515), ('nooooos', 12110), ('guterriz', 7794), ('blossomwood', 1957), ('huntsville', 8540), ('injuries', 8991), ('jacobreesmogg', 9352), ('pleases', 13348), ('primeminister', 13743), ('ostracized', 12615), ('expo', 6201), ('organize', 12578), ('foundation', 6936), ('dufus', 5465), ('hooray', 8388), ('clearflynnnow', 3208), ('creek', 4092), ('owl', 12725), ('rehabilitate', 14549), ('fakejournalists', 6330), ('nohonor', 12054), ('lethargic', 10203), ('bradley', 2161), ('soulmate', 16467), ('ops', 12536), ('religiousfreedom', 14607), ('freedomandjusticeforall', 6993), ('enemyofthepeople', 5828), ('allusion', 488), ('mustkeepgrowing', 11711), ('dependence', 4695), ('gamecocks', 7191), ('correlate', 3898), ('ivana', 9327), ('lite', 10424), ('progressivism', 13848), ('fearless', 6492), ('alerts', 425), ('censor', 2813), ('allfucking', 468), ('parole', 12859), ('gospel', 7534), ('diggers', 4908), ('wayy', 19245), ('litterly', 10431), ('gttfw', 7733), ('disarmharrisnow', 4984), ('travon', 18128), ('laundromat', 10033), ('porch', 13499), ('snowballed', 16332), ('pedophelia', 13020), ('manentitytotally', 10818), ('superstitious', 17152), ('breakers', 2206), ('backers', 1284), ('messenger', 11186), ('messengers', 11187), ('packaged', 12753), ('schitt', 15413), ('vilenin', 18955), ('fieri', 6592), ('dosnt', 5293), ('hungary', 8526), ('imagining', 8727), ('contaminate', 3744), ('overtime', 12706), ('ciara', 3105), ('unc', 18483), ('locomotive', 10494), ('symbolises', 17292), ('trumphero', 18230), ('trumpleader', 18239), ('weluvtrump', 19345), ('republiklan', 14725), ('toy', 18040), ('ernieandbert', 5955), ('traitortrump', 18084), ('traitortoad', 18083), ('enddespicable', 5802), ('buildthatwall', 2396), ('noncreditable', 12080), ('meeeeeeee', 11089), ('drooping', 5419), ('liberalsleftists', 10274), ('gothey', 7539), ('fenstine', 6556), ('realeased', 14351), ('academia', 78), ('fingering', 6646), ('shopmycloset', 15914), ('projectmanagement', 13858), ('crypto', 4192), ('mcbuckets', 11007), ('westbrook', 19365), ('roses', 15087), ('swarm', 17244), ('verb', 18870), ('marco', 10874), ('plots', 13359), ('counterprotests', 3957), ('ldconfbrexit', 10073), ('olivia', 12425), ('privacy', 13770), ('torn', 17982), ('consternation', 3717), ('aand', 6), ('disappointing', 4979), ('fwd', 7157), ('mustsee', 11712), ('examine', 6093), ('locationtimepeople', 10483), ('heed', 8099), ('warnings', 19183), ('nonissue', 12087), ('sportsmanship', 16633), ('ejected', 5659), ('wantno', 19167), ('pious', 13250), ('spiritual', 16595), ('batt', 1479), ('brandmatters', 2183), ('abnormal', 30), ('compiled', 3506), ('antifaaccompanied', 730), ('emmy', 5748), ('boycotthollywood', 2143), ('saveamericafromdemocrats', 15342), ('input', 9014), ('ingraham', 8975), ('russianinfiltrated', 15189), ('nras', 12206), ('vociferously', 19019), ('vying', 19082), ('kellyanne', 9732), ('gag', 7171), ('conways', 3836), ('equation', 5930), ('roughly', 15107), ('equating', 5929), ('mathematical', 10964), ('mathematics', 10965), ('ultrafinitists', 18447), ('viewing', 18945), ('tammy', 17369), ('wynette', 19795), ('bimbo', 1793), ('fisadeclassification', 6678), ('trustsessions', 18273), ('organizers', 12581), ('sensational', 15639), ('sighed', 16019), ('compliments', 3529), ('apologise', 842), ('keiths', 9727), ('falsifying', 6360), ('prefabricated', 13636), ('gorkeddems', 7529), ('oink', 12401), ('bouta', 2125), ('baja', 1342), ('tri', 18155), ('relativity', 14580), ('thoughtconspiracy', 17764), ('concocted', 3572), ('fearful', 6491), ('prolong', 13869), ('becka', 1554), ('antifawho', 763), ('ironically', 9224), ('danish', 4339), ('demswanttotalcontrol', 4667), ('libsthinktheyhavealltheanswers', 10302), ('freedomofspeechforall', 6997), ('burgers', 2438), ('releasethecures', 14589), ('itstime', 9318), ('bitchute', 1841), ('perpetuating', 13107), ('frickin', 7019), ('meh', 11100), ('prettiest', 13709), ('spanked', 16504), ('brettkavanuagh', 2237), ('milquetoast', 11294), ('reconnect', 14433), ('yummy', 19973), ('psyop', 13998), ('ivan', 9326), ('fsu', 7065), ('tango', 17373), ('fbs', 6480), ('syracuse', 17307), ('wowmid', 19726), ('eights', 5650), ('sendhim', 15627), ('smartnews', 16262), ('suretragedy', 17186), ('helen', 8115), ('keller', 9730), ('jimwho', 9464), ('images', 8718), ('volatile', 19028), ('tempershe', 17507), ('lineswoman', 10391), ('speedingjaywalking', 16552), ('finedodds', 6640), ('multimillion', 11661), ('lambda', 9965), ('investment', 9184), ('ecb', 5573), ('recycled', 14452), ('passions', 12910), ('strangely', 16933), ('educational', 5607), ('wecall', 19289), ('sniffles', 16318), ('cecil', 2794), ('nuetral', 12221), ('saluteyawnnothing', 15262), ('naxal', 11816), ('chills', 3023), ('rendered', 14653), ('kals', 9636), ('communication', 3474), ('polit', 13426), ('bureau', 2434), ('tht', 17803), ('delaney', 4563), ('disrespects', 5095), ('launching', 10031), ('mississauga', 11381), ('socially', 16365), ('economically', 5580), ('profitdriven', 13832), ('fillin', 6617), ('budging', 2378), ('notbakingyourcake', 12140), ('proudtolovejesus', 13953), ('indifferent', 8902), ('acosta', 145), ('antifaits', 743), ('server', 15682), ('disconnecting', 5000), ('withdrawhe', 19581), ('hurtng', 8555), ('personthe', 13123), ('ambassador', 553), ('demslibs', 4664), ('lieberal', 10317), ('scandalsrising', 15385), ('moochelle', 11533), ('camillekruger', 2570), ('eds', 5602), ('tumblr', 18315), ('havens', 8020), ('trumptards', 18258), ('crushes', 4180), ('interior', 9118), ('adolf', 232), ('ow', 12717), ('evilest', 6071), ('cunts', 4234), ('dino', 4944), ('bending', 1640), ('gsoros', 7719), ('mannyottawa', 10850), ('capped', 2637), ('replied', 14686), ('tilted', 17848), ('frowned', 7051), ('curiosity', 4241), ('gardens', 7211), ('homeoffice', 8345), ('choudary', 3060), ('patrickmouratoglou', 12943), ('signals', 16027), ('cheated', 2945), ('manipulative', 10839), ('sideways', 16011), ('heros', 8159), ('wep', 19353), ('diplomacy', 4950), ('fakir', 6344), ('anothers', 703), ('transparencynow', 18102), ('secretthe', 15532), ('seenliberals', 15561), ('alphabet', 505), ('daniel', 4335), ('pinochet', 13245), ('trudeaubuttstelford', 18209), ('preferring', 13641), ('thf', 17706), ('brexiters', 2243), ('creationism', 4073), ('recycling', 14453), ('keen', 9712), ('nondemocracy', 12081), ('expired', 6184), ('myki', 11730), ('whatajoke', 19386), ('enslavement', 5871), ('qu', 14137), ('ashole', 1008), ('landscape', 9980), ('immense', 8744), ('ddsl', 4398), ('reinvest', 14561), ('behaviors', 1595), ('expound', 6213), ('insinuated', 9036), ('smashing', 16266), ('remanics', 14623), ('aggression', 330), ('vibs', 18911), ('acrimony', 148), ('ottawa', 12626), ('sr', 16677), ('adminstrator', 217), ('cud', 4209), ('ambulances', 559), ('gaddafi', 7167), ('cultist', 4216), ('altar', 517), ('needful', 11859), ('sincerely', 16066), ('foremost', 6877), ('kemi', 9733), ('echelons', 5574), ('yal', 19826), ('dates', 4364), ('zarries', 19985), ('shipper', 15858), ('larries', 9996), ('sajidjavid', 15245), ('productive', 13815), ('ministers', 11318), ('islamabad', 9251), ('anticorruption', 724), ('counterterrorism', 3958), ('astronauts', 1085), ('aok', 828), ('bho', 1741), ('photographed', 13186), ('arlene', 946), ('liberalsunhinged', 10279), ('votelabour', 19051), ('genow', 7294), ('wearecorbyn', 19273), ('weareq', 19274), ('generalised', 7272), ('meteric', 11197), ('irisheuropean', 9220), ('nationalized', 11799), ('eviction', 6064), ('thestruggleisreal', 17691), ('telegram', 17487), ('attractive', 1144), ('ets', 6005), ('amdor', 562), ('clout', 3272), ('gvt', 7809), ('hillaryobama', 8216), ('muppet', 11679), ('wire', 19561), ('jesusitrustinyou', 9438), ('discouraging', 5007), ('graywhite', 7625), ('tabby', 17315), ('orlando', 12596), ('whereabouts', 19412), ('upsets', 18715), ('nothingburger', 12151), ('ginsbergisnext', 7368), ('rugrats', 15149), ('screwedtick', 15481), ('greenie', 7646), ('admirable', 218), ('newsworthy', 11947), ('ihmykgodoosj', 8672), ('guncoward', 7772), ('brewery', 2238), ('conclusionsthey', 3571), ('guiltythey', 7760), ('hollywoodisscum', 8334), ('shoppingsale', 15918), ('usaflagu', 18742), ('polqx', 13450), ('parody', 12858), ('ecstatic', 5586), ('niche', 11978), ('coordinating', 3860), ('publically', 14007), ('magically', 10738), ('messiness', 11190), ('hugging', 8496), ('abcnews', 17), ('cbsnews', 2773), ('gemini', 7264), ('itselfkahlili', 9313), ('arieshe', 942), ('fireevery', 6664), ('snap', 16305), ('fieldhe', 6587), ('brutalityshe', 2347), ('mouthpiece', 11600), ('worm', 19696), ('beign', 1602), ('acct', 111), ('tis', 17880), ('washer', 19202), ('heyhey', 8176), ('agreeable', 338), ('dickhead', 4875), ('antichrist', 723), ('hmmmmm', 8288), ('pitchers', 13264), ('batter', 1480), ('peaked', 13003), ('embalment', 5725), ('qfd', 14133), ('disappeared', 4977), ('ramming', 14265), ('yelp', 19872), ('staple', 16746), ('hamburger', 7875), ('grey', 7659), ('antinazi', 777), ('antifaloving', 748), ('heckling', 8091), ('assassinations', 1039), ('enormous', 5862), ('dispense', 5067), ('judeochristian', 9547), ('wthis', 19774), ('irrational', 9227), ('allowance', 481), ('trumpswarrior', 18257), ('rethink', 14835), ('woodwork', 19659), ('spitting', 16600), ('turnover', 18335), ('refereeumpire', 14483), ('osaka', 12606), ('taller', 17366), ('laments', 9970), ('stomping', 16889), ('draconian', 5353), ('nazisarebad', 11822), ('nationalization', 11798), ('transportation', 18109), ('regimen', 14524), ('pornography', 13502), ('illegitimacy', 8691), ('hangry', 7910), ('furries', 7143), ('bretheren', 2233), ('repunklicans', 14731), ('ronaldgrump', 15072), ('naziusa', 11825), ('lang', 9984), ('hardships', 7953), ('francisaglabtintulognalang', 6961), ('farms', 6409), ('polutician', 13454), ('baba', 1262), ('frothing', 7050), ('goodest', 7491), ('posed', 13518), ('besudes', 1694), ('counties', 3959), ('storage', 16915), ('bins', 1803), ('counsel', 3943), ('ltltltlt', 10637), ('unjustified', 18613), ('gtgtgtgt', 7727), ('praytheusa', 13608), ('prayrevival', 13606), ('youfe', 19926), ('multiplied', 11666), ('calendar', 2540), ('nesn', 11906), ('iron', 9222), ('lilies', 10367), ('beatiful', 1536), ('pics', 13209), ('davidson', 4376), ('bikes', 1780), ('modified', 11455), ('sportster', 16634), ('casually', 2721), ('warm', 19176), ('striving', 16984), ('unreasonable', 18646), ('gravity', 7623), ('lander', 9975), ('rocket', 15035), ('destroyer', 4781), ('warp', 19184), ('selfishness', 15595), ('eternal', 5992), ('humbling', 8511), ('responsibly', 14800), ('novoterfraud', 12191), ('nocaliforniademocrats', 12039), ('nosanctuarycities', 12129), ('nosafespaces', 12128), ('nohomelesscitizen', 12053), ('nopelosi', 12113), ('nowaters', 12194), ('noharris', 12052), ('nonewsom', 12084), ('noschiff', 12130), ('nolieu', 12059), ('nofeinstien', 12051), ('pardonmyfrench', 12843), ('dragged', 5357), ('relive', 14611), ('prix', 13783), ('kappa', 9652), ('hormone', 8402), ('storys', 16922), ('fiiiiiine', 6609), ('boop', 2071), ('boopboopboop', 2072), ('toosoon', 17966), ('gatlin', 7231), ('boxers', 2135), ('cameraman', 2564), ('elaine', 5662), ('sponge', 16616), ('consultant', 3731), ('imperial', 8776), ('socialismauthoritarianism', 16356), ('administrative', 215), ('aum', 1158), ('rand', 14273), ('ostensivly', 12614), ('skepticism', 16126), ('poitician', 13402), ('ezra', 6254), ('shone', 15902), ('greece', 7640), ('shying', 15990), ('joyful', 9532), ('boxes', 2136), ('wonderfulall', 19642), ('therapy', 17674), ('insinuate', 9035), ('dontyou', 5266), ('verdicts', 18874), ('hplyk', 8475), ('cracked', 4027), ('merrick', 11174), ('observation', 12308), ('thinx', 17735), ('qualifies', 14146), ('asfactthats', 1000), ('leftistthats', 10130), ('fortniteandroid', 6917), ('kungfu', 9914), ('sundaymotivation', 17126), ('gameofthrones', 7193), ('shoponline', 15915), ('ohjulyso', 12396), ('nothats', 12148), ('eea', 5610), ('boosts', 2075), ('innovation', 9011), ('bodyshaming', 2004), ('discusted', 5026), ('famefk', 6364), ('amorality', 594), ('sadim', 15220), ('midas', 11238), ('ratshit', 14316), ('seychelles', 15731), ('appropiated', 896), ('latinosfortrump', 10016), ('pub', 14005), ('citizenmake', 3134), ('ell', 5704), ('ace', 126), ('balances', 1353), ('armrest', 955), ('forgiven', 6889), ('wrist', 19749), ('veiaran', 18857), ('xilhatarra', 19805), ('argentborn', 931), ('dogwhistle', 5208), ('allwell', 490), ('bickering', 1754), ('youits', 19931), ('realyou', 14371), ('invites', 9191), ('poses', 13519), ('islamism', 9254), ('brownshirts', 2334), ('usarepublic', 18747), ('salad', 15247), ('leggingsboots', 10156), ('attire', 1133), ('enebot', 5824), ('cpcs', 4020), ('palatable', 12787), ('biogenic', 1806), ('emission', 5744), ('convaluted', 3816), ('chinas', 3029), ('himput', 8227), ('glove', 7422), ('bean', 1520), ('hiya', 8279), ('bolna', 2019), ('harambe', 7935), ('silverback', 16049), ('wonders', 19644), ('cease', 2793), ('democraticparty', 4618), ('usmc', 18770), ('navy', 11814), ('plagued', 13293), ('liberalscorrupt', 10267), ('battlefield', 1487), ('leftys', 10143), ('coolaintforsale', 3847), ('novel', 12183), ('tranquility', 18086), ('distractions', 5121), ('crookedtrump', 4150), ('countrybeforeparty', 3964), ('heats', 8082), ('legislatures', 10166), ('cox', 4016), ('ruth', 15195), ('bader', 1314), ('abraham', 48), ('sumerian', 17114), ('babylonian', 1273), ('substantiate', 17056), ('spewsits', 16569), ('platoon', 13318), ('coney', 3591), ('liberalsi', 10273), ('franchises', 6959), ('expire', 6183), ('clauses', 3194), ('introduce', 9153), ('studied', 17007), ('titanic', 17883), ('prop', 13887), ('dow', 5325), ('ponies', 13467), ('singular', 16076), ('baseless', 1453), ('beforehand', 1577), ('andfu', 626), ('agreedhe', 341), ('enioy', 5851), ('kavanough', 9690), ('slash', 16178), ('housingforall', 8461), ('nhf', 11968), ('xing', 19806), ('environmentally', 5906), ('serenashe', 15669), ('wta', 19767), ('carlos', 2676), ('smashed', 16264), ('obscenities', 12306), ('shrug', 15971), ('slandering', 16169), ('unmasked', 18627), ('closehey', 3257), ('dmbasses', 5161), ('layperson', 10061), ('holtonarms', 8338), ('conniving', 3657), ('booked', 2055), ('buttering', 2481), ('greatly', 7636), ('chl', 3039), ('hiders', 8186), ('carreen', 2687), ('yesshe', 19888), ('arseholes', 977), ('memories', 11133), ('erase', 5940), ('fuckinggg', 7085), ('milf', 11272), ('selectively', 15579), ('unemployedconservatives', 18548), ('factsjust', 6292), ('clearmany', 3212), ('thedreamact', 17632), ('enddaca', 5801), ('custody', 4260), ('fad', 6298), ('itshameful', 9315), ('dfla', 4848), ('inflammatory', 8944), ('websites', 19287), ('autism', 1189), ('nonunion', 12100), ('submissions', 17035), ('africanamerican', 301), ('oyster', 12741), ('muelleriscomingforyoutoo', 11643), ('patheticlittlemanjr', 12931), ('agw', 350), ('phds', 13164), ('openminded', 12493), ('practical', 13590), ('fields', 6589), ('eng', 5837), ('airy', 386), ('fairy', 6318), ('artsy', 990), ('complainant', 3509), ('historic', 8261), ('temp', 17500), ('libeling', 10250), ('justwork', 9610), ('jackets', 9342), ('hrgggg', 8479), ('hanks', 7912), ('murderrate', 11686), ('facking', 6280), ('khant', 9762), ('valance', 18804), ('stoppage', 16908), ('gum', 7766), ('yorker', 19917), ('dimon', 4934), ('jpm', 9535), ('chauffeur', 2938), ('assualted', 1072), ('qualify', 14147), ('wounded', 19723), ('leetpro', 10114), ('rightsideofhistory', 14957), ('misdirection', 11350), ('virtuesignaling', 18992), ('writers', 19752), ('notokavanaugh', 12165), ('wadewomens', 19094), ('actaca', 153), ('peppermint', 13066), ('conversely', 3821), ('apparentl', 855), ('dismembered', 5055), ('interpreted', 9129), ('penspeaks', 13054), ('evaluation', 6021), ('leftovers', 10134), ('constitutionhe', 3726), ('sycophants', 17289), ('objectively', 12295), ('finnish', 6656), ('fishery', 6687), ('antle', 798), ('goodmorning', 7495), ('pulp', 14035), ('hooded', 8377), ('reciprocating', 14414), ('reception', 14405), ('yemen', 19874), ('theeconomist', 17634), ('misha', 11358), ('memeber', 11124), ('noif', 12055), ('polygrapher', 13458), ('nervous', 11905), ('servers', 15683), ('releasedintroduced', 14587), ('ibor', 8606), ('wtobrexit', 19775), ('sammy', 15273), ('kangaroo', 9648), ('combover', 3398), ('oldageproblems', 12413), ('leans', 10094), ('notebook', 12144), ('junko', 9582), ('tribe', 18160), ('dork', 5284), ('frump', 7059), ('drump', 5435), ('tfrump', 17583), ('vigano', 18948), ('forwardreveal', 6926), ('isreveal', 9276), ('documentsand', 5189), ('letsomebodyloveyou', 10208), ('sooooooooo', 16443), ('disastrous', 4990), ('storythen', 16923), ('adoption', 236), ('broker', 2310), ('fulk', 7106), ('blocker', 1931), ('ginsberg', 7367), ('evade', 6017), ('gripe', 7675), ('takeukranian', 17348), ('moneyhe', 11499), ('poppin', 13485), ('caution', 2759), ('squelch', 16673), ('depict', 4699), ('lo', 10463), ('opressors', 12535), ('championing', 2873), ('frightens', 7035), ('moffats', 11458), ('endings', 5810), ('claras', 3166), ('undercut', 18510), ('clara', 3165), ('hurled', 8542), ('aishwarya', 388), ('bcos', 1505), ('liter', 10425), ('filter', 6622), ('semiskimmed', 15615), ('ltr', 10639), ('annum', 696), ('pa', 12742), ('studios', 17010), ('demographic', 4631), ('index', 8888), ('ˢᵗᵉᵖ', 20023), ('confirmations', 3605), ('springer', 16653), ('stufffor', 17013), ('barometer', 1433), ('notwithkap', 12174), ('prospects', 13920), ('fatbastard', 6439), ('antifascists', 757), ('abolition', 34), ('lacked', 9943), ('peddle', 13012), ('abuses', 70), ('odds', 12353), ('baekhyun', 1323), ('inactive', 8823), ('bcz', 1510), ('assignment', 1061), ('tata', 17406), ('suspected', 17221), ('derailing', 4719), ('casting', 2719), ('dustbin', 5512), ('stache', 16692), ('vilvilifying', 18964), ('tragedies', 18067), ('reciting', 14415), ('crashing', 4048), ('wuituser', 19778), ('scorpio', 15446), ('libra', 10297), ('bal', 1349), ('unremembered', 18649), ('descriptions', 4739), ('cherrypicker', 2983), ('enlightened', 5859), ('charlo', 2917), ('hurd', 8541), ('columnist', 3393), ('perfidy', 13084), ('nuisances', 12224), ('trivialities', 18183), ('cspan', 4195), ('usc', 18751), ('flotus', 6780), ('impatient', 8765), ('democratno', 4621), ('sayyou', 15367), ('democratspers', 4628), ('togetherloser', 17925), ('skating', 16124), ('visually', 19006), ('smoother', 16296), ('crisper', 4122), ('revisit', 14874), ('bleed', 1904), ('ucp', 18411), ('postfisa', 13544), ('declassification', 4465), ('gifts', 7349), ('protestant', 13937), ('sects', 15538), ('episcopalians', 5914), ('gigeconomy', 7352), ('thirdreich', 17738), ('stranded', 16931), ('ghana', 7336), ('sonnet', 16428), ('stained', 16711), ('peed', 13029), ('oasis', 12273), ('vehicular', 18856), ('pinkomaga', 13243), ('mrrapist', 11621), ('alias', 434), ('septth', 15662), ('toothless', 17968), ('housewives', 8458), ('antiopenborders', 779), ('reasonableness', 14379), ('coastal', 3304), ('aggravate', 329), ('mouthed', 11599), ('murdoch', 11689), ('awarded', 1225), ('onion', 12457), ('rr', 15127), ('shitstream', 15881), ('pod', 13382), ('ericholdercrimes', 5948), ('subsection', 17046), ('comming', 3453), ('mouthwrong', 11604), ('stretcher', 16965), ('bariatric', 1427), ('landed', 9974), ('phx', 13195), ('tarmac', 17396), ('oak', 12270), ('roseanne', 15082), ('kennel', 9737), ('roof', 15073), ('whistling', 19442), ('validate', 18808), ('whopper', 19472), ('choir', 3046), ('adjustment', 208), ('nellie', 11888), ('pitcher', 13263), ('homeruns', 8349), ('saudis', 15336), ('seized', 15572), ('simonsays', 16055), ('viney', 18968), ('melkshams', 11113), ('celebration', 2803), ('traveling', 18125), ('perennially', 13080), ('adversaries', 255), ('steamrolled', 16815), ('cheney', 2976), ('budge', 2375), ('imbibing', 8733), ('cocktail', 3317), ('producing', 13812), ('tuitionfree', 18311), ('endearment', 5803), ('chouchou', 3059), ('bloodscrypts', 1948), ('visual', 19005), ('exposethedeepstate', 6208), ('enemiesofthestate', 5826), ('militarytribunals', 11279), ('mel', 11105), ('gibson', 7342), ('courages', 3977), ('idlib', 8647), ('hts', 8485), ('saves', 15348), ('anglophones', 655), ('couillard', 3933), ('sincerity', 16067), ('jaclyn', 9349), ('griefhe', 7662), ('quelled', 14163), ('defaulter', 4503), ('ideally', 8620), ('dafauler', 4297), ('endeavorsyou', 5806), ('nazisocialist', 11824), ('playbookthe', 13324), ('soooooounds', 16444), ('rentals', 14658), ('fairways', 6317), ('swore', 17284), ('hillaryous', 8217), ('waa', 19085), ('terroristsbut', 17553), ('overstating', 12705), ('neutrality', 11919), ('jelllll', 9405), ('pies', 13219), ('cck', 2776), ('hollyweirdos', 8332), ('gabbert', 7162), ('thickest', 17710), ('shunning', 15978), ('cigars', 3109), ('hygs', 8575), ('theorist', 17668), ('textbook', 17579), ('colonizer', 3383), ('suitable', 17108), ('endorsed', 5814), ('showalter', 15953), ('clemson', 3216), ('aggie', 328), ('cheered', 2961), ('commentator', 3441), ('varsity', 18834), ('welcomeeee', 19326), ('deliverance', 4580), ('socialjustice', 16364), ('pursuing', 14085), ('identitypolitics', 8630), ('insisting', 9039), ('huuge', 8564), ('multinational', 11664), ('corps', 3887), ('ave', 1199), ('sole', 16386), ('upping', 18709), ('blackhawk', 1867), ('revolver', 14884), ('farrakahn', 6410), ('worcester', 19665), ('chinaly', 3028), ('chanvong', 2894), ('wellesley', 19335), ('sweatshirt', 17254), ('separation', 15656), ('untalented', 18667), ('catty', 2750), ('yepunfortuly', 19881), ('du', 5446), ('himwhy', 8232), ('berniehe', 1676), ('afte', 303), ('rpreviously', 15126), ('witter', 19597), ('ahhhhhhh', 360), ('amish', 586), ('jaquonadiah', 9378), ('clearing', 3210), ('twenty', 18355), ('wright', 19746), ('chicagojordan', 2995), ('outdoors', 12647), ('outdone', 12646), ('territoryjerkoff', 17547), ('coworkers', 4012), ('xo', 19810), ('multimillionaires', 11663), ('mansions', 10854), ('phenomenon', 13165), ('podcasting', 13386), ('shittalking', 15883), ('debatearguement', 4428), ('evangelist', 6026), ('spook', 16623), ('inculcate', 8879), ('epiphany', 5913), ('markers', 10896), ('jobyou', 9483), ('judgebut', 9549), ('influencing', 8952), ('didyouknow', 4886), ('helenkeller', 8116), ('textbooks', 17580), ('doyouknow', 5346), ('txboe', 18382), ('txed', 18383), ('themoreyouknow', 17654), ('cranleys', 4042), ('bets', 1708), ('betterhungrier', 1712), ('whacky', 19381), ('footy', 6859), ('flog', 6768), ('dydinv', 5529), ('medium', 11085), ('cooked', 3840), ('hasenpfeffer', 7983), ('antifaanonymous', 732), ('rubin', 15140), ('mediamps', 11066), ('thuggish', 17807), ('aired', 380), ('unavailable', 18473), ('shiit', 15847), ('patreon', 12939), ('whispering', 19438), ('jisoo', 9467), ('taeyoun', 17332), ('buildings', 2395), ('homie', 8355), ('shunned', 15977), ('cutiebut', 4270), ('packer', 12755), ('bib', 1749), ('transported', 18110), ('venomous', 18867), ('iguanas', 8671), ('beetle', 1574), ('iggy', 8659), ('gram', 7584), ('theoriesmost', 17667), ('fabricated', 6257), ('whybut', 19485), ('anythingenjoy', 818), ('showour', 15964), ('doit', 5215), ('levied', 10219), ('krazee', 9894), ('koreans', 9884), ('yourselfthanks', 19946), ('sweetness', 17266), ('fruit', 7053), ('rockers', 15034), ('unfortunatemy', 18567), ('legislate', 10158), ('surpise', 17196), ('skint', 16143), ('monkeying', 11511), ('lifedeath', 10332), ('christlike', 3077), ('reunite', 14855), ('familiesbelongtogether', 6371), ('noban', 12033), ('demsliberals', 4663), ('plainly', 13296), ('keepitup', 9719), ('mejust', 11104), ('bernice', 1673), ('xrpcommunity', 19813), ('xrp', 19812), ('mitch', 11400), ('bhagwat', 1736), ('shakha', 15756), ('sanghis', 15297), ('fuckig', 7079), ('starlight', 16756), ('surrounds', 17206), ('luminous', 10654), ('sustain', 17230), ('cleanses', 3204), ('heartache', 8065), ('washes', 19203), ('rememberingedward', 14631), ('germans', 7313), ('southpole', 16482), ('maaßen', 10694), ('antifaspade', 758), ('spade', 16498), ('crickets', 4103), ('clintoncrimefamily', 3243), ('zombies', 20014), ('hearbroken', 8058), ('cardinals', 2656), ('breatge', 2216), ('kpop', 9889), ('impulsive', 8814), ('adicionei', 205), ('vídeo', 19083), ('uma', 18450), ('melancholic', 11106), ('sizeable', 16116), ('democ', 4608), ('vesha', 18890), ('poisons', 13401), ('stares', 16750), ('sanju', 15299), ('dil', 4917), ('yeh', 19865), ('jawani', 9382), ('barfi', 1424), ('suceess', 17073), ('annie', 681), ('jahs', 9354), ('hussle', 8562), ('runnning', 15173), ('plasterd', 13312), ('temptatts', 17513), ('shitlib', 15875), ('toeing', 17920), ('missus', 11386), ('jeopardizing', 9412), ('informing', 8961), ('goings', 7466), ('disagreed', 4971), ('chicks', 3005), ('satisfying', 15330), ('howk', 8471), ('badger', 1316), ('suspends', 17225), ('youhadonejob', 19928), ('innuendoes', 9013), ('ghettos', 7338), ('margin', 10878), ('infridge', 8966), ('aweeee', 1233), ('epanda', 5910), ('drummer', 5434), ('landon', 9976), ('oddest', 12351), ('slain', 16162), ('gunman', 7776), ('contradictory', 3779), ('cleansed', 3203), ('misread', 11370), ('decreated', 4480), ('stealthily', 16812), ('sterling', 16841), ('kavanauh', 9686), ('assassins', 1040), ('inlaws', 8996), ('klansmen', 9825), ('traitorpants', 18080), ('momma', 11479), ('kampf', 9643), ('ids', 8652), ('saviors', 15354), ('vanguards', 18823), ('factually', 6297), ('greatkeep', 7635), ('miriam', 11337), ('prolifers', 13867), ('cattle', 2749), ('tanzania', 17383), ('chargetheyre', 2914), ('profound', 13836), ('bargained', 1426), ('awayamericans', 1230), ('vitriolic', 19011), ('perform', 13085), ('emissions', 5745), ('mileage', 11267), ('praises', 13597), ('innovative', 9012), ('publicsector', 14013), ('prosper', 13921), ('kirinodere', 9807), ('customs', 4263), ('cackle', 2520), ('realest', 14352), ('tealest', 17449), ('blinking', 1920), ('whi', 19419), ('beena', 1572), ('highshcool', 8200), ('hll', 8282), ('lobbyist', 10476), ('jlr', 9471), ('mainland', 10756), ('rogues', 15053), ('nevertrumpers', 11928), ('uncomfortable', 18493), ('preserving', 13679), ('pre', 13610), ('deterrent', 4806), ('iya', 9334), ('risi', 14988), ('widow', 19501), ('abortive', 43), ('inducted', 8914), ('pixiegang', 13276), ('slaying', 16187), ('flawlessly', 6744), ('millfield', 11286), ('evolving', 6078), ('honorably', 8370), ('nominatin', 12064), ('committing', 3466), ('violationu', 18976), ('glammed', 7390), ('mediapropaganda', 11067), ('abortionnot', 40), ('truewomen', 18217), ('abortionbecause', 39), ('bladder', 1876), ('remission', 14639), ('lacquer', 9948), ('spraying', 16646), ('staining', 16712), ('cabinets', 2518), ('occurrance', 12341), ('chicagokook', 2996), ('playedits', 13327), ('valuehe', 18816), ('dennys', 4677), ('andreas', 632), ('theist', 17644), ('subset', 17048), ('yecs', 19862), ('distinguishing', 5111), ('craves', 4052), ('nude', 12220), ('bovine', 2126), ('fecal', 6500), ('wranglers', 19733), ('lmaooooooo', 10452), ('elevate', 5684), ('mooslims', 11541), ('mooslim', 11540), ('groomng', 7683), ('haa', 7817), ('looool', 10545), ('exceed', 6101), ('somemany', 16410), ('dominate', 5232), ('overgeneralization', 12688), ('occurs', 12344), ('hustling', 8563), ('alabama', 402), ('clip', 3248), ('speculate', 16543), ('akb', 396), ('akimoto', 397), ('unfazed', 18557), ('monologues', 11515), ('antifaprotestors', 751), ('kavanaughpredator', 9681), ('liberalisma', 10257), ('lgbqt', 10231), ('insincere', 9034), ('callous', 2554), ('capitulation', 2635), ('lighting', 10346), ('torches', 17977), ('radicalization', 14218), ('rosier', 15091), ('tolerable', 17932), ('undefeated', 18504), ('richt', 14917), ('perry', 13109), ('cmp', 3287), ('banners', 1401), ('ak', 393), ('figureheads', 6607), ('yan', 19830), ('coldbut', 3349), ('grubbing', 7714), ('intervention', 9138), ('curtails', 4251), ('pooey', 13468), ('hardening', 7948), ('exgirlfriend', 6145), ('downwiththedemocrats', 5342), ('loco', 10493), ('squashed', 16669), ('endangerment', 5797), ('shuting', 15983), ('yumi', 19972), ('yuzuki', 19977), ('daisho', 4302), ('exgf', 6144), ('whitehall', 19446), ('rms', 15001), ('feckin', 6502), ('barbeque', 1414), ('reproductive', 14714), ('organs', 12583), ('selfdeprecating', 15587), ('swagger', 17233), ('resignations', 14759), ('drained', 5361), ('pooky', 13469), ('bearyou', 1529), ('cleaner', 3199), ('knighthood', 9840), ('craft', 4035), ('cdns', 2788), ('slowing', 16241), ('snob', 16326), ('shook', 15903), ('conservativeamazing', 3674), ('liestheyre', 10325), ('leftwingliberaldisease', 10140), ('grapple', 7611), ('fundamentally', 7120), ('sorosbacked', 16451), ('relaxed', 14583), ('kay', 9695), ('heightens', 8108), ('slimfast', 16216), ('slob', 16227), ('lucked', 10645), ('opertunist', 12505), ('opertiunist', 12504), ('theferalleft', 17637), ('infiltrate', 8936), ('indoctrinate', 8907), ('hemorrhoids', 8135), ('originalism', 12592), ('kavanaughhearings', 9680), ('att', 1113), ('dozing', 5349), ('jolt', 9507), ('dylan', 5534), ('heath', 8076), ('bleeds', 1906), ('cameras', 2566), ('zoom', 20018), ('unafraid', 18466), ('nokosoko', 12057), ('koreas', 9885), ('jongun', 9513), ('trashpeople', 18119), ('fawningly', 6470), ('againu', 316), ('jam', 9363), ('globe', 7412), ('epitomizes', 5920), ('revived', 14876), ('wilful', 19512), ('shrewd', 15968), ('bloodsport', 1950), ('monologue', 11514), ('rightlmaonope', 14950), ('dublin', 5450), ('lifelong', 10335), ('shitlibs', 15876), ('slashing', 16179), ('isand', 9241), ('alll', 476), ('joeyour', 9489), ('respects', 14788), ('attest', 1131), ('scams', 15381), ('arrestclintoncrimegangalready', 965), ('nochainmigration', 12040), ('uscodechsec', 18752), ('ballerinas', 1360), ('recognizes', 14425), ('legislating', 10160), ('workout', 19686), ('insulin', 9073), ('resistant', 14765), ('medications', 11079), ('fasting', 6435), ('defied', 4530), ('subpoenas', 17040), ('husseins', 8561), ('prism', 13763), ('kady', 9620), ('yearsas', 19860), ('taxesthey', 17417), ('nothingfordnation', 12153), ('sps', 16657), ('himspath', 8230), ('shea', 15808), ('correctness', 3897), ('rooney', 15077), ('vigour', 18952), ('spoonfeeding', 16626), ('structural', 16993), ('inequities', 8921), ('fosterimplement', 6930), ('wiretap', 19563), ('hve', 8566), ('doozy', 5278), ('inconceivable', 8867), ('meddle', 11062), ('doubleminded', 5304), ('peacemaker', 12999), ('loli', 10513), ('conway', 3835), ('trumpkins', 18238), ('peiple', 13038), ('msmdemocratsliberals', 11630), ('demonstrators', 4652), ('preparing', 13660), ('rnrtn', 15006), ('prolifegen', 13866), ('tngop', 17902), ('gaytriots', 7244), ('rnr', 15005), ('pause', 12964), ('potusoops', 13563), ('rum', 15163), ('infusion', 8971), ('spiced', 16572), ('lieu', 10328), ('knowwhat', 9862), ('signifies', 16034), ('rebellion', 14385), ('umpires', 18456), ('everybodyin', 6047), ('slurs', 16246), ('gauteng', 7234), ('ahahahahahaha', 355), ('vaal', 18790), ('lekwa', 10174), ('tshwane', 18297), ('thulare', 17810), ('confidential', 3601), ('bulshit', 2420), ('cear', 2792), ('tenants', 17517), ('decorated', 4477), ('slanderous', 16171), ('scuttlebutt', 15498), ('practise', 13593), ('interoperate', 9127), ('andre', 630), ('cury', 4255), ('neymars', 11954), ('psg', 13978), ('sanjuro', 15300), ('fancies', 6386), ('samurai', 15276), ('collects', 3368), ('swords', 17282), ('riceking', 14913), ('usefulidiot', 18757), ('ridge', 14926), ('jake', 9362), ('analyzing', 613), ('psychologically', 13989), ('rivaled', 14994), ('refered', 14481), ('renewable', 14654), ('neighborhood', 11881), ('toxins', 18039), ('theology', 17664), ('elements', 5682), ('pastime', 12919), ('experiment', 6179), ('schutzstaffel', 15428), ('totals', 18000), ('floodwaters', 6772), ('plummets', 13367), ('postbrexit', 13538), ('cracchead', 4025), ('crises', 4119), ('uncontroversial', 18498), ('deed', 4487), ('confirmjudgekavanaughnow', 3611), ('miscast', 11345), ('recieving', 14408), ('embezzeled', 5731), ('divider', 5145), ('bengazi', 1650), ('yeahpretty', 19854), ('mansnotbarryroux', 10855), ('goggle', 7461), ('disinterest', 5048), ('maniac', 10829), ('tale', 17352), ('laud', 10020), ('altmedia', 528), ('sorosshill', 16454), ('shitheads', 15871), ('soutien', 16483), ('fascisme', 6419), ('devastate', 4816), ('repressing', 14709), ('deservedly', 4747), ('dorner', 5286), ('payed', 12972), ('tribute', 18164), ('democraticsocialismnow', 4619), ('nomoreguns', 12070), ('ensured', 5873), ('rah', 14232), ('pinatas', 13234), ('lucy', 10649), ('hale', 7857), ('poiting', 13403), ('wunderkind', 19779), ('peewee', 13035), ('herman', 8150), ('liesunderoath', 10326), ('corruptgop', 3907), ('nomanisabovethelaw', 12062), ('trumpisguilty', 18235), ('riker', 14964), ('gibraltar', 7341), ('hostages', 8427), ('accidental', 93), ('injuried', 8990), ('snd', 16311), ('desths', 4774), ('unkess', 18615), ('clarified', 3171), ('spiritually', 16596), ('reborn', 14387), ('sinless', 16082), ('salvation', 15263), ('laymans', 10059), ('misinterpreted', 11362), ('barbarically', 1413), ('rapid', 14291), ('qanuck', 14125), ('asktheq', 1022), ('reportthen', 14698), ('handcuffsforhillary', 7886), ('deregulating', 4723), ('rental', 14657), ('rents', 14659), ('tennant', 17524), ('continual', 3762), ('euphemisms', 6008), ('accepts', 88), ('cheepika', 2959), ('insecure', 9023), ('alia', 433), ('voterid', 19061), ('walkawaycampaign', 19129), ('liberalhate', 10254), ('liberalintolerance', 10255), ('socialistlies', 16360), ('vetobeto', 18897), ('weaponise', 19265), ('hijack', 8206), ('constitutionalist', 3724), ('admonished', 230), ('prepositions', 13661), ('punchline', 14048), ('senatorfeinstein', 15623), ('prescription', 13668), ('antibiotics', 721), ('infection', 8931), ('glorita', 7419), ('backon', 1293), ('snipers', 16320), ('hurricaneim', 8547), ('springs', 16655), ('wanktavists', 19160), ('spared', 16509), ('thered', 17677), ('abusuve', 73), ('fuuckkkk', 7153), ('youuuuu', 19955), ('chloe', 3040), ('throughher', 17792), ('legislators', 10164), ('phoneonline', 13180), ('yale', 19827), ('hq', 8476), ('marking', 10903), ('fuckwits', 7092), ('goptrump', 7523), ('ssf', 16682), ('wherein', 19414), ('cus', 4256), ('wowowowowow', 19729), ('unicorns', 18578), ('rainbows', 14246), ('puffy', 14024), ('gaylesbian', 7242), ('segregate', 15568), ('winnig', 19547), ('faggot', 6302), ('logan', 10498), ('statistical', 16787), ('leftstream', 10136), ('excoriating', 6122), ('ported', 13506), ('paperback', 12823), ('kindle', 9795), ('barons', 1435), ('bergoglio', 1669), ('archbishop', 914), ('bushmaster', 2462), ('xmes', 19808), ('clichecatch', 3220), ('useit', 18758), ('reid', 14554), ('filibuster', 6612), ('obstructive', 12321), ('infantilized', 8928), ('ruse', 15177), ('trdj', 18129), ('bronbron', 2313), ('lakergang', 9962), ('equaljustice', 5925), ('puto', 14106), ('wanka', 19157), ('democratsthis', 4629), ('partynothing', 12895), ('daveb', 4371), ('graced', 7573), ('simb', 16050), ('ellen', 5705), ('slope', 16234), ('narative', 11773), ('parlaying', 12856), ('preseason', 13669), ('buzz', 2495), ('attentive', 1130), ('implement', 8781), ('guillotines', 7756), ('blades', 1878), ('godblesstheworld', 7444), ('godblessourmilitary', 7443), ('thmonkey', 17749), ('ferries', 6561), ('dams', 4320), ('forgiving', 6892), ('thrives', 17786), ('wordsyou', 19674), ('chuds', 3092), ('serum', 15678), ('wagging', 19098), ('screened', 15477), ('roidrage', 15054), ('diabetic', 4853), ('unepic', 18550), ('testifies', 17565), ('upshe', 18717), ('personwhen', 13125), ('mitigating', 11403), ('inherit', 8978), ('deficiencies', 4524), ('cooperate', 3856), ('executedit', 6134), ('traitorsall', 18082), ('selfdense', 15586), ('secondammendment', 15521), ('coont', 3853), ('ucking', 18410), ('latinos', 10015), ('blackjapanese', 1868), ('arrogantly', 974), ('misguidedoften', 11357), ('segments', 15567), ('servitude', 15688), ('achichincle', 130), ('lamebotas', 9968), ('thump', 17813), ('roommate', 15076), ('benghazi', 1651), ('deez', 4498), ('recommending', 14431), ('achievement', 133), ('alinskys', 449), ('egregious', 5640), ('traditions', 18062), ('klans', 9824), ('whateverittakes', 19391), ('undeserving', 18535), ('jester', 9430), ('bakkt', 1348), ('etf', 5994), ('fuken', 7102), ('cuuuuuks', 4276), ('unifying', 18583), ('misunderstood', 11398), ('uterus', 18779), ('ragging', 14230), ('pubs', 14018), ('inquirer', 9016), ('pervs', 13138), ('biassed', 1748), ('robotic', 15028), ('undo', 18538), ('ababzhah', 12), ('kart', 9659), ('invoked', 9193), ('choking', 3048), ('nbd', 11830), ('moronsaregoverningamerica', 11559), ('amrinder', 601), ('blabber', 1863), ('spurs', 16660), ('prohibitionists', 13852), ('belittles', 1622), ('wankers', 19159), ('ali', 432), ('lynn', 10686), ('reckless', 14416), ('investigatechtistineford', 9175), ('restitching', 14807), ('fray', 6975), ('rekindling', 14566), ('civic', 3143), ('enlightening', 5860), ('vultures', 19081), ('recovers', 14444), ('fate', 6440), ('rages', 14228), ('infecting', 8930), ('imlovingit', 8735), ('tasted', 17402), ('sjc', 16118), ('figjt', 6603), ('stylistic', 17027), ('prioritise', 13760), ('discretion', 5016), ('ambiguity', 554), ('shocktroops', 15898), ('xtc', 19814), ('skeptics', 16127), ('womanhood', 19621), ('recon', 14432), ('baz', 1492), ('clocked', 3253), ('rightleft', 14949), ('funner', 7130), ('gtgtgtcialtltlt', 7726), ('dontmessaroundwith', 5265), ('unto', 18671), ('anwell', 802), ('optic', 12539), ('loafers', 10467), ('scratching', 15467), ('buff', 2380), ('dip', 4948), ('agreebut', 339), ('washingtonpost', 19205), ('dirtytricks', 4967), ('senflake', 15633), ('maddows', 10704), ('malcolmx', 10790), ('liberalswise', 10281), ('alligators', 472), ('whoaaa', 19460), ('seller', 15602), ('dogshe', 5206), ('bragged', 2164), ('starfire', 16751), ('thirties', 17741), ('nutbar', 12242), ('todd', 17917), ('lwhen', 10673), ('sippin', 16089), ('nonbinary', 12075), ('sexgender', 15719), ('usaafr', 18741), ('deirdre', 4561), ('bondage', 2032), ('gynecology', 7812), ('grata', 7616), ('damore', 4319), ('filling', 6618), ('skies', 16133), ('frequencies', 7008), ('idonotconsent', 8651), ('wedonotconsent', 19298), ('opevidence', 12506), ('opstopchemtrails', 12537), ('chemtrails', 2975), ('skybastard', 16152), ('geoengineering', 7302), ('climatechange', 3230), ('srm', 16679), ('cloudseeding', 3271), ('evergreenair', 6041), ('bigmoney', 1769), ('nexrad', 11950), ('lookup', 10535), ('silentwarfare', 16044), ('weatherwarfare', 19280), ('presidrnt', 13690), ('enjoys', 5857), ('myr', 11731), ('tourism', 18017), ('legalizes', 10149), ('mj', 11409), ('biz', 1854), ('tourismjobs', 18018), ('uspoli', 18772), ('uspolitics', 18773), ('cardboard', 2652), ('haunted', 8014), ('cardigan', 2654), ('takeastand', 17340), ('spoil', 16608), ('menendez', 11143), ('ir', 9211), ('banconfiscate', 1377), ('sash', 15317), ('maximeberniers', 10986), ('stakes', 16715), ('liberalvalues', 10284), ('donpittis', 5263), ('dine', 4939), ('breaths', 2220), ('illegalsorry', 8690), ('howd', 8467), ('safellook', 15228), ('sweeping', 17260), ('speakand', 16521), ('partbut', 12867), ('angerits', 651), ('gullibles', 7765), ('babynot', 1274), ('kavanugh', 9691), ('eitherway', 5657), ('ramkrishnatearing', 14264), ('geeta', 7260), ('braveryreal', 2192), ('belonging', 1631), ('religionsbut', 14605), ('demonizes', 4642), ('avram', 1216), ('contradict', 3775), ('rockwell', 15040), ('birnbaumthe', 1823), ('electors', 5675), ('cowtow', 4015), ('boastfully', 1988), ('thatnonsense', 17611), ('leaflet', 10084), ('nachos', 11746), ('dwelling', 5525), ('dipstick', 4954), ('stabber', 16690), ('applaud', 869), ('pedophlia', 13024), ('veronique', 18882), ('ourselvesyou', 12635), ('prostitutefor', 13924), ('demcon', 4598), ('askingwhat', 1020), ('abundance', 64), ('ascended', 997), ('descended', 4732), ('clamor', 3161), ('divisions', 5149), ('circular', 3122), ('han', 7881), ('reprisal', 14711), ('chronicles', 3082), ('denigrating', 4673), ('archetypes', 916), ('remedy', 14627), ('andnevervotedemocrat', 627), ('epithet', 5918), ('cornuelle', 3882), ('reclaiming', 14420), ('wecht', 19290), ('dush', 5510), ('cosponsored', 3920), ('kissy', 9812), ('mope', 11542), ('dejected', 4562), ('apathetic', 836), ('obese', 12289), ('tessholliday', 17561), ('womensmarch', 19637), ('hillaryclinton', 8215), ('monsta', 11519), ('junkets', 9580), ('unbridled', 18482), ('menifee', 11144), ('prevention', 13717), ('investing', 9183), ('toffee', 17922), ('nye', 12261), ('mechanical', 11059), ('scientist', 15432), ('entertainer', 5880), ('cornell', 3879), ('boeing', 2006), ('ticktock', 17831), ('hoarding', 8300), ('adequately', 201), ('saveournhs', 15346), ('thomasanita', 17752), ('theliberalway', 17648), ('wrongfully', 19759), ('characterizing', 2906), ('pattyraid', 12960), ('giggle', 7353), ('hooker', 8382), ('jays', 9386), ('paths', 12934), ('hart', 7977), ('singerwriter', 16072), ('zoomed', 20019), ('whr', 19481), ('buggers', 2384), ('employmentmaga', 5769), ('zac', 19982), ('goldsmith', 7473), ('khans', 9761), ('organiser', 12574), ('noonecares', 12106), ('spittoon', 16601), ('confirmkavenaugh', 3614), ('managed', 10806), ('grd', 7626), ('fireball', 6661), ('swimsuit', 17269), ('trumprussia', 18246), ('latex', 10011), ('hmu', 8293), ('ifu', 8656), ('qs', 14135), ('hndu', 8295), ('ji', 9451), ('olympic', 12426), ('medalist', 11061), ('sixtime', 16113), ('rhode', 14903), ('reasonablythey', 14380), ('babiesthey', 1268), ('partyyou', 12898), ('freespeech', 7001), ('losted', 10574), ('footing', 6857), ('zayn', 19986), ('jdkdkdk', 9393), ('ease', 5556), ('ifwhen', 8657), ('whoops', 19471), ('bstard', 2352), ('cooley', 3851), ('saunders', 15338), ('hobnob', 8304), ('forclosure', 6867), ('unwatchable', 18681), ('severe', 15710), ('madigan', 10707), ('shelf', 15826), ('librarian', 10298), ('studentloan', 17005), ('tying', 18387), ('bestpres', 1692), ('fbomb', 6476), ('bitterness', 1852), ('cahoots', 2531), ('lifetimes', 10340), ('obummer', 12325), ('appraisers', 888), ('inspections', 9041), ('raps', 14299), ('implant', 8779), ('keithellisonabuse', 9726), ('biglly', 1767), ('geter', 7324), ('fnma', 6805), ('fmcc', 6803), ('endcorruption', 5799), ('corrente', 3901), ('shaq', 15784), ('googlearecorrupt', 7505), ('bestuseqwant', 1693), ('maaa', 10690), ('gypsies', 7813), ('skinsuit', 16142), ('pusher', 14090), ('outlawed', 12655), ('voluntarily', 19035), ('mohammadhassankhalid', 11461), ('cloths', 3269), ('underdog', 18511), ('obamahe', 12282), ('taxreform', 17421), ('wv', 19782), ('std', 16803), ('deduct', 4485), ('doubled', 5303), ('deductions', 4486), ('joes', 9487), ('flier', 6754), ('soandso', 16339), ('knuckles', 9866), ('creddy', 4083), ('bibi', 1750), ('booooring', 2070), ('mcraven', 11032), ('commanderinchief', 3432), ('retired', 14841), ('retiree', 14842), ('fanboysfangirls', 6384), ('egg', 5633), ('developments', 4825), ('enable', 5780), ('libnut', 10295), ('roasted', 15012), ('vaccine', 18793), ('boise', 2013), ('kellen', 9729), ('cerebral', 2836), ('conduct', 3587), ('bounds', 2123), ('categorized', 2735), ('beasts', 1531), ('tomlins', 17940), ('heating', 8081), ('shenanigans', 15831), ('phase', 13161), ('azeez', 1257), ('dost', 5296), ('restless', 14808), ('jenshad', 9409), ('adiya', 206), ('bepannaah', 1663), ('sandyhook', 15291), ('repugs', 14728), ('brightest', 2266), ('tens', 17527), ('benidorm', 1653), ('creamfields', 4067), ('spanishrevenge', 16502), ('wakeupeurope', 19119)])\n"
          ],
          "name": "stdout"
        }
      ]
    },
    {
      "metadata": {
        "id": "3iH3IlLOaLL5",
        "colab_type": "code",
        "outputId": "1e5577ce-1960-429f-aa4a-73a0298c709f",
        "colab": {
          "base_uri": "https://localhost:8080/",
          "height": 119
        }
      },
      "cell_type": "code",
      "source": [
        "# lists to store the vocab and counts\n",
        "vocab = []\n",
        "count = []\n",
        "# iterate through each vocab and count append the value to designated lists\n",
        "for key, value in dictionary:\n",
        "    vocab.append(key)\n",
        "    count.append(value)\n",
        "# store the count in panadas dataframe with vocab as index\n",
        "vocab_bef_stem = pd.Series(count, index=vocab)\n",
        "# sort the dataframe\n",
        "vocab_bef_stem = vocab_bef_stem.sort_values(ascending=False)\n",
        "vocab_bef_stem.head()"
      ],
      "execution_count": 0,
      "outputs": [
        {
          "output_type": "execute_result",
          "data": {
            "text/plain": [
              "𝓭𝔂𝓼𝓹𝓱𝓸𝓻𝓲𝓪    20029\n",
              "현재gt         20028\n",
              "현재           20027\n",
              "더보이즈         20026\n",
              "너의존재가기적이야    20025\n",
              "dtype: int64"
            ]
          },
          "metadata": {
            "tags": []
          },
          "execution_count": 16
        }
      ]
    },
    {
      "metadata": {
        "id": "2_6o_5XAgWq9",
        "colab_type": "code",
        "outputId": "71ed8b77-9c9d-42c1-a7fb-383c6bd987fc",
        "colab": {
          "base_uri": "https://localhost:8080/",
          "height": 119
        }
      },
      "cell_type": "code",
      "source": [
        "# Search for some regex\n",
        "prep_tweet = df_prep.preprocessed_tweet\n",
        "#prep_tweet.str.extract(r'[^a-zA-Z]')\n",
        "a = prep_tweet.apply(lambda x: re.findall('[^\\x00-\\x7F]',x)) #[^a-zA-Z]\n",
        "#a = prep_tweet.apply(lambda x: re.findall('[]',x))\n",
        "b = a[a.map(len) > 0]\n",
        "b.head()"
      ],
      "execution_count": 0,
      "outputs": [
        {
          "output_type": "execute_result",
          "data": {
            "text/plain": [
              "1           [👊, 🇺, 🇸, 👊]\n",
              "3                    [😂]\n",
              "16    [🎶, ♥, ️, ✔, ️, 🙉]\n",
              "18                   [😂]\n",
              "23                   [🤔]\n",
              "Name: preprocessed_tweet, dtype: object"
            ]
          },
          "metadata": {
            "tags": []
          },
          "execution_count": 17
        }
      ]
    },
    {
      "metadata": {
        "id": "_epRnQ5LvcLm",
        "colab_type": "code",
        "outputId": "f63a85f4-dacd-4434-fefd-8134271373b4",
        "colab": {
          "base_uri": "https://localhost:8080/",
          "height": 306
        }
      },
      "cell_type": "code",
      "source": [
        "#@title Tokenisation\n",
        "#nltk.download()\n",
        "token_df = df_prep.copy()\n",
        "#token_df['token_tweet'] = token_df.preprocessed_tweet.apply(nltk.word_tokenize)\n",
        "\n",
        "'''\n",
        "def tokenise_tweet(row):\n",
        "    tokenised_tweet = []\n",
        "    for token in row.split(' '): \n",
        "        tokenised_tweet.append(token)\n",
        "    return tokenised_tweet \n",
        "\n",
        "\n",
        "#token_df['token_tweet'] = token_df.preprocessed_tweet.apply(tokenise_tweet)\n",
        "'''\n",
        "token_df['token_tweet'] = token_df.preprocessed_tweet.apply(lambda x: x.split())\n",
        "print(token_df.token_tweet.iloc[1])\n",
        "token_df.head()"
      ],
      "execution_count": 0,
      "outputs": [
        {
          "output_type": "stream",
          "text": [
            "['user', 'user', 'go', 'home', 'you', 're', 'drunk', 'user', 'maga', 'trump', '👊🇺🇸👊', 'url']\n"
          ],
          "name": "stdout"
        },
        {
          "output_type": "execute_result",
          "data": {
            "text/html": [
              "<div>\n",
              "<style scoped>\n",
              "    .dataframe tbody tr th:only-of-type {\n",
              "        vertical-align: middle;\n",
              "    }\n",
              "\n",
              "    .dataframe tbody tr th {\n",
              "        vertical-align: top;\n",
              "    }\n",
              "\n",
              "    .dataframe thead th {\n",
              "        text-align: right;\n",
              "    }\n",
              "</style>\n",
              "<table border=\"1\" class=\"dataframe\">\n",
              "  <thead>\n",
              "    <tr style=\"text-align: right;\">\n",
              "      <th></th>\n",
              "      <th>id</th>\n",
              "      <th>tweet</th>\n",
              "      <th>subtask_a</th>\n",
              "      <th>subtask_b</th>\n",
              "      <th>subtask_c</th>\n",
              "      <th>preprocessed_tweet</th>\n",
              "      <th>token_tweet</th>\n",
              "    </tr>\n",
              "  </thead>\n",
              "  <tbody>\n",
              "    <tr>\n",
              "      <th>0</th>\n",
              "      <td>86426</td>\n",
              "      <td>@USER She should ask a few native Americans wh...</td>\n",
              "      <td>OFF</td>\n",
              "      <td>UNT</td>\n",
              "      <td>NaN</td>\n",
              "      <td>user she should ask a few native americans wha...</td>\n",
              "      <td>[user, she, should, ask, a, few, native, ameri...</td>\n",
              "    </tr>\n",
              "    <tr>\n",
              "      <th>1</th>\n",
              "      <td>90194</td>\n",
              "      <td>@USER @USER Go home you’re drunk!!! @USER #MAG...</td>\n",
              "      <td>OFF</td>\n",
              "      <td>TIN</td>\n",
              "      <td>IND</td>\n",
              "      <td>user user go home you re drunk user maga trump...</td>\n",
              "      <td>[user, user, go, home, you, re, drunk, user, m...</td>\n",
              "    </tr>\n",
              "    <tr>\n",
              "      <th>2</th>\n",
              "      <td>16820</td>\n",
              "      <td>Amazon is investigating Chinese employees who ...</td>\n",
              "      <td>NOT</td>\n",
              "      <td>NaN</td>\n",
              "      <td>NaN</td>\n",
              "      <td>amazon is investigating chinese employees who ...</td>\n",
              "      <td>[amazon, is, investigating, chinese, employees...</td>\n",
              "    </tr>\n",
              "    <tr>\n",
              "      <th>3</th>\n",
              "      <td>62688</td>\n",
              "      <td>@USER Someone should'veTaken\" this piece of sh...</td>\n",
              "      <td>OFF</td>\n",
              "      <td>UNT</td>\n",
              "      <td>NaN</td>\n",
              "      <td>user someone shouldvetaken this piece of shit ...</td>\n",
              "      <td>[user, someone, shouldvetaken, this, piece, of...</td>\n",
              "    </tr>\n",
              "    <tr>\n",
              "      <th>4</th>\n",
              "      <td>43605</td>\n",
              "      <td>@USER @USER Obama wanted liberals &amp;amp; illega...</td>\n",
              "      <td>NOT</td>\n",
              "      <td>NaN</td>\n",
              "      <td>NaN</td>\n",
              "      <td>user user obama wanted liberals  illegals to m...</td>\n",
              "      <td>[user, user, obama, wanted, liberals, illegals...</td>\n",
              "    </tr>\n",
              "  </tbody>\n",
              "</table>\n",
              "</div>"
            ],
            "text/plain": [
              "      id                                              tweet subtask_a  \\\n",
              "0  86426  @USER She should ask a few native Americans wh...       OFF   \n",
              "1  90194  @USER @USER Go home you’re drunk!!! @USER #MAG...       OFF   \n",
              "2  16820  Amazon is investigating Chinese employees who ...       NOT   \n",
              "3  62688  @USER Someone should'veTaken\" this piece of sh...       OFF   \n",
              "4  43605  @USER @USER Obama wanted liberals &amp; illega...       NOT   \n",
              "\n",
              "  subtask_b subtask_c                                 preprocessed_tweet  \\\n",
              "0       UNT       NaN  user she should ask a few native americans wha...   \n",
              "1       TIN       IND  user user go home you re drunk user maga trump...   \n",
              "2       NaN       NaN  amazon is investigating chinese employees who ...   \n",
              "3       UNT       NaN  user someone shouldvetaken this piece of shit ...   \n",
              "4       NaN       NaN  user user obama wanted liberals  illegals to m...   \n",
              "\n",
              "                                         token_tweet  \n",
              "0  [user, she, should, ask, a, few, native, ameri...  \n",
              "1  [user, user, go, home, you, re, drunk, user, m...  \n",
              "2  [amazon, is, investigating, chinese, employees...  \n",
              "3  [user, someone, shouldvetaken, this, piece, of...  \n",
              "4  [user, user, obama, wanted, liberals, illegals...  "
            ]
          },
          "metadata": {
            "tags": []
          },
          "execution_count": 18
        }
      ]
    },
    {
      "metadata": {
        "id": "I1TQTUlhvcLp",
        "colab_type": "code",
        "outputId": "faf33942-ec67-42c0-f285-5ce18da81dd9",
        "colab": {
          "base_uri": "https://localhost:8080/",
          "height": 343
        }
      },
      "cell_type": "code",
      "source": [
        "#@title Remove stopwords\n",
        "#from nltk.corpus import stopwords\n",
        "stopwords = nltk.corpus.stopwords.words('english')\n",
        "print(stopwords)\n",
        "\n",
        "mystopwords = stopwords + ['u', 'im', 'also']\n",
        "\n",
        "token_df['token_tweet_stop'] = token_df['token_tweet'].apply(lambda x: [item for item in x if item not in mystopwords])\n",
        "token_df.head()"
      ],
      "execution_count": 0,
      "outputs": [
        {
          "output_type": "stream",
          "text": [
            "['i', 'me', 'my', 'myself', 'we', 'our', 'ours', 'ourselves', 'you', \"you're\", \"you've\", \"you'll\", \"you'd\", 'your', 'yours', 'yourself', 'yourselves', 'he', 'him', 'his', 'himself', 'she', \"she's\", 'her', 'hers', 'herself', 'it', \"it's\", 'its', 'itself', 'they', 'them', 'their', 'theirs', 'themselves', 'what', 'which', 'who', 'whom', 'this', 'that', \"that'll\", 'these', 'those', 'am', 'is', 'are', 'was', 'were', 'be', 'been', 'being', 'have', 'has', 'had', 'having', 'do', 'does', 'did', 'doing', 'a', 'an', 'the', 'and', 'but', 'if', 'or', 'because', 'as', 'until', 'while', 'of', 'at', 'by', 'for', 'with', 'about', 'against', 'between', 'into', 'through', 'during', 'before', 'after', 'above', 'below', 'to', 'from', 'up', 'down', 'in', 'out', 'on', 'off', 'over', 'under', 'again', 'further', 'then', 'once', 'here', 'there', 'when', 'where', 'why', 'how', 'all', 'any', 'both', 'each', 'few', 'more', 'most', 'other', 'some', 'such', 'no', 'nor', 'not', 'only', 'own', 'same', 'so', 'than', 'too', 'very', 's', 't', 'can', 'will', 'just', 'don', \"don't\", 'should', \"should've\", 'now', 'd', 'll', 'm', 'o', 're', 've', 'y', 'ain', 'aren', \"aren't\", 'couldn', \"couldn't\", 'didn', \"didn't\", 'doesn', \"doesn't\", 'hadn', \"hadn't\", 'hasn', \"hasn't\", 'haven', \"haven't\", 'isn', \"isn't\", 'ma', 'mightn', \"mightn't\", 'mustn', \"mustn't\", 'needn', \"needn't\", 'shan', \"shan't\", 'shouldn', \"shouldn't\", 'wasn', \"wasn't\", 'weren', \"weren't\", 'won', \"won't\", 'wouldn', \"wouldn't\"]\n"
          ],
          "name": "stdout"
        },
        {
          "output_type": "execute_result",
          "data": {
            "text/html": [
              "<div>\n",
              "<style scoped>\n",
              "    .dataframe tbody tr th:only-of-type {\n",
              "        vertical-align: middle;\n",
              "    }\n",
              "\n",
              "    .dataframe tbody tr th {\n",
              "        vertical-align: top;\n",
              "    }\n",
              "\n",
              "    .dataframe thead th {\n",
              "        text-align: right;\n",
              "    }\n",
              "</style>\n",
              "<table border=\"1\" class=\"dataframe\">\n",
              "  <thead>\n",
              "    <tr style=\"text-align: right;\">\n",
              "      <th></th>\n",
              "      <th>id</th>\n",
              "      <th>tweet</th>\n",
              "      <th>subtask_a</th>\n",
              "      <th>subtask_b</th>\n",
              "      <th>subtask_c</th>\n",
              "      <th>preprocessed_tweet</th>\n",
              "      <th>token_tweet</th>\n",
              "      <th>token_tweet_stop</th>\n",
              "    </tr>\n",
              "  </thead>\n",
              "  <tbody>\n",
              "    <tr>\n",
              "      <th>0</th>\n",
              "      <td>86426</td>\n",
              "      <td>@USER She should ask a few native Americans wh...</td>\n",
              "      <td>OFF</td>\n",
              "      <td>UNT</td>\n",
              "      <td>NaN</td>\n",
              "      <td>user she should ask a few native americans wha...</td>\n",
              "      <td>[user, she, should, ask, a, few, native, ameri...</td>\n",
              "      <td>[user, ask, native, americans, take]</td>\n",
              "    </tr>\n",
              "    <tr>\n",
              "      <th>1</th>\n",
              "      <td>90194</td>\n",
              "      <td>@USER @USER Go home you’re drunk!!! @USER #MAG...</td>\n",
              "      <td>OFF</td>\n",
              "      <td>TIN</td>\n",
              "      <td>IND</td>\n",
              "      <td>user user go home you re drunk user maga trump...</td>\n",
              "      <td>[user, user, go, home, you, re, drunk, user, m...</td>\n",
              "      <td>[user, user, go, home, drunk, user, maga, trum...</td>\n",
              "    </tr>\n",
              "    <tr>\n",
              "      <th>2</th>\n",
              "      <td>16820</td>\n",
              "      <td>Amazon is investigating Chinese employees who ...</td>\n",
              "      <td>NOT</td>\n",
              "      <td>NaN</td>\n",
              "      <td>NaN</td>\n",
              "      <td>amazon is investigating chinese employees who ...</td>\n",
              "      <td>[amazon, is, investigating, chinese, employees...</td>\n",
              "      <td>[amazon, investigating, chinese, employees, se...</td>\n",
              "    </tr>\n",
              "    <tr>\n",
              "      <th>3</th>\n",
              "      <td>62688</td>\n",
              "      <td>@USER Someone should'veTaken\" this piece of sh...</td>\n",
              "      <td>OFF</td>\n",
              "      <td>UNT</td>\n",
              "      <td>NaN</td>\n",
              "      <td>user someone shouldvetaken this piece of shit ...</td>\n",
              "      <td>[user, someone, shouldvetaken, this, piece, of...</td>\n",
              "      <td>[user, someone, shouldvetaken, piece, shit, vo...</td>\n",
              "    </tr>\n",
              "    <tr>\n",
              "      <th>4</th>\n",
              "      <td>43605</td>\n",
              "      <td>@USER @USER Obama wanted liberals &amp;amp; illega...</td>\n",
              "      <td>NOT</td>\n",
              "      <td>NaN</td>\n",
              "      <td>NaN</td>\n",
              "      <td>user user obama wanted liberals  illegals to m...</td>\n",
              "      <td>[user, user, obama, wanted, liberals, illegals...</td>\n",
              "      <td>[user, user, obama, wanted, liberals, illegals...</td>\n",
              "    </tr>\n",
              "  </tbody>\n",
              "</table>\n",
              "</div>"
            ],
            "text/plain": [
              "      id                                              tweet subtask_a  \\\n",
              "0  86426  @USER She should ask a few native Americans wh...       OFF   \n",
              "1  90194  @USER @USER Go home you’re drunk!!! @USER #MAG...       OFF   \n",
              "2  16820  Amazon is investigating Chinese employees who ...       NOT   \n",
              "3  62688  @USER Someone should'veTaken\" this piece of sh...       OFF   \n",
              "4  43605  @USER @USER Obama wanted liberals &amp; illega...       NOT   \n",
              "\n",
              "  subtask_b subtask_c                                 preprocessed_tweet  \\\n",
              "0       UNT       NaN  user she should ask a few native americans wha...   \n",
              "1       TIN       IND  user user go home you re drunk user maga trump...   \n",
              "2       NaN       NaN  amazon is investigating chinese employees who ...   \n",
              "3       UNT       NaN  user someone shouldvetaken this piece of shit ...   \n",
              "4       NaN       NaN  user user obama wanted liberals  illegals to m...   \n",
              "\n",
              "                                         token_tweet  \\\n",
              "0  [user, she, should, ask, a, few, native, ameri...   \n",
              "1  [user, user, go, home, you, re, drunk, user, m...   \n",
              "2  [amazon, is, investigating, chinese, employees...   \n",
              "3  [user, someone, shouldvetaken, this, piece, of...   \n",
              "4  [user, user, obama, wanted, liberals, illegals...   \n",
              "\n",
              "                                    token_tweet_stop  \n",
              "0               [user, ask, native, americans, take]  \n",
              "1  [user, user, go, home, drunk, user, maga, trum...  \n",
              "2  [amazon, investigating, chinese, employees, se...  \n",
              "3  [user, someone, shouldvetaken, piece, shit, vo...  \n",
              "4  [user, user, obama, wanted, liberals, illegals...  "
            ]
          },
          "metadata": {
            "tags": []
          },
          "execution_count": 19
        }
      ]
    },
    {
      "metadata": {
        "id": "_FyBBTOvvcLr",
        "colab_type": "code",
        "outputId": "65b82453-9dc3-4d10-8c7d-f572d3c1a639",
        "colab": {
          "base_uri": "https://localhost:8080/",
          "height": 119
        }
      },
      "cell_type": "code",
      "source": [
        "sub_token_df = token_df[['id', 'token_tweet_stop', 'subtask_a', 'subtask_b', 'subtask_c']]\n",
        "sub_token_df.rename(columns = {'token_tweet_stop':'tweet'}, inplace = True)\n",
        "\n",
        "token_df.shape, sub_token_df.shape"
      ],
      "execution_count": 0,
      "outputs": [
        {
          "output_type": "stream",
          "text": [
            "/usr/local/lib/python3.6/dist-packages/pandas/core/frame.py:3027: SettingWithCopyWarning: \n",
            "A value is trying to be set on a copy of a slice from a DataFrame\n",
            "\n",
            "See the caveats in the documentation: http://pandas.pydata.org/pandas-docs/stable/indexing.html#indexing-view-versus-copy\n",
            "  return super(DataFrame, self).rename(**kwargs)\n"
          ],
          "name": "stderr"
        },
        {
          "output_type": "execute_result",
          "data": {
            "text/plain": [
              "((13240, 8), (13240, 5))"
            ]
          },
          "metadata": {
            "tags": []
          },
          "execution_count": 20
        }
      ]
    },
    {
      "metadata": {
        "id": "mpOhtQ4fvcLx",
        "colab_type": "code",
        "outputId": "f62f04f5-c5bf-441d-8cd1-35dcc1ae6157",
        "colab": {
          "base_uri": "https://localhost:8080/",
          "height": 71
        }
      },
      "cell_type": "code",
      "source": [
        "# Create vocabulary\n",
        "\n",
        "def vocabulary_list(dataframe, label):\n",
        "  voc = [] # Let us put all the tokens (mostly words) appearing in the vocabulary in a list\n",
        "  for index, row in dataframe.iterrows():\n",
        "    tweet = row[label]\n",
        "    for token in tweet:\n",
        "        if token not in voc:\n",
        "            voc.append(token)\n",
        "  return voc\n",
        "\n",
        "vocabulary = vocabulary_list(sub_token_df, 'tweet')\n",
        "print(vocabulary[1:30])\n",
        "\n",
        "vocabulary_size = len(vocabulary)\n",
        "vocabulary_size"
      ],
      "execution_count": 0,
      "outputs": [
        {
          "output_type": "stream",
          "text": [
            "['ask', 'native', 'americans', 'take', 'go', 'home', 'drunk', 'maga', 'trump', '👊🇺🇸👊', 'url', 'amazon', 'investigating', 'chinese', 'employees', 'selling', 'internal', 'data', 'thirdparty', 'sellers', 'looking', 'edge', 'competitive', 'marketplace', 'kag', 'china', 'tcot', 'someone', 'shouldvetaken']\n"
          ],
          "name": "stdout"
        },
        {
          "output_type": "execute_result",
          "data": {
            "text/plain": [
              "21024"
            ]
          },
          "metadata": {
            "tags": []
          },
          "execution_count": 145
        }
      ]
    },
    {
      "metadata": {
        "id": "_gn9tAaY0FnL",
        "colab_type": "code",
        "outputId": "3aa9f0df-0397-459b-bf47-30791c02b660",
        "colab": {
          "base_uri": "https://localhost:8080/",
          "height": 204
        }
      },
      "cell_type": "code",
      "source": [
        "sub_token_df.head()"
      ],
      "execution_count": 0,
      "outputs": [
        {
          "output_type": "execute_result",
          "data": {
            "text/html": [
              "<div>\n",
              "<style scoped>\n",
              "    .dataframe tbody tr th:only-of-type {\n",
              "        vertical-align: middle;\n",
              "    }\n",
              "\n",
              "    .dataframe tbody tr th {\n",
              "        vertical-align: top;\n",
              "    }\n",
              "\n",
              "    .dataframe thead th {\n",
              "        text-align: right;\n",
              "    }\n",
              "</style>\n",
              "<table border=\"1\" class=\"dataframe\">\n",
              "  <thead>\n",
              "    <tr style=\"text-align: right;\">\n",
              "      <th></th>\n",
              "      <th>id</th>\n",
              "      <th>tweet</th>\n",
              "      <th>subtask_a</th>\n",
              "      <th>subtask_b</th>\n",
              "      <th>subtask_c</th>\n",
              "    </tr>\n",
              "  </thead>\n",
              "  <tbody>\n",
              "    <tr>\n",
              "      <th>0</th>\n",
              "      <td>86426</td>\n",
              "      <td>[user, ask, native, americans, take]</td>\n",
              "      <td>OFF</td>\n",
              "      <td>UNT</td>\n",
              "      <td>NaN</td>\n",
              "    </tr>\n",
              "    <tr>\n",
              "      <th>1</th>\n",
              "      <td>90194</td>\n",
              "      <td>[user, user, go, home, drunk, user, maga, trum...</td>\n",
              "      <td>OFF</td>\n",
              "      <td>TIN</td>\n",
              "      <td>IND</td>\n",
              "    </tr>\n",
              "    <tr>\n",
              "      <th>2</th>\n",
              "      <td>16820</td>\n",
              "      <td>[amazon, investigating, chinese, employees, se...</td>\n",
              "      <td>NOT</td>\n",
              "      <td>NaN</td>\n",
              "      <td>NaN</td>\n",
              "    </tr>\n",
              "    <tr>\n",
              "      <th>3</th>\n",
              "      <td>62688</td>\n",
              "      <td>[user, someone, shouldvetaken, piece, shit, vo...</td>\n",
              "      <td>OFF</td>\n",
              "      <td>UNT</td>\n",
              "      <td>NaN</td>\n",
              "    </tr>\n",
              "    <tr>\n",
              "      <th>4</th>\n",
              "      <td>43605</td>\n",
              "      <td>[user, user, obama, wanted, liberals, illegals...</td>\n",
              "      <td>NOT</td>\n",
              "      <td>NaN</td>\n",
              "      <td>NaN</td>\n",
              "    </tr>\n",
              "  </tbody>\n",
              "</table>\n",
              "</div>"
            ],
            "text/plain": [
              "      id                                              tweet subtask_a  \\\n",
              "0  86426               [user, ask, native, americans, take]       OFF   \n",
              "1  90194  [user, user, go, home, drunk, user, maga, trum...       OFF   \n",
              "2  16820  [amazon, investigating, chinese, employees, se...       NOT   \n",
              "3  62688  [user, someone, shouldvetaken, piece, shit, vo...       OFF   \n",
              "4  43605  [user, user, obama, wanted, liberals, illegals...       NOT   \n",
              "\n",
              "  subtask_b subtask_c  \n",
              "0       UNT       NaN  \n",
              "1       TIN       IND  \n",
              "2       NaN       NaN  \n",
              "3       UNT       NaN  \n",
              "4       NaN       NaN  "
            ]
          },
          "metadata": {
            "tags": []
          },
          "execution_count": 22
        }
      ]
    },
    {
      "metadata": {
        "id": "SQRzmLD-ypN0",
        "colab_type": "code",
        "outputId": "7eb984a0-25b9-4f62-f1c1-7c776b5ebc1c",
        "colab": {
          "base_uri": "https://localhost:8080/",
          "height": 306
        }
      },
      "cell_type": "code",
      "source": [
        "#@title Lemmatisation\n",
        "porter = True\n",
        "\n",
        "if porter:\n",
        "  lemmatizer = PorterStemmer()\n",
        "  sub_token_df['tweet_lemma'] = sub_token_df.tweet.apply(lambda row: [lemmatizer.stem(word)  for word in row])\n",
        "else:\n",
        "  lemmatizer = WordNetLemmatizer()\n",
        "  sub_token_df['tweet_lemma'] = sub_token_df.tweet.apply(lambda row: [lemmatizer.lemmatize(word)  for word in row])\n",
        "\n",
        "sub_token_df.head()"
      ],
      "execution_count": 0,
      "outputs": [
        {
          "output_type": "stream",
          "text": [
            "/usr/local/lib/python3.6/dist-packages/ipykernel_launcher.py:5: SettingWithCopyWarning: \n",
            "A value is trying to be set on a copy of a slice from a DataFrame.\n",
            "Try using .loc[row_indexer,col_indexer] = value instead\n",
            "\n",
            "See the caveats in the documentation: http://pandas.pydata.org/pandas-docs/stable/indexing.html#indexing-view-versus-copy\n",
            "  \"\"\"\n"
          ],
          "name": "stderr"
        },
        {
          "output_type": "execute_result",
          "data": {
            "text/html": [
              "<div>\n",
              "<style scoped>\n",
              "    .dataframe tbody tr th:only-of-type {\n",
              "        vertical-align: middle;\n",
              "    }\n",
              "\n",
              "    .dataframe tbody tr th {\n",
              "        vertical-align: top;\n",
              "    }\n",
              "\n",
              "    .dataframe thead th {\n",
              "        text-align: right;\n",
              "    }\n",
              "</style>\n",
              "<table border=\"1\" class=\"dataframe\">\n",
              "  <thead>\n",
              "    <tr style=\"text-align: right;\">\n",
              "      <th></th>\n",
              "      <th>id</th>\n",
              "      <th>tweet</th>\n",
              "      <th>subtask_a</th>\n",
              "      <th>subtask_b</th>\n",
              "      <th>subtask_c</th>\n",
              "      <th>tweet_lemma</th>\n",
              "    </tr>\n",
              "  </thead>\n",
              "  <tbody>\n",
              "    <tr>\n",
              "      <th>0</th>\n",
              "      <td>86426</td>\n",
              "      <td>[user, ask, native, americans, take]</td>\n",
              "      <td>OFF</td>\n",
              "      <td>UNT</td>\n",
              "      <td>NaN</td>\n",
              "      <td>[user, ask, nativ, american, take]</td>\n",
              "    </tr>\n",
              "    <tr>\n",
              "      <th>1</th>\n",
              "      <td>90194</td>\n",
              "      <td>[user, user, go, home, drunk, user, maga, trum...</td>\n",
              "      <td>OFF</td>\n",
              "      <td>TIN</td>\n",
              "      <td>IND</td>\n",
              "      <td>[user, user, go, home, drunk, user, maga, trum...</td>\n",
              "    </tr>\n",
              "    <tr>\n",
              "      <th>2</th>\n",
              "      <td>16820</td>\n",
              "      <td>[amazon, investigating, chinese, employees, se...</td>\n",
              "      <td>NOT</td>\n",
              "      <td>NaN</td>\n",
              "      <td>NaN</td>\n",
              "      <td>[amazon, investig, chines, employe, sell, inte...</td>\n",
              "    </tr>\n",
              "    <tr>\n",
              "      <th>3</th>\n",
              "      <td>62688</td>\n",
              "      <td>[user, someone, shouldvetaken, piece, shit, vo...</td>\n",
              "      <td>OFF</td>\n",
              "      <td>UNT</td>\n",
              "      <td>NaN</td>\n",
              "      <td>[user, someon, shouldvetaken, piec, shit, volc...</td>\n",
              "    </tr>\n",
              "    <tr>\n",
              "      <th>4</th>\n",
              "      <td>43605</td>\n",
              "      <td>[user, user, obama, wanted, liberals, illegals...</td>\n",
              "      <td>NOT</td>\n",
              "      <td>NaN</td>\n",
              "      <td>NaN</td>\n",
              "      <td>[user, user, obama, want, liber, illeg, move, ...</td>\n",
              "    </tr>\n",
              "  </tbody>\n",
              "</table>\n",
              "</div>"
            ],
            "text/plain": [
              "      id                                              tweet subtask_a  \\\n",
              "0  86426               [user, ask, native, americans, take]       OFF   \n",
              "1  90194  [user, user, go, home, drunk, user, maga, trum...       OFF   \n",
              "2  16820  [amazon, investigating, chinese, employees, se...       NOT   \n",
              "3  62688  [user, someone, shouldvetaken, piece, shit, vo...       OFF   \n",
              "4  43605  [user, user, obama, wanted, liberals, illegals...       NOT   \n",
              "\n",
              "  subtask_b subtask_c                                        tweet_lemma  \n",
              "0       UNT       NaN                 [user, ask, nativ, american, take]  \n",
              "1       TIN       IND  [user, user, go, home, drunk, user, maga, trum...  \n",
              "2       NaN       NaN  [amazon, investig, chines, employe, sell, inte...  \n",
              "3       UNT       NaN  [user, someon, shouldvetaken, piec, shit, volc...  \n",
              "4       NaN       NaN  [user, user, obama, want, liber, illeg, move, ...  "
            ]
          },
          "metadata": {
            "tags": []
          },
          "execution_count": 23
        }
      ]
    },
    {
      "metadata": {
        "id": "q0YVC86zypng",
        "colab_type": "code",
        "outputId": "feaa110a-6bc9-4971-93ec-2edcf22edde1",
        "colab": {
          "base_uri": "https://localhost:8080/",
          "height": 71
        }
      },
      "cell_type": "code",
      "source": [
        "# Lemmatized vocabulary\n",
        "voc_lemma = vocabulary_list(sub_token_df, 'tweet_lemma')\n",
        "print(voc_lemma[1:30])\n",
        "\n",
        "voc_lemma_size = len(voc_lemma)\n",
        "voc_lemma_size"
      ],
      "execution_count": 0,
      "outputs": [
        {
          "output_type": "stream",
          "text": [
            "['ask', 'nativ', 'american', 'take', 'go', 'home', 'drunk', 'maga', 'trump', '👊🇺🇸👊', 'url', 'amazon', 'investig', 'chines', 'employe', 'sell', 'intern', 'data', 'thirdparti', 'seller', 'look', 'edg', 'competit', 'marketplac', 'kag', 'china', 'tcot', 'someon', 'shouldvetaken']\n"
          ],
          "name": "stdout"
        },
        {
          "output_type": "execute_result",
          "data": {
            "text/plain": [
              "15962"
            ]
          },
          "metadata": {
            "tags": []
          },
          "execution_count": 24
        }
      ]
    },
    {
      "metadata": {
        "id": "UrMdLGj45Kjg",
        "colab_type": "code",
        "outputId": "e4e8021c-cb50-4817-ff4f-e0a82aec5f21",
        "colab": {
          "base_uri": "https://localhost:8080/",
          "height": 359
        }
      },
      "cell_type": "code",
      "source": [
        "count = {key:0 for key in voc_lemma}\n",
        "for index, row in sub_token_df.iterrows():\n",
        "    tweet = row.tweet_lemma\n",
        "    for token in tweet:\n",
        "      count[token] += 1\n",
        "\n",
        "t = pd.DataFrame.from_dict(count, orient = 'index')\n",
        "t.columns = ['count']\n",
        "t_sort = t.sort_values(by = 'count', ascending = False)#, inplace = True)\n",
        "t_sort.head(10)"
      ],
      "execution_count": 0,
      "outputs": [
        {
          "output_type": "execute_result",
          "data": {
            "text/html": [
              "<div>\n",
              "<style scoped>\n",
              "    .dataframe tbody tr th:only-of-type {\n",
              "        vertical-align: middle;\n",
              "    }\n",
              "\n",
              "    .dataframe tbody tr th {\n",
              "        vertical-align: top;\n",
              "    }\n",
              "\n",
              "    .dataframe thead th {\n",
              "        text-align: right;\n",
              "    }\n",
              "</style>\n",
              "<table border=\"1\" class=\"dataframe\">\n",
              "  <thead>\n",
              "    <tr style=\"text-align: right;\">\n",
              "      <th></th>\n",
              "      <th>count</th>\n",
              "    </tr>\n",
              "  </thead>\n",
              "  <tbody>\n",
              "    <tr>\n",
              "      <th>user</th>\n",
              "      <td>33389</td>\n",
              "    </tr>\n",
              "    <tr>\n",
              "      <th>url</th>\n",
              "      <td>2056</td>\n",
              "    </tr>\n",
              "    <tr>\n",
              "      <th>liber</th>\n",
              "      <td>1622</td>\n",
              "    </tr>\n",
              "    <tr>\n",
              "      <th>gun</th>\n",
              "      <td>1523</td>\n",
              "    </tr>\n",
              "    <tr>\n",
              "      <th>control</th>\n",
              "      <td>1232</td>\n",
              "    </tr>\n",
              "    <tr>\n",
              "      <th>like</th>\n",
              "      <td>1191</td>\n",
              "    </tr>\n",
              "    <tr>\n",
              "      <th>antifa</th>\n",
              "      <td>1154</td>\n",
              "    </tr>\n",
              "    <tr>\n",
              "      <th>conserv</th>\n",
              "      <td>1058</td>\n",
              "    </tr>\n",
              "    <tr>\n",
              "      <th>maga</th>\n",
              "      <td>995</td>\n",
              "    </tr>\n",
              "    <tr>\n",
              "      <th>peopl</th>\n",
              "      <td>929</td>\n",
              "    </tr>\n",
              "  </tbody>\n",
              "</table>\n",
              "</div>"
            ],
            "text/plain": [
              "         count\n",
              "user     33389\n",
              "url       2056\n",
              "liber     1622\n",
              "gun       1523\n",
              "control   1232\n",
              "like      1191\n",
              "antifa    1154\n",
              "conserv   1058\n",
              "maga       995\n",
              "peopl      929"
            ]
          },
          "metadata": {
            "tags": []
          },
          "execution_count": 25
        }
      ]
    },
    {
      "metadata": {
        "id": "d0Zlq0aw8EA0",
        "colab_type": "code",
        "outputId": "61dd0bfd-cdb5-4cb4-dc72-a9bce4527fa0",
        "colab": {
          "base_uri": "https://localhost:8080/",
          "height": 300
        }
      },
      "cell_type": "code",
      "source": [
        "dft = t_sort.reset_index(level=0)\n",
        "dft.reset_index(level=0, inplace = True)\n",
        "\n",
        "dft.plot(x = 'level_0', y = 'count')"
      ],
      "execution_count": 0,
      "outputs": [
        {
          "output_type": "execute_result",
          "data": {
            "text/plain": [
              "<matplotlib.axes._subplots.AxesSubplot at 0x7fe7d65489b0>"
            ]
          },
          "metadata": {
            "tags": []
          },
          "execution_count": 26
        },
        {
          "output_type": "display_data",
          "data": {
            "image/png": "[encoded data removed]",
            "text/plain": [
              "<Figure size 432x288 with 1 Axes>"
            ]
          },
          "metadata": {
            "tags": []
          }
        }
      ]
    },
    {
      "metadata": {
        "id": "anBIIwGF-g7w",
        "colab_type": "code",
        "outputId": "f1e297a4-4b0c-45c2-fc18-c8a19af54359",
        "colab": {
          "base_uri": "https://localhost:8080/",
          "height": 466
        }
      },
      "cell_type": "code",
      "source": [
        "dft_w = dft[1:]\n",
        "dft_w.plot(x = 'level_0', y = 'count')\n",
        "dft_w.head()"
      ],
      "execution_count": 0,
      "outputs": [
        {
          "output_type": "execute_result",
          "data": {
            "text/html": [
              "<div>\n",
              "<style scoped>\n",
              "    .dataframe tbody tr th:only-of-type {\n",
              "        vertical-align: middle;\n",
              "    }\n",
              "\n",
              "    .dataframe tbody tr th {\n",
              "        vertical-align: top;\n",
              "    }\n",
              "\n",
              "    .dataframe thead th {\n",
              "        text-align: right;\n",
              "    }\n",
              "</style>\n",
              "<table border=\"1\" class=\"dataframe\">\n",
              "  <thead>\n",
              "    <tr style=\"text-align: right;\">\n",
              "      <th></th>\n",
              "      <th>level_0</th>\n",
              "      <th>index</th>\n",
              "      <th>count</th>\n",
              "    </tr>\n",
              "  </thead>\n",
              "  <tbody>\n",
              "    <tr>\n",
              "      <th>1</th>\n",
              "      <td>1</td>\n",
              "      <td>url</td>\n",
              "      <td>2056</td>\n",
              "    </tr>\n",
              "    <tr>\n",
              "      <th>2</th>\n",
              "      <td>2</td>\n",
              "      <td>liber</td>\n",
              "      <td>1622</td>\n",
              "    </tr>\n",
              "    <tr>\n",
              "      <th>3</th>\n",
              "      <td>3</td>\n",
              "      <td>gun</td>\n",
              "      <td>1523</td>\n",
              "    </tr>\n",
              "    <tr>\n",
              "      <th>4</th>\n",
              "      <td>4</td>\n",
              "      <td>control</td>\n",
              "      <td>1232</td>\n",
              "    </tr>\n",
              "    <tr>\n",
              "      <th>5</th>\n",
              "      <td>5</td>\n",
              "      <td>like</td>\n",
              "      <td>1191</td>\n",
              "    </tr>\n",
              "  </tbody>\n",
              "</table>\n",
              "</div>"
            ],
            "text/plain": [
              "   level_0    index  count\n",
              "1        1      url   2056\n",
              "2        2    liber   1622\n",
              "3        3      gun   1523\n",
              "4        4  control   1232\n",
              "5        5     like   1191"
            ]
          },
          "metadata": {
            "tags": []
          },
          "execution_count": 27
        },
        {
          "output_type": "display_data",
          "data": {
            "image/png": "[encoded data removed]",
            "text/plain": [
              "<Figure size 432x288 with 1 Axes>"
            ]
          },
          "metadata": {
            "tags": []
          }
        }
      ]
    },
    {
      "metadata": {
        "id": "xGPtkWqx-oGr",
        "colab_type": "code",
        "outputId": "1d2189b4-1c03-4fbf-9937-90dca8cbc213",
        "colab": {
          "base_uri": "https://localhost:8080/",
          "height": 297
        }
      },
      "cell_type": "code",
      "source": [
        "dft_w.describe()"
      ],
      "execution_count": 0,
      "outputs": [
        {
          "output_type": "execute_result",
          "data": {
            "text/html": [
              "<div>\n",
              "<style scoped>\n",
              "    .dataframe tbody tr th:only-of-type {\n",
              "        vertical-align: middle;\n",
              "    }\n",
              "\n",
              "    .dataframe tbody tr th {\n",
              "        vertical-align: top;\n",
              "    }\n",
              "\n",
              "    .dataframe thead th {\n",
              "        text-align: right;\n",
              "    }\n",
              "</style>\n",
              "<table border=\"1\" class=\"dataframe\">\n",
              "  <thead>\n",
              "    <tr style=\"text-align: right;\">\n",
              "      <th></th>\n",
              "      <th>level_0</th>\n",
              "      <th>count</th>\n",
              "    </tr>\n",
              "  </thead>\n",
              "  <tbody>\n",
              "    <tr>\n",
              "      <th>count</th>\n",
              "      <td>15961.000000</td>\n",
              "      <td>15961.000000</td>\n",
              "    </tr>\n",
              "    <tr>\n",
              "      <th>mean</th>\n",
              "      <td>7981.000000</td>\n",
              "      <td>8.663931</td>\n",
              "    </tr>\n",
              "    <tr>\n",
              "      <th>std</th>\n",
              "      <td>4607.688159</td>\n",
              "      <td>44.777348</td>\n",
              "    </tr>\n",
              "    <tr>\n",
              "      <th>min</th>\n",
              "      <td>1.000000</td>\n",
              "      <td>1.000000</td>\n",
              "    </tr>\n",
              "    <tr>\n",
              "      <th>25%</th>\n",
              "      <td>3991.000000</td>\n",
              "      <td>1.000000</td>\n",
              "    </tr>\n",
              "    <tr>\n",
              "      <th>50%</th>\n",
              "      <td>7981.000000</td>\n",
              "      <td>1.000000</td>\n",
              "    </tr>\n",
              "    <tr>\n",
              "      <th>75%</th>\n",
              "      <td>11971.000000</td>\n",
              "      <td>3.000000</td>\n",
              "    </tr>\n",
              "    <tr>\n",
              "      <th>max</th>\n",
              "      <td>15961.000000</td>\n",
              "      <td>2056.000000</td>\n",
              "    </tr>\n",
              "  </tbody>\n",
              "</table>\n",
              "</div>"
            ],
            "text/plain": [
              "            level_0         count\n",
              "count  15961.000000  15961.000000\n",
              "mean    7981.000000      8.663931\n",
              "std     4607.688159     44.777348\n",
              "min        1.000000      1.000000\n",
              "25%     3991.000000      1.000000\n",
              "50%     7981.000000      1.000000\n",
              "75%    11971.000000      3.000000\n",
              "max    15961.000000   2056.000000"
            ]
          },
          "metadata": {
            "tags": []
          },
          "execution_count": 28
        }
      ]
    },
    {
      "metadata": {
        "id": "zK0rcuRN-5lB",
        "colab_type": "code",
        "outputId": "8eb7913a-637b-4bbf-d185-cd54988a1e35",
        "colab": {
          "base_uri": "https://localhost:8080/",
          "height": 34
        }
      },
      "cell_type": "code",
      "source": [
        "count['tcot']"
      ],
      "execution_count": 0,
      "outputs": [
        {
          "output_type": "execute_result",
          "data": {
            "text/plain": [
              "56"
            ]
          },
          "metadata": {
            "tags": []
          },
          "execution_count": 29
        }
      ]
    },
    {
      "metadata": {
        "id": "_18mPM8e_n30",
        "colab_type": "code",
        "outputId": "736692b7-4342-4a46-911c-fed8a546d429",
        "colab": {
          "base_uri": "https://localhost:8080/",
          "height": 297
        }
      },
      "cell_type": "code",
      "source": [
        "dft_w[dft_w['count'] > 1].describe()"
      ],
      "execution_count": 0,
      "outputs": [
        {
          "output_type": "execute_result",
          "data": {
            "text/html": [
              "<div>\n",
              "<style scoped>\n",
              "    .dataframe tbody tr th:only-of-type {\n",
              "        vertical-align: middle;\n",
              "    }\n",
              "\n",
              "    .dataframe tbody tr th {\n",
              "        vertical-align: top;\n",
              "    }\n",
              "\n",
              "    .dataframe thead th {\n",
              "        text-align: right;\n",
              "    }\n",
              "</style>\n",
              "<table border=\"1\" class=\"dataframe\">\n",
              "  <thead>\n",
              "    <tr style=\"text-align: right;\">\n",
              "      <th></th>\n",
              "      <th>level_0</th>\n",
              "      <th>count</th>\n",
              "    </tr>\n",
              "  </thead>\n",
              "  <tbody>\n",
              "    <tr>\n",
              "      <th>count</th>\n",
              "      <td>6747.000000</td>\n",
              "      <td>6747.000000</td>\n",
              "    </tr>\n",
              "    <tr>\n",
              "      <th>mean</th>\n",
              "      <td>3374.000000</td>\n",
              "      <td>19.130132</td>\n",
              "    </tr>\n",
              "    <tr>\n",
              "      <th>std</th>\n",
              "      <td>1947.835465</td>\n",
              "      <td>67.481598</td>\n",
              "    </tr>\n",
              "    <tr>\n",
              "      <th>min</th>\n",
              "      <td>1.000000</td>\n",
              "      <td>2.000000</td>\n",
              "    </tr>\n",
              "    <tr>\n",
              "      <th>25%</th>\n",
              "      <td>1687.500000</td>\n",
              "      <td>2.000000</td>\n",
              "    </tr>\n",
              "    <tr>\n",
              "      <th>50%</th>\n",
              "      <td>3374.000000</td>\n",
              "      <td>5.000000</td>\n",
              "    </tr>\n",
              "    <tr>\n",
              "      <th>75%</th>\n",
              "      <td>5060.500000</td>\n",
              "      <td>13.000000</td>\n",
              "    </tr>\n",
              "    <tr>\n",
              "      <th>max</th>\n",
              "      <td>6747.000000</td>\n",
              "      <td>2056.000000</td>\n",
              "    </tr>\n",
              "  </tbody>\n",
              "</table>\n",
              "</div>"
            ],
            "text/plain": [
              "           level_0        count\n",
              "count  6747.000000  6747.000000\n",
              "mean   3374.000000    19.130132\n",
              "std    1947.835465    67.481598\n",
              "min       1.000000     2.000000\n",
              "25%    1687.500000     2.000000\n",
              "50%    3374.000000     5.000000\n",
              "75%    5060.500000    13.000000\n",
              "max    6747.000000  2056.000000"
            ]
          },
          "metadata": {
            "tags": []
          },
          "execution_count": 30
        }
      ]
    },
    {
      "metadata": {
        "id": "6epp6m0YvcL0",
        "colab_type": "code",
        "colab": {}
      },
      "cell_type": "code",
      "source": [
        "#@title Helper Functions\n",
        "# We need a mapping from word to index and index to word. \n",
        "\n",
        "word2idx = {w: idx for (idx, w) in enumerate(voc_lemma)}\n",
        "idx2word = {idx: w for (idx, w) in enumerate(voc_lemma)}"
      ],
      "execution_count": 0,
      "outputs": []
    },
    {
      "metadata": {
        "id": "vPSsas41vcL2",
        "colab_type": "code",
        "outputId": "39af33f8-8eb3-4baa-f2dc-913fde7f2dde",
        "colab": {
          "base_uri": "https://localhost:8080/",
          "height": 34
        }
      },
      "cell_type": "code",
      "source": [
        "def look_up_table(word_idx):\n",
        "    x = torch.zeros(voc_lemma_size).float()\n",
        "    x[word_idx] = 1.0\n",
        "    return x\n",
        "  \n",
        "word_idx = word2idx['want']\n",
        "print(look_up_table(word_idx).shape)\n"
      ],
      "execution_count": 0,
      "outputs": [
        {
          "output_type": "stream",
          "text": [
            "torch.Size([15962])\n"
          ],
          "name": "stdout"
        }
      ]
    },
    {
      "metadata": {
        "id": "JEhpLaegvcL5",
        "colab_type": "code",
        "outputId": "032ef7d7-2a3f-478a-9b82-5a587814b6bc",
        "colab": {
          "base_uri": "https://localhost:8080/",
          "height": 34
        }
      },
      "cell_type": "code",
      "source": [
        "#@title Extracting contexts and the center word!\n",
        "\n",
        "# Let us assume the context size is '2'\n",
        "\n",
        "window_size = 2\n",
        "\n",
        "idx_pairs = []\n",
        "\n",
        "# variables of interest: \n",
        "#   center_word_pos: center word position\n",
        "#   context_word_pos: context_word_position\n",
        "#   add sentence length as a constraint\n",
        "\n",
        "for index, row in sub_token_df.iterrows():\n",
        "    indices = [word2idx[word] for word in row.tweet_lemma]\n",
        "\n",
        "    for center_word_pos in range(len(indices)):\n",
        "\n",
        "        for w in range(-window_size, window_size + 1):\n",
        "            context_word_pos = center_word_pos + w\n",
        "            \n",
        "            if context_word_pos < 0 or context_word_pos >= len(indices) or center_word_pos == context_word_pos:\n",
        "                continue\n",
        "                \n",
        "            context_word_idx = indices[context_word_pos]            \n",
        "            idx_pairs.append((indices[center_word_pos], context_word_idx))\n",
        "\n",
        "# print(idx_pairs)\n",
        "idx_pairs = np.array(idx_pairs) # it will be useful to have this as numpy array\n",
        "print(idx_pairs.shape)"
      ],
      "execution_count": 0,
      "outputs": [
        {
          "output_type": "stream",
          "text": [
            "(607318, 2)\n"
          ],
          "name": "stdout"
        }
      ]
    },
    {
      "metadata": {
        "id": "cvTYLObBvcL8",
        "colab_type": "code",
        "colab": {}
      },
      "cell_type": "code",
      "source": [
        "#@title Parameters and Hyperparameters\n",
        "\n",
        "# Hyperparameters:\n",
        "embedding_dims = 5\n",
        "num_epochs = 10\n",
        "learning_rate = 0.001\n",
        "\n",
        "\n",
        "# The two weight matrices:\n",
        "W1 = Variable(torch.randn(embedding_dims, voc_lemma_size).float(),  requires_grad = True)\n",
        "# W1 is the 'embedding matrix' \n",
        "\n",
        "W2 = Variable(torch.randn(voc_lemma_size, embedding_dims).float(),  requires_grad = True)\n",
        "# W2 is the 'parameter matrix'"
      ],
      "execution_count": 0,
      "outputs": []
    },
    {
      "metadata": {
        "id": "AmEjtuXOvcL_",
        "colab_type": "code",
        "outputId": "fa922307-67e7-488d-adbb-c8e652f06ee5",
        "colab": {
          "base_uri": "https://localhost:8080/",
          "height": 527
        }
      },
      "cell_type": "code",
      "source": [
        "#@title Training the model in the standard way\n",
        "\n",
        "\n",
        "for epoch in range(num_epochs):\n",
        "    start = time.time()\n",
        "    print(epoch)\n",
        "    loss_val = 0\n",
        "    \n",
        "    for data, target in idx_pairs:\n",
        "      \n",
        "        x = Variable(look_up_table(data)).float() # x is a variable \n",
        "        \n",
        "        y_true = Variable(torch.from_numpy(np.array([target])).long()) \n",
        "        z1 = torch.matmul(W1, x) \n",
        "        \n",
        "        z2 = torch.matmul(W2, z1)\n",
        "       \n",
        "        # Let us obtain prediction over the vocabulary\n",
        "        log_softmax = F.log_softmax(z2, dim=0)\n",
        "        \n",
        "        # Our loss is a negative log-likelihood loss \n",
        "        \n",
        "        loss = F.nll_loss(log_softmax.view(1,-1), y_true)\n",
        "        \n",
        "        loss_val += loss.item()\n",
        "        \n",
        "        # propagate the error\n",
        "        loss.backward()\n",
        "        \n",
        "        # gradient descent\n",
        "        W1.data -= learning_rate * W1.grad.data\n",
        "        W2.data -= learning_rate * W2.grad.data\n",
        "\n",
        "        # zero out gradient accumulation\n",
        "        W1.grad.data.zero_()\n",
        "        W2.grad.data.zero_()\n",
        "        \n",
        "        \n",
        "    if epoch  >= 0:#% 10 == 0:    \n",
        "        print(f'Loss at epoch {epoch}: {loss_val/len(idx_pairs)}')        \n",
        "\n",
        "    duration = time.time() - start\n",
        "    print('It takes {0:.6f} seconds to execute the epoch {1}.'.format(duration, epoch))"
      ],
      "execution_count": 0,
      "outputs": [
        {
          "output_type": "stream",
          "text": [
            "0\n",
            "Loss at epoch 0: 10.045252153959725\n",
            "It takes 912.066865 seconds to execute the epoch 0.\n",
            "1\n",
            "Loss at epoch 1: 9.406347234673905\n",
            "It takes 914.779467 seconds to execute the epoch 1.\n",
            "2\n",
            "Loss at epoch 2: 9.04075407629182\n",
            "It takes 909.517277 seconds to execute the epoch 2.\n",
            "3\n",
            "Loss at epoch 3: 8.749533918928138\n",
            "It takes 916.618552 seconds to execute the epoch 3.\n",
            "4\n",
            "Loss at epoch 4: 8.51695005562585\n",
            "It takes 920.668360 seconds to execute the epoch 4.\n",
            "5\n",
            "Loss at epoch 5: 8.324524216332374\n",
            "It takes 921.049946 seconds to execute the epoch 5.\n",
            "6\n",
            "Loss at epoch 6: 8.164215579973872\n",
            "It takes 909.425668 seconds to execute the epoch 6.\n",
            "7\n",
            "Loss at epoch 7: 8.03083775091217\n",
            "It takes 897.552033 seconds to execute the epoch 7.\n",
            "8\n",
            "Loss at epoch 8: 7.918358806027882\n",
            "It takes 894.584176 seconds to execute the epoch 8.\n",
            "9\n",
            "Loss at epoch 9: 7.822538292698221\n",
            "It takes 898.294600 seconds to execute the epoch 9.\n"
          ],
          "name": "stdout"
        }
      ]
    },
    {
      "metadata": {
        "id": "VVuuXOmRsomO",
        "colab_type": "code",
        "colab": {}
      },
      "cell_type": "code",
      "source": [
        "torch.save(W1, 'W1_lemma.pt')\n",
        "torch.save(W2, 'W2_lemma.pt')"
      ],
      "execution_count": 0,
      "outputs": []
    },
    {
      "metadata": {
        "id": "zZH3VarGtHcI",
        "colab_type": "code",
        "outputId": "1456f5fe-8594-41bc-8447-11242c60ec3f",
        "colab": {
          "base_uri": "https://localhost:8080/",
          "height": 34
        }
      },
      "cell_type": "code",
      "source": [
        "W1 = torch.load('W1_lemma.pt')\n",
        "W2 = torch.load('W2_lemma.pt')\n",
        "W1.shape, W2.shape"
      ],
      "execution_count": 0,
      "outputs": [
        {
          "output_type": "execute_result",
          "data": {
            "text/plain": [
              "(torch.Size([5, 15962]), torch.Size([15962, 5]))"
            ]
          },
          "metadata": {
            "tags": []
          },
          "execution_count": 35
        }
      ]
    },
    {
      "metadata": {
        "id": "GWODwYZ1vcMB",
        "colab_type": "code",
        "outputId": "75d587de-c752-4362-b0d0-bcd1a9ad1536",
        "colab": {
          "base_uri": "https://localhost:8080/",
          "height": 85
        }
      },
      "cell_type": "code",
      "source": [
        "#@title Using embeddings\n",
        "\n",
        "# Let us get two vectors from the trained model\n",
        "from scipy.spatial.distance import euclidean\n",
        "\n",
        "x = Variable(look_up_table(word2idx['trump'])).float()\n",
        "print(x.shape)\n",
        "x_emb = torch.matmul(W1, x).detach().numpy()\n",
        "print(x_emb)\n",
        "y = Variable(look_up_table(word2idx['amazon'])).float()\n",
        "y_emb = torch.matmul(W1, y).detach().numpy()\n",
        "print(y_emb)\n",
        "\n",
        "\n",
        "# let us print the euclidean distance\n",
        "print(euclidean(x_emb, y_emb))\n",
        "\n",
        "# Q. What would euclidean distance do? What are we measuring in this case? (HINT: vector algebra)\n"
      ],
      "execution_count": 0,
      "outputs": [
        {
          "output_type": "stream",
          "text": [
            "torch.Size([15962])\n",
            "[-0.67816085  0.05198691 -0.20996344  0.8491165  -0.15170419]\n",
            "[-0.665206    0.5549344  -1.2067254  -0.60474956  0.29061174]\n",
            "1.8857433795928955\n"
          ],
          "name": "stdout"
        }
      ]
    },
    {
      "metadata": {
        "id": "D2zL9s91t8vu",
        "colab_type": "code",
        "outputId": "055e79b3-2b74-40b6-cd1e-0e947eba839d",
        "colab": {
          "base_uri": "https://localhost:8080/",
          "height": 54
        }
      },
      "cell_type": "code",
      "source": [
        "'''\n",
        "# The two weight matrices:\n",
        "W1 = Variable(torch.randn(embedding_dims,  voc_lemma_size).float(), \n",
        "              requires_grad=True)\n",
        " \n",
        "\n",
        "W2 = Variable(torch.randn(embedding_dims,  voc_lemma_size).float(), \n",
        "              requires_grad=True)\n",
        "\n",
        "\n",
        "for epoch in range(num_epochs):\n",
        "    start = time.time()\n",
        "    print(epoch)\n",
        "  \n",
        "    loss_val = 0\n",
        "    \n",
        "    for data, target in idx_pairs:\n",
        "        \n",
        "        x_var = Variable(look_up_table(data)).float() \n",
        "        \n",
        "        y_pos = Variable(torch.from_numpy(np.array([target])).long())\n",
        "        y_pos_var = Variable(look_up_table(target)).float()\n",
        "        \n",
        "        neg_sample = np.random.choice(list(range( voc_lemma_size)),size=(1))[0]\n",
        "        y_neg = Variable(torch.from_numpy(np.array([neg_sample])))\n",
        "        y_neg_var = Variable(look_up_table(neg_sample)).float()\n",
        "\n",
        "         \n",
        "        x_emb = torch.matmul(W1, x_var) \n",
        "        y_pos_emb = torch.matmul(W2, y_pos_var)\n",
        "        y_neg_emb = torch.matmul(W2, y_neg_var)\n",
        "        \n",
        "        \n",
        "        # get positive sample score\n",
        "        pos_var = torch.mul(x_emb, y_pos_emb).squeeze()        \n",
        "        pos_score = F.logsigmoid(pos_var)       \n",
        "        pos_loss = sum(pos_score)\n",
        "        \n",
        "        # get negsample score\n",
        "        neg_var = torch.mul(x_emb, y_neg_emb).squeeze()      \n",
        "        neg_score = F.logsigmoid(-1 * neg_var)        \n",
        "        neg_loss = sum(neg_score)\n",
        "        \n",
        "        loss = -1 * sum([neg_loss + neg_loss])\n",
        "        \n",
        "        # propagate the error\n",
        "        loss.backward()\n",
        "        \n",
        "        # gradient descent\n",
        "        W1.data -= learning_rate * W1.grad.data\n",
        "        W2.data -= learning_rate * W2.grad.data\n",
        "\n",
        "        # zero out gradient accumulation\n",
        "        W1.grad.data.zero_()\n",
        "        W2.grad.data.zero_()\n",
        "        \n",
        "    if epoch  >= 0:#% 10 == 0:    \n",
        "        print(f'Loss at epoch {epoch}: {loss_val/len(idx_pairs)}')        \n",
        "\n",
        "    duration = time.time() - start\n",
        "    print('It takes {0:.6f} seconds to execute the epoch {1}.'.format(duration, epoch))\n",
        "\n",
        "'''"
      ],
      "execution_count": 0,
      "outputs": [
        {
          "output_type": "execute_result",
          "data": {
            "text/plain": [
              "\"\\n# The two weight matrices:\\nW1 = Variable(torch.randn(embedding_dims,  voc_lemma_size).float(), \\n              requires_grad=True)\\n \\n\\nW2 = Variable(torch.randn(embedding_dims,  voc_lemma_size).float(), \\n              requires_grad=True)\\n\\n\\nfor epoch in range(num_epochs):\\n    start = time.time()\\n    print(epoch)\\n  \\n    loss_val = 0\\n    \\n    for data, target in idx_pairs:\\n        \\n        x_var = Variable(look_up_table(data)).float() \\n        \\n        y_pos = Variable(torch.from_numpy(np.array([target])).long())\\n        y_pos_var = Variable(look_up_table(target)).float()\\n        \\n        neg_sample = np.random.choice(list(range( voc_lemma_size)),size=(1))[0]\\n        y_neg = Variable(torch.from_numpy(np.array([neg_sample])))\\n        y_neg_var = Variable(look_up_table(neg_sample)).float()\\n\\n         \\n        x_emb = torch.matmul(W1, x_var) \\n        y_pos_emb = torch.matmul(W2, y_pos_var)\\n        y_neg_emb = torch.matmul(W2, y_neg_var)\\n        \\n        \\n        # get positive sample score\\n        pos_var = torch.mul(x_emb, y_pos_emb).squeeze()        \\n        pos_score = F.logsigmoid(pos_var)       \\n        pos_loss = sum(pos_score)\\n        \\n        # get negsample score\\n        neg_var = torch.mul(x_emb, y_neg_emb).squeeze()      \\n        neg_score = F.logsigmoid(-1 * neg_var)        \\n        neg_loss = sum(neg_score)\\n        \\n        loss = -1 * sum([neg_loss + neg_loss])\\n        \\n        # propagate the error\\n        loss.backward()\\n        \\n        # gradient descent\\n        W1.data -= learning_rate * W1.grad.data\\n        W2.data -= learning_rate * W2.grad.data\\n\\n        # zero out gradient accumulation\\n        W1.grad.data.zero_()\\n        W2.grad.data.zero_()\\n        \\n    if epoch  >= 0:#% 10 == 0:    \\n        print(f'Loss at epoch {epoch}: {loss_val/len(idx_pairs)}')        \\n\\n    duration = time.time() - start\\n    print('It takes {0:.6f} seconds to execute the epoch {1}.'.format(duration, epoch))\\n\\n\""
            ]
          },
          "metadata": {
            "tags": []
          },
          "execution_count": 37
        }
      ]
    },
    {
      "metadata": {
        "id": "0C5sVDXtxVsP",
        "colab_type": "code",
        "outputId": "2e1053db-c9c4-49ce-bd1c-2f4a6ca4f96f",
        "colab": {
          "base_uri": "https://localhost:8080/",
          "height": 323
        }
      },
      "cell_type": "code",
      "source": [
        "sub_token_df['len_tweet'] = sub_token_df['tweet_lemma'].apply(len)\n",
        "max_len_tweet = max(sub_token_df.len_tweet)\n",
        "print('Maximum number of words (tokens) in the tweet:', max_len_tweet)\n",
        "sub_token_df.head()"
      ],
      "execution_count": 0,
      "outputs": [
        {
          "output_type": "stream",
          "text": [
            "Maximum number of words (tokens) in the tweet: 79\n"
          ],
          "name": "stdout"
        },
        {
          "output_type": "stream",
          "text": [
            "/usr/local/lib/python3.6/dist-packages/ipykernel_launcher.py:1: SettingWithCopyWarning: \n",
            "A value is trying to be set on a copy of a slice from a DataFrame.\n",
            "Try using .loc[row_indexer,col_indexer] = value instead\n",
            "\n",
            "See the caveats in the documentation: http://pandas.pydata.org/pandas-docs/stable/indexing.html#indexing-view-versus-copy\n",
            "  \"\"\"Entry point for launching an IPython kernel.\n"
          ],
          "name": "stderr"
        },
        {
          "output_type": "execute_result",
          "data": {
            "text/html": [
              "<div>\n",
              "<style scoped>\n",
              "    .dataframe tbody tr th:only-of-type {\n",
              "        vertical-align: middle;\n",
              "    }\n",
              "\n",
              "    .dataframe tbody tr th {\n",
              "        vertical-align: top;\n",
              "    }\n",
              "\n",
              "    .dataframe thead th {\n",
              "        text-align: right;\n",
              "    }\n",
              "</style>\n",
              "<table border=\"1\" class=\"dataframe\">\n",
              "  <thead>\n",
              "    <tr style=\"text-align: right;\">\n",
              "      <th></th>\n",
              "      <th>id</th>\n",
              "      <th>tweet</th>\n",
              "      <th>subtask_a</th>\n",
              "      <th>subtask_b</th>\n",
              "      <th>subtask_c</th>\n",
              "      <th>tweet_lemma</th>\n",
              "      <th>len_tweet</th>\n",
              "    </tr>\n",
              "  </thead>\n",
              "  <tbody>\n",
              "    <tr>\n",
              "      <th>0</th>\n",
              "      <td>86426</td>\n",
              "      <td>[user, ask, native, americans, take]</td>\n",
              "      <td>OFF</td>\n",
              "      <td>UNT</td>\n",
              "      <td>NaN</td>\n",
              "      <td>[user, ask, nativ, american, take]</td>\n",
              "      <td>5</td>\n",
              "    </tr>\n",
              "    <tr>\n",
              "      <th>1</th>\n",
              "      <td>90194</td>\n",
              "      <td>[user, user, go, home, drunk, user, maga, trum...</td>\n",
              "      <td>OFF</td>\n",
              "      <td>TIN</td>\n",
              "      <td>IND</td>\n",
              "      <td>[user, user, go, home, drunk, user, maga, trum...</td>\n",
              "      <td>10</td>\n",
              "    </tr>\n",
              "    <tr>\n",
              "      <th>2</th>\n",
              "      <td>16820</td>\n",
              "      <td>[amazon, investigating, chinese, employees, se...</td>\n",
              "      <td>NOT</td>\n",
              "      <td>NaN</td>\n",
              "      <td>NaN</td>\n",
              "      <td>[amazon, investig, chines, employe, sell, inte...</td>\n",
              "      <td>19</td>\n",
              "    </tr>\n",
              "    <tr>\n",
              "      <th>3</th>\n",
              "      <td>62688</td>\n",
              "      <td>[user, someone, shouldvetaken, piece, shit, vo...</td>\n",
              "      <td>OFF</td>\n",
              "      <td>UNT</td>\n",
              "      <td>NaN</td>\n",
              "      <td>[user, someon, shouldvetaken, piec, shit, volc...</td>\n",
              "      <td>7</td>\n",
              "    </tr>\n",
              "    <tr>\n",
              "      <th>4</th>\n",
              "      <td>43605</td>\n",
              "      <td>[user, user, obama, wanted, liberals, illegals...</td>\n",
              "      <td>NOT</td>\n",
              "      <td>NaN</td>\n",
              "      <td>NaN</td>\n",
              "      <td>[user, user, obama, want, liber, illeg, move, ...</td>\n",
              "      <td>9</td>\n",
              "    </tr>\n",
              "  </tbody>\n",
              "</table>\n",
              "</div>"
            ],
            "text/plain": [
              "      id                                              tweet subtask_a  \\\n",
              "0  86426               [user, ask, native, americans, take]       OFF   \n",
              "1  90194  [user, user, go, home, drunk, user, maga, trum...       OFF   \n",
              "2  16820  [amazon, investigating, chinese, employees, se...       NOT   \n",
              "3  62688  [user, someone, shouldvetaken, piece, shit, vo...       OFF   \n",
              "4  43605  [user, user, obama, wanted, liberals, illegals...       NOT   \n",
              "\n",
              "  subtask_b subtask_c                                        tweet_lemma  \\\n",
              "0       UNT       NaN                 [user, ask, nativ, american, take]   \n",
              "1       TIN       IND  [user, user, go, home, drunk, user, maga, trum...   \n",
              "2       NaN       NaN  [amazon, investig, chines, employe, sell, inte...   \n",
              "3       UNT       NaN  [user, someon, shouldvetaken, piec, shit, volc...   \n",
              "4       NaN       NaN  [user, user, obama, want, liber, illeg, move, ...   \n",
              "\n",
              "   len_tweet  \n",
              "0          5  \n",
              "1         10  \n",
              "2         19  \n",
              "3          7  \n",
              "4          9  "
            ]
          },
          "metadata": {
            "tags": []
          },
          "execution_count": 38
        }
      ]
    },
    {
      "metadata": {
        "id": "H_TNJBZut5tN",
        "colab_type": "text"
      },
      "cell_type": "markdown",
      "source": [
        "#Sub-task A"
      ]
    },
    {
      "metadata": {
        "id": "L28cPK2lyv-P",
        "colab_type": "code",
        "outputId": "2d3c6d42-ac9f-4efd-9ef5-a69817adfdaf",
        "colab": {
          "base_uri": "https://localhost:8080/",
          "height": 153
        }
      },
      "cell_type": "code",
      "source": [
        "#@title Split the data for sub-task A into three datasets\n",
        "fin_df_a = sub_token_df[['id', 'tweet_lemma', 'subtask_a']]\n",
        "fin_df_a.rename(columns = {'tweet_lemma':'tweet'}, inplace = True)\n",
        "\n",
        "\n",
        "# Train Test Val Split: after the word embedding\n",
        "df_train, df_test = train_test_split(fin_df_a, test_size = 0.2, random_state = 24)\n",
        "df_train, df_val = train_test_split(df_train, test_size = 0.25, random_state = 24)\n",
        "print(df_train.shape)\n",
        "print(df_val.shape)\n",
        "print(df_test.shape)\n",
        "#df_train.head()\n",
        "#tweet_ex = df_train['tweet'].iloc[3]\n",
        "#tweet_ex"
      ],
      "execution_count": 0,
      "outputs": [
        {
          "output_type": "stream",
          "text": [
            "(7944, 3)\n",
            "(2648, 3)\n",
            "(2648, 3)\n"
          ],
          "name": "stdout"
        },
        {
          "output_type": "stream",
          "text": [
            "/usr/local/lib/python3.6/dist-packages/pandas/core/frame.py:3027: SettingWithCopyWarning: \n",
            "A value is trying to be set on a copy of a slice from a DataFrame\n",
            "\n",
            "See the caveats in the documentation: http://pandas.pydata.org/pandas-docs/stable/indexing.html#indexing-view-versus-copy\n",
            "  return super(DataFrame, self).rename(**kwargs)\n"
          ],
          "name": "stderr"
        }
      ]
    },
    {
      "metadata": {
        "id": "TUerQhQQ2OFM",
        "colab_type": "code",
        "outputId": "9c145f99-65d3-4ec8-8843-fe4943c4e627",
        "colab": {
          "base_uri": "https://localhost:8080/",
          "height": 187
        }
      },
      "cell_type": "code",
      "source": [
        "labels = df_train.subtask_a.copy()\n",
        "old_labels = labels.copy()\n",
        "labels[labels == 'OFF'] = 1.\n",
        "labels[labels == 'NOT'] = 0.\n",
        "print(labels.head())\n",
        "print(labels.values)\n",
        "print(labels.shape)\n",
        "labels_val = labels.values.astype(dtype = 'float32')\n",
        "print(type(labels_val))\n",
        "torch.from_numpy(labels_val)"
      ],
      "execution_count": 0,
      "outputs": [
        {
          "output_type": "stream",
          "text": [
            "4985    0\n",
            "3444    0\n",
            "8018    0\n",
            "3351    1\n",
            "8658    0\n",
            "Name: subtask_a, dtype: object\n",
            "[0.0 0.0 0.0 ... 0.0 0.0 1.0]\n",
            "(7944,)\n",
            "<class 'numpy.ndarray'>\n"
          ],
          "name": "stdout"
        },
        {
          "output_type": "execute_result",
          "data": {
            "text/plain": [
              "tensor([0., 0., 0.,  ..., 0., 0., 1.])"
            ]
          },
          "metadata": {
            "tags": []
          },
          "execution_count": 147
        }
      ]
    },
    {
      "metadata": {
        "id": "u41hhomS6nPx",
        "colab_type": "code",
        "outputId": "586c56c9-a0e7-4465-848e-7a005064eb3f",
        "colab": {
          "base_uri": "https://localhost:8080/",
          "height": 221
        }
      },
      "cell_type": "code",
      "source": [
        "print(len(df_train))\n",
        "df_train.head()"
      ],
      "execution_count": 0,
      "outputs": [
        {
          "output_type": "stream",
          "text": [
            "7944\n"
          ],
          "name": "stdout"
        },
        {
          "output_type": "execute_result",
          "data": {
            "text/html": [
              "<div>\n",
              "<style scoped>\n",
              "    .dataframe tbody tr th:only-of-type {\n",
              "        vertical-align: middle;\n",
              "    }\n",
              "\n",
              "    .dataframe tbody tr th {\n",
              "        vertical-align: top;\n",
              "    }\n",
              "\n",
              "    .dataframe thead th {\n",
              "        text-align: right;\n",
              "    }\n",
              "</style>\n",
              "<table border=\"1\" class=\"dataframe\">\n",
              "  <thead>\n",
              "    <tr style=\"text-align: right;\">\n",
              "      <th></th>\n",
              "      <th>id</th>\n",
              "      <th>tweet</th>\n",
              "      <th>subtask_a</th>\n",
              "    </tr>\n",
              "  </thead>\n",
              "  <tbody>\n",
              "    <tr>\n",
              "      <th>4985</th>\n",
              "      <td>27082</td>\n",
              "      <td>[choke, laugh, user, consid, excel, work, user...</td>\n",
              "      <td>NOT</td>\n",
              "    </tr>\n",
              "    <tr>\n",
              "      <th>3444</th>\n",
              "      <td>83902</td>\n",
              "      <td>[user, mindboggl, peopl, swear, trudeau, co, m...</td>\n",
              "      <td>NOT</td>\n",
              "    </tr>\n",
              "    <tr>\n",
              "      <th>8018</th>\n",
              "      <td>67830</td>\n",
              "      <td>[user, ren, oppa, love, cute, 😊]</td>\n",
              "      <td>NOT</td>\n",
              "    </tr>\n",
              "    <tr>\n",
              "      <th>3351</th>\n",
              "      <td>27379</td>\n",
              "      <td>[user, user, bipolar, keep, say, differ, shit,...</td>\n",
              "      <td>OFF</td>\n",
              "    </tr>\n",
              "    <tr>\n",
              "      <th>8658</th>\n",
              "      <td>18154</td>\n",
              "      <td>[user, trip]</td>\n",
              "      <td>NOT</td>\n",
              "    </tr>\n",
              "  </tbody>\n",
              "</table>\n",
              "</div>"
            ],
            "text/plain": [
              "         id                                              tweet subtask_a\n",
              "4985  27082  [choke, laugh, user, consid, excel, work, user...       NOT\n",
              "3444  83902  [user, mindboggl, peopl, swear, trudeau, co, m...       NOT\n",
              "8018  67830                   [user, ren, oppa, love, cute, 😊]       NOT\n",
              "3351  27379  [user, user, bipolar, keep, say, differ, shit,...       OFF\n",
              "8658  18154                                       [user, trip]       NOT"
            ]
          },
          "metadata": {
            "tags": []
          },
          "execution_count": 148
        }
      ]
    },
    {
      "metadata": {
        "id": "zTeIiaaUCFLo",
        "colab_type": "code",
        "outputId": "ad25991a-3e80-4998-bf1d-7526865c223d",
        "colab": {
          "base_uri": "https://localhost:8080/",
          "height": 204
        }
      },
      "cell_type": "code",
      "source": [
        "data = df_train.copy()\n",
        "data['index_tweet'] = data.tweet.apply(lambda x: [word2idx[tok] for tok in x if tok in word2idx])\n",
        "#data['index_tweet'] = [word2idx[tok] for tok in data['tweet'] if tok in word2idx]\n",
        "data.head()"
      ],
      "execution_count": 0,
      "outputs": [
        {
          "output_type": "execute_result",
          "data": {
            "text/html": [
              "<div>\n",
              "<style scoped>\n",
              "    .dataframe tbody tr th:only-of-type {\n",
              "        vertical-align: middle;\n",
              "    }\n",
              "\n",
              "    .dataframe tbody tr th {\n",
              "        vertical-align: top;\n",
              "    }\n",
              "\n",
              "    .dataframe thead th {\n",
              "        text-align: right;\n",
              "    }\n",
              "</style>\n",
              "<table border=\"1\" class=\"dataframe\">\n",
              "  <thead>\n",
              "    <tr style=\"text-align: right;\">\n",
              "      <th></th>\n",
              "      <th>id</th>\n",
              "      <th>tweet</th>\n",
              "      <th>subtask_a</th>\n",
              "      <th>index_tweet</th>\n",
              "    </tr>\n",
              "  </thead>\n",
              "  <tbody>\n",
              "    <tr>\n",
              "      <th>4985</th>\n",
              "      <td>27082</td>\n",
              "      <td>[choke, laugh, user, consid, excel, work, user...</td>\n",
              "      <td>NOT</td>\n",
              "      <td>[7897, 734, 0, 1734, 2100, 545, 0, 1951, 8981,...</td>\n",
              "    </tr>\n",
              "    <tr>\n",
              "      <th>3444</th>\n",
              "      <td>83902</td>\n",
              "      <td>[user, mindboggl, peopl, swear, trudeau, co, m...</td>\n",
              "      <td>NOT</td>\n",
              "      <td>[0, 7171, 172, 3085, 818, 2491, 3007, 820, 36,...</td>\n",
              "    </tr>\n",
              "    <tr>\n",
              "      <th>8018</th>\n",
              "      <td>67830</td>\n",
              "      <td>[user, ren, oppa, love, cute, 😊]</td>\n",
              "      <td>NOT</td>\n",
              "      <td>[0, 11962, 11963, 119, 985, 4375]</td>\n",
              "    </tr>\n",
              "    <tr>\n",
              "      <th>3351</th>\n",
              "      <td>27379</td>\n",
              "      <td>[user, user, bipolar, keep, say, differ, shit,...</td>\n",
              "      <td>OFF</td>\n",
              "      <td>[0, 0, 7059, 269, 341, 78, 31, 172, 782, 968]</td>\n",
              "    </tr>\n",
              "    <tr>\n",
              "      <th>8658</th>\n",
              "      <td>18154</td>\n",
              "      <td>[user, trip]</td>\n",
              "      <td>NOT</td>\n",
              "      <td>[0, 4901]</td>\n",
              "    </tr>\n",
              "  </tbody>\n",
              "</table>\n",
              "</div>"
            ],
            "text/plain": [
              "         id                                              tweet subtask_a  \\\n",
              "4985  27082  [choke, laugh, user, consid, excel, work, user...       NOT   \n",
              "3444  83902  [user, mindboggl, peopl, swear, trudeau, co, m...       NOT   \n",
              "8018  67830                   [user, ren, oppa, love, cute, 😊]       NOT   \n",
              "3351  27379  [user, user, bipolar, keep, say, differ, shit,...       OFF   \n",
              "8658  18154                                       [user, trip]       NOT   \n",
              "\n",
              "                                            index_tweet  \n",
              "4985  [7897, 734, 0, 1734, 2100, 545, 0, 1951, 8981,...  \n",
              "3444  [0, 7171, 172, 3085, 818, 2491, 3007, 820, 36,...  \n",
              "8018                  [0, 11962, 11963, 119, 985, 4375]  \n",
              "3351      [0, 0, 7059, 269, 341, 78, 31, 172, 782, 968]  \n",
              "8658                                          [0, 4901]  "
            ]
          },
          "metadata": {
            "tags": []
          },
          "execution_count": 149
        }
      ]
    },
    {
      "metadata": {
        "id": "20yHjXZKEy7x",
        "colab_type": "code",
        "outputId": "b071f962-e9b4-48ec-8a3d-ada656a4ec28",
        "colab": {
          "base_uri": "https://localhost:8080/",
          "height": 136
        }
      },
      "cell_type": "code",
      "source": [
        "def look_up_table_sent(list_idx):\n",
        "  mat = torch.zeros(len(list_idx), voc_lemma_size).float()\n",
        "  for i, idx in enumerate(list_idx):\n",
        "    mat[i] = look_up_table(idx)\n",
        "  return mat.transpose(0, 1) # Shape: (voc_lemma_size, len(list_idx))\n",
        "  \n",
        "look_up_table_sent([0, 2008])"
      ],
      "execution_count": 0,
      "outputs": [
        {
          "output_type": "execute_result",
          "data": {
            "text/plain": [
              "tensor([[1., 0.],\n",
              "        [0., 0.],\n",
              "        [0., 0.],\n",
              "        ...,\n",
              "        [0., 0.],\n",
              "        [0., 0.],\n",
              "        [0., 0.]])"
            ]
          },
          "metadata": {
            "tags": []
          },
          "execution_count": 150
        }
      ]
    },
    {
      "metadata": {
        "id": "yF1MWFf4ME67",
        "colab_type": "code",
        "outputId": "1e504b5a-1d01-4d92-c079-e64b83967afe",
        "colab": {
          "base_uri": "https://localhost:8080/",
          "height": 34
        }
      },
      "cell_type": "code",
      "source": [
        "tweet_lengths = list(data['index_tweet'].map(len).values)\n",
        "len(tweet_lengths)"
      ],
      "execution_count": 0,
      "outputs": [
        {
          "output_type": "execute_result",
          "data": {
            "text/plain": [
              "7944"
            ]
          },
          "metadata": {
            "tags": []
          },
          "execution_count": 151
        }
      ]
    },
    {
      "metadata": {
        "id": "NLx7e1GfyoMm",
        "colab_type": "code",
        "outputId": "8e79da20-9489-4c58-e58e-623a57111c28",
        "colab": {
          "base_uri": "https://localhost:8080/",
          "height": 170
        }
      },
      "cell_type": "code",
      "source": [
        "def get_model_inputs(dataframe, matrix, word2idx, column, target, max_len, embedding):\n",
        "  data = dataframe.copy()\n",
        "  \n",
        "  # convert words to index\n",
        "  #data['index_tweet'] = [[word2idx[tok] for tok in sent if tok in word2idx] for sent in tokenized_corpus]\n",
        "  data['index_tweet'] = data.tweet.apply(lambda x: [word2idx[tok] for tok in x if tok in word2idx])\n",
        "  \n",
        "  # we create a tensor of a fixed size filled with zeroes for padding\n",
        "\n",
        "  #data_tensor = Variable(torch.zeros((len(dataframe), max_len, embedding)))#.long() # Shape: No_tweets x maximum_length of tweets x embedding\n",
        "  data_tensor = Variable(torch.zeros((len(dataframe), max_len))).long()\n",
        "  \n",
        "  tweet_lengths = list(data['index_tweet'].map(len).values)\n",
        "  \n",
        "  # we fill it with the indexes\n",
        "  for idx, (indices, tweet) in enumerate(zip(data['index_tweet'], tweet_lengths)):\n",
        "    if idx % 1000 == 0:\n",
        "      print(idx)\n",
        "      \n",
        "    #word = Variable(look_up_table_sent(indices)).float() # Shape: (voc_lemma_size, len(indices))\n",
        "    #word_emb = torch.matmul(matrix, word).detach().numpy() # Shape: (embedding, len(indices))\n",
        "\n",
        "    #data_tensor[idx, :tweet] = torch.FloatTensor(word_emb.transpose(1, 0))\n",
        "    data_tensor[idx, :tweet] = torch.LongTensor(indices)\n",
        "\n",
        "  # Labels\n",
        "  labels = dataframe[target].copy()\n",
        "  labels[labels == 'OFF'] = 1.\n",
        "  labels[labels == 'NOT'] = 0.\n",
        "  labels_val = labels.values.astype(dtype = 'float32')\n",
        "  label_tensor = torch.from_numpy(labels_val)\n",
        "  \n",
        "  return data_tensor, label_tensor\n",
        "\n",
        "train_data_tensor, train_label_tensor = get_model_inputs(df_train, W1, word2idx, 'tweet', 'subtask_a', max_len_tweet, embedding_dims)\n",
        "\n",
        "print(train_data_tensor.shape)"
      ],
      "execution_count": 0,
      "outputs": [
        {
          "output_type": "stream",
          "text": [
            "0\n",
            "1000\n",
            "2000\n",
            "3000\n",
            "4000\n",
            "5000\n",
            "6000\n",
            "7000\n",
            "torch.Size([7944, 79])\n"
          ],
          "name": "stdout"
        }
      ]
    },
    {
      "metadata": {
        "id": "D8FMFY7RlX3h",
        "colab_type": "code",
        "outputId": "88ef4c75-1dc4-4c19-9983-3eeb4ec81f3c",
        "colab": {
          "base_uri": "https://localhost:8080/",
          "height": 136
        }
      },
      "cell_type": "code",
      "source": [
        "# Validation\n",
        "val_data_tensor, val_label_tensor = get_model_inputs(df_val, W1, word2idx, 'tweet', 'subtask_a', max_len_tweet, embedding_dims)\n",
        "val_data_tensor_f = val_data_tensor.view(val_data_tensor.size(0), -1)\n",
        "\n",
        "# Testing\n",
        "test_data_tensor, test_label_tensor = get_model_inputs(df_test, W1, word2idx, 'tweet', 'subtask_a', max_len_tweet, embedding_dims)\n",
        "test_data_tensor_f = test_data_tensor.view(test_data_tensor.size(0), -1)\n",
        "'''\n",
        "print(test_data_tensor_f.shape)\n",
        "test_data = TensorDataset(test_data_tensor_f, test_label_tensor)\n",
        "test_dl = DataLoader(test_data, batch_size = batch_size)\n",
        "'''"
      ],
      "execution_count": 0,
      "outputs": [
        {
          "output_type": "stream",
          "text": [
            "0\n",
            "1000\n",
            "2000\n",
            "0\n",
            "1000\n",
            "2000\n"
          ],
          "name": "stdout"
        },
        {
          "output_type": "execute_result",
          "data": {
            "text/plain": [
              "'\\nprint(test_data_tensor_f.shape)\\ntest_data = TensorDataset(test_data_tensor_f, test_label_tensor)\\ntest_dl = DataLoader(test_data, batch_size = batch_size)\\n'"
            ]
          },
          "metadata": {
            "tags": []
          },
          "execution_count": 183
        }
      ]
    },
    {
      "metadata": {
        "id": "Oq6EuCjuyoXJ",
        "colab_type": "code",
        "colab": {}
      },
      "cell_type": "code",
      "source": [
        "class FFNN(nn.Module):\n",
        "    \n",
        "    def __init__(self, embedding_dim, hidden_dim, vocab_size, max_len, num_classes):\n",
        "        \n",
        "        super(FFNN, self).__init__()\n",
        "        \n",
        "        #embedding (lookup layer) layer\n",
        "        self.embedding = nn.Embedding(vocab_size, embedding_dim)\n",
        "        #self.initial = nn.Linear(vocab_size, embedding_dim)\n",
        "        #self.relu1 = nn.ReLU()\n",
        "        \n",
        "        #hidden layer\n",
        "        self.fc1 = nn.Linear(embedding_dim, hidden_dim)\n",
        "        \n",
        "        #activation\n",
        "        self.relu2 = nn.ReLU()\n",
        "        \n",
        "        #output layer\n",
        "        self.fc2 = nn.Linear(hidden_dim, num_classes)  \n",
        "        \n",
        "        #self.sig = nn.Sigmoid()\n",
        "        \n",
        "    def forward(self, x):\n",
        "        \n",
        "        embedded = self.embedding(x)\n",
        "        \n",
        "        # we average the embeddings of words in a sentence\n",
        "        \n",
        "        # Q. How to average the embeddings here?\n",
        "        \n",
        "        # averaged = ?\n",
        "        averaged = embedded.mean(1)\n",
        "        \n",
        "        # (batch size, max sent length, embedding dim) to (batch size, embedding dim)\n",
        "        #out = self.initial(x)\n",
        "        #out = self.relu1(out)\n",
        "        #out = self.fc1(out)\n",
        "        out = self.fc1(averaged)\n",
        "        out = self.relu2(out)\n",
        "        out = self.fc2(out)\n",
        "        #out = self.sig(out)\n",
        "        return out\n"
      ],
      "execution_count": 0,
      "outputs": []
    },
    {
      "metadata": {
        "id": "1jaVQ21wW47B",
        "colab_type": "code",
        "outputId": "29008893-4a04-4ea7-ee3b-06df6898bc4a",
        "colab": {
          "base_uri": "https://localhost:8080/",
          "height": 34
        }
      },
      "cell_type": "code",
      "source": [
        "'''\n",
        "def accuracy(output, target):\n",
        "\n",
        "  output = torch.round(torch.sigmoid(output))\n",
        "  correct = (output == target).float()\n",
        "  acc = correct.sum()/len(correct)\n",
        "\n",
        "  np_output = output.detach().numpy()\n",
        "  np_target = target.detach().numpy()\n",
        "  acc = accuracy_score(np_target, np_output) # True, Pred\n",
        "  return acc\n",
        "'''\n",
        "\n",
        "def accuracy(output, target):\n",
        " \n",
        "    output = torch.round(torch.sigmoid(output))\n",
        "    correct = (output == target).float()\n",
        "    acc = correct.sum()/len(correct)\n",
        "    return acc\n",
        "\n",
        "\n",
        "# Variables\n",
        "# we will train for N epochs (N times the model will see all the data)\n",
        "epochs = 20 # Number of epochs\n",
        "\n",
        "# the input dimension is the vocabulary size\n",
        "input_dim = len(word2idx) #79 * 5 # 395 #len(word2idx)\n",
        "print(input_dim)\n",
        "\n",
        "# we define our embedding dimension (dimensionality of the output of the first layer)\n",
        "embedding_dim = 512\n",
        "\n",
        "# dimensionality of the output of the second hidden layer\n",
        "hidden_dim = 128\n",
        "\n",
        "#the outut dimension is the number of classes, 1 for binary classification\n",
        "output_dim = 1\n",
        "\n",
        "batch_size = 25 #75\n",
        "lr = 0.0001 #0.01 # Learning rate "
      ],
      "execution_count": 0,
      "outputs": [
        {
          "output_type": "stream",
          "text": [
            "15962\n"
          ],
          "name": "stdout"
        }
      ]
    },
    {
      "metadata": {
        "id": "rok26iQ1ZG9w",
        "colab_type": "code",
        "outputId": "09561463-a4ba-495c-d86c-3cf067fbe20c",
        "colab": {
          "base_uri": "https://localhost:8080/",
          "height": 34
        }
      },
      "cell_type": "code",
      "source": [
        "# Data loading\n",
        "# Training\n",
        "train_data_tensor_f = train_data_tensor.view(train_data_tensor.size(0), -1)\n",
        "print(train_data_tensor_f.shape)\n",
        "train_data = TensorDataset(train_data_tensor_f, train_label_tensor)\n",
        "train_dl = DataLoader(train_data, batch_size = batch_size)"
      ],
      "execution_count": 0,
      "outputs": [
        {
          "output_type": "stream",
          "text": [
            "torch.Size([7944, 79])\n"
          ],
          "name": "stdout"
        }
      ]
    },
    {
      "metadata": {
        "id": "A8fqs_p1zVLr",
        "colab_type": "code",
        "outputId": "13899efa-24ee-4c10-81f1-fa1c52c1c35e",
        "colab": {
          "base_uri": "https://localhost:8080/",
          "height": 508
        }
      },
      "cell_type": "code",
      "source": [
        "# recall input parameters to our model\n",
        "#embedding_dim, hidden_dim, vocab_size, max_len, num_classes\n",
        "# max_len is the maximum length of the input sentences as we defined during padding\n",
        "\n",
        "# Set seed for reproducible results\n",
        "torch.manual_seed(24)\n",
        "\n",
        "# Create the neural network\n",
        "model = FFNN(embedding_dim, hidden_dim, input_dim, max_len_tweet, output_dim)\n",
        "\n",
        "# we use the stochastic gradient descent (SGD) optimizer\n",
        "optimizer = optim.SGD(model.parameters(), lr = lr)\n",
        "\n",
        "# we use the binary cross-entropy loss with sigmoid (applied to logits) \n",
        "#Recall we did not apply any activation to our output layer, we need to make our outputs look like probality.\n",
        "loss_func = nn.BCEWithLogitsLoss() # Binary cross-entropy loss with sigmoid as a loss function\n",
        "\n",
        "# Save loss results per epoch for plots\n",
        "train_loss_history, val_loss_history = [], []\n",
        "# Train the neural network\n",
        "for epoch in range(1, epochs+1):\n",
        "  \n",
        "  #to ensure the dropout (exlained later) is \"turned on\" while training\n",
        "  #good practice to include even if do not use here\n",
        "  model.train()\n",
        "  \n",
        "  for X_batch, y_batch in train_dl:\n",
        "      optimizer.zero_grad() # Clears the gradients\n",
        "      #print(X_batch.shape)\n",
        "      # squeeze is needed as the predictions are initially size (batch size, 1) and we need to remove the dimension of size 1 \n",
        "      pred = model(X_batch).squeeze(1)\n",
        "      loss = loss_func(pred, y_batch)\n",
        "      \n",
        "      acc = accuracy(pred, y_batch)\n",
        "\n",
        "      loss.backward()\n",
        "      optimizer.step() # Updates the parameters thanks to the gradient\n",
        "      \n",
        "  epoch_loss = loss.item()\n",
        "  epoch_acc = acc\n",
        "      \n",
        "        \n",
        "  # Training log\n",
        "  print(f'| Epoch: {epoch:02} | Train Loss: {epoch_loss:.3f} | Train Acc: {epoch_acc*100:.2f}%')\n",
        "  train_loss_history += [epoch_loss]\n",
        "  \n",
        "  # On the validation dataset\n",
        "  model.eval()\n",
        "  with torch.no_grad():\n",
        "    pred_val = model(val_data_tensor_f).squeeze(1)\n",
        "    loss_val = loss_func(pred_val, val_label_tensor)\n",
        "    acc_val = accuracy(pred_val, val_label_tensor)\n",
        "    print(f'| Val Loss: {loss_val:.3f} | Test Acc: {acc_val*100:.2f}%')\n",
        "    val_loss_history += [loss_val]\n",
        "\n",
        "'''\n",
        "feature = train_data_tensor\n",
        "target = train_label_tensor\n",
        "'''"
      ],
      "execution_count": 0,
      "outputs": [
        {
          "output_type": "stream",
          "text": [
            "| Epoch: 01 | Train Loss: 0.609 | Train Acc: 73.68%\n",
            "| Val Loss: 0.644 | Test Acc: 66.77%\n"
          ],
          "name": "stdout"
        },
        {
          "output_type": "error",
          "ename": "KeyboardInterrupt",
          "evalue": "ignored",
          "traceback": [
            "\u001b[0;31m---------------------------------------------------------------------------\u001b[0m",
            "\u001b[0;31mKeyboardInterrupt\u001b[0m                         Traceback (most recent call last)",
            "\u001b[0;32m<ipython-input-191-47213a0cbbd5>\u001b[0m in \u001b[0;36m<module>\u001b[0;34m()\u001b[0m\n\u001b[1;32m     29\u001b[0m       \u001b[0macc\u001b[0m \u001b[0;34m=\u001b[0m \u001b[0maccuracy\u001b[0m\u001b[0;34m(\u001b[0m\u001b[0mpred\u001b[0m\u001b[0;34m,\u001b[0m \u001b[0my_batch\u001b[0m\u001b[0;34m)\u001b[0m\u001b[0;34m\u001b[0m\u001b[0;34m\u001b[0m\u001b[0m\n\u001b[1;32m     30\u001b[0m \u001b[0;34m\u001b[0m\u001b[0m\n\u001b[0;32m---> 31\u001b[0;31m       \u001b[0mloss\u001b[0m\u001b[0;34m.\u001b[0m\u001b[0mbackward\u001b[0m\u001b[0;34m(\u001b[0m\u001b[0;34m)\u001b[0m\u001b[0;34m\u001b[0m\u001b[0;34m\u001b[0m\u001b[0m\n\u001b[0m\u001b[1;32m     32\u001b[0m       \u001b[0moptimizer\u001b[0m\u001b[0;34m.\u001b[0m\u001b[0mstep\u001b[0m\u001b[0;34m(\u001b[0m\u001b[0;34m)\u001b[0m \u001b[0;31m# Updates the parameters thanks to the gradient\u001b[0m\u001b[0;34m\u001b[0m\u001b[0;34m\u001b[0m\u001b[0m\n\u001b[1;32m     33\u001b[0m \u001b[0;34m\u001b[0m\u001b[0m\n",
            "\u001b[0;32m/usr/local/lib/python3.6/dist-packages/torch/tensor.py\u001b[0m in \u001b[0;36mbackward\u001b[0;34m(self, gradient, retain_graph, create_graph)\u001b[0m\n\u001b[1;32m    100\u001b[0m                 \u001b[0mproducts\u001b[0m\u001b[0;34m.\u001b[0m \u001b[0mDefaults\u001b[0m \u001b[0mto\u001b[0m\u001b[0;31m \u001b[0m\u001b[0;31m`\u001b[0m\u001b[0;31m`\u001b[0m\u001b[0;32mFalse\u001b[0m\u001b[0;31m`\u001b[0m\u001b[0;31m`\u001b[0m\u001b[0;34m.\u001b[0m\u001b[0;34m\u001b[0m\u001b[0;34m\u001b[0m\u001b[0m\n\u001b[1;32m    101\u001b[0m         \"\"\"\n\u001b[0;32m--> 102\u001b[0;31m         \u001b[0mtorch\u001b[0m\u001b[0;34m.\u001b[0m\u001b[0mautograd\u001b[0m\u001b[0;34m.\u001b[0m\u001b[0mbackward\u001b[0m\u001b[0;34m(\u001b[0m\u001b[0mself\u001b[0m\u001b[0;34m,\u001b[0m \u001b[0mgradient\u001b[0m\u001b[0;34m,\u001b[0m \u001b[0mretain_graph\u001b[0m\u001b[0;34m,\u001b[0m \u001b[0mcreate_graph\u001b[0m\u001b[0;34m)\u001b[0m\u001b[0;34m\u001b[0m\u001b[0;34m\u001b[0m\u001b[0m\n\u001b[0m\u001b[1;32m    103\u001b[0m \u001b[0;34m\u001b[0m\u001b[0m\n\u001b[1;32m    104\u001b[0m     \u001b[0;32mdef\u001b[0m \u001b[0mregister_hook\u001b[0m\u001b[0;34m(\u001b[0m\u001b[0mself\u001b[0m\u001b[0;34m,\u001b[0m \u001b[0mhook\u001b[0m\u001b[0;34m)\u001b[0m\u001b[0;34m:\u001b[0m\u001b[0;34m\u001b[0m\u001b[0;34m\u001b[0m\u001b[0m\n",
            "\u001b[0;32m/usr/local/lib/python3.6/dist-packages/torch/autograd/__init__.py\u001b[0m in \u001b[0;36mbackward\u001b[0;34m(tensors, grad_tensors, retain_graph, create_graph, grad_variables)\u001b[0m\n\u001b[1;32m     88\u001b[0m     Variable._execution_engine.run_backward(\n\u001b[1;32m     89\u001b[0m         \u001b[0mtensors\u001b[0m\u001b[0;34m,\u001b[0m \u001b[0mgrad_tensors\u001b[0m\u001b[0;34m,\u001b[0m \u001b[0mretain_graph\u001b[0m\u001b[0;34m,\u001b[0m \u001b[0mcreate_graph\u001b[0m\u001b[0;34m,\u001b[0m\u001b[0;34m\u001b[0m\u001b[0;34m\u001b[0m\u001b[0m\n\u001b[0;32m---> 90\u001b[0;31m         allow_unreachable=True)  # allow_unreachable flag\n\u001b[0m\u001b[1;32m     91\u001b[0m \u001b[0;34m\u001b[0m\u001b[0m\n\u001b[1;32m     92\u001b[0m \u001b[0;34m\u001b[0m\u001b[0m\n",
            "\u001b[0;31mKeyboardInterrupt\u001b[0m: "
          ]
        }
      ]
    },
    {
      "metadata": {
        "id": "GMIORTyGggzP",
        "colab_type": "code",
        "outputId": "76c1c51b-412e-4f46-92a3-baa88322e5bc",
        "colab": {
          "base_uri": "https://localhost:8080/",
          "height": 85
        }
      },
      "cell_type": "code",
      "source": [
        "# Test\n",
        "print(test_data_tensor_f.shape)\n",
        "with torch.no_grad():\n",
        "  predictions = model(test_data_tensor_f).squeeze(1)\n",
        "  print(min(predictions), max(predictions))\n",
        "  loss = loss_func(predictions, test_label_tensor)\n",
        "  acc = accuracy(predictions, test_label_tensor)\n",
        "  print(predictions)\n",
        "  print(f'| Test Loss: {loss:.3f} | Test Acc: {acc*100:.2f}%')"
      ],
      "execution_count": 0,
      "outputs": [
        {
          "output_type": "stream",
          "text": [
            "torch.Size([2648, 79])\n",
            "tensor(7.0261) tensor(12.4508)\n",
            "tensor([11.8059, 12.1413,  8.5483,  ..., 12.1613,  8.8453,  8.9184])\n",
            "| Test Loss: 7.203 | Test Acc: 33.95%\n"
          ],
          "name": "stdout"
        }
      ]
    },
    {
      "metadata": {
        "id": "jZky-i76mspF",
        "colab_type": "code",
        "outputId": "1c2c2061-2a55-4232-9876-14105bbf53a1",
        "colab": {
          "base_uri": "https://localhost:8080/",
          "height": 296
        }
      },
      "cell_type": "code",
      "source": [
        "#@title Plot the training and validation loss\n",
        "\n",
        "def plot_loss_curves(train, val):\n",
        "    epochs = len(train)\n",
        "    epoch = [i for i in range(epochs)]\n",
        "    fig, ax = plt.subplots()\n",
        "    ax.plot(epoch, train, label = 'train')\n",
        "    ax.plot(epoch, val, label = 'validation')\n",
        "    ax.legend()\n",
        "    plt.xlabel('Epochs')\n",
        "    plt.ylabel('Binary cross-entropy loss with sigmoid')\n",
        "    plt.show()\n",
        "\n",
        "print(len(train_loss_history), len(val_loss_history))\n",
        "plot_loss_curves(train_loss_history, val_loss_history)"
      ],
      "execution_count": 0,
      "outputs": [
        {
          "output_type": "stream",
          "text": [
            "20 20\n"
          ],
          "name": "stdout"
        },
        {
          "output_type": "display_data",
          "data": {
            "image/png": "[encoded data removed]",
            "text/plain": [
              "<Figure size 432x288 with 1 Axes>"
            ]
          },
          "metadata": {
            "tags": []
          }
        }
      ]
    },
    {
      "metadata": {
        "id": "Yq1Bh6hC3Ke2",
        "colab_type": "code",
        "outputId": "352adaf9-0f63-486f-f52a-f6c745b4d3dc",
        "colab": {
          "base_uri": "https://localhost:8080/",
          "height": 119
        }
      },
      "cell_type": "code",
      "source": [
        "# Confusion matrix\n",
        "print(torch.round(predictions[0:10]))\n",
        "print(torch.round(predictions).unique())\n",
        "y_pred = torch.round(predictions).detach().numpy().astype(int)\n",
        "print(y_pred)\n",
        "y_true = test_label_tensor.detach().numpy().astype(int)\n",
        "print(y_true)\n",
        "confusion_matrix(test_label_tensor.detach().numpy(), torch.round(predictions).detach().numpy())"
      ],
      "execution_count": 0,
      "outputs": [
        {
          "output_type": "stream",
          "text": [
            "tensor([0., 0., 0., 0., 0., 0., 0., 0., 0., 0.])\n",
            "tensor([0.])\n",
            "[0 0 0 ... 0 0 0]\n",
            "[1 0 0 ... 0 0 0]\n"
          ],
          "name": "stdout"
        },
        {
          "output_type": "execute_result",
          "data": {
            "text/plain": [
              "array([[1749,    0],\n",
              "       [ 899,    0]])"
            ]
          },
          "metadata": {
            "tags": []
          },
          "execution_count": 89
        }
      ]
    },
    {
      "metadata": {
        "id": "6BHbrvIplBey",
        "colab_type": "code",
        "outputId": "26125bf5-107f-4657-85eb-42edc4a319f2",
        "colab": {
          "base_uri": "https://localhost:8080/",
          "height": 204
        }
      },
      "cell_type": "code",
      "source": [
        "# Grid search hyperparameters\n",
        "lr = [0.1, 0.05, 0.01, 0.005, 0.0001]\n",
        "#momentum = [0.2, 0.25, 0.3, 0.35, 0.4, 0.45, 0.5]\n",
        "parameters = [lr]\n",
        "\n",
        "best_acc = 0 # Initialisation\n",
        "best_params = [None, None]\n",
        "\n",
        "# Set seed for reproducible results\n",
        "torch.manual_seed(24)\n",
        "\n",
        "for param1 in parameters[0]:\n",
        "  print(param1)\n",
        "  #for param2 in parameters[1]:\n",
        "  start = time.time()\n",
        "  #print(param2)\n",
        "\n",
        "  # Create the neural network\n",
        "  model = FFNN(embedding_dim, hidden_dim, input_dim, max_len_tweet, output_dim)\n",
        "\n",
        "  # we use the stochastic gradient descent (SGD) optimizer\n",
        "  optimizer = optim.SGD(model.parameters(), lr = param1)\n",
        "\n",
        "  # we use the binary cross-entropy loss with sigmoid (applied to logits) \n",
        "  #Recall we did not apply any activation to our output layer, we need to make our outputs look like probality.\n",
        "  loss_func = nn.BCEWithLogitsLoss() # Binary cross-entropy loss with sigmoid as a loss function\n",
        "\n",
        "  # Train the neural network\n",
        "  for epoch in range(1, epochs+1):\n",
        "\n",
        "    #to ensure the dropout (exlained later) is \"turned on\" while training\n",
        "    #good practice to include even if do not use here\n",
        "    model.train()\n",
        "\n",
        "    for X_batch, y_batch in train_dl:\n",
        "        #print(X_batch.shape)\n",
        "        # squeeze is needed as the predictions are initially size (batch size, 1) and we need to remove the dimension of size 1 \n",
        "        pred = model(X_batch).squeeze(1)\n",
        "        loss = loss_func(pred, y_batch)\n",
        "\n",
        "        acc = accuracy(pred, y_batch)\n",
        "\n",
        "        loss.backward()\n",
        "        optimizer.step() # Updates the parameters thanks to the gradient\n",
        "        optimizer.zero_grad() # Clears the gradients\n",
        "\n",
        "    epoch_loss = loss.item()\n",
        "    epoch_acc = acc\n",
        "\n",
        "    # Training log\n",
        "    #print(f'| Epoch: {epoch:02} | Train Loss: {epoch_loss:.3f} | Train Acc: {epoch_acc*100:.2f}%')\n",
        "    train_loss_history += [epoch_loss]\n",
        "\n",
        "    # On the validation dataset\n",
        "    model.eval()\n",
        "    with torch.no_grad():\n",
        "      pred_val = model(val_data_tensor_f).squeeze(1)\n",
        "      loss_val = loss_func(pred_val, val_label_tensor)\n",
        "      acc_val = accuracy(pred_val, val_label_tensor)\n",
        "      \n",
        "      if acc_val > best_acc:\n",
        "        best_acc = acc_val\n",
        "        best_params[0] = param1\n",
        "\n",
        "  duration = time.time() - start\n",
        "  print(duration)\n",
        "\n",
        "best_params, best_acc"
      ],
      "execution_count": 0,
      "outputs": [
        {
          "output_type": "stream",
          "text": [
            "0.1\n",
            "14.576356887817383\n",
            "0.05\n",
            "14.663591384887695\n",
            "0.01\n",
            "14.379608154296875\n",
            "0.005\n",
            "14.316754341125488\n",
            "0.0001\n",
            "14.325670719146729\n"
          ],
          "name": "stdout"
        },
        {
          "output_type": "execute_result",
          "data": {
            "text/plain": [
              "([0.1, None], tensor(0.6681))"
            ]
          },
          "metadata": {
            "tags": []
          },
          "execution_count": 435
        }
      ]
    },
    {
      "metadata": {
        "id": "xpBHBRWfou29",
        "colab_type": "code",
        "colab": {}
      },
      "cell_type": "code",
      "source": [
        "class CNN(nn.Module):\n",
        "    \n",
        "    def __init__(self, vocab_size, embedding_dim, out_channels, window_size, output_dim, dropout):\n",
        "        \n",
        "        super(CNN, self).__init__()\n",
        "        \n",
        "        self.embedding = nn.Embedding(vocab_size, embedding_dim)\n",
        "        \n",
        "        #in_channels -- 1 text channel\n",
        "        #out_channels -- the number of output channels\n",
        "        #kernel_size is (window size x embedding dim)\n",
        "        \n",
        "        self.conv = nn.Conv2d(in_channels=1, out_channels=out_channels, kernel_size=(window_size,embedding_dim))\n",
        "        \n",
        "        #the dropout layer\n",
        "        self.dropout = nn.Dropout(dropout)\n",
        "    \n",
        "        #the output layer\n",
        "        self.fc = nn.Linear(out_channels, output_dim)\n",
        "        \n",
        "        \n",
        "        \n",
        "    def forward(self, x):\n",
        "                \n",
        "        #(batch size, max sent length)\n",
        "        \n",
        "        embedded = self.embedding(x)\n",
        "                \n",
        "        #(batch size, max sent length, embedding dim)\n",
        "        \n",
        "        #images have 3 RGB channels \n",
        "        #for the text we add 1 channel\n",
        "        embedded = embedded.unsqueeze(1)\n",
        "        \n",
        "        #(batch size, 1, max sent length, embedding dim)\n",
        "        \n",
        "        feature_maps = self.conv(embedded)\n",
        "        \n",
        "        #??? what is the shape of the convolution output\n",
        "        \n",
        "        #(batch size, n filters, max input length - window size +1)\n",
        "        \n",
        "        feature_maps = feature_maps.squeeze(3)\n",
        "        \n",
        "        #??? why do we reduce 1 dimention here\n",
        "                \n",
        "        feature_maps = F.relu(feature_maps)\n",
        "        \n",
        "  \n",
        "        #the max pooling layer\n",
        "        pooled = F.max_pool1d(feature_maps, feature_maps.shape[2])\n",
        "        \n",
        "        pooled = pooled.squeeze(2)\n",
        "  \n",
        "        #??? what is the shape of the pooling output\n",
        "        #(batch size, n_filters)\n",
        "        \n",
        "        dropped = self.dropout(pooled)\n",
        " \n",
        "        preds = self.fc(dropped)\n",
        "        \n",
        "        return preds\n"
      ],
      "execution_count": 0,
      "outputs": []
    },
    {
      "metadata": {
        "id": "ldZ8OsYzoydN",
        "colab_type": "code",
        "outputId": "9b5a2c50-64bf-485d-d6ed-1b0b78a3daa3",
        "colab": {
          "base_uri": "https://localhost:8080/",
          "height": 357
        }
      },
      "cell_type": "code",
      "source": [
        "epochs=20\n",
        "\n",
        "input_dim = len(word2idx)\n",
        "embedding_dimm = 100\n",
        "output_dim = 1\n",
        "\n",
        "#the hyperparamerts specific to CNN\n",
        "\n",
        "# we define the number of filters\n",
        "n_out_channels = 100\n",
        "\n",
        "# we define the window size\n",
        "window_size = 1\n",
        "\n",
        "# we apply the dropout with the probability 0.5\n",
        "dropout = 0.5\n",
        "\n",
        "model = CNN(input_dim, embedding_dim, n_out_channels, window_size, output_dim, dropout)\n",
        "\n",
        "#model.embedding.weight.data.copy_(torch.from_numpy(wvecs))\n",
        "\n",
        "optimizer = optim.SGD(model.parameters(), lr=0.01)\n",
        "loss_fn = nn.BCEWithLogitsLoss()\n",
        "\n",
        "'''\n",
        "feature_train = train_sent_tensor\n",
        "target_train = train_label_tensor\n",
        "\n",
        "feature_valid = valid_sent_tensor\n",
        "target_valid = valid_label_tensor\n",
        "'''\n",
        "\n",
        "for epoch in range(1, epochs+1):\n",
        "   \n",
        "  model.train()\n",
        "  for X_batch, y_batch in train_dl:\n",
        "        #print(X_batch.shape)\n",
        "        # squeeze is needed as the predictions are initially size (batch size, 1) and we need to remove the dimension of size 1 \n",
        "        pred = model(X_batch).squeeze(1)\n",
        "        loss = loss_func(pred, y_batch)\n",
        "\n",
        "        acc = accuracy(pred, y_batch)\n",
        "        \n",
        "        loss.backward()\n",
        "        optimizer.step() # Updates the parameters thanks to the gradient\n",
        "        optimizer.zero_grad()\n",
        "  \n",
        "  epoch_loss = loss.item()\n",
        "  epoch_acc = acc\n",
        "  \n",
        "  model.eval()\n",
        "  \n",
        "  with torch.no_grad():\n",
        " \n",
        "    predictions_valid = model(val_data_tensor_f).squeeze(1)\n",
        "    loss = loss_fn(predictions_valid, val_label_tensor)\n",
        "    acc = accuracy(predictions_valid, val_label_tensor)\n",
        "    valid_loss = loss.item()\n",
        "    valid_acc = acc\n",
        "  \n",
        "  print(f'| Epoch: {epoch:02} | Train Loss: {epoch_loss:.3f} | Train Acc: {epoch_acc*100:.2f}% | Val. Loss: {valid_loss:.3f} | Val. Acc: {valid_acc*100:.2f}% |')\n",
        "  "
      ],
      "execution_count": 0,
      "outputs": [
        {
          "output_type": "stream",
          "text": [
            "| Epoch: 01 | Train Loss: 0.484 | Train Acc: 84.21% | Val. Loss: 0.612 | Val. Acc: 66.96% |\n",
            "| Epoch: 02 | Train Loss: 0.556 | Train Acc: 78.95% | Val. Loss: 0.596 | Val. Acc: 70.54% |\n",
            "| Epoch: 03 | Train Loss: 0.446 | Train Acc: 89.47% | Val. Loss: 0.581 | Val. Acc: 71.00% |\n",
            "| Epoch: 04 | Train Loss: 0.474 | Train Acc: 84.21% | Val. Loss: 0.566 | Val. Acc: 71.60% |\n",
            "| Epoch: 05 | Train Loss: 0.540 | Train Acc: 78.95% | Val. Loss: 0.556 | Val. Acc: 72.43% |\n",
            "| Epoch: 06 | Train Loss: 0.427 | Train Acc: 78.95% | Val. Loss: 0.547 | Val. Acc: 73.23% |\n",
            "| Epoch: 07 | Train Loss: 0.468 | Train Acc: 84.21% | Val. Loss: 0.537 | Val. Acc: 73.90% |\n",
            "| Epoch: 08 | Train Loss: 0.415 | Train Acc: 78.95% | Val. Loss: 0.530 | Val. Acc: 74.62% |\n",
            "| Epoch: 09 | Train Loss: 0.328 | Train Acc: 89.47% | Val. Loss: 0.525 | Val. Acc: 75.34% |\n",
            "| Epoch: 10 | Train Loss: 0.379 | Train Acc: 78.95% | Val. Loss: 0.520 | Val. Acc: 75.38% |\n",
            "| Epoch: 11 | Train Loss: 0.295 | Train Acc: 94.74% | Val. Loss: 0.515 | Val. Acc: 75.76% |\n",
            "| Epoch: 12 | Train Loss: 0.351 | Train Acc: 89.47% | Val. Loss: 0.513 | Val. Acc: 75.83% |\n",
            "| Epoch: 13 | Train Loss: 0.443 | Train Acc: 84.21% | Val. Loss: 0.512 | Val. Acc: 75.83% |\n",
            "| Epoch: 14 | Train Loss: 0.344 | Train Acc: 89.47% | Val. Loss: 0.508 | Val. Acc: 76.06% |\n",
            "| Epoch: 15 | Train Loss: 0.331 | Train Acc: 89.47% | Val. Loss: 0.509 | Val. Acc: 76.17% |\n",
            "| Epoch: 16 | Train Loss: 0.301 | Train Acc: 89.47% | Val. Loss: 0.504 | Val. Acc: 76.74% |\n",
            "| Epoch: 17 | Train Loss: 0.335 | Train Acc: 89.47% | Val. Loss: 0.502 | Val. Acc: 76.74% |\n",
            "| Epoch: 18 | Train Loss: 0.320 | Train Acc: 84.21% | Val. Loss: 0.501 | Val. Acc: 77.49% |\n",
            "| Epoch: 19 | Train Loss: 0.229 | Train Acc: 94.74% | Val. Loss: 0.499 | Val. Acc: 77.42% |\n",
            "| Epoch: 20 | Train Loss: 0.327 | Train Acc: 89.47% | Val. Loss: 0.498 | Val. Acc: 77.34% |\n"
          ],
          "name": "stdout"
        }
      ]
    },
    {
      "metadata": {
        "id": "KhuV_zp4s3mt",
        "colab_type": "code",
        "outputId": "e06a8599-248d-46ff-8c0a-f076d19ce753",
        "colab": {
          "base_uri": "https://localhost:8080/",
          "height": 85
        }
      },
      "cell_type": "code",
      "source": [
        "# Test\n",
        "print(test_data_tensor_f.shape)\n",
        "with torch.no_grad():\n",
        "  predictions = model(test_data_tensor_f).squeeze(1)\n",
        "  print(min(predictions), max(predictions))\n",
        "  loss = loss_func(predictions, test_label_tensor)\n",
        "  acc = accuracy(predictions, test_label_tensor)\n",
        "  print(predictions)\n",
        "  print(f'| Test Loss: {loss:.3f} | Test Acc: {acc*100:.2f}%')"
      ],
      "execution_count": 0,
      "outputs": [
        {
          "output_type": "stream",
          "text": [
            "torch.Size([2648, 79])\n",
            "tensor(-3.9215) tensor(6.2243)\n",
            "tensor([ 3.6678, -1.2404,  0.1402,  ..., -0.7050, -0.8475, -0.5932])\n",
            "| Test Loss: 0.511 | Test Acc: 75.57%\n"
          ],
          "name": "stdout"
        }
      ]
    },
    {
      "metadata": {
        "id": "5T2ovhgUuCAJ",
        "colab_type": "code",
        "outputId": "7e600274-7c3e-4828-8249-37a60dab553d",
        "colab": {
          "base_uri": "https://localhost:8080/",
          "height": 204
        }
      },
      "cell_type": "code",
      "source": [
        "def predict(raw_prediction):\n",
        "  y = torch.round(torch.sigmoid(raw_prediction)).detach().numpy().astype(int)\n",
        "  y_pred = pd.DataFrame(y, columns = ['pred'])\n",
        "  return y_pred\n",
        "\n",
        "y_pred = predict(predictions)\n",
        "y_pred['class'] = 'NOT'\n",
        "y_pred.loc[y_pred['pred'] == 1, 'class'] = 'OFF'\n",
        "\n",
        "y_pred.head()"
      ],
      "execution_count": 0,
      "outputs": [
        {
          "output_type": "execute_result",
          "data": {
            "text/html": [
              "<div>\n",
              "<style scoped>\n",
              "    .dataframe tbody tr th:only-of-type {\n",
              "        vertical-align: middle;\n",
              "    }\n",
              "\n",
              "    .dataframe tbody tr th {\n",
              "        vertical-align: top;\n",
              "    }\n",
              "\n",
              "    .dataframe thead th {\n",
              "        text-align: right;\n",
              "    }\n",
              "</style>\n",
              "<table border=\"1\" class=\"dataframe\">\n",
              "  <thead>\n",
              "    <tr style=\"text-align: right;\">\n",
              "      <th></th>\n",
              "      <th>pred</th>\n",
              "      <th>class</th>\n",
              "    </tr>\n",
              "  </thead>\n",
              "  <tbody>\n",
              "    <tr>\n",
              "      <th>0</th>\n",
              "      <td>1</td>\n",
              "      <td>OFF</td>\n",
              "    </tr>\n",
              "    <tr>\n",
              "      <th>1</th>\n",
              "      <td>0</td>\n",
              "      <td>NOT</td>\n",
              "    </tr>\n",
              "    <tr>\n",
              "      <th>2</th>\n",
              "      <td>1</td>\n",
              "      <td>OFF</td>\n",
              "    </tr>\n",
              "    <tr>\n",
              "      <th>3</th>\n",
              "      <td>1</td>\n",
              "      <td>OFF</td>\n",
              "    </tr>\n",
              "    <tr>\n",
              "      <th>4</th>\n",
              "      <td>1</td>\n",
              "      <td>OFF</td>\n",
              "    </tr>\n",
              "  </tbody>\n",
              "</table>\n",
              "</div>"
            ],
            "text/plain": [
              "   pred class\n",
              "0     1   OFF\n",
              "1     0   NOT\n",
              "2     1   OFF\n",
              "3     1   OFF\n",
              "4     1   OFF"
            ]
          },
          "metadata": {
            "tags": []
          },
          "execution_count": 253
        }
      ]
    },
    {
      "metadata": {
        "id": "DhvC_AGd4GTt",
        "colab_type": "code",
        "outputId": "d62beffa-b399-40ee-e632-41779d5b630b",
        "colab": {
          "base_uri": "https://localhost:8080/",
          "height": 204
        }
      },
      "cell_type": "code",
      "source": [
        "tt = submission(df_test, y_pred)\n",
        "tt.head()"
      ],
      "execution_count": 0,
      "outputs": [
        {
          "output_type": "execute_result",
          "data": {
            "text/html": [
              "<div>\n",
              "<style scoped>\n",
              "    .dataframe tbody tr th:only-of-type {\n",
              "        vertical-align: middle;\n",
              "    }\n",
              "\n",
              "    .dataframe tbody tr th {\n",
              "        vertical-align: top;\n",
              "    }\n",
              "\n",
              "    .dataframe thead th {\n",
              "        text-align: right;\n",
              "    }\n",
              "</style>\n",
              "<table border=\"1\" class=\"dataframe\">\n",
              "  <thead>\n",
              "    <tr style=\"text-align: right;\">\n",
              "      <th></th>\n",
              "      <th>id</th>\n",
              "      <th>pred</th>\n",
              "    </tr>\n",
              "  </thead>\n",
              "  <tbody>\n",
              "    <tr>\n",
              "      <th>6349</th>\n",
              "      <td>52835</td>\n",
              "      <td>NaN</td>\n",
              "    </tr>\n",
              "    <tr>\n",
              "      <th>10627</th>\n",
              "      <td>27842</td>\n",
              "      <td>NaN</td>\n",
              "    </tr>\n",
              "    <tr>\n",
              "      <th>5485</th>\n",
              "      <td>98986</td>\n",
              "      <td>NaN</td>\n",
              "    </tr>\n",
              "    <tr>\n",
              "      <th>7709</th>\n",
              "      <td>73651</td>\n",
              "      <td>NaN</td>\n",
              "    </tr>\n",
              "    <tr>\n",
              "      <th>382</th>\n",
              "      <td>33709</td>\n",
              "      <td>OFF</td>\n",
              "    </tr>\n",
              "  </tbody>\n",
              "</table>\n",
              "</div>"
            ],
            "text/plain": [
              "          id pred\n",
              "6349   52835  NaN\n",
              "10627  27842  NaN\n",
              "5485   98986  NaN\n",
              "7709   73651  NaN\n",
              "382    33709  OFF"
            ]
          },
          "metadata": {
            "tags": []
          },
          "execution_count": 254
        }
      ]
    },
    {
      "metadata": {
        "id": "0w7IHRo_tLyF",
        "colab_type": "code",
        "outputId": "f4f19931-1b85-470d-c49f-53c6ff962438",
        "colab": {
          "base_uri": "https://localhost:8080/",
          "height": 119
        }
      },
      "cell_type": "code",
      "source": [
        "# Confusion matrix\n",
        "print(torch.round(torch.sigmoid(predictions)[0:10]))\n",
        "print(torch.round(torch.sigmoid(predictions)).unique())\n",
        "y_pred = torch.round(torch.sigmoid(predictions)).detach().numpy().astype(int)\n",
        "print(y_pred)\n",
        "y_true = test_label_tensor.detach().numpy().astype(int)\n",
        "print(y_true)\n",
        "confusion_matrix(test_label_tensor.detach().numpy(),y_pred)"
      ],
      "execution_count": 0,
      "outputs": [
        {
          "output_type": "stream",
          "text": [
            "tensor([1., 0., 1., 1., 1., 1., 0., 0., 0., 0.])\n",
            "tensor([0., 1.])\n",
            "[1 0 1 ... 0 0 0]\n",
            "[1 0 0 ... 0 0 0]\n"
          ],
          "name": "stdout"
        },
        {
          "output_type": "execute_result",
          "data": {
            "text/plain": [
              "array([[1595,  154],\n",
              "       [ 493,  406]])"
            ]
          },
          "metadata": {
            "tags": []
          },
          "execution_count": 225
        }
      ]
    },
    {
      "metadata": {
        "id": "SmlO0VhSx5bK",
        "colab_type": "code",
        "outputId": "cce493d7-0ce7-4ce1-bbcf-ae760443d82f",
        "colab": {
          "resources": {
            "http://localhost:8080/nbextensions/google.colab/files.js": {
              "data": "Ly8gQ29weXJpZ2h0IDIwMTcgR29vZ2xlIExMQwovLwovLyBMaWNlbnNlZCB1bmRlciB0aGUgQXBhY2hlIExpY2Vuc2UsIFZlcnNpb24gMi4wICh0aGUgIkxpY2Vuc2UiKTsKLy8geW91IG1heSBub3QgdXNlIHRoaXMgZmlsZSBleGNlcHQgaW4gY29tcGxpYW5jZSB3aXRoIHRoZSBMaWNlbnNlLgovLyBZb3UgbWF5IG9idGFpbiBhIGNvcHkgb2YgdGhlIExpY2Vuc2UgYXQKLy8KLy8gICAgICBodHRwOi8vd3d3LmFwYWNoZS5vcmcvbGljZW5zZXMvTElDRU5TRS0yLjAKLy8KLy8gVW5sZXNzIHJlcXVpcmVkIGJ5IGFwcGxpY2FibGUgbGF3IG9yIGFncmVlZCB0byBpbiB3cml0aW5nLCBzb2Z0d2FyZQovLyBkaXN0cmlidXRlZCB1bmRlciB0aGUgTGljZW5zZSBpcyBkaXN0cmlidXRlZCBvbiBhbiAiQVMgSVMiIEJBU0lTLAovLyBXSVRIT1VUIFdBUlJBTlRJRVMgT1IgQ09ORElUSU9OUyBPRiBBTlkgS0lORCwgZWl0aGVyIGV4cHJlc3Mgb3IgaW1wbGllZC4KLy8gU2VlIHRoZSBMaWNlbnNlIGZvciB0aGUgc3BlY2lmaWMgbGFuZ3VhZ2UgZ292ZXJuaW5nIHBlcm1pc3Npb25zIGFuZAovLyBsaW1pdGF0aW9ucyB1bmRlciB0aGUgTGljZW5zZS4KCi8qKgogKiBAZmlsZW92ZXJ2aWV3IEhlbHBlcnMgZm9yIGdvb2dsZS5jb2xhYiBQeXRob24gbW9kdWxlLgogKi8KKGZ1bmN0aW9uKHNjb3BlKSB7CmZ1bmN0aW9uIHNwYW4odGV4dCwgc3R5bGVBdHRyaWJ1dGVzID0ge30pIHsKICBjb25zdCBlbGVtZW50ID0gZG9jdW1lbnQuY3JlYXRlRWxlbWVudCgnc3BhbicpOwogIGVsZW1lbnQudGV4dENvbnRlbnQgPSB0ZXh0OwogIGZvciAoY29uc3Qga2V5IG9mIE9iamVjdC5rZXlzKHN0eWxlQXR0cmlidXRlcykpIHsKICAgIGVsZW1lbnQuc3R5bGVba2V5XSA9IHN0eWxlQXR0cmlidXRlc1trZXldOwogIH0KICByZXR1cm4gZWxlbWVudDsKfQoKLy8gTWF4IG51bWJlciBvZiBieXRlcyB3aGljaCB3aWxsIGJlIHVwbG9hZGVkIGF0IGEgdGltZS4KY29uc3QgTUFYX1BBWUxPQURfU0laRSA9IDEwMCAqIDEwMjQ7Ci8vIE1heCBhbW91bnQgb2YgdGltZSB0byBibG9jayB3YWl0aW5nIGZvciB0aGUgdXNlci4KY29uc3QgRklMRV9DSEFOR0VfVElNRU9VVF9NUyA9IDMwICogMTAwMDsKCmZ1bmN0aW9uIF91cGxvYWRGaWxlcyhpbnB1dElkLCBvdXRwdXRJZCkgewogIGNvbnN0IHN0ZXBzID0gdXBsb2FkRmlsZXNTdGVwKGlucHV0SWQsIG91dHB1dElkKTsKICBjb25zdCBvdXRwdXRFbGVtZW50ID0gZG9jdW1lbnQuZ2V0RWxlbWVudEJ5SWQob3V0cHV0SWQpOwogIC8vIENhY2hlIHN0ZXBzIG9uIHRoZSBvdXRwdXRFbGVtZW50IHRvIG1ha2UgaXQgYXZhaWxhYmxlIGZvciB0aGUgbmV4dCBjYWxsCiAgLy8gdG8gdXBsb2FkRmlsZXNDb250aW51ZSBmcm9tIFB5dGhvbi4KICBvdXRwdXRFbGVtZW50LnN0ZXBzID0gc3RlcHM7CgogIHJldHVybiBfdXBsb2FkRmlsZXNDb250aW51ZShvdXRwdXRJZCk7Cn0KCi8vIFRoaXMgaXMgcm91Z2hseSBhbiBhc3luYyBnZW5lcmF0b3IgKG5vdCBzdXBwb3J0ZWQgaW4gdGhlIGJyb3dzZXIgeWV0KSwKLy8gd2hlcmUgdGhlcmUgYXJlIG11bHRpcGxlIGFzeW5jaHJvbm91cyBzdGVwcyBhbmQgdGhlIFB5dGhvbiBzaWRlIGlzIGdvaW5nCi8vIHRvIHBvbGwgZm9yIGNvbXBsZXRpb24gb2YgZWFjaCBzdGVwLgovLyBUaGlzIHVzZXMgYSBQcm9taXNlIHRvIGJsb2NrIHRoZSBweXRob24gc2lkZSBvbiBjb21wbGV0aW9uIG9mIGVhY2ggc3RlcCwKLy8gdGhlbiBwYXNzZXMgdGhlIHJlc3VsdCBvZiB0aGUgcHJldmlvdXMgc3RlcCBhcyB0aGUgaW5wdXQgdG8gdGhlIG5leHQgc3RlcC4KZnVuY3Rpb24gX3VwbG9hZEZpbGVzQ29udGludWUob3V0cHV0SWQpIHsKICBjb25zdCBvdXRwdXRFbGVtZW50ID0gZG9jdW1lbnQuZ2V0RWxlbWVudEJ5SWQob3V0cHV0SWQpOwogIGNvbnN0IHN0ZXBzID0gb3V0cHV0RWxlbWVudC5zdGVwczsKCiAgY29uc3QgbmV4dCA9IHN0ZXBzLm5leHQob3V0cHV0RWxlbWVudC5sYXN0UHJvbWlzZVZhbHVlKTsKICByZXR1cm4gUHJvbWlzZS5yZXNvbHZlKG5leHQudmFsdWUucHJvbWlzZSkudGhlbigodmFsdWUpID0+IHsKICAgIC8vIENhY2hlIHRoZSBsYXN0IHByb21pc2UgdmFsdWUgdG8gbWFrZSBpdCBhdmFpbGFibGUgdG8gdGhlIG5leHQKICAgIC8vIHN0ZXAgb2YgdGhlIGdlbmVyYXRvci4KICAgIG91dHB1dEVsZW1lbnQubGFzdFByb21pc2VWYWx1ZSA9IHZhbHVlOwogICAgcmV0dXJuIG5leHQudmFsdWUucmVzcG9uc2U7CiAgfSk7Cn0KCi8qKgogKiBHZW5lcmF0b3IgZnVuY3Rpb24gd2hpY2ggaXMgY2FsbGVkIGJldHdlZW4gZWFjaCBhc3luYyBzdGVwIG9mIHRoZSB1cGxvYWQKICogcHJvY2Vzcy4KICogQHBhcmFtIHtzdHJpbmd9IGlucHV0SWQgRWxlbWVudCBJRCBvZiB0aGUgaW5wdXQgZmlsZSBwaWNrZXIgZWxlbWVudC4KICogQHBhcmFtIHtzdHJpbmd9IG91dHB1dElkIEVsZW1lbnQgSUQgb2YgdGhlIG91dHB1dCBkaXNwbGF5LgogKiBAcmV0dXJuIHshSXRlcmFibGU8IU9iamVjdD59IEl0ZXJhYmxlIG9mIG5leHQgc3RlcHMuCiAqLwpmdW5jdGlvbiogdXBsb2FkRmlsZXNTdGVwKGlucHV0SWQsIG91dHB1dElkKSB7CiAgY29uc3QgaW5wdXRFbGVtZW50ID0gZG9jdW1lbnQuZ2V0RWxlbWVudEJ5SWQoaW5wdXRJZCk7CiAgaW5wdXRFbGVtZW50LmRpc2FibGVkID0gZmFsc2U7CgogIGNvbnN0IG91dHB1dEVsZW1lbnQgPSBkb2N1bWVudC5nZXRFbGVtZW50QnlJZChvdXRwdXRJZCk7CiAgb3V0cHV0RWxlbWVudC5pbm5lckhUTUwgPSAnJzsKCiAgY29uc3QgcGlja2VkUHJvbWlzZSA9IG5ldyBQcm9taXNlKChyZXNvbHZlKSA9PiB7CiAgICBpbnB1dEVsZW1lbnQuYWRkRXZlbnRMaXN0ZW5lcignY2hhbmdlJywgKGUpID0+IHsKICAgICAgcmVzb2x2ZShlLnRhcmdldC5maWxlcyk7CiAgICB9KTsKICB9KTsKCiAgY29uc3QgY2FuY2VsID0gZG9jdW1lbnQuY3JlYXRlRWxlbWVudCgnYnV0dG9uJyk7CiAgaW5wdXRFbGVtZW50LnBhcmVudEVsZW1lbnQuYXBwZW5kQ2hpbGQoY2FuY2VsKTsKICBjYW5jZWwudGV4dENvbnRlbnQgPSAnQ2FuY2VsIHVwbG9hZCc7CiAgY29uc3QgY2FuY2VsUHJvbWlzZSA9IG5ldyBQcm9taXNlKChyZXNvbHZlKSA9PiB7CiAgICBjYW5jZWwub25jbGljayA9ICgpID0+IHsKICAgICAgcmVzb2x2ZShudWxsKTsKICAgIH07CiAgfSk7CgogIC8vIENhbmNlbCB1cGxvYWQgaWYgdXNlciBoYXNuJ3QgcGlja2VkIGFueXRoaW5nIGluIHRpbWVvdXQuCiAgY29uc3QgdGltZW91dFByb21pc2UgPSBuZXcgUHJvbWlzZSgocmVzb2x2ZSkgPT4gewogICAgc2V0VGltZW91dCgoKSA9PiB7CiAgICAgIHJlc29sdmUobnVsbCk7CiAgICB9LCBGSUxFX0NIQU5HRV9USU1FT1VUX01TKTsKICB9KTsKCiAgLy8gV2FpdCBmb3IgdGhlIHVzZXIgdG8gcGljayB0aGUgZmlsZXMuCiAgY29uc3QgZmlsZXMgPSB5aWVsZCB7CiAgICBwcm9taXNlOiBQcm9taXNlLnJhY2UoW3BpY2tlZFByb21pc2UsIHRpbWVvdXRQcm9taXNlLCBjYW5jZWxQcm9taXNlXSksCiAgICByZXNwb25zZTogewogICAgICBhY3Rpb246ICdzdGFydGluZycsCiAgICB9CiAgfTsKCiAgaWYgKCFmaWxlcykgewogICAgcmV0dXJuIHsKICAgICAgcmVzcG9uc2U6IHsKICAgICAgICBhY3Rpb246ICdjb21wbGV0ZScsCiAgICAgIH0KICAgIH07CiAgfQoKICBjYW5jZWwucmVtb3ZlKCk7CgogIC8vIERpc2FibGUgdGhlIGlucHV0IGVsZW1lbnQgc2luY2UgZnVydGhlciBwaWNrcyBhcmUgbm90IGFsbG93ZWQuCiAgaW5wdXRFbGVtZW50LmRpc2FibGVkID0gdHJ1ZTsKCiAgZm9yIChjb25zdCBmaWxlIG9mIGZpbGVzKSB7CiAgICBjb25zdCBsaSA9IGRvY3VtZW50LmNyZWF0ZUVsZW1lbnQoJ2xpJyk7CiAgICBsaS5hcHBlbmQoc3BhbihmaWxlLm5hbWUsIHtmb250V2VpZ2h0OiAnYm9sZCd9KSk7CiAgICBsaS5hcHBlbmQoc3BhbigKICAgICAgICBgKCR7ZmlsZS50eXBlIHx8ICduL2EnfSkgLSAke2ZpbGUuc2l6ZX0gYnl0ZXMsIGAgKwogICAgICAgIGBsYXN0IG1vZGlmaWVkOiAkewogICAgICAgICAgICBmaWxlLmxhc3RNb2RpZmllZERhdGUgPyBmaWxlLmxhc3RNb2RpZmllZERhdGUudG9Mb2NhbGVEYXRlU3RyaW5nKCkgOgogICAgICAgICAgICAgICAgICAgICAgICAgICAgICAgICAgICAnbi9hJ30gLSBgKSk7CiAgICBjb25zdCBwZXJjZW50ID0gc3BhbignMCUgZG9uZScpOwogICAgbGkuYXBwZW5kQ2hpbGQocGVyY2VudCk7CgogICAgb3V0cHV0RWxlbWVudC5hcHBlbmRDaGlsZChsaSk7CgogICAgY29uc3QgZmlsZURhdGFQcm9taXNlID0gbmV3IFByb21pc2UoKHJlc29sdmUpID0+IHsKICAgICAgY29uc3QgcmVhZGVyID0gbmV3IEZpbGVSZWFkZXIoKTsKICAgICAgcmVhZGVyLm9ubG9hZCA9IChlKSA9PiB7CiAgICAgICAgcmVzb2x2ZShlLnRhcmdldC5yZXN1bHQpOwogICAgICB9OwogICAgICByZWFkZXIucmVhZEFzQXJyYXlCdWZmZXIoZmlsZSk7CiAgICB9KTsKICAgIC8vIFdhaXQgZm9yIHRoZSBkYXRhIHRvIGJlIHJlYWR5LgogICAgbGV0IGZpbGVEYXRhID0geWllbGQgewogICAgICBwcm9taXNlOiBmaWxlRGF0YVByb21pc2UsCiAgICAgIHJlc3BvbnNlOiB7CiAgICAgICAgYWN0aW9uOiAnY29udGludWUnLAogICAgICB9CiAgICB9OwoKICAgIC8vIFVzZSBhIGNodW5rZWQgc2VuZGluZyB0byBhdm9pZCBtZXNzYWdlIHNpemUgbGltaXRzLiBTZWUgYi82MjExNTY2MC4KICAgIGxldCBwb3NpdGlvbiA9IDA7CiAgICB3aGlsZSAocG9zaXRpb24gPCBmaWxlRGF0YS5ieXRlTGVuZ3RoKSB7CiAgICAgIGNvbnN0IGxlbmd0aCA9IE1hdGgubWluKGZpbGVEYXRhLmJ5dGVMZW5ndGggLSBwb3NpdGlvbiwgTUFYX1BBWUxPQURfU0laRSk7CiAgICAgIGNvbnN0IGNodW5rID0gbmV3IFVpbnQ4QXJyYXkoZmlsZURhdGEsIHBvc2l0aW9uLCBsZW5ndGgpOwogICAgICBwb3NpdGlvbiArPSBsZW5ndGg7CgogICAgICBjb25zdCBiYXNlNjQgPSBidG9hKFN0cmluZy5mcm9tQ2hhckNvZGUuYXBwbHkobnVsbCwgY2h1bmspKTsKICAgICAgeWllbGQgewogICAgICAgIHJlc3BvbnNlOiB7CiAgICAgICAgICBhY3Rpb246ICdhcHBlbmQnLAogICAgICAgICAgZmlsZTogZmlsZS5uYW1lLAogICAgICAgICAgZGF0YTogYmFzZTY0LAogICAgICAgIH0sCiAgICAgIH07CiAgICAgIHBlcmNlbnQudGV4dENvbnRlbnQgPQogICAgICAgICAgYCR7TWF0aC5yb3VuZCgocG9zaXRpb24gLyBmaWxlRGF0YS5ieXRlTGVuZ3RoKSAqIDEwMCl9JSBkb25lYDsKICAgIH0KICB9CgogIC8vIEFsbCBkb25lLgogIHlpZWxkIHsKICAgIHJlc3BvbnNlOiB7CiAgICAgIGFjdGlvbjogJ2NvbXBsZXRlJywKICAgIH0KICB9Owp9CgpzY29wZS5nb29nbGUgPSBzY29wZS5nb29nbGUgfHwge307CnNjb3BlLmdvb2dsZS5jb2xhYiA9IHNjb3BlLmdvb2dsZS5jb2xhYiB8fCB7fTsKc2NvcGUuZ29vZ2xlLmNvbGFiLl9maWxlcyA9IHsKICBfdXBsb2FkRmlsZXMsCiAgX3VwbG9hZEZpbGVzQ29udGludWUsCn07Cn0pKHNlbGYpOwo=",
              "ok": true,
              "headers": [
                [
                  "content-type",
                  "application/javascript"
                ]
              ],
              "status": 200,
              "status_text": ""
            }
          },
          "base_uri": "https://localhost:8080/",
          "height": 71
        }
      },
      "cell_type": "code",
      "source": [
        "from google.colab import files\n",
        "test_a = files.upload()"
      ],
      "execution_count": 0,
      "outputs": [
        {
          "output_type": "display_data",
          "data": {
            "text/html": [
              "\n",
              "     <input type=\"file\" id=\"files-d53c7c36-44b8-425e-8b08-6b76e65d88b7\" name=\"files[]\" multiple disabled />\n",
              "     <output id=\"result-d53c7c36-44b8-425e-8b08-6b76e65d88b7\">\n",
              "      Upload widget is only available when the cell has been executed in the\n",
              "      current browser session. Please rerun this cell to enable.\n",
              "      </output>\n",
              "      <script src=\"/nbextensions/google.colab/files.js\"></script> "
            ],
            "text/plain": [
              "<IPython.core.display.HTML object>"
            ]
          },
          "metadata": {
            "tags": []
          }
        },
        {
          "output_type": "stream",
          "text": [
            "Saving testset-taska.tsv to testset-taska.tsv\n"
          ],
          "name": "stdout"
        }
      ]
    },
    {
      "metadata": {
        "id": "Q5N0stUIyAkG",
        "colab_type": "code",
        "outputId": "577e0f9d-eddb-4792-eb8c-4ae0d48bf3c3",
        "colab": {
          "base_uri": "https://localhost:8080/",
          "height": 221
        }
      },
      "cell_type": "code",
      "source": [
        "# Load the data\n",
        "df_sub_a = pd.read_csv(io.StringIO(test_a[\"testset-taska.tsv\"].decode('utf-8')),  sep = \"\\t\")\n",
        "print(df_sub_a.shape)\n",
        "df_sub_a.head()"
      ],
      "execution_count": 0,
      "outputs": [
        {
          "output_type": "stream",
          "text": [
            "(860, 2)\n"
          ],
          "name": "stdout"
        },
        {
          "output_type": "execute_result",
          "data": {
            "text/html": [
              "<div>\n",
              "<style scoped>\n",
              "    .dataframe tbody tr th:only-of-type {\n",
              "        vertical-align: middle;\n",
              "    }\n",
              "\n",
              "    .dataframe tbody tr th {\n",
              "        vertical-align: top;\n",
              "    }\n",
              "\n",
              "    .dataframe thead th {\n",
              "        text-align: right;\n",
              "    }\n",
              "</style>\n",
              "<table border=\"1\" class=\"dataframe\">\n",
              "  <thead>\n",
              "    <tr style=\"text-align: right;\">\n",
              "      <th></th>\n",
              "      <th>id</th>\n",
              "      <th>tweet</th>\n",
              "    </tr>\n",
              "  </thead>\n",
              "  <tbody>\n",
              "    <tr>\n",
              "      <th>0</th>\n",
              "      <td>15923</td>\n",
              "      <td>#WhoIsQ #WheresTheServer #DumpNike #DECLASFISA...</td>\n",
              "    </tr>\n",
              "    <tr>\n",
              "      <th>1</th>\n",
              "      <td>27014</td>\n",
              "      <td>#ConstitutionDay is revered by Conservatives, ...</td>\n",
              "    </tr>\n",
              "    <tr>\n",
              "      <th>2</th>\n",
              "      <td>30530</td>\n",
              "      <td>#FOXNews #NRA #MAGA #POTUS #TRUMP #2ndAmendmen...</td>\n",
              "    </tr>\n",
              "    <tr>\n",
              "      <th>3</th>\n",
              "      <td>13876</td>\n",
              "      <td>#Watching #Boomer getting the news that she is...</td>\n",
              "    </tr>\n",
              "    <tr>\n",
              "      <th>4</th>\n",
              "      <td>60133</td>\n",
              "      <td>#NoPasaran: Unity demo to oppose the far-right...</td>\n",
              "    </tr>\n",
              "  </tbody>\n",
              "</table>\n",
              "</div>"
            ],
            "text/plain": [
              "      id                                              tweet\n",
              "0  15923  #WhoIsQ #WheresTheServer #DumpNike #DECLASFISA...\n",
              "1  27014  #ConstitutionDay is revered by Conservatives, ...\n",
              "2  30530  #FOXNews #NRA #MAGA #POTUS #TRUMP #2ndAmendmen...\n",
              "3  13876  #Watching #Boomer getting the news that she is...\n",
              "4  60133  #NoPasaran: Unity demo to oppose the far-right..."
            ]
          },
          "metadata": {
            "tags": []
          },
          "execution_count": 229
        }
      ]
    },
    {
      "metadata": {
        "id": "7KWjFIxwyMFZ",
        "colab_type": "code",
        "outputId": "9c9fedea-0f19-479c-c363-47683531e205",
        "colab": {
          "base_uri": "https://localhost:8080/",
          "height": 289
        }
      },
      "cell_type": "code",
      "source": [
        "def preprocessing_df(dataframe, label):\n",
        "  # Remove punctuation, digits and some special characters\n",
        "  df_prep = dataframe.copy()\n",
        "  df_prep['preprocessed_tweet'] = df_prep[label].str.lower()\n",
        "  df_prep['preprocessed_tweet'] = df_prep['preprocessed_tweet'].str.replace('&amp;', '&')\n",
        "  df_prep['preprocessed_tweet'] = df_prep['preprocessed_tweet'].str.replace('[{}]'.format(string.punctuation), '')\n",
        "  df_prep['preprocessed_tweet'] = df_prep['preprocessed_tweet'].str.replace('[“”’—]', ' ')\n",
        "  df_prep['preprocessed_tweet'] = df_prep['preprocessed_tweet'].str.replace('\\d+', '') # Remove digits\n",
        "  df_prep = replace_words(df_prep, 'preprocessed_tweet')\n",
        "  \n",
        "  # Tokenisation\n",
        "  token_df = df_prep.copy()\n",
        "  token_df['token_tweet'] = token_df.preprocessed_tweet.apply(lambda x: x.split())\n",
        "  \n",
        "  # Remove stopwords\n",
        "  token_df['token_tweet_stop'] = token_df['token_tweet'].apply(lambda x: [item for item in x if item not in mystopwords])\n",
        "  \n",
        "  \n",
        "  sub_token_df = token_df[['id', 'token_tweet_stop']]#, 'subtask_a', 'subtask_b', 'subtask_c']]\n",
        "  sub_token_df.rename(columns = {'token_tweet_stop':'tweet'}, inplace = True)\n",
        "  \n",
        "  return sub_token_df\n",
        "\n",
        "df_test_a = preprocessing_df(df_sub_a, 'tweet')\n",
        "\n",
        "# Lemmatisation\n",
        "porter = True\n",
        "\n",
        "if porter:\n",
        "  lemmatizer = PorterStemmer()\n",
        "  df_test_a['tweet_lemma'] = df_test_a.tweet.apply(lambda row: [lemmatizer.stem(word)  for word in row])\n",
        "else:\n",
        "  lemmatizer = WordNetLemmatizer()\n",
        "  df_test_a['tweet_lemma'] = df_test_a.tweet.apply(lambda row: [lemmatizer.lemmatize(word)  for word in row])\n",
        "\n",
        "\n",
        "df_test_a.head()"
      ],
      "execution_count": 0,
      "outputs": [
        {
          "output_type": "stream",
          "text": [
            "/usr/local/lib/python3.6/dist-packages/pandas/core/frame.py:3027: SettingWithCopyWarning: \n",
            "A value is trying to be set on a copy of a slice from a DataFrame\n",
            "\n",
            "See the caveats in the documentation: http://pandas.pydata.org/pandas-docs/stable/indexing.html#indexing-view-versus-copy\n",
            "  return super(DataFrame, self).rename(**kwargs)\n"
          ],
          "name": "stderr"
        },
        {
          "output_type": "execute_result",
          "data": {
            "text/html": [
              "<div>\n",
              "<style scoped>\n",
              "    .dataframe tbody tr th:only-of-type {\n",
              "        vertical-align: middle;\n",
              "    }\n",
              "\n",
              "    .dataframe tbody tr th {\n",
              "        vertical-align: top;\n",
              "    }\n",
              "\n",
              "    .dataframe thead th {\n",
              "        text-align: right;\n",
              "    }\n",
              "</style>\n",
              "<table border=\"1\" class=\"dataframe\">\n",
              "  <thead>\n",
              "    <tr style=\"text-align: right;\">\n",
              "      <th></th>\n",
              "      <th>id</th>\n",
              "      <th>tweet</th>\n",
              "      <th>tweet_lemma</th>\n",
              "    </tr>\n",
              "  </thead>\n",
              "  <tbody>\n",
              "    <tr>\n",
              "      <th>0</th>\n",
              "      <td>15923</td>\n",
              "      <td>[whoisq, wherestheserver, dumpnike, declasfisa...</td>\n",
              "      <td>[whoisq, wherestheserv, dumpnik, declasfisa, d...</td>\n",
              "    </tr>\n",
              "    <tr>\n",
              "      <th>1</th>\n",
              "      <td>27014</td>\n",
              "      <td>[constitutionday, revered, conservatives, hate...</td>\n",
              "      <td>[constitutionday, rever, conserv, hate, progre...</td>\n",
              "    </tr>\n",
              "    <tr>\n",
              "      <th>2</th>\n",
              "      <td>30530</td>\n",
              "      <td>[foxnews, nra, maga, potus, trump, ndamendment...</td>\n",
              "      <td>[foxnew, nra, maga, potu, trump, ndamend, rnc,...</td>\n",
              "    </tr>\n",
              "    <tr>\n",
              "      <th>3</th>\n",
              "      <td>13876</td>\n",
              "      <td>[watching, boomer, getting, news, still, parol...</td>\n",
              "      <td>[watch, boomer, get, news, still, parol, alway...</td>\n",
              "    </tr>\n",
              "    <tr>\n",
              "      <th>4</th>\n",
              "      <td>60133</td>\n",
              "      <td>[nopasaran, unity, demo, oppose, farright, lon...</td>\n",
              "      <td>[nopasaran, uniti, demo, oppos, farright, lond...</td>\n",
              "    </tr>\n",
              "  </tbody>\n",
              "</table>\n",
              "</div>"
            ],
            "text/plain": [
              "      id                                              tweet  \\\n",
              "0  15923  [whoisq, wherestheserver, dumpnike, declasfisa...   \n",
              "1  27014  [constitutionday, revered, conservatives, hate...   \n",
              "2  30530  [foxnews, nra, maga, potus, trump, ndamendment...   \n",
              "3  13876  [watching, boomer, getting, news, still, parol...   \n",
              "4  60133  [nopasaran, unity, demo, oppose, farright, lon...   \n",
              "\n",
              "                                         tweet_lemma  \n",
              "0  [whoisq, wherestheserv, dumpnik, declasfisa, d...  \n",
              "1  [constitutionday, rever, conserv, hate, progre...  \n",
              "2  [foxnew, nra, maga, potu, trump, ndamend, rnc,...  \n",
              "3  [watch, boomer, get, news, still, parol, alway...  \n",
              "4  [nopasaran, uniti, demo, oppos, farright, lond...  "
            ]
          },
          "metadata": {
            "tags": []
          },
          "execution_count": 236
        }
      ]
    },
    {
      "metadata": {
        "id": "snYRKK-m151f",
        "colab_type": "code",
        "outputId": "60c5f17a-7cae-4021-a3c9-fec5a2c6abf2",
        "colab": {
          "base_uri": "https://localhost:8080/",
          "height": 51
        }
      },
      "cell_type": "code",
      "source": [
        "def get_model_inputs_test(dataframe, word2idx, column, max_len, embedding):\n",
        "  data = dataframe.copy()\n",
        "  \n",
        "  # convert words to index\n",
        "  #data['index_tweet'] = [[word2idx[tok] for tok in sent if tok in word2idx] for sent in tokenized_corpus]\n",
        "  data['index_tweet'] = data[column].apply(lambda x: [word2idx[tok] for tok in x if tok in word2idx])\n",
        "  \n",
        "  # we create a tensor of a fixed size filled with zeroes for padding\n",
        "\n",
        "  #data_tensor = Variable(torch.zeros((len(dataframe), max_len, embedding)))#.long() # Shape: No_tweets x maximum_length of tweets x embedding\n",
        "  data_tensor = Variable(torch.zeros((len(dataframe), max_len))).long()\n",
        "  \n",
        "  tweet_lengths = list(data['index_tweet'].map(len).values)\n",
        "  \n",
        "  # we fill it with the indexes\n",
        "  for idx, (indices, tweet) in enumerate(zip(data['index_tweet'], tweet_lengths)):\n",
        "    if idx % 1000 == 0:\n",
        "      print(idx)\n",
        "      \n",
        "    #word = Variable(look_up_table_sent(indices)).float() # Shape: (voc_lemma_size, len(indices))\n",
        "    #word_emb = torch.matmul(matrix, word).detach().numpy() # Shape: (embedding, len(indices))\n",
        "\n",
        "    #data_tensor[idx, :tweet] = torch.FloatTensor(word_emb.transpose(1, 0))\n",
        "    data_tensor[idx, :tweet] = torch.LongTensor(indices)\n",
        "  \n",
        "  return data_tensor\n",
        "\n",
        "test_a_input = get_model_inputs_test(df_test_a, word2idx, 'tweet_lemma', max_len_tweet, embedding_dims)\n",
        "print(test_a_input.shape)"
      ],
      "execution_count": 0,
      "outputs": [
        {
          "output_type": "stream",
          "text": [
            "0\n",
            "torch.Size([860, 79])\n"
          ],
          "name": "stdout"
        }
      ]
    },
    {
      "metadata": {
        "id": "OTRBBWhf2fuv",
        "colab_type": "code",
        "outputId": "063c5232-c21a-4ab6-db21-ff35101483fb",
        "colab": {
          "base_uri": "https://localhost:8080/",
          "height": 204
        }
      },
      "cell_type": "code",
      "source": [
        "with torch.no_grad():\n",
        "    predictions_task_a = model(test_a_input).squeeze(1)\n",
        "\n",
        "y_pred = predict(predictions_task_a)\n",
        "y_pred['class'] = 'NOT'\n",
        "y_pred.loc[y_pred['pred'] == 1, 'class'] = 'OFF'\n",
        "\n",
        "y_pred.head()"
      ],
      "execution_count": 0,
      "outputs": [
        {
          "output_type": "execute_result",
          "data": {
            "text/html": [
              "<div>\n",
              "<style scoped>\n",
              "    .dataframe tbody tr th:only-of-type {\n",
              "        vertical-align: middle;\n",
              "    }\n",
              "\n",
              "    .dataframe tbody tr th {\n",
              "        vertical-align: top;\n",
              "    }\n",
              "\n",
              "    .dataframe thead th {\n",
              "        text-align: right;\n",
              "    }\n",
              "</style>\n",
              "<table border=\"1\" class=\"dataframe\">\n",
              "  <thead>\n",
              "    <tr style=\"text-align: right;\">\n",
              "      <th></th>\n",
              "      <th>pred</th>\n",
              "      <th>class</th>\n",
              "    </tr>\n",
              "  </thead>\n",
              "  <tbody>\n",
              "    <tr>\n",
              "      <th>0</th>\n",
              "      <td>1</td>\n",
              "      <td>OFF</td>\n",
              "    </tr>\n",
              "    <tr>\n",
              "      <th>1</th>\n",
              "      <td>0</td>\n",
              "      <td>NOT</td>\n",
              "    </tr>\n",
              "    <tr>\n",
              "      <th>2</th>\n",
              "      <td>0</td>\n",
              "      <td>NOT</td>\n",
              "    </tr>\n",
              "    <tr>\n",
              "      <th>3</th>\n",
              "      <td>0</td>\n",
              "      <td>NOT</td>\n",
              "    </tr>\n",
              "    <tr>\n",
              "      <th>4</th>\n",
              "      <td>0</td>\n",
              "      <td>NOT</td>\n",
              "    </tr>\n",
              "  </tbody>\n",
              "</table>\n",
              "</div>"
            ],
            "text/plain": [
              "   pred class\n",
              "0     1   OFF\n",
              "1     0   NOT\n",
              "2     0   NOT\n",
              "3     0   NOT\n",
              "4     0   NOT"
            ]
          },
          "metadata": {
            "tags": []
          },
          "execution_count": 257
        }
      ]
    },
    {
      "metadata": {
        "id": "9JNitpLX3dhT",
        "colab_type": "code",
        "colab": {}
      },
      "cell_type": "code",
      "source": [
        "def submission(data, pred):\n",
        "  df = data.copy()\n",
        "  df['pred'] = pred['class']\n",
        "  return df[['id', 'pred']]\n",
        "\n",
        "\n",
        "ttt = submission(df_test_a, y_pred)\n",
        "ttt.head()\n",
        "ttt.to_csv(\"result_subtask_a.csv\", index = False, header = False)"
      ],
      "execution_count": 0,
      "outputs": []
    },
    {
      "metadata": {
        "id": "5xonX8cv582V",
        "colab_type": "code",
        "colab": {}
      },
      "cell_type": "code",
      "source": [
        "files.download('result_subtask_a.csv')"
      ],
      "execution_count": 0,
      "outputs": []
    },
    {
      "metadata": {
        "id": "tfD9AgtnvcME",
        "colab_type": "text"
      },
      "cell_type": "markdown",
      "source": [
        "# Sub-task B"
      ]
    },
    {
      "metadata": {
        "id": "FzhDC3pX2ewK",
        "colab_type": "code",
        "colab": {}
      },
      "cell_type": "code",
      "source": [
        ""
      ],
      "execution_count": 0,
      "outputs": []
    },
    {
      "metadata": {
        "id": "RijJaoR4vcMF",
        "colab_type": "code",
        "outputId": "076c6baa-d488-4ff0-c64f-790088f222c5",
        "colab": {
          "base_uri": "https://localhost:8080/",
          "height": 136
        }
      },
      "cell_type": "code",
      "source": [
        "# Remove non offensive tweets\n",
        "fin_df_b = sub_token_df[['id', 'tweet_lemma', 'subtask_b']]\n",
        "fin_df_b.rename(columns = {'tweet_lemma':'tweet'}, inplace = True)\n",
        "print(fin_df_b.shape)\n",
        "\n",
        "fin_df_b_fil =fin_df_b.dropna()\n",
        "print(fin_df_b_fil.shape) # 4400"
      ],
      "execution_count": 0,
      "outputs": [
        {
          "output_type": "stream",
          "text": [
            "(13240, 3)\n",
            "(4400, 3)\n"
          ],
          "name": "stdout"
        },
        {
          "output_type": "stream",
          "text": [
            "/usr/local/lib/python3.6/dist-packages/pandas/core/frame.py:3027: SettingWithCopyWarning: \n",
            "A value is trying to be set on a copy of a slice from a DataFrame\n",
            "\n",
            "See the caveats in the documentation: http://pandas.pydata.org/pandas-docs/stable/indexing.html#indexing-view-versus-copy\n",
            "  return super(DataFrame, self).rename(**kwargs)\n"
          ],
          "name": "stderr"
        }
      ]
    },
    {
      "metadata": {
        "id": "8VULd-nkvcMG",
        "colab_type": "code",
        "outputId": "822ca907-f70d-45ce-b880-b68689db1a36",
        "colab": {
          "base_uri": "https://localhost:8080/",
          "height": 255
        }
      },
      "cell_type": "code",
      "source": [
        "# Train Test Val Split: after the word embedding\n",
        "df_train, df_test = train_test_split(fin_df_b_fil, test_size = 0.2, random_state = 24)\n",
        "df_train, df_val = train_test_split(df_train, test_size = 0.25, random_state = 24)\n",
        "print(df_train.shape)\n",
        "print(df_val.shape)\n",
        "print(df_test.shape)\n",
        "df_train.head()"
      ],
      "execution_count": 0,
      "outputs": [
        {
          "output_type": "stream",
          "text": [
            "(2640, 3)\n",
            "(880, 3)\n",
            "(880, 3)\n"
          ],
          "name": "stdout"
        },
        {
          "output_type": "execute_result",
          "data": {
            "text/html": [
              "<div>\n",
              "<style scoped>\n",
              "    .dataframe tbody tr th:only-of-type {\n",
              "        vertical-align: middle;\n",
              "    }\n",
              "\n",
              "    .dataframe tbody tr th {\n",
              "        vertical-align: top;\n",
              "    }\n",
              "\n",
              "    .dataframe thead th {\n",
              "        text-align: right;\n",
              "    }\n",
              "</style>\n",
              "<table border=\"1\" class=\"dataframe\">\n",
              "  <thead>\n",
              "    <tr style=\"text-align: right;\">\n",
              "      <th></th>\n",
              "      <th>id</th>\n",
              "      <th>tweet</th>\n",
              "      <th>subtask_b</th>\n",
              "    </tr>\n",
              "  </thead>\n",
              "  <tbody>\n",
              "    <tr>\n",
              "      <th>7981</th>\n",
              "      <td>70376</td>\n",
              "      <td>[user, user, incit, violenc, via, twitter, acc...</td>\n",
              "      <td>TIN</td>\n",
              "    </tr>\n",
              "    <tr>\n",
              "      <th>721</th>\n",
              "      <td>89795</td>\n",
              "      <td>[user, angela, hook, younger, guy, someon, wip...</td>\n",
              "      <td>TIN</td>\n",
              "    </tr>\n",
              "    <tr>\n",
              "      <th>6971</th>\n",
              "      <td>16743</td>\n",
              "      <td>[user, today, collin, back, anoth, excus, vote...</td>\n",
              "      <td>TIN</td>\n",
              "    </tr>\n",
              "    <tr>\n",
              "      <th>6205</th>\n",
              "      <td>98434</td>\n",
              "      <td>[user, holi, shit, way]</td>\n",
              "      <td>UNT</td>\n",
              "    </tr>\n",
              "    <tr>\n",
              "      <th>2932</th>\n",
              "      <td>95210</td>\n",
              "      <td>[good, job, assholey, kill, dad, chanc, get, j...</td>\n",
              "      <td>TIN</td>\n",
              "    </tr>\n",
              "  </tbody>\n",
              "</table>\n",
              "</div>"
            ],
            "text/plain": [
              "         id                                              tweet subtask_b\n",
              "7981  70376  [user, user, incit, violenc, via, twitter, acc...       TIN\n",
              "721   89795  [user, angela, hook, younger, guy, someon, wip...       TIN\n",
              "6971  16743  [user, today, collin, back, anoth, excus, vote...       TIN\n",
              "6205  98434                            [user, holi, shit, way]       UNT\n",
              "2932  95210  [good, job, assholey, kill, dad, chanc, get, j...       TIN"
            ]
          },
          "metadata": {
            "tags": []
          },
          "execution_count": 136
        }
      ]
    },
    {
      "metadata": {
        "id": "30O2nIuqvyTl",
        "colab_type": "code",
        "outputId": "cd3ac82f-89e7-49e2-fae1-127862363be6",
        "colab": {
          "base_uri": "https://localhost:8080/",
          "height": 85
        }
      },
      "cell_type": "code",
      "source": [
        "def get_model_inputs_b(dataframe, matrix, word2idx, column, target, max_len, embedding):\n",
        "  data = dataframe.copy()\n",
        "  \n",
        "  # Convert words to index\n",
        "  data['index_tweet'] = data.tweet.apply(lambda x: [word2idx[tok] for tok in x if tok in word2idx])\n",
        "  \n",
        "  # we create a tensor of a fixed size filled with zeroes for padding\n",
        "  #data_tensor = Variable(torch.zeros((len(dataframe), max_len, embedding)))#.long() # Shape: No_tweets x maximum_length of tweets x embedding\n",
        "  data_tensor = Variable(torch.zeros((len(dataframe), max_len))).long()\n",
        "  \n",
        "  tweet_lengths = list(data['index_tweet'].map(len).values)\n",
        "  \n",
        "  # we fill it with the indexes\n",
        "  for idx, (indices, tweet) in enumerate(zip(data['index_tweet'], tweet_lengths)):\n",
        "    if idx % 1000 == 0:\n",
        "      print(idx)\n",
        "      \n",
        "    #word = Variable(look_up_table_sent(indices)).float() # Shape: (voc_lemma_size, len(indices))\n",
        "    #word_emb = torch.matmul(matrix, word).detach().numpy() # Shape: (embedding, len(indices))\n",
        "\n",
        "    #data_tensor[idx, :tweet] = torch.FloatTensor(word_emb.transpose(1, 0))\n",
        "    data_tensor[idx, :tweet] = torch.LongTensor(indices)\n",
        "\n",
        "\n",
        "  # Labels\n",
        "  labels = dataframe[target].copy()\n",
        "  labels[labels == 'TIN'] = 1.\n",
        "  labels[labels == 'UNT'] = 0.\n",
        "  labels_val = labels.values.astype(dtype = 'float32')\n",
        "  label_tensor = torch.from_numpy(labels_val)\n",
        "  \n",
        "  return data_tensor, label_tensor\n",
        "\n",
        "train_data_tensor, train_label_tensor = get_model_inputs_b(df_train, W1, word2idx, 'tweet', 'subtask_b', max_len_tweet, embedding_dims)\n",
        "\n",
        "print(train_data_tensor.shape)"
      ],
      "execution_count": 0,
      "outputs": [
        {
          "output_type": "stream",
          "text": [
            "0\n",
            "1000\n",
            "2000\n",
            "torch.Size([2640, 79])\n"
          ],
          "name": "stdout"
        }
      ]
    },
    {
      "metadata": {
        "id": "d2TJUPvUvybS",
        "colab_type": "code",
        "outputId": "4e7faf1d-2a70-480a-b37d-a2b6ab20da74",
        "colab": {
          "base_uri": "https://localhost:8080/",
          "height": 68
        }
      },
      "cell_type": "code",
      "source": [
        "# Validation\n",
        "val_data_tensor, val_label_tensor = get_model_inputs_b(df_val, W1, word2idx, 'tweet', 'subtask_b', max_len_tweet, embedding_dims)\n",
        "val_data_tensor_f = val_data_tensor.view(val_data_tensor.size(0), -1)\n",
        "\n",
        "# Testing\n",
        "test_data_tensor, test_label_tensor = get_model_inputs_b(df_test, W1, word2idx, 'tweet', 'subtask_b', max_len_tweet, embedding_dims)\n",
        "test_data_tensor_f = test_data_tensor.view(test_data_tensor.size(0), -1)\n",
        "'''\n",
        "print(test_data_tensor_f.shape)\n",
        "test_data = TensorDataset(test_data_tensor_f, test_label_tensor)\n",
        "test_dl = DataLoader(test_data, batch_size = batch_size)\n",
        "'''"
      ],
      "execution_count": 0,
      "outputs": [
        {
          "output_type": "stream",
          "text": [
            "0\n",
            "0\n"
          ],
          "name": "stdout"
        },
        {
          "output_type": "execute_result",
          "data": {
            "text/plain": [
              "'\\nprint(test_data_tensor_f.shape)\\ntest_data = TensorDataset(test_data_tensor_f, test_label_tensor)\\ntest_dl = DataLoader(test_data, batch_size = batch_size)\\n'"
            ]
          },
          "metadata": {
            "tags": []
          },
          "execution_count": 138
        }
      ]
    },
    {
      "metadata": {
        "id": "NmNwyRjMwzJO",
        "colab_type": "code",
        "outputId": "25638c89-2867-4d23-fb1e-4da67bb32860",
        "colab": {
          "base_uri": "https://localhost:8080/",
          "height": 34
        }
      },
      "cell_type": "code",
      "source": [
        "# Data loading\n",
        "# Training\n",
        "train_data_tensor_f = train_data_tensor.view(train_data_tensor.size(0), -1)\n",
        "print(train_data_tensor_f.shape)\n",
        "train_data = TensorDataset(train_data_tensor_f, train_label_tensor)\n",
        "train_dl = DataLoader(train_data, batch_size = batch_size)"
      ],
      "execution_count": 0,
      "outputs": [
        {
          "output_type": "stream",
          "text": [
            "torch.Size([2640, 79])\n"
          ],
          "name": "stdout"
        }
      ]
    },
    {
      "metadata": {
        "id": "ZV0EjXAfwzM2",
        "colab_type": "code",
        "outputId": "1f79c2ee-6338-4502-f323-3173fdfce843",
        "colab": {
          "base_uri": "https://localhost:8080/",
          "height": 714
        }
      },
      "cell_type": "code",
      "source": [
        "lr = 0.01 # Learning rate \n",
        "\n",
        "# recall input parameters to our model\n",
        "#embedding_dim, hidden_dim, vocab_size, max_len, num_classes\n",
        "# max_len is the maximum length of the input sentences as we defined during padding\n",
        "\n",
        "# Set seed for reproducible results\n",
        "torch.manual_seed(24)\n",
        "\n",
        "# Create the neural network\n",
        "model = FFNN(embedding_dim, hidden_dim, input_dim, max_len_tweet, output_dim)\n",
        "\n",
        "# we use the stochastic gradient descent (SGD) optimizer\n",
        "optimizer = optim.SGD(model.parameters(), lr = lr)\n",
        "\n",
        "# we use the binary cross-entropy loss with sigmoid (applied to logits) \n",
        "#Recall we did not apply any activation to our output layer, we need to make our outputs look like probality.\n",
        "loss_func = nn.BCEWithLogitsLoss() # Binary cross-entropy loss with sigmoid as a loss function\n",
        "\n",
        "# Save loss results per epoch for plots\n",
        "train_loss_history, val_loss_history = [], []\n",
        "# Train the neural network\n",
        "for epoch in range(1, epochs+1):\n",
        "  \n",
        "  #to ensure the dropout (exlained later) is \"turned on\" while training\n",
        "  #good practice to include even if do not use here\n",
        "  model.train()\n",
        "  \n",
        "  for X_batch, y_batch in train_dl:\n",
        "      #print(X_batch.shape)\n",
        "      # squeeze is needed as the predictions are initially size (batch size, 1) and we need to remove the dimension of size 1 \n",
        "      pred = model(X_batch).squeeze(1)\n",
        "      loss = loss_func(pred, y_batch)\n",
        "      \n",
        "      acc = accuracy(pred, y_batch)\n",
        "\n",
        "      loss.backward()\n",
        "      optimizer.step() # Updates the parameters thanks to the gradient\n",
        "      optimizer.zero_grad() # Clears the gradients\n",
        "      \n",
        "  epoch_loss = loss.item()\n",
        "  epoch_acc = acc\n",
        "      \n",
        "        \n",
        "  # Training log\n",
        "  print(f'| Epoch: {epoch:02} | Train Loss: {epoch_loss:.3f} | Train Acc: {epoch_acc*100:.2f}%')\n",
        "  train_loss_history += [epoch_loss]\n",
        "  \n",
        "  # On the validation dataset\n",
        "  model.eval()\n",
        "  with torch.no_grad():\n",
        "    pred_val = model(val_data_tensor_f).squeeze(1)\n",
        "    loss_val = loss_func(pred_val, val_label_tensor)\n",
        "    acc_val = accuracy(pred_val, val_label_tensor)\n",
        "    print(f'| Val Loss: {loss_val:.3f} | Test Acc: {acc_val*100:.2f}%')\n",
        "    val_loss_history += [loss_val]\n",
        "\n",
        "'''\n",
        "feature = train_data_tensor\n",
        "target = train_label_tensor\n",
        "'''"
      ],
      "execution_count": 0,
      "outputs": [
        {
          "output_type": "stream",
          "text": [
            "| Epoch: 01 | Train Loss: 0.523 | Train Acc: 80.00%\n",
            "| Val Loss: 0.393 | Test Acc: 87.39%\n",
            "| Epoch: 02 | Train Loss: 0.543 | Train Acc: 80.00%\n",
            "| Val Loss: 0.389 | Test Acc: 87.39%\n",
            "| Epoch: 03 | Train Loss: 0.548 | Train Acc: 80.00%\n",
            "| Val Loss: 0.389 | Test Acc: 87.39%\n",
            "| Epoch: 04 | Train Loss: 0.549 | Train Acc: 80.00%\n",
            "| Val Loss: 0.389 | Test Acc: 87.39%\n",
            "| Epoch: 05 | Train Loss: 0.549 | Train Acc: 80.00%\n",
            "| Val Loss: 0.389 | Test Acc: 87.39%\n",
            "| Epoch: 06 | Train Loss: 0.549 | Train Acc: 80.00%\n",
            "| Val Loss: 0.389 | Test Acc: 87.39%\n",
            "| Epoch: 07 | Train Loss: 0.549 | Train Acc: 80.00%\n",
            "| Val Loss: 0.389 | Test Acc: 87.39%\n",
            "| Epoch: 08 | Train Loss: 0.549 | Train Acc: 80.00%\n",
            "| Val Loss: 0.389 | Test Acc: 87.39%\n",
            "| Epoch: 09 | Train Loss: 0.549 | Train Acc: 80.00%\n",
            "| Val Loss: 0.389 | Test Acc: 87.39%\n",
            "| Epoch: 10 | Train Loss: 0.548 | Train Acc: 80.00%\n",
            "| Val Loss: 0.389 | Test Acc: 87.39%\n",
            "| Epoch: 11 | Train Loss: 0.548 | Train Acc: 80.00%\n",
            "| Val Loss: 0.389 | Test Acc: 87.39%\n",
            "| Epoch: 12 | Train Loss: 0.548 | Train Acc: 80.00%\n",
            "| Val Loss: 0.389 | Test Acc: 87.39%\n",
            "| Epoch: 13 | Train Loss: 0.548 | Train Acc: 80.00%\n",
            "| Val Loss: 0.389 | Test Acc: 87.39%\n",
            "| Epoch: 14 | Train Loss: 0.548 | Train Acc: 80.00%\n",
            "| Val Loss: 0.389 | Test Acc: 87.39%\n",
            "| Epoch: 15 | Train Loss: 0.548 | Train Acc: 80.00%\n",
            "| Val Loss: 0.389 | Test Acc: 87.39%\n",
            "| Epoch: 16 | Train Loss: 0.548 | Train Acc: 80.00%\n",
            "| Val Loss: 0.389 | Test Acc: 87.39%\n",
            "| Epoch: 17 | Train Loss: 0.548 | Train Acc: 80.00%\n",
            "| Val Loss: 0.389 | Test Acc: 87.39%\n",
            "| Epoch: 18 | Train Loss: 0.548 | Train Acc: 80.00%\n",
            "| Val Loss: 0.389 | Test Acc: 87.39%\n",
            "| Epoch: 19 | Train Loss: 0.548 | Train Acc: 80.00%\n",
            "| Val Loss: 0.389 | Test Acc: 87.39%\n",
            "| Epoch: 20 | Train Loss: 0.548 | Train Acc: 80.00%\n",
            "| Val Loss: 0.389 | Test Acc: 87.39%\n"
          ],
          "name": "stdout"
        },
        {
          "output_type": "execute_result",
          "data": {
            "text/plain": [
              "'\\nfeature = train_data_tensor\\ntarget = train_label_tensor\\n'"
            ]
          },
          "metadata": {
            "tags": []
          },
          "execution_count": 140
        }
      ]
    },
    {
      "metadata": {
        "id": "pChquu8hxfgH",
        "colab_type": "code",
        "outputId": "d5fcf3d1-ccfa-4026-fba6-55f60ac0e9b2",
        "colab": {
          "base_uri": "https://localhost:8080/",
          "height": 85
        }
      },
      "cell_type": "code",
      "source": [
        "# Test\n",
        "print(test_data_tensor_f.shape)\n",
        "with torch.no_grad():\n",
        "  predictions = model(test_data_tensor_f).squeeze(1)\n",
        "  loss = loss_func(predictions, test_label_tensor)\n",
        "  acc = accuracy(predictions, test_label_tensor)\n",
        "  print(predictions[0:10])\n",
        "  print(f'| Test Loss: {loss:.3f} | Test Acc: {acc*100:.2f}%')"
      ],
      "execution_count": 0,
      "outputs": [
        {
          "output_type": "stream",
          "text": [
            "torch.Size([880, 79])\n",
            "tensor([2.1300, 1.9800, 1.9293, 2.1906, 2.0008, 2.1520, 1.9867, 1.8858, 2.0470,\n",
            "        1.6365])\n",
            "| Test Loss: 0.348 | Test Acc: 89.32%\n"
          ],
          "name": "stdout"
        }
      ]
    },
    {
      "metadata": {
        "id": "hoYD3dIF1abW",
        "colab_type": "code",
        "outputId": "6df24220-891e-4c14-9366-7688bfb5af62",
        "colab": {
          "base_uri": "https://localhost:8080/",
          "height": 406
        }
      },
      "cell_type": "code",
      "source": [
        "# Confusion matrix\n",
        "confusion_matrix(test_label_tensor, predictions)"
      ],
      "execution_count": 0,
      "outputs": [
        {
          "output_type": "error",
          "ename": "ValueError",
          "evalue": "ignored",
          "traceback": [
            "\u001b[0;31m---------------------------------------------------------------------------\u001b[0m",
            "\u001b[0;31mValueError\u001b[0m                                Traceback (most recent call last)",
            "\u001b[0;32m<ipython-input-372-22a462481a20>\u001b[0m in \u001b[0;36m<module>\u001b[0;34m()\u001b[0m\n\u001b[0;32m----> 1\u001b[0;31m \u001b[0mconfusion_matrix\u001b[0m\u001b[0;34m(\u001b[0m\u001b[0mtest_label_tensor\u001b[0m\u001b[0;34m,\u001b[0m \u001b[0mpredictions\u001b[0m\u001b[0;34m)\u001b[0m\u001b[0;34m\u001b[0m\u001b[0;34m\u001b[0m\u001b[0m\n\u001b[0m",
            "\u001b[0;32m/usr/local/lib/python3.6/dist-packages/sklearn/metrics/classification.py\u001b[0m in \u001b[0;36mconfusion_matrix\u001b[0;34m(y_true, y_pred, labels, sample_weight)\u001b[0m\n\u001b[1;32m    251\u001b[0m \u001b[0;34m\u001b[0m\u001b[0m\n\u001b[1;32m    252\u001b[0m     \"\"\"\n\u001b[0;32m--> 253\u001b[0;31m     \u001b[0my_type\u001b[0m\u001b[0;34m,\u001b[0m \u001b[0my_true\u001b[0m\u001b[0;34m,\u001b[0m \u001b[0my_pred\u001b[0m \u001b[0;34m=\u001b[0m \u001b[0m_check_targets\u001b[0m\u001b[0;34m(\u001b[0m\u001b[0my_true\u001b[0m\u001b[0;34m,\u001b[0m \u001b[0my_pred\u001b[0m\u001b[0;34m)\u001b[0m\u001b[0;34m\u001b[0m\u001b[0;34m\u001b[0m\u001b[0m\n\u001b[0m\u001b[1;32m    254\u001b[0m     \u001b[0;32mif\u001b[0m \u001b[0my_type\u001b[0m \u001b[0;32mnot\u001b[0m \u001b[0;32min\u001b[0m \u001b[0;34m(\u001b[0m\u001b[0;34m\"binary\"\u001b[0m\u001b[0;34m,\u001b[0m \u001b[0;34m\"multiclass\"\u001b[0m\u001b[0;34m)\u001b[0m\u001b[0;34m:\u001b[0m\u001b[0;34m\u001b[0m\u001b[0;34m\u001b[0m\u001b[0m\n\u001b[1;32m    255\u001b[0m         \u001b[0;32mraise\u001b[0m \u001b[0mValueError\u001b[0m\u001b[0;34m(\u001b[0m\u001b[0;34m\"%s is not supported\"\u001b[0m \u001b[0;34m%\u001b[0m \u001b[0my_type\u001b[0m\u001b[0;34m)\u001b[0m\u001b[0;34m\u001b[0m\u001b[0;34m\u001b[0m\u001b[0m\n",
            "\u001b[0;32m/usr/local/lib/python3.6/dist-packages/sklearn/metrics/classification.py\u001b[0m in \u001b[0;36m_check_targets\u001b[0;34m(y_true, y_pred)\u001b[0m\n\u001b[1;32m     79\u001b[0m     \u001b[0;32mif\u001b[0m \u001b[0mlen\u001b[0m\u001b[0;34m(\u001b[0m\u001b[0my_type\u001b[0m\u001b[0;34m)\u001b[0m \u001b[0;34m>\u001b[0m \u001b[0;36m1\u001b[0m\u001b[0;34m:\u001b[0m\u001b[0;34m\u001b[0m\u001b[0;34m\u001b[0m\u001b[0m\n\u001b[1;32m     80\u001b[0m         raise ValueError(\"Classification metrics can't handle a mix of {0} \"\n\u001b[0;32m---> 81\u001b[0;31m                          \"and {1} targets\".format(type_true, type_pred))\n\u001b[0m\u001b[1;32m     82\u001b[0m \u001b[0;34m\u001b[0m\u001b[0m\n\u001b[1;32m     83\u001b[0m     \u001b[0;31m# We can't have more than one value on y_type => The set is no more needed\u001b[0m\u001b[0;34m\u001b[0m\u001b[0;34m\u001b[0m\u001b[0;34m\u001b[0m\u001b[0m\n",
            "\u001b[0;31mValueError\u001b[0m: Classification metrics can't handle a mix of binary and continuous targets"
          ]
        }
      ]
    },
    {
      "metadata": {
        "id": "ZH-gH2Fmxfn7",
        "colab_type": "code",
        "outputId": "6c52192d-3d6e-4559-b3e2-f87baf00fcfb",
        "colab": {
          "base_uri": "https://localhost:8080/",
          "height": 279
        }
      },
      "cell_type": "code",
      "source": [
        "plot_loss_curves(train_loss_history, val_loss_history)"
      ],
      "execution_count": 0,
      "outputs": [
        {
          "output_type": "display_data",
          "data": {
            "image/png": "[encoded data removed]",
            "text/plain": [
              "<Figure size 432x288 with 1 Axes>"
            ]
          },
          "metadata": {
            "tags": []
          }
        }
      ]
    },
    {
      "metadata": {
        "id": "MWcVOwlzhCdh",
        "colab_type": "code",
        "outputId": "13ece22d-7cb1-4efd-c214-b5cba0e40ddc",
        "colab": {
          "base_uri": "https://localhost:8080/",
          "height": 34
        }
      },
      "cell_type": "code",
      "source": [
        "print(min(predictions), max(predictions))"
      ],
      "execution_count": 0,
      "outputs": [
        {
          "output_type": "stream",
          "text": [
            "tensor(1.4002) tensor(2.2403)\n"
          ],
          "name": "stdout"
        }
      ]
    },
    {
      "metadata": {
        "id": "UA1BtindvcMI",
        "colab_type": "text"
      },
      "cell_type": "markdown",
      "source": [
        "# Sub-task C"
      ]
    },
    {
      "metadata": {
        "id": "jqRbdpQZvcMJ",
        "colab_type": "code",
        "outputId": "d4cc825d-c565-4c42-852f-3ee4e9965f62",
        "colab": {
          "base_uri": "https://localhost:8080/",
          "height": 136
        }
      },
      "cell_type": "code",
      "source": [
        "# Remove untargeted offensive tweets\n",
        "fin_df_c = sub_token_df[['id', 'tweet_lemma', 'subtask_c']]\n",
        "fin_df_c.rename(columns = {'tweet_lemma':'tweet'}, inplace = True)\n",
        "print(fin_df_c.shape)\n",
        "\n",
        "fin_df_c_fil =fin_df_c.dropna()\n",
        "print(fin_df_c_fil.shape) # 3876"
      ],
      "execution_count": 0,
      "outputs": [
        {
          "output_type": "stream",
          "text": [
            "(13240, 3)\n",
            "(3876, 3)\n"
          ],
          "name": "stdout"
        },
        {
          "output_type": "stream",
          "text": [
            "/usr/local/lib/python3.6/dist-packages/pandas/core/frame.py:3027: SettingWithCopyWarning: \n",
            "A value is trying to be set on a copy of a slice from a DataFrame\n",
            "\n",
            "See the caveats in the documentation: http://pandas.pydata.org/pandas-docs/stable/indexing.html#indexing-view-versus-copy\n",
            "  return super(DataFrame, self).rename(**kwargs)\n"
          ],
          "name": "stderr"
        }
      ]
    },
    {
      "metadata": {
        "id": "NCXt-WswvcMK",
        "colab_type": "code",
        "outputId": "71395c88-0be4-4279-a3c8-d8668c5d5656",
        "colab": {
          "base_uri": "https://localhost:8080/",
          "height": 255
        }
      },
      "cell_type": "code",
      "source": [
        "# Train Test Val Split: after the word embedding\n",
        "df_train, df_test = train_test_split(fin_df_c_fil, test_size = 0.2, random_state = 24)\n",
        "df_train, df_val = train_test_split(df_train, test_size = 0.25, random_state = 24)\n",
        "print(df_train.shape)\n",
        "print(df_val.shape)\n",
        "print(df_test.shape)\n",
        "df_train.head()"
      ],
      "execution_count": 0,
      "outputs": [
        {
          "output_type": "stream",
          "text": [
            "(2325, 3)\n",
            "(775, 3)\n",
            "(776, 3)\n"
          ],
          "name": "stdout"
        },
        {
          "output_type": "execute_result",
          "data": {
            "text/html": [
              "<div>\n",
              "<style scoped>\n",
              "    .dataframe tbody tr th:only-of-type {\n",
              "        vertical-align: middle;\n",
              "    }\n",
              "\n",
              "    .dataframe tbody tr th {\n",
              "        vertical-align: top;\n",
              "    }\n",
              "\n",
              "    .dataframe thead th {\n",
              "        text-align: right;\n",
              "    }\n",
              "</style>\n",
              "<table border=\"1\" class=\"dataframe\">\n",
              "  <thead>\n",
              "    <tr style=\"text-align: right;\">\n",
              "      <th></th>\n",
              "      <th>id</th>\n",
              "      <th>tweet</th>\n",
              "      <th>subtask_c</th>\n",
              "    </tr>\n",
              "  </thead>\n",
              "  <tbody>\n",
              "    <tr>\n",
              "      <th>7426</th>\n",
              "      <td>26171</td>\n",
              "      <td>[long, ass, blog, might, make, sens, url]</td>\n",
              "      <td>OTH</td>\n",
              "    </tr>\n",
              "    <tr>\n",
              "      <th>7012</th>\n",
              "      <td>40282</td>\n",
              "      <td>[user, one, crazi, person]</td>\n",
              "      <td>IND</td>\n",
              "    </tr>\n",
              "    <tr>\n",
              "      <th>11813</th>\n",
              "      <td>59464</td>\n",
              "      <td>[user, user, probabl, violent, liber, antifa, ...</td>\n",
              "      <td>IND</td>\n",
              "    </tr>\n",
              "    <tr>\n",
              "      <th>7689</th>\n",
              "      <td>81738</td>\n",
              "      <td>[user, wrong, percent, time, bed, lay, suntan,...</td>\n",
              "      <td>IND</td>\n",
              "    </tr>\n",
              "    <tr>\n",
              "      <th>9675</th>\n",
              "      <td>40262</td>\n",
              "      <td>[user, user, yep, produc, articl, shut, liber]</td>\n",
              "      <td>GRP</td>\n",
              "    </tr>\n",
              "  </tbody>\n",
              "</table>\n",
              "</div>"
            ],
            "text/plain": [
              "          id                                              tweet subtask_c\n",
              "7426   26171          [long, ass, blog, might, make, sens, url]       OTH\n",
              "7012   40282                         [user, one, crazi, person]       IND\n",
              "11813  59464  [user, user, probabl, violent, liber, antifa, ...       IND\n",
              "7689   81738  [user, wrong, percent, time, bed, lay, suntan,...       IND\n",
              "9675   40262     [user, user, yep, produc, articl, shut, liber]       GRP"
            ]
          },
          "metadata": {
            "tags": []
          },
          "execution_count": 92
        }
      ]
    },
    {
      "metadata": {
        "id": "aU-I51OYy4ie",
        "colab_type": "code",
        "outputId": "b127a825-52ec-4ada-bbee-2add89228428",
        "colab": {
          "base_uri": "https://localhost:8080/",
          "height": 102
        }
      },
      "cell_type": "code",
      "source": [
        "def get_model_inputs_c(dataframe, matrix, word2idx, column, target, max_len, embedding):\n",
        "  data = dataframe.copy()\n",
        "  \n",
        "  # Convert words to index\n",
        "  data['index_tweet'] = data.tweet.apply(lambda x: [word2idx[tok] for tok in x if tok in word2idx])\n",
        "  \n",
        "  # we create a tensor of a fixed size filled with zeroes for padding\n",
        "\n",
        "  data_tensor = Variable(torch.zeros((len(dataframe), max_len, embedding)))#.long() # Shape: No_tweets x maximum_length of tweets x embedding\n",
        "  \n",
        "  tweet_lengths = list(data['index_tweet'].map(len).values)\n",
        "  \n",
        "  # we fill it with the indexes\n",
        "  for idx, (indices, tweet) in enumerate(zip(data['index_tweet'], tweet_lengths)):\n",
        "    if idx % 1000 == 0:\n",
        "      print(idx)\n",
        "    word = Variable(look_up_table_sent(indices)).float() # Shape: (voc_lemma_size, len(indices))\n",
        "    word_emb = torch.matmul(matrix, word).detach().numpy() # Shape: (embedding, len(indices))\n",
        "\n",
        "    data_tensor[idx, :tweet] = torch.FloatTensor(word_emb.transpose(1, 0))\n",
        "\n",
        "  # Labels\n",
        "  #labels = dataframe[target].copy()\n",
        "  labels = pd.get_dummies(dataframe[target].copy())\n",
        "  labels_val = labels.values.astype(dtype = 'float32')\n",
        "  label_tensor = torch.from_numpy(labels_val)\n",
        "  \n",
        "  return data_tensor, label_tensor\n",
        "\n",
        "train_data_tensor, train_label_tensor = get_model_inputs_c(df_train, W1, word2idx, 'tweet', 'subtask_c', max_len_tweet, embedding_dims)\n",
        "\n",
        "print(train_data_tensor.shape)\n",
        "print(train_label_tensor.shape)"
      ],
      "execution_count": 0,
      "outputs": [
        {
          "output_type": "stream",
          "text": [
            "0\n",
            "1000\n",
            "2000\n",
            "torch.Size([2325, 79, 5])\n",
            "torch.Size([2325, 3])\n"
          ],
          "name": "stdout"
        }
      ]
    },
    {
      "metadata": {
        "id": "Ej1MNUfly5nZ",
        "colab_type": "code",
        "outputId": "9b91fbef-734b-450f-833f-464394503399",
        "colab": {
          "base_uri": "https://localhost:8080/",
          "height": 51
        }
      },
      "cell_type": "code",
      "source": [
        "# Validation\n",
        "val_data_tensor, val_label_tensor = get_model_inputs_c(df_val, W1, word2idx, 'tweet', 'subtask_c', max_len_tweet, embedding_dims)\n",
        "val_data_tensor_f = val_data_tensor.view(val_data_tensor.size(0), -1)\n",
        "\n",
        "# Testing\n",
        "test_data_tensor, test_label_tensor = get_model_inputs_c(df_test, W1, word2idx, 'tweet', 'subtask_c', max_len_tweet, embedding_dims)\n",
        "test_data_tensor_f = test_data_tensor.view(test_data_tensor.size(0), -1)\n"
      ],
      "execution_count": 0,
      "outputs": [
        {
          "output_type": "stream",
          "text": [
            "0\n",
            "0\n"
          ],
          "name": "stdout"
        }
      ]
    },
    {
      "metadata": {
        "id": "SgX5Cgicy5k2",
        "colab_type": "code",
        "outputId": "50f2ba5e-63d7-4ea5-c442-fe8d6516ecb2",
        "colab": {
          "base_uri": "https://localhost:8080/",
          "height": 34
        }
      },
      "cell_type": "code",
      "source": [
        "# Data loading\n",
        "# Training\n",
        "train_data_tensor_f = train_data_tensor.view(train_data_tensor.size(0), -1)\n",
        "print(train_data_tensor_f.shape)\n",
        "train_data = TensorDataset(train_data_tensor_f, train_label_tensor)\n",
        "train_dl = DataLoader(train_data, batch_size = batch_size)"
      ],
      "execution_count": 0,
      "outputs": [
        {
          "output_type": "stream",
          "text": [
            "torch.Size([2325, 395])\n"
          ],
          "name": "stdout"
        }
      ]
    },
    {
      "metadata": {
        "id": "p91vXUXcy5iL",
        "colab_type": "code",
        "outputId": "7c58f62a-aadd-4893-e6b3-6cb38b09697f",
        "colab": {
          "base_uri": "https://localhost:8080/",
          "height": 697
        }
      },
      "cell_type": "code",
      "source": [
        "output_dim = 3\n",
        "lr = 0.01 # Learning rate \n",
        "\n",
        "def mult_accuracy(output, target):\n",
        "    acc_list = []\n",
        "    for i in range(3):\n",
        "      acc_list += [accuracy(torch.round(output[:, i]), target[:, i])]\n",
        "    return sum(acc_list) / len(acc_list)\n",
        "\n",
        "\n",
        "# recall input parameters to our model\n",
        "#embedding_dim, hidden_dim, vocab_size, max_len, num_classes\n",
        "# max_len is the maximum length of the input sentences as we defined during padding\n",
        "\n",
        "# Set seed for reproducible results\n",
        "torch.manual_seed(24)\n",
        "\n",
        "# Create the neural network\n",
        "model = FFNN(embedding_dim, hidden_dim, input_dim, max_len_tweet, output_dim)\n",
        "\n",
        "# we use the stochastic gradient descent (SGD) optimizer\n",
        "optimizer = optim.SGD(model.parameters(), lr = lr)\n",
        "\n",
        "# we use the binary cross-entropy loss with sigmoid (applied to logits) \n",
        "#Recall we did not apply any activation to our output layer, we need to make our outputs look like probality.\n",
        "loss_func = nn.BCEWithLogitsLoss() # Binary cross-entropy loss with sigmoid as a loss function\n",
        "\n",
        "# Save loss results per epoch for plots\n",
        "train_loss_history, val_loss_history = [], []\n",
        "# Train the neural network\n",
        "for epoch in range(1, epochs+1):\n",
        "  \n",
        "  #to ensure the dropout (exlained later) is \"turned on\" while training\n",
        "  #good practice to include even if do not use here\n",
        "  model.train()\n",
        "  \n",
        "  for X_batch, y_batch in train_dl:\n",
        "      #print(X_batch.shape)\n",
        "      # squeeze is needed as the predictions are initially size (batch size, 1) and we need to remove the dimension of size 1 \n",
        "      pred = model(X_batch).squeeze(1)\n",
        "      loss = loss_func(pred, y_batch)\n",
        "      \n",
        "      acc = mult_accuracy(pred, y_batch)\n",
        "\n",
        "      loss.backward()\n",
        "      optimizer.step() # Updates the parameters thanks to the gradient\n",
        "      optimizer.zero_grad() # Clears the gradients\n",
        "      \n",
        "  epoch_loss = loss.item()\n",
        "  epoch_acc = acc\n",
        "      \n",
        "        \n",
        "  # Training log\n",
        "  print(f'| Epoch: {epoch:02} | Train Loss: {epoch_loss:.3f} | Train Acc: {epoch_acc*100:.2f}%')\n",
        "  train_loss_history += [epoch_loss]\n",
        "  \n",
        "  # On the validation dataset\n",
        "  model.eval()\n",
        "  with torch.no_grad():\n",
        "    pred_val = model(val_data_tensor_f).squeeze(1)\n",
        "    loss_val = loss_func(pred_val, val_label_tensor)\n",
        "    acc_val = mult_accuracy(pred_val, val_label_tensor)\n",
        "    print(f'| Val Loss: {loss_val:.3f} | Test Acc: {acc_val*100:.2f}%')\n",
        "    val_loss_history += [loss_val]\n",
        "\n"
      ],
      "execution_count": 0,
      "outputs": [
        {
          "output_type": "stream",
          "text": [
            "| Epoch: 01 | Train Loss: 0.805 | Train Acc: 54.67%\n",
            "| Val Loss: 0.806 | Test Acc: 47.61%\n",
            "| Epoch: 02 | Train Loss: 0.803 | Train Acc: 60.00%\n",
            "| Val Loss: 0.804 | Test Acc: 56.00%\n",
            "| Epoch: 03 | Train Loss: 0.801 | Train Acc: 75.11%\n",
            "| Val Loss: 0.803 | Test Acc: 70.62%\n",
            "| Epoch: 04 | Train Loss: 0.800 | Train Acc: 80.44%\n",
            "| Val Loss: 0.802 | Test Acc: 72.90%\n",
            "| Epoch: 05 | Train Loss: 0.798 | Train Acc: 80.44%\n",
            "| Val Loss: 0.800 | Test Acc: 73.08%\n",
            "| Epoch: 06 | Train Loss: 0.796 | Train Acc: 80.44%\n",
            "| Val Loss: 0.799 | Test Acc: 73.08%\n",
            "| Epoch: 07 | Train Loss: 0.795 | Train Acc: 80.44%\n",
            "| Val Loss: 0.797 | Test Acc: 73.16%\n",
            "| Epoch: 08 | Train Loss: 0.793 | Train Acc: 80.44%\n",
            "| Val Loss: 0.796 | Test Acc: 73.16%\n",
            "| Epoch: 09 | Train Loss: 0.791 | Train Acc: 80.44%\n",
            "| Val Loss: 0.794 | Test Acc: 73.20%\n",
            "| Epoch: 10 | Train Loss: 0.790 | Train Acc: 80.44%\n",
            "| Val Loss: 0.793 | Test Acc: 73.20%\n",
            "| Epoch: 11 | Train Loss: 0.788 | Train Acc: 80.44%\n",
            "| Val Loss: 0.791 | Test Acc: 73.20%\n",
            "| Epoch: 12 | Train Loss: 0.786 | Train Acc: 80.44%\n",
            "| Val Loss: 0.790 | Test Acc: 73.20%\n",
            "| Epoch: 13 | Train Loss: 0.784 | Train Acc: 80.44%\n",
            "| Val Loss: 0.788 | Test Acc: 73.25%\n",
            "| Epoch: 14 | Train Loss: 0.782 | Train Acc: 80.44%\n",
            "| Val Loss: 0.786 | Test Acc: 73.25%\n",
            "| Epoch: 15 | Train Loss: 0.781 | Train Acc: 80.44%\n",
            "| Val Loss: 0.784 | Test Acc: 73.25%\n",
            "| Epoch: 16 | Train Loss: 0.779 | Train Acc: 80.44%\n",
            "| Val Loss: 0.783 | Test Acc: 73.25%\n",
            "| Epoch: 17 | Train Loss: 0.776 | Train Acc: 80.44%\n",
            "| Val Loss: 0.781 | Test Acc: 73.25%\n",
            "| Epoch: 18 | Train Loss: 0.774 | Train Acc: 80.44%\n",
            "| Val Loss: 0.779 | Test Acc: 73.25%\n",
            "| Epoch: 19 | Train Loss: 0.772 | Train Acc: 80.44%\n",
            "| Val Loss: 0.777 | Test Acc: 73.25%\n",
            "| Epoch: 20 | Train Loss: 0.770 | Train Acc: 80.44%\n",
            "| Val Loss: 0.775 | Test Acc: 73.25%\n"
          ],
          "name": "stdout"
        }
      ]
    },
    {
      "metadata": {
        "id": "P02jPJX0y5fq",
        "colab_type": "code",
        "outputId": "842bd437-304c-40a5-c0f3-e65037b3f0e7",
        "colab": {
          "base_uri": "https://localhost:8080/",
          "height": 391
        }
      },
      "cell_type": "code",
      "source": [
        "# Test\n",
        "print(test_data_tensor_f.shape)\n",
        "with torch.no_grad():\n",
        "  predictions = model(test_data_tensor_f).squeeze(1)\n",
        "  loss = loss_func(predictions, test_label_tensor)\n",
        "  acc = mult_accuracy(torch.round(predictions), test_label_tensor)\n",
        "  print(torch.round(predictions[0:10]))\n",
        "  print(test_label_tensor[0:10])\n",
        "  print(f'| Test Loss: {loss:.3f} | Test Acc: {acc*100:.2f}%')"
      ],
      "execution_count": 0,
      "outputs": [
        {
          "output_type": "stream",
          "text": [
            "torch.Size([776, 395])\n",
            "tensor([[0., 1., 0.],\n",
            "        [0., 1., 0.],\n",
            "        [0., 1., 0.],\n",
            "        [0., 1., 0.],\n",
            "        [0., 1., 0.],\n",
            "        [0., 1., 0.],\n",
            "        [0., 1., 0.],\n",
            "        [0., 1., 0.],\n",
            "        [0., 1., 0.],\n",
            "        [0., 1., 0.]])\n",
            "tensor([[0., 1., 0.],\n",
            "        [0., 1., 0.],\n",
            "        [0., 1., 0.],\n",
            "        [0., 1., 0.],\n",
            "        [0., 0., 1.],\n",
            "        [0., 1., 0.],\n",
            "        [0., 0., 1.],\n",
            "        [0., 1., 0.],\n",
            "        [1., 0., 0.],\n",
            "        [0., 1., 0.]])\n",
            "| Test Loss: 0.775 | Test Acc: 73.15%\n"
          ],
          "name": "stdout"
        }
      ]
    },
    {
      "metadata": {
        "id": "FOhYS8mxy5dC",
        "colab_type": "code",
        "outputId": "060e2a12-c4de-47f1-f663-c7d901bbd8c8",
        "colab": {
          "base_uri": "https://localhost:8080/",
          "height": 279
        }
      },
      "cell_type": "code",
      "source": [
        "plot_loss_curves(train_loss_history, val_loss_history)"
      ],
      "execution_count": 0,
      "outputs": [
        {
          "output_type": "display_data",
          "data": {
            "image/png": "[encoded data removed]",
            "text/plain": [
              "<Figure size 432x288 with 1 Axes>"
            ]
          },
          "metadata": {
            "tags": []
          }
        }
      ]
    },
    {
      "metadata": {
        "id": "xCYshhRNy5an",
        "colab_type": "code",
        "outputId": "271a0f73-0eae-427d-bd2d-f0ed3b9239eb",
        "colab": {
          "base_uri": "https://localhost:8080/",
          "height": 459
        }
      },
      "cell_type": "code",
      "source": [
        "# Confusion matrix\n",
        "print(torch.round(predictions[0:10]))\n",
        "print(torch.round(predictions[:, 1]).unique())\n",
        "y_pred = torch.round(predictions).detach().numpy().astype(int)\n",
        "print(y_pred)\n",
        "y_true = test_label_tensor.detach().numpy().astype(int)\n",
        "print(y_true)\n",
        "\n",
        "print(np.argmax(y_pred))\n",
        "  \n",
        "#confusion_matrix(test_label_tensor.detach().numpy(), torch.round(predictions).detach().numpy())"
      ],
      "execution_count": 0,
      "outputs": [
        {
          "output_type": "stream",
          "text": [
            "tensor([[0., 1., 0.],\n",
            "        [0., 1., 0.],\n",
            "        [0., 1., 0.],\n",
            "        [0., 1., 0.],\n",
            "        [0., 1., 0.],\n",
            "        [0., 1., 0.],\n",
            "        [0., 1., 0.],\n",
            "        [0., 1., 0.],\n",
            "        [0., 1., 0.],\n",
            "        [0., 1., 0.]])\n",
            "tensor([0., 1.])\n",
            "[[0 1 0]\n",
            " [0 1 0]\n",
            " [0 1 0]\n",
            " ...\n",
            " [0 1 0]\n",
            " [0 1 0]\n",
            " [0 1 0]]\n",
            "[[0 1 0]\n",
            " [0 1 0]\n",
            " [0 1 0]\n",
            " ...\n",
            " [1 0 0]\n",
            " [1 0 0]\n",
            " [1 0 0]]\n",
            "1\n"
          ],
          "name": "stdout"
        }
      ]
    },
    {
      "metadata": {
        "id": "wmnQ8qNGy5X7",
        "colab_type": "code",
        "colab": {}
      },
      "cell_type": "code",
      "source": [
        ""
      ],
      "execution_count": 0,
      "outputs": []
    },
    {
      "metadata": {
        "id": "hXDtknqXy5VZ",
        "colab_type": "code",
        "colab": {}
      },
      "cell_type": "code",
      "source": [
        ""
      ],
      "execution_count": 0,
      "outputs": []
    },
    {
      "metadata": {
        "id": "qX0C93Iyy5TF",
        "colab_type": "code",
        "colab": {}
      },
      "cell_type": "code",
      "source": [
        ""
      ],
      "execution_count": 0,
      "outputs": []
    }
  ]
}