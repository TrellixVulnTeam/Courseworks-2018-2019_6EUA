{
  "nbformat": 4,
  "nbformat_minor": 0,
  "metadata": {
    "colab": {
      "name": "460cw3.ipynb",
      "version": "0.3.2",
      "provenance": [],
      "collapsed_sections": []
    },
    "kernelspec": {
      "name": "python3",
      "display_name": "Python 3"
    },
    "accelerator": "GPU"
  },
  "cells": [
    {
      "metadata": {
        "id": "MGiO7syxf9Rh",
        "colab_type": "text"
      },
      "cell_type": "markdown",
      "source": [
        "# Coursework 3: Generative Models\n",
        "\n",
        "#### Instructions\n",
        "\n",
        "Please submit on CATe a zip file named *CW3.zip* containing the following:\n",
        "1. A version of this notebook containing your answers. Write your answers in the cells below each question.\n",
        "2. Your trained models as *CAE_model.pth, DCGAN_model_D.pth, DCGAN_model_G.pth*\n",
        "3. You training losses as *train_losses_CAE.npy*, *train_losses_D.npy*, *train_losses_G.npy*\n",
        "\n",
        "#### Working environment:\n",
        "\n",
        "Similarly to the previous coursework, we recommend that you use Google Colaboratory in order to train the required networks.\n",
        "\n",
        "**The deadline for submission is 19:00, Thursday 28th February, 2019**"
      ]
    },
    {
      "metadata": {
        "id": "z8HxqENzf9Ri",
        "colab_type": "text"
      },
      "cell_type": "markdown",
      "source": [
        "## Introduction\n",
        "\n",
        "For this coursework you are asked to implement two commonly used generative models:\n",
        "1. A **Convolutional Autoencoder (CAE)**\n",
        "2. A **Deep Convolutional Generative Adversarial Network (DCGAN)**\n",
        "\n",
        "The dataset you will be using is the CIFAR-10 (https://www.cs.toronto.edu/~kriz/cifar.html).\n",
        "\n",
        "## Part 1 (50 points)\n",
        "\n",
        "1. For the CAE, the success of your models will be tested as follows:\n",
        "    - **By the autoencoders' reconstruction error**. You will need to achieve a low enough error in order to reconstruct the images of the dataset with relatively high fidelity. You will have to provide us with your best model's training loss curve, reconstruction error on the test set and some reconstructed images in the respective cells.\n",
        "    - **By the representation learning capabilities of your model**. In particular, autoencoders are known to be able to learn quite informative features in their latent space (embeddings) that can later be used for downstream tasks. In this coursework you are asked to use the representations that your pre-trained encoder yields in order to do image classification. You can use your favourite classification module on top of the features in order to solve the problem *(Hint: a simple Support Vector Machine - SVM - is acceptable. Alternatively, you can devise more complex models such as a Multilayer Fully Connected Network)*.\n",
        " \n",
        "## Part 2 (50 points)\n",
        "2. For the DCGAN, The success of your models will be tested as follows:\n",
        "    - **By the model's training error**. You will need to achieve relatively balanced errors for the generator and the discriminator of your model in order to sample realistic images from the generator. You will have to provide us with your best model's training losses curves, a discussion on how you concluded to the chosen architecture, and visualizations of generated samples in the respective cells. Your results do not have to be perfect, however a good discussion on the choice of architecture will be valued.\n",
        "    - **By avoiding mode collapse**. A common problem of training GANs is that they end up generating only a few different samples (if not only one), rather than learning the whole distribution of the training data. This problem is referred to as mode collapse. You will need to make a discussion on whether you noticed mode collapse or not during your experimentation and if yes, how you addressed it.\n"
      ]
    },
    {
      "metadata": {
        "colab_type": "code",
        "id": "uFEt7wGXP_aE",
        "colab": {}
      },
      "cell_type": "code",
      "source": [
        "import os\n",
        "import numpy as np\n",
        "import torch\n",
        "import torch.nn as nn\n",
        "from torch.utils.data import DataLoader\n",
        "from torch.utils.data import sampler\n",
        "from torchvision import datasets, transforms\n",
        "from torchvision.utils import save_image, make_grid\n",
        "import torch.nn.functional as F\n",
        "import matplotlib.pyplot as plt\n",
        "\n",
        "\n",
        "def denorm(x, channels=None, w=None ,h=None, resize = False):\n",
        "    x = 0.5 * (x + 1)\n",
        "    x = x.clamp(0, 1)\n",
        "    if resize:\n",
        "        if channels is None or w is None or h is None:\n",
        "            print('Number of channels, width and height must be provided for resize.')\n",
        "        x = x.view(x.size(0), channels, w, h)\n",
        "    return x\n",
        "\n",
        "def show(img):\n",
        "    if torch.cuda.is_available():\n",
        "        img = img.cpu()\n",
        "    npimg = img.numpy()\n",
        "    plt.imshow(np.transpose(npimg, (1,2,0)))\n"
      ],
      "execution_count": 0,
      "outputs": []
    },
    {
      "metadata": {
        "colab_type": "text",
        "id": "Q7chG5g8RmXb"
      },
      "cell_type": "markdown",
      "source": [
        "### Device Selection"
      ]
    },
    {
      "metadata": {
        "colab_type": "code",
        "id": "zi6L64YuQsLS",
        "outputId": "8a540161-931f-4c50-9eef-023a45030082",
        "colab": {
          "base_uri": "https://localhost:8080/",
          "height": 34
        }
      },
      "cell_type": "code",
      "source": [
        "GPU = True\n",
        "device_idx = 0 #1\n",
        "if GPU:\n",
        "    device = torch.device(\"cuda:\" + str(device_idx) if torch.cuda.is_available() else \"cpu\")\n",
        "else:\n",
        "    device = torch.device(\"cpu\")\n",
        "print(device)"
      ],
      "execution_count": 65,
      "outputs": [
        {
          "output_type": "stream",
          "text": [
            "cuda:0\n"
          ],
          "name": "stdout"
        }
      ]
    },
    {
      "metadata": {
        "id": "Z4Y8Ulh0f9Rt",
        "colab_type": "text"
      },
      "cell_type": "markdown",
      "source": [
        "### Reproducibility"
      ]
    },
    {
      "metadata": {
        "scrolled": true,
        "id": "DPyOrZOBf9Ru",
        "colab_type": "code",
        "colab": {
          "base_uri": "https://localhost:8080/",
          "height": 34
        },
        "outputId": "33eef1db-5339-45eb-f742-45a8821159ba"
      },
      "cell_type": "code",
      "source": [
        "# We set a random seed to ensure that your results are reproducible.\n",
        "if torch.cuda.is_available():\n",
        "    torch.backends.cudnn.deterministic = True\n",
        "torch.manual_seed(0)"
      ],
      "execution_count": 66,
      "outputs": [
        {
          "output_type": "execute_result",
          "data": {
            "text/plain": [
              "<torch._C.Generator at 0x7f7d2296b3b0>"
            ]
          },
          "metadata": {
            "tags": []
          },
          "execution_count": 66
        }
      ]
    },
    {
      "metadata": {
        "id": "QQJ_n5t3f9Rx",
        "colab_type": "text"
      },
      "cell_type": "markdown",
      "source": [
        "### Data loading"
      ]
    },
    {
      "metadata": {
        "id": "sf9Ii2Pkf9Rx",
        "colab_type": "code",
        "colab": {
          "base_uri": "https://localhost:8080/",
          "height": 68
        },
        "outputId": "710d2693-7551-4f40-ddf4-f05c4cb7b34a"
      },
      "cell_type": "code",
      "source": [
        "batch_size = 128\n",
        "\n",
        "if not os.path.exists('./CW/CAE'):\n",
        "    os.makedirs('./CW/CAE')\n",
        "if not os.path.exists('./CW/DCGAN'):\n",
        "    os.makedirs('./CW/DCGAN')\n",
        "\n",
        "\n",
        "NUM_TRAIN = 49000\n",
        "\n",
        "transform = transforms.Compose([\n",
        "     transforms.ToTensor(),\n",
        "     transforms.Normalize(mean=(0.5, 0.5, 0.5), std=(0.5, 0.5, 0.5))\n",
        "])\n",
        "\n",
        "\n",
        "data_dir = './datasets'\n",
        "cifar10_train = datasets.CIFAR10(data_dir, train=True, download=True,\n",
        "                             transform=transform)\n",
        "cifar10_val = datasets.CIFAR10(data_dir, train=True, download=True,\n",
        "                           transform=transform)\n",
        "cifar10_test = datasets.CIFAR10(data_dir, train=False, download=True, \n",
        "                            transform=transform)\n",
        "\n",
        "loader_train = DataLoader(cifar10_train, batch_size=batch_size, \n",
        "                          sampler=sampler.SubsetRandomSampler(range(NUM_TRAIN)))\n",
        "loader_val = DataLoader(cifar10_val, batch_size=batch_size, \n",
        "                        sampler=sampler.SubsetRandomSampler(range(NUM_TRAIN, 50000)))\n",
        "loader_test = DataLoader(cifar10_test, batch_size=batch_size)\n",
        "\n",
        "it = iter(loader_test)\n",
        "sample_inputs, _ = next(it)\n",
        "fixed_input = sample_inputs[0:32, :, :, :]\n",
        "save_image(denorm(fixed_input), './CW/CAE/input_sample.png')"
      ],
      "execution_count": 67,
      "outputs": [
        {
          "output_type": "stream",
          "text": [
            "Files already downloaded and verified\n",
            "Files already downloaded and verified\n",
            "Files already downloaded and verified\n"
          ],
          "name": "stdout"
        }
      ]
    },
    {
      "metadata": {
        "id": "j2bIOJPdf9Rz",
        "colab_type": "text"
      },
      "cell_type": "markdown",
      "source": [
        "## Part 1 - Convolutional Autoencoder"
      ]
    },
    {
      "metadata": {
        "id": "Vts3Glb4f9R0",
        "colab_type": "text"
      },
      "cell_type": "markdown",
      "source": [
        "### Part 1.1 (30 points)\n",
        "**Your Task**: \n",
        "\n",
        "a. Implement the CAE architecture. Fill in the missing parts in the cells below in order to complete the CAE class. You will need to define:\n",
        "\n",
        "- The hyperparameters\n",
        "- The constructor\n",
        "- `encode`\n",
        "- `decode`\n",
        "\n",
        "b. Plot your training loss curve (x-axis: epochs, y-axis: loss)\n",
        "\n",
        "c. Calculate the reconstruction error on your test set\n",
        "\n",
        "d. Visualize a subset of the images of the test set and their reconstructions\n",
        "\n",
        "For b., c. and d. the code is already given. Make sure that the version of the notebook you deliver includes these results. \n",
        "\n",
        "Some reccomendations:\n",
        "- add several convolutional layers (3-4).\n",
        "- accelerate training with batch normalization after every convolutional layer or fully connected layer.\n",
        "- use the appropriate activation functions. \n",
        "- Encoder module: hierarchially downsample your images with pooling layers, or strided convolutions.\n",
        "- Decoder module: the upsampling can be done with various methods, such as nearest neighbor upsampling (`torch.nn.Upsample`) or transposed convolutions(`torch.nn.ConvTranspose2d`). \n",
        "\n",
        "Try to follow the common practices for CNNs (e.g small receptive fields, max pooling, RELU activations), in order to narrow down your possible choices. **You will need to choose sufficiently large size for your latent vectors (hidden_size variable), in order to allow enough capacity for your network to represent the data.**\n",
        "\n",
        "The number of epochs that will be needed in order to train the network will vary depending on your choices. In most of the cases, it will be a long procedure (a few hours), so you can leave your notebook running until the training converges.  You don't need to train the network to an extreme if you don't have the time. As an advice, we recommend that while experimenting you should allow around 20 epochs and if the loss doesn't sufficiently drop, restart the training with a more powerful architecture."
      ]
    },
    {
      "metadata": {
        "id": "BjLPm4Uyf9R1",
        "colab_type": "text"
      },
      "cell_type": "markdown",
      "source": [
        "### Hyper-parameter selection"
      ]
    },
    {
      "metadata": {
        "id": "apVKP3adf9R1",
        "colab_type": "code",
        "colab": {}
      },
      "cell_type": "code",
      "source": [
        "# *CODE FOR PART 1.1 IN THIS CELL*\n",
        "\n",
        "### Choose the number of epochs and the learning rate.\n",
        "num_epochs = 20\n",
        "learning_rate  = 0.01\n",
        "###\n",
        "\n",
        "# Define here other hyperparameters that you used.\n"
      ],
      "execution_count": 0,
      "outputs": []
    },
    {
      "metadata": {
        "id": "eUIy9o-uf9R3",
        "colab_type": "text"
      },
      "cell_type": "markdown",
      "source": [
        "### Define model"
      ]
    },
    {
      "metadata": {
        "id": "7JEqqA62f9R4",
        "colab_type": "code",
        "colab": {}
      },
      "cell_type": "code",
      "source": [
        "# *CODE FOR PART 1.1 IN THIS CELL*\n",
        "\n",
        "### Choose a value for the latent space dimension and use it in your model\n",
        "hidden_size = None\n",
        "###\n",
        "\n",
        "class CAE(nn.Module):\n",
        "    def __init__(self):\n",
        "        super(CAE, self).__init__()\n",
        "        \n",
        "        #######################################################################\n",
        "        #                       ** START OF YOUR CODE **\n",
        "        #######################################################################\n",
        "        # Encoding\n",
        "        self.conv1 = nn.Conv2d(3, 6, 5)\n",
        "        self.pool = nn.MaxPool2d(2, 2)\n",
        "        self.norm1 = nn.BatchNorm2d(6)\n",
        "        \n",
        "        self.conv2 = nn.Conv2d(6, 12, 5)\n",
        "        self.norm2 = nn.BatchNorm2d(12)\n",
        "        \n",
        "        self.lin1 = nn.Linear(12 * 5 * 5, 512)\n",
        "        self.norm3 = nn.BatchNorm1d(512)\n",
        "        \n",
        "        self.lin2 = nn.Linear(512, 256)\n",
        "        self.norm4 = nn.BatchNorm1d(256)\n",
        "        \n",
        "        \n",
        "        # Decoding\n",
        "        self.lin3 = nn.Linear(256, 512)\n",
        "        \n",
        "        self.lin4 = nn.Linear(512, 12 * 10 * 10)\n",
        "        \n",
        "        self.unpool = nn.MaxUnpool2d(2, 2)\n",
        "        self.convtr1 = nn.ConvTranspose2d(12, 6, 10)\n",
        "        \n",
        "        self.convtr2 = nn.ConvTranspose2d(6, 3, 14)\n",
        "        \n",
        "        #######################################################################\n",
        "        #                       ** END OF YOUR CODE **\n",
        "        #######################################################################       \n",
        "\n",
        "    def encode(self, x):\n",
        "        \n",
        "        #######################################################################\n",
        "        #                       ** START OF YOUR CODE **\n",
        "        #######################################################################\n",
        "        \n",
        "        x = F.relu(self.conv1(x))\n",
        "        x = self.pool(x)\n",
        "        x = self.norm1(x)\n",
        "        \n",
        "        #print(x.shape)\n",
        "        x = F.relu(self.conv2(x))\n",
        "        x = self.pool(x)\n",
        "        x = self.norm2(x)\n",
        "        \n",
        "        #print(x.shape)\n",
        "        x = x.view(-1, 12 * 5 * 5)\n",
        "        x = F.relu(self.lin1(x))\n",
        "        x = self.norm3(x)\n",
        "        \n",
        "        x = F.relu(self.lin2(x))\n",
        "        x = self.norm4(x)\n",
        "        \n",
        "        return x\n",
        "        #######################################################################\n",
        "        #                       ** END OF YOUR CODE **\n",
        "        #######################################################################   \n",
        "    \n",
        "    def decode(self, z):\n",
        "        \n",
        "        #######################################################################\n",
        "        #                       ** START OF YOUR CODE **\n",
        "        #######################################################################\n",
        "        z = F.relu(self.lin3(z))\n",
        "        z = self.norm3(z)\n",
        "        z = F.relu(self.lin4(z))\n",
        "        #z = self.norm2(z)\n",
        "        \n",
        "        z = z.view(-1, 12, 10, 10)\n",
        "        #z = self.unpool(z)\n",
        "        z = F.relu(self.convtr1(z))\n",
        "        #z = self.unpool(z)\n",
        "        z = F.relu(self.convtr2(z))\n",
        "        \n",
        "        return z\n",
        "        #######################################################################\n",
        "        #                       ** END OF YOUR CODE **\n",
        "        #######################################################################      \n",
        "\n",
        "    def forward(self, x):\n",
        "        #print(x.shape)\n",
        "        z = self.encode(x)\n",
        "        #print(z.shape)\n",
        "        recon = self.decode(z)\n",
        "        #print(recon.shape)\n",
        "        return recon"
      ],
      "execution_count": 0,
      "outputs": []
    },
    {
      "metadata": {
        "id": "zKQvn591f9R7",
        "colab_type": "text"
      },
      "cell_type": "markdown",
      "source": [
        "### Define Loss function"
      ]
    },
    {
      "metadata": {
        "id": "WruRum7Ef9R7",
        "colab_type": "code",
        "colab": {}
      },
      "cell_type": "code",
      "source": [
        "criterion = nn.MSELoss(reduction='mean')  # can we use any other loss here? You are free to choose.\n",
        "def loss_function_CAE(recon_x, x):\n",
        "    recon_loss = criterion(recon_x, x)\n",
        "    return recon_loss"
      ],
      "execution_count": 0,
      "outputs": []
    },
    {
      "metadata": {
        "id": "s2EQ4foNf9SA",
        "colab_type": "text"
      },
      "cell_type": "markdown",
      "source": [
        "### Initialize Model and print number of parameters"
      ]
    },
    {
      "metadata": {
        "id": "v5tpe5_Cf9SB",
        "colab_type": "code",
        "colab": {
          "base_uri": "https://localhost:8080/",
          "height": 306
        },
        "outputId": "57122b99-fbea-454b-e6d6-ca0e8b222195"
      },
      "cell_type": "code",
      "source": [
        "model = CAE().to(device)\n",
        "params = sum(p.numel() for p in model.parameters() if p.requires_grad)\n",
        "print(\"Total number of parameters is: {}\".format(params))\n",
        "print(model)"
      ],
      "execution_count": 71,
      "outputs": [
        {
          "output_type": "stream",
          "text": [
            "Total number of parameters is: 1047201\n",
            "CAE(\n",
            "  (conv1): Conv2d(3, 6, kernel_size=(5, 5), stride=(1, 1))\n",
            "  (pool): MaxPool2d(kernel_size=2, stride=2, padding=0, dilation=1, ceil_mode=False)\n",
            "  (norm1): BatchNorm2d(6, eps=1e-05, momentum=0.1, affine=True, track_running_stats=True)\n",
            "  (conv2): Conv2d(6, 12, kernel_size=(5, 5), stride=(1, 1))\n",
            "  (norm2): BatchNorm2d(12, eps=1e-05, momentum=0.1, affine=True, track_running_stats=True)\n",
            "  (lin1): Linear(in_features=300, out_features=512, bias=True)\n",
            "  (norm3): BatchNorm1d(512, eps=1e-05, momentum=0.1, affine=True, track_running_stats=True)\n",
            "  (lin2): Linear(in_features=512, out_features=256, bias=True)\n",
            "  (norm4): BatchNorm1d(256, eps=1e-05, momentum=0.1, affine=True, track_running_stats=True)\n",
            "  (lin3): Linear(in_features=256, out_features=512, bias=True)\n",
            "  (lin4): Linear(in_features=512, out_features=1200, bias=True)\n",
            "  (unpool): MaxUnpool2d(kernel_size=(2, 2), stride=(2, 2), padding=(0, 0))\n",
            "  (convtr1): ConvTranspose2d(12, 6, kernel_size=(10, 10), stride=(1, 1))\n",
            "  (convtr2): ConvTranspose2d(6, 3, kernel_size=(14, 14), stride=(1, 1))\n",
            ")\n"
          ],
          "name": "stdout"
        }
      ]
    },
    {
      "metadata": {
        "id": "GbsWlfhwf9SD",
        "colab_type": "text"
      },
      "cell_type": "markdown",
      "source": [
        "### Choose and initialize optimizer"
      ]
    },
    {
      "metadata": {
        "id": "Mo5E1-rEf9SD",
        "colab_type": "code",
        "colab": {}
      },
      "cell_type": "code",
      "source": [
        "# You are free to add a scheduler or change the optimizer if you want. We chose one for you for simplicity.\n",
        "optimizer = torch.optim.Adam(model.parameters(), lr=learning_rate)"
      ],
      "execution_count": 0,
      "outputs": []
    },
    {
      "metadata": {
        "id": "EdjZ91pKf9SF",
        "colab_type": "text"
      },
      "cell_type": "markdown",
      "source": [
        "### Train"
      ]
    },
    {
      "metadata": {
        "id": "o9otMrzKf9SG",
        "colab_type": "code",
        "colab": {
          "base_uri": "https://localhost:8080/",
          "height": 357
        },
        "outputId": "29159745-4949-42a5-86d9-f07e81e2ba09"
      },
      "cell_type": "code",
      "source": [
        "train_losses = []\n",
        "model.train()\n",
        "for epoch in range(num_epochs):\n",
        "    train_loss = 0\n",
        "    for batch_idx, data in enumerate(loader_train):\n",
        "        img, _ = data\n",
        "        img = img.to(device)\n",
        "        optimizer.zero_grad()\n",
        "        # forward\n",
        "        recon_batch = model(img)\n",
        "        loss = loss_function_CAE(recon_batch, img)\n",
        "        # backward\n",
        "        loss.backward()\n",
        "        train_loss += loss.item()\n",
        "        optimizer.step()\n",
        "    # print out losses and save reconstructions for every epoch\n",
        "    print('epoch [{}/{}], loss:{:.4f}'\n",
        "          .format(epoch + 1, num_epochs, train_loss / len(loader_train)))\n",
        "    recon = model(fixed_input.to(device))\n",
        "    recon = denorm(recon.cpu())\n",
        "    save_image(recon, './CW/CAE/reconstructed_epoch_{}.png'.format(epoch))\n",
        "    train_losses.append(train_loss/ len(loader_train))\n",
        "\n",
        "# save the model and the loss values\n",
        "np.save('./CW/CAE/train_losses.npy', np.array(train_losses))\n",
        "torch.save(model.state_dict(), './CW/CAE/CAE_model.pth')"
      ],
      "execution_count": 73,
      "outputs": [
        {
          "output_type": "stream",
          "text": [
            "epoch [1/20], loss:0.2228\n",
            "epoch [2/20], loss:0.2076\n",
            "epoch [3/20], loss:0.2042\n",
            "epoch [4/20], loss:0.2027\n",
            "epoch [5/20], loss:0.2019\n",
            "epoch [6/20], loss:0.2012\n",
            "epoch [7/20], loss:0.2008\n",
            "epoch [8/20], loss:0.2002\n",
            "epoch [9/20], loss:0.2001\n",
            "epoch [10/20], loss:0.1998\n",
            "epoch [11/20], loss:0.1998\n",
            "epoch [12/20], loss:0.1993\n",
            "epoch [13/20], loss:0.1991\n",
            "epoch [14/20], loss:0.1991\n",
            "epoch [15/20], loss:0.1988\n",
            "epoch [16/20], loss:0.1991\n",
            "epoch [17/20], loss:0.1988\n",
            "epoch [18/20], loss:0.1985\n",
            "epoch [19/20], loss:0.1983\n",
            "epoch [20/20], loss:0.1982\n"
          ],
          "name": "stdout"
        }
      ]
    },
    {
      "metadata": {
        "id": "kkqs5J_kf9SI",
        "colab_type": "text"
      },
      "cell_type": "markdown",
      "source": [
        "### Train loss curve"
      ]
    },
    {
      "metadata": {
        "id": "R2kXDr1df9SJ",
        "colab_type": "code",
        "colab": {
          "base_uri": "https://localhost:8080/",
          "height": 362
        },
        "outputId": "6ad7a28e-7e33-4898-e566-ed4c4b9ccc57"
      },
      "cell_type": "code",
      "source": [
        "import matplotlib.pyplot as plt\n",
        "train_losses = np.load('./CW/CAE/train_losses.npy')\n",
        "plt.plot(list(range(0,train_losses.shape[0])), train_losses)\n",
        "plt.title('Train Loss')\n",
        "plt.show()"
      ],
      "execution_count": 74,
      "outputs": [
        {
          "output_type": "display_data",
          "data": {
            "image/png": "[encoded data removed]",
            "text/plain": [
              "<Figure size 576x396 with 1 Axes>"
            ]
          },
          "metadata": {
            "tags": []
          }
        }
      ]
    },
    {
      "metadata": {
        "id": "Na7ai0T_f9SL",
        "colab_type": "text"
      },
      "cell_type": "markdown",
      "source": [
        "### Test set reconstruction error"
      ]
    },
    {
      "metadata": {
        "id": "Eiqzs67xf9SM",
        "colab_type": "code",
        "colab": {
          "base_uri": "https://localhost:8080/",
          "height": 34
        },
        "outputId": "a4f785d4-880e-405b-e941-bddcfb6ba6bb"
      },
      "cell_type": "code",
      "source": [
        "# load the model\n",
        "model.load_state_dict(torch.load('./CW/CAE/CAE_model.pth'))\n",
        "model.eval()\n",
        "test_loss = 0\n",
        "with torch.no_grad():\n",
        "    for i, data in enumerate(loader_test):\n",
        "        img,_ = data\n",
        "        img = img.to(device)\n",
        "        recon_batch = model(img)\n",
        "        test_loss += loss_function_CAE(recon_batch, img)\n",
        "    # loss calculated over the whole test set\n",
        "    test_loss /= len(loader_test.dataset)\n",
        "    print('Test set loss: {:.4f}'.format(test_loss))"
      ],
      "execution_count": 75,
      "outputs": [
        {
          "output_type": "stream",
          "text": [
            "Test set loss: 0.0018\n"
          ],
          "name": "stdout"
        }
      ]
    },
    {
      "metadata": {
        "id": "11F6CrzHf9SR",
        "colab_type": "text"
      },
      "cell_type": "markdown",
      "source": [
        "### Test set images and reconstructions"
      ]
    },
    {
      "metadata": {
        "id": "zscn569xf9SS",
        "colab_type": "code",
        "colab": {
          "base_uri": "https://localhost:8080/",
          "height": 276
        },
        "outputId": "bdc2b364-7aba-447d-85e2-72db22919347"
      },
      "cell_type": "code",
      "source": [
        "# load the model\n",
        "model.load_state_dict(torch.load('./CW/CAE/CAE_model.pth'))\n",
        "it = iter(loader_test)\n",
        "sample_inputs, _ = next(it)\n",
        "fixed_input = sample_inputs[0:32, :, :, :]\n",
        "\n",
        "# visualize the original images of the last batch of the test set\n",
        "img = make_grid(denorm(fixed_input), nrow=8, padding=2, normalize=False,\n",
        "                range=None, scale_each=False, pad_value=0)\n",
        "show(img)"
      ],
      "execution_count": 76,
      "outputs": [
        {
          "output_type": "display_data",
          "data": {
            "image/png": "[encoded data removed]",
            "text/plain": [
              "<Figure size 576x396 with 1 Axes>"
            ]
          },
          "metadata": {
            "tags": []
          }
        }
      ]
    },
    {
      "metadata": {
        "id": "KsFztjQbf9SV",
        "colab_type": "code",
        "colab": {
          "base_uri": "https://localhost:8080/",
          "height": 276
        },
        "outputId": "101e6e99-4807-4bd4-a33a-58db6ce7ac0d"
      },
      "cell_type": "code",
      "source": [
        "with torch.no_grad():\n",
        "    # visualize the reconstructed images of the last batch of test set\n",
        "    recon_batch = model(fixed_input.to(device)).cpu()\n",
        "    recon_batch = make_grid(denorm(recon_batch), nrow=8, padding=2, normalize=False,\n",
        "                            range=None, scale_each=False, pad_value=0)\n",
        "    show(recon_batch)"
      ],
      "execution_count": 77,
      "outputs": [
        {
          "output_type": "display_data",
          "data": {
            "image/png": "[encoded data removed]",
            "text/plain": [
              "<Figure size 576x396 with 1 Axes>"
            ]
          },
          "metadata": {
            "tags": []
          }
        }
      ]
    },
    {
      "metadata": {
        "id": "WdOHIZQqf9SX",
        "colab_type": "text"
      },
      "cell_type": "markdown",
      "source": [
        "### Part 1. 2 (20 points)\n",
        "**Your Task**: \n",
        "\n",
        "In this part of the exercise you will use your pretrained encoder as a feature extractor in order to solve a downstream task:\n",
        "* For every sample of your training set you will need to extract its latent representation by passing it through the encoder.\n",
        "* Create a classifier of your choice and train it with the extracted features in order to predict the class that each image belongs to. You can access the sample's classes as follows:\n",
        "\n",
        "`it = iter(loader_test)\n",
        "samples, classes = next(it)`\n",
        "* Use the encoder to encode all your test images into latent representations and then use your trained classifier to predict their classes\n",
        "* Print the accuracy of your model.\n",
        "\n",
        "The classifier can be trained with representations that do not yield very accurate reconstructions, so you can stop your training even if the reconstructed images are blurry. Also, note that you do not have to acheive high classification accuracy to get full marks for this question. Instead, focus on describing how you experimented in order to build your best classifier."
      ]
    },
    {
      "metadata": {
        "id": "B2AHjVAff9SY",
        "colab_type": "code",
        "colab": {
          "base_uri": "https://localhost:8080/",
          "height": 841
        },
        "outputId": "00a0bc99-6c44-472a-8ec2-76a560c1101d"
      },
      "cell_type": "code",
      "source": [
        "# *CODE FOR PART 1.2 IN THIS CELL*\n",
        "\n",
        "#######################################################################\n",
        "#                       ** START OF YOUR CODE **\n",
        "#######################################################################\n",
        "from torch.utils.data import TensorDataset\n",
        "from sklearn.metrics import accuracy_score, confusion_matrix\n",
        "\n",
        "torch.manual_seed(0)\n",
        "\n",
        "class ThreeClassify(nn.Module):\n",
        "    def __init__(self):\n",
        "        super(ThreeClassify, self).__init__()\n",
        "        self.lin1 = nn.Linear(256, 128)\n",
        "        self.lin2 = nn.Linear(128, 64)\n",
        "        self.lin3 = nn.Linear(64, 32)\n",
        "        self.lin4 = nn.Linear(32, 10)\n",
        "\n",
        "    def forward(self, x):\n",
        "        x = F.relu(self.lin1(x))\n",
        "        x = F.relu(self.lin2(x))\n",
        "        x = F.relu(self.lin3(x))\n",
        "        x = self.lin4(x)\n",
        "        return x\n",
        "      \n",
        "\n",
        "# Accuracy for a multiclass classification\n",
        "def accuracy_class(pred, torch_y_true):\n",
        "  y_pred = pred.argmax(dim = 1).detach().numpy().astype(int)\n",
        "  y_true = torch_y_true.detach().numpy().astype(int)\n",
        "  print(y_pred)\n",
        "  print(y_true)\n",
        "  acc = accuracy_score(y_true, y_pred)\n",
        "  #print(confusion_matrix(y_true, y_pred))\n",
        "  return acc\n",
        "      \n",
        "\n",
        "# Preparation of the input\n",
        "it_train = iter(loader_train) \n",
        "samples_train, classes_train = next(it_train)\n",
        "#print(samples_train.shape)\n",
        "input_train = model.encode(samples_train.to(device))\n",
        "#print(input_train.shape)\n",
        "#print(classes_train.shape)\n",
        "\n",
        "batch_size_class = 25\n",
        "train_data_class = TensorDataset(input_train, classes_train)\n",
        "train_dl_class = DataLoader(train_data_class, batch_size = batch_size_class)\n",
        "\n",
        "\n",
        "# Variables for the classification\n",
        "epochs_class = 100\n",
        "lr_class = 0.05\n",
        "m_class = 0.3\n",
        "\n",
        "# Classification\n",
        "model_class = ThreeClassify().to(device)\n",
        "opt_class = torch.optim.SGD(model_class.parameters(), lr = lr_class, momentum = m_class)\n",
        "loss_func_class = nn.CrossEntropyLoss() \n",
        "\n",
        "\n",
        "# Train the neural network\n",
        "for epoch in range(epochs_class):\n",
        "    train_loss_class = 0\n",
        "    # On the training dataset\n",
        "    model_class.train()\n",
        "    for batch_idx, (X_batch, y_batch) in enumerate(train_dl_class):\n",
        "        pred_class = model_class(X_batch.to(device))\n",
        "        #print(pred_class)\n",
        "        loss_class = loss_func_class(pred_class, y_batch.to(device))\n",
        "\n",
        "        loss_class.backward(retain_graph=True)\n",
        "        train_loss_class += loss_class.item()\n",
        "        opt_class.step() \n",
        "        opt_class.zero_grad()\n",
        "\n",
        "    # Training log\n",
        "    if epoch % 5 ==0:\n",
        "      print(\"Train Epoch: {:02d} -- Loss: {:.4f}\".format(epoch, train_loss_class / len(train_dl_class)))\n",
        "\n",
        "    \n",
        "model_class.eval()\n",
        "pred_train = model_class(input_train).cpu()\n",
        "print('Training accuracy:', accuracy_class(pred_train, classes_train))\n",
        "\n",
        "\n",
        "# Test\n",
        "it_test = iter(loader_test) \n",
        "samples_test, classes_test = next(it_test)\n",
        "input_test= model.encode(samples_test.to(device))\n",
        "print(samples_test.shape)\n",
        "#print(classes_test)\n",
        "\n",
        "pred_test = model_class(input_test).cpu()\n",
        "accuracy = accuracy_class(pred_test, classes_test)\n",
        "\n",
        "\n",
        "def imshow(img):\n",
        "    img = img / 2 + 0.5     # unnormalize\n",
        "    npimg = img.numpy()\n",
        "    plt.imshow(np.transpose(npimg, (1, 2, 0)))\n",
        "    plt.show()\n",
        "\n",
        "import torchvision\n",
        "# show images\n",
        "imshow(torchvision.utils.make_grid(samples_test[0:5]))\n",
        "\n",
        "classes = ('plane', 'car', 'bird', 'cat', 'deer', 'dog', 'frog', 'horse', 'ship', 'truck')\n",
        "y_pred = pred_test.argmax(dim = 1).detach().numpy().astype(int)\n",
        "y_true = classes_test.detach().numpy().astype(int)\n",
        "print('True labels:\\t', ' \\t'.join('%5s' % classes[y_true[j]] for j in range(5)))\n",
        "print('Predicted labels:\\t', ' \\t'.join('%5s' % classes[y_pred[j]] for j in range(5)))\n",
        "\n",
        "#######################################################################\n",
        "#                       ** END OF YOUR CODE **\n",
        "####################################################################### \n",
        "# name your accuracy variable as accuracy\n",
        "print('Classification accuracy: {:.4f}'.format(accuracy))"
      ],
      "execution_count": 79,
      "outputs": [
        {
          "output_type": "stream",
          "text": [
            "Train Epoch: 00 -- Loss: 2.3155\n",
            "Train Epoch: 05 -- Loss: 2.2265\n",
            "Train Epoch: 10 -- Loss: 2.1216\n",
            "Train Epoch: 15 -- Loss: 1.9505\n",
            "Train Epoch: 20 -- Loss: 1.7582\n",
            "Train Epoch: 25 -- Loss: 1.5459\n",
            "Train Epoch: 30 -- Loss: 1.3195\n",
            "Train Epoch: 35 -- Loss: 1.1829\n",
            "Train Epoch: 40 -- Loss: 1.1778\n",
            "Train Epoch: 45 -- Loss: 0.8444\n",
            "Train Epoch: 50 -- Loss: 0.7125\n",
            "Train Epoch: 55 -- Loss: 0.6238\n",
            "Train Epoch: 60 -- Loss: 0.5054\n",
            "Train Epoch: 65 -- Loss: 0.4456\n",
            "Train Epoch: 70 -- Loss: 0.5508\n",
            "Train Epoch: 75 -- Loss: 0.3141\n",
            "Train Epoch: 80 -- Loss: 0.1893\n",
            "Train Epoch: 85 -- Loss: 0.1537\n",
            "Train Epoch: 90 -- Loss: 0.1060\n",
            "Train Epoch: 95 -- Loss: 0.1093\n",
            "[3 1 9 5 0 5 8 6 6 2 7 1 7 6 2 2 2 5 5 6 5 6 6 6 6 9 5 4 7 0 0 1 5 8 1 8 1\n",
            " 1 7 3 6 6 9 5 9 0 4 9 3 6 9 6 4 7 3 6 3 3 2 3 8 0 1 8 0 6 6 2 3 6 5 0 0 8\n",
            " 1 4 6 1 3 8 3 7 2 5 2 6 1 0 3 2 4 9 1 3 9 2 8 0 5 4 7 0 3 8 3 5 7 2 4 4 9\n",
            " 4 8 4 7 7 2 7 9 5 0 2 3 0 2 4 2 3]\n",
            "[3 1 9 5 0 5 8 6 6 2 7 1 7 6 2 2 2 5 5 6 5 2 6 6 6 9 5 4 7 0 0 1 5 8 1 8 1\n",
            " 1 7 3 4 6 9 5 9 0 4 9 3 0 9 6 4 7 3 6 3 3 2 3 8 0 1 8 0 6 6 2 3 6 5 0 0 8\n",
            " 1 4 6 1 3 8 3 7 2 5 2 6 1 0 3 2 4 9 1 3 9 2 8 0 5 4 7 0 3 8 3 5 7 2 4 4 9\n",
            " 4 8 4 7 7 2 7 9 5 0 2 3 0 2 4 2 3]\n",
            "Training accuracy: 0.9765625\n",
            "torch.Size([128, 3, 32, 32])\n",
            "[5 1 9 0 3 9 0 6 0 8 6 1 0 7 1 5 6 6 1 6 9 3 6 9 5 1 2 9 4 6 6 6 0 6 4 7 4\n",
            " 8 6 6 0 4 9 0 6 7 3 6 6 6 2 2 6 3 5 8 2 6 5 3 3 6 6 9 9 3 6 8 1 5 8 6 8 4\n",
            " 1 0 9 3 2 1 8 0 4 7 2 3 3 0 4 9 0 8 2 7 6 7 6 3 3 3 3 6 6 2 0 1 3 6 0 3 8\n",
            " 6 8 6 9 9 4 8 6 3 5 6 6 3 1 3 1 3]\n",
            "[3 8 8 0 6 6 1 6 3 1 0 9 5 7 9 8 5 7 8 6 7 0 4 9 5 2 4 0 9 6 6 5 4 5 9 2 4\n",
            " 1 9 5 4 6 5 6 0 9 3 9 7 6 9 8 0 3 8 8 7 7 4 6 7 3 6 3 6 2 1 2 3 7 2 6 8 8\n",
            " 0 2 9 3 3 8 8 1 1 7 2 5 2 7 8 9 0 3 8 6 4 6 6 0 0 7 4 5 6 3 1 1 3 6 8 7 4\n",
            " 0 6 2 1 3 0 4 2 7 8 3 1 2 8 0 8 3]\n"
          ],
          "name": "stdout"
        },
        {
          "output_type": "display_data",
          "data": {
            "image/png": "[encoded data removed]",
            "text/plain": [
              "<Figure size 576x396 with 1 Axes>"
            ]
          },
          "metadata": {
            "tags": []
          }
        },
        {
          "output_type": "stream",
          "text": [
            "True labels:\t   cat \t ship \t ship \tplane \t frog\n",
            "Predicted labels:\t   dog \t  car \ttruck \tplane \t  cat\n",
            "Classification accuracy: 0.2266\n"
          ],
          "name": "stdout"
        }
      ]
    },
    {
      "metadata": {
        "id": "vQqOXNVvf9Sd",
        "colab_type": "text"
      },
      "cell_type": "markdown",
      "source": [
        "## Part 2 - Deep Convolutional GAN\n",
        "\n",
        "In this task, your main objective is to train a DCGAN (https://arxiv.org/abs/1511.06434) on the CIFAR-10 dataset. You should experiment with different architectures, tricks for stability in training (such as using different activation functions, batch normalization, different values for the hyper-parameters, etc.). In the end, you should provide us with: \n",
        "\n",
        "- your best trained model (which we will be able to run), \n",
        "- some generations for the fixed latent vectors $\\mathbf{z}\\sim \\mathcal{N}\\left(\\mathbf{0}, \\mathbf{I}\\right)$ we have provided you with (train for a number of epochs and make sure there is no mode collapse), \n",
        "- plos with the losses for the discriminator $D$ and the generator $G$ as the training progresses and explain whether your produced plots are theoretically sensible and why this is (or not) the case. \n",
        "- a discussion on whether you noticed any mode collapse, where this behaviour may be attributed to, and explain what you did in order to cope with mode collapse. \n",
        "\n",
        "_Clarification: You should not be worrying too much about getting an \"optimal\" performance on your trained GAN. We want you to demonstrate to us that you experimented with different types of DCGAN variations, report what difficulties transpired throughout the training process, etc. In other words, if we see that you provided us with a running implementation, that you detail different experimentations that you did before providing us with your best one, and that you have grapsed the concepts, you can still get full marks. The attached model does not have to be perfect._"
      ]
    },
    {
      "metadata": {
        "id": "5gjWyC4bf9Se",
        "colab_type": "text"
      },
      "cell_type": "markdown",
      "source": [
        "### Part 2.1 (30 points)\n",
        "**Your Task**: \n",
        "\n",
        "a. Implement the DCGAN architecture. Fill in the missing parts in the cells below in order to complete the Generator and Discriminator classes. You will need to define:\n",
        "\n",
        "- The hyperparameters\n",
        "- The constructors\n",
        "- `decode`\n",
        "- `discriminator`\n",
        "\n",
        "b. visualize images sampled from your best model's generator.\n",
        "\n",
        "c. Discuss the experimentations which led to your final architecture. You can plot losses or generated results by other architectures that you tested to back your arguments (but this is not necessary to get full marks).\n",
        "\n",
        "For b. the code is already given. Make sure that the version of the notebook you deliver includes these results. \n",
        "\n",
        "Recomendations for experimentation:\n",
        "- use the architecture that you implemented for the Autoencoder of Part 1 (encoder as discriminator, decoder as generator).\n",
        "- use the architecture desribed in the DCGAN paper (https://arxiv.org/abs/1511.06434).\n",
        "\n",
        "Some general reccomendations:\n",
        "- add several convolutional layers (3-4).\n",
        "- accelerate training with batch normalization after every convolutional layer.\n",
        "- use the appropriate activation functions. \n",
        "- Generator module: the upsampling can be done with various methods, such as nearest neighbor upsampling (`torch.nn.Upsample`) or transposed convolutions(`torch.nn.ConvTranspose2d`). \n",
        "- Discriminator module: Experiment with batch normalization (`torch.nn.BatchNorm2d`) and leaky relu (`torch.nn.LeakyReLu`) units after each convolutional layer.\n",
        "\n",
        "Try to follow the common practices for CNNs (e.g small receptive fields, max pooling, RELU activations), in order to narrow down your possible choices.\n",
        "\n",
        "The number of epochs that will be needed in order to train the network will vary depending on your choices. As an advice, we recommend that while experimenting you should allow around 20 epochs and if the loss doesn't sufficiently drop, restart the training with a more powerful architecture. You don't need to train the network to an extreme if you don't have the time."
      ]
    },
    {
      "metadata": {
        "id": "T8FbJiIcf9Sf",
        "colab_type": "text"
      },
      "cell_type": "markdown",
      "source": [
        "### Hyper-parameter selection"
      ]
    },
    {
      "metadata": {
        "id": "cPBizAKJf9Sf",
        "colab_type": "code",
        "colab": {}
      },
      "cell_type": "code",
      "source": [
        "# *CODE FOR PART 2.1 IN THIS CELL*\n",
        "\n",
        "### Choose the number of epoch, the learning rate\n",
        "#   and the size of the Generator's input noise vetor.\n",
        "num_epochs = None\n",
        "learning_rate  = None\n",
        "latent_vector_size = None\n",
        "###\n",
        "\n",
        "# Define here other hyperparameters that you used.\n"
      ],
      "execution_count": 0,
      "outputs": []
    },
    {
      "metadata": {
        "id": "ThkF9odmf9Si",
        "colab_type": "code",
        "colab": {}
      },
      "cell_type": "code",
      "source": [
        "# *CODE FOR PART 2.1 IN THIS CELL*\n",
        "\n",
        "\n",
        "class Generator(nn.Module):\n",
        "    def __init__(self):\n",
        "        super(Generator, self).__init__()\n",
        "        #######################################################################\n",
        "        #                       ** START OF YOUR CODE **\n",
        "        #######################################################################\n",
        "\n",
        "        #######################################################################\n",
        "        #                       ** END OF YOUR CODE **\n",
        "        ####################################################################### \n",
        "\n",
        "    def decode(self, z):\n",
        "        #######################################################################\n",
        "        #                       ** START OF YOUR CODE **\n",
        "        #######################################################################\n",
        "\n",
        "        #######################################################################\n",
        "        #                       ** END OF YOUR CODE **\n",
        "        ####################################################################### \n",
        "        return x\n",
        "\n",
        "    def forward(self, z):\n",
        "        return self.decode(z)\n",
        "\n",
        "\n",
        "class Discriminator(nn.Module):\n",
        "    def __init__(self):\n",
        "        super(Discriminator, self).__init__()\n",
        "        #######################################################################\n",
        "        #                       ** START OF YOUR CODE **\n",
        "        #######################################################################\n",
        "\n",
        "        #######################################################################\n",
        "        #                       ** END OF YOUR CODE **\n",
        "        ####################################################################### \n",
        "        \n",
        "    def discriminator(self, x):\n",
        "        #######################################################################\n",
        "        #                       ** START OF YOUR CODE **\n",
        "        #######################################################################\n",
        "\n",
        "        #######################################################################\n",
        "        #                       ** END OF YOUR CODE **\n",
        "        ####################################################################### \n",
        "        \n",
        "        return out\n",
        "\n",
        "    def forward(self, x):\n",
        "        out = self.discriminator(x)\n",
        "        return outs.view(-1, 1).squeeze(1)"
      ],
      "execution_count": 0,
      "outputs": []
    },
    {
      "metadata": {
        "id": "7OCwsP2Vf9Sj",
        "colab_type": "text"
      },
      "cell_type": "markdown",
      "source": [
        "### Initialize Model and print number of parameters"
      ]
    },
    {
      "metadata": {
        "id": "T5lKSAsEf9Sk",
        "colab_type": "text"
      },
      "cell_type": "markdown",
      "source": [
        "You can use method `weights_init` to initialize the weights of the Generator and Discriminator networks. Otherwise, implement your own initialization, or do not use at all. You will not be penalized for not using initialization."
      ]
    },
    {
      "metadata": {
        "id": "5T1SFyy5f9Sl",
        "colab_type": "code",
        "colab": {}
      },
      "cell_type": "code",
      "source": [
        "# custom weights initialization called on netG and netD\n",
        "def weights_init(m):\n",
        "    classname = m.__class__.__name__\n",
        "    if classname.find('Conv') != -1:\n",
        "        m.weight.data.normal_(0.0, 0.02)\n",
        "    elif classname.find('BatchNorm') != -1:\n",
        "        m.weight.data.normal_(1.0, 0.02)\n",
        "        m.bias.data.fill_(0)"
      ],
      "execution_count": 0,
      "outputs": []
    },
    {
      "metadata": {
        "id": "GdVpwuZCf9So",
        "colab_type": "code",
        "colab": {}
      },
      "cell_type": "code",
      "source": [
        "use_weights_init = True\n",
        "\n",
        "model_G = Generator().to(device)\n",
        "if use_weights_init:\n",
        "    model_G.apply(weights_init)\n",
        "params_G = sum(p.numel() for p in model_G.parameters() if p.requires_grad)\n",
        "print(\"Total number of parameters in Generator is: {}\".format(params_G))\n",
        "print(model_G)\n",
        "print('\\n')\n",
        "\n",
        "model_D = Discriminator().to(device)\n",
        "if use_weights_init:\n",
        "    model_D.apply(weights_init)\n",
        "params_D = sum(p.numel() for p in model_D.parameters() if p.requires_grad)\n",
        "print(\"Total number of parameters in Discriminator is: {}\".format(params_D))\n",
        "print(model_D)\n",
        "print('\\n')\n",
        "\n",
        "print(\"Total number of parameters is: {}\".format(params_G + params_D))"
      ],
      "execution_count": 0,
      "outputs": []
    },
    {
      "metadata": {
        "id": "8Szol60Jf9Sq",
        "colab_type": "text"
      },
      "cell_type": "markdown",
      "source": [
        "### Define loss function"
      ]
    },
    {
      "metadata": {
        "id": "OMfA5ta0f9Ss",
        "colab_type": "code",
        "colab": {}
      },
      "cell_type": "code",
      "source": [
        "criterion = nn.BCELoss(reduction='mean')\n",
        "def loss_function(out, label):\n",
        "    loss = criterion(out, label)\n",
        "    return loss"
      ],
      "execution_count": 0,
      "outputs": []
    },
    {
      "metadata": {
        "id": "8eMhIk-Of9Sy",
        "colab_type": "text"
      },
      "cell_type": "markdown",
      "source": [
        "### Choose and initialize optimizers"
      ]
    },
    {
      "metadata": {
        "id": "srV1L1Y1f9Sz",
        "colab_type": "code",
        "colab": {}
      },
      "cell_type": "code",
      "source": [
        "# setup optimizer\n",
        "# You are free to add a scheduler or change the optimizer if you want. We chose one for you for simplicity.\n",
        "beta1 = 0.5\n",
        "optimizerD = torch,optim.Adam(model_D.parameters(), lr=learning_rate, betas=(beta1, 0.999))\n",
        "optimizerG = torch.optim.Adam(model_G.parameters(), lr=learning_rate, betas=(beta1, 0.999))"
      ],
      "execution_count": 0,
      "outputs": []
    },
    {
      "metadata": {
        "id": "sbW1rBU-f9S2",
        "colab_type": "text"
      },
      "cell_type": "markdown",
      "source": [
        "### Define fixed input vectors to monitor training and mode collapse."
      ]
    },
    {
      "metadata": {
        "id": "Cinkt_hOf9S4",
        "colab_type": "code",
        "colab": {}
      },
      "cell_type": "code",
      "source": [
        "fixed_noise = torch.randn(batch_size, latent_vector_size, 1, 1, device=device)\n",
        "real_label = 1\n",
        "fake_label = 0"
      ],
      "execution_count": 0,
      "outputs": []
    },
    {
      "metadata": {
        "id": "284hLTDCf9S6",
        "colab_type": "text"
      },
      "cell_type": "markdown",
      "source": [
        "### Train"
      ]
    },
    {
      "metadata": {
        "id": "aB4Vql5Zf9S7",
        "colab_type": "code",
        "colab": {}
      },
      "cell_type": "code",
      "source": [
        "export_folder = './CW/DCGAN'\n",
        "train_losses_G = []\n",
        "train_losses_D = []\n",
        "\n",
        "for epoch in range(num_epochs):\n",
        "    for i, data in enumerate(loader_train, 0):\n",
        "        train_loss_D = 0\n",
        "        train_loss_G = 0\n",
        "        \n",
        "        ############################\n",
        "        # (1) Update D network: maximize log(D(x)) + log(1 - D(G(z)))\n",
        "        ###########################\n",
        "        # train with real\n",
        "        model_D.zero_grad()\n",
        "        real_cpu = data[0].to(device)\n",
        "        batch_size = real_cpu.size(0)\n",
        "        label = torch.full((batch_size,), real_label, device=device)\n",
        "\n",
        "        output = model_D(real_cpu)\n",
        "        errD_real = loss_function(output, label)\n",
        "        errD_real.backward()\n",
        "        D_x = output.mean().item()\n",
        "\n",
        "        # train with fake\n",
        "        noise = torch.randn(batch_size, latent_vector_size, 1, 1, device=device)\n",
        "        fake = model_G(noise)\n",
        "        label.fill_(fake_label)\n",
        "        output = model_D(fake.detach())\n",
        "        errD_fake = loss_function(output, label)\n",
        "        errD_fake.backward()\n",
        "        D_G_z1 = output.mean().item()\n",
        "        errD = errD_real + errD_fake\n",
        "        train_loss_D += errD.item()\n",
        "        optimizerD.step()\n",
        "\n",
        "        ############################\n",
        "        # (2) Update G network: maximize log(D(G(z)))\n",
        "        ###########################\n",
        "        model_G.zero_grad()\n",
        "        label.fill_(real_label)  # fake labels are real for generator cost\n",
        "        output = model_D(fake)\n",
        "        errG = loss_function(output, label)\n",
        "        errG.backward()\n",
        "        D_G_z2 = output.mean().item()\n",
        "        train_loss_G += errG.item()\n",
        "        optimizerG.step()\n",
        "\n",
        "        print('[%d/%d][%d/%d] Loss_D: %.4f Loss_G: %.4f D(x): %.4f D(G(z)): %.4f / %.4f'\n",
        "              % (epoch, num_epochs, i, len(loader_train),\n",
        "                 errD.item(), errG.item(), D_x, D_G_z1, D_G_z2))\n",
        "\n",
        "    if epoch == 0:\n",
        "        save_image(denorm(real_cpu.cpu()), './CW/DCGAN/real_samples.png')\n",
        "    \n",
        "    fake = model_G(fixed_noise)\n",
        "    save_image(denorm(fake.cpu()), './CW/DCGAN/fake_samples_epoch_%03d.png' % epoch)\n",
        "    train_losses_D.append(train_loss_D / len(loader_train))\n",
        "    train_losses_G.append(train_loss_G / len(loader_train))\n",
        "            \n",
        "# save losses and models\n",
        "np.save(np.array(train_losses_D),'./CW/DCGAN/train_losses_D.npy')\n",
        "np.save(np.array(train_losses_G),'./CW/DCGAN/train_losses_G.npy')\n",
        "torch.save(model_G.state_dict(), './CW/DCGAN/DCGAN_model_G.pth')\n",
        "torch.save(model_D.state_dict(), './CW/DCGAN/DCGAN_model_D.pth')"
      ],
      "execution_count": 0,
      "outputs": []
    },
    {
      "metadata": {
        "id": "cff2uenJf9S9",
        "colab_type": "code",
        "colab": {}
      },
      "cell_type": "code",
      "source": [
        "# DISCUSS THE SELECTION OF THE ARCHITECTURE IN THIS CELL*\n"
      ],
      "execution_count": 0,
      "outputs": []
    },
    {
      "metadata": {
        "id": "NPBMM6Sof9S_",
        "colab_type": "text"
      },
      "cell_type": "markdown",
      "source": [
        "### Generator samples"
      ]
    },
    {
      "metadata": {
        "id": "h89_Fvj9f9TA",
        "colab_type": "code",
        "colab": {}
      },
      "cell_type": "code",
      "source": [
        "it = iter(loader_test)\n",
        "sample_inputs, _ = next(it)\n",
        "fixed_input = sample_inputs[0:32, :, :, :]\n",
        "\n",
        "# visualize the original images of the last batch of the test set\n",
        "img = make_grid(denorm(fixed_input), nrow=4, padding=2, normalize=False,\n",
        "                range=None, scale_each=False, pad_value=0)\n",
        "show(img)"
      ],
      "execution_count": 0,
      "outputs": []
    },
    {
      "metadata": {
        "id": "REPeDdAyf9TD",
        "colab_type": "code",
        "colab": {}
      },
      "cell_type": "code",
      "source": [
        "# load the model\n",
        "model_G.load_state_dict(torch.load('./CW/DCGAN/DCGAN_model_G.pth'))\n",
        "input_noise = torch.randn(batch_size, latent_vector_size, 1, 1, device=device)\n",
        "\n",
        "with torch.no_grad():\n",
        "    # visualize the generated images\n",
        "    generated = model_G(input_noise).cpu()\n",
        "    generated = make_grid(denorm(generated)[:32], nrow=8, padding=2, normalize=False, \n",
        "                        range=None, scale_each=False, pad_value=0)\n",
        "    show(generated)"
      ],
      "execution_count": 0,
      "outputs": []
    },
    {
      "metadata": {
        "id": "ckrfrtYGf9TE",
        "colab_type": "text"
      },
      "cell_type": "markdown",
      "source": [
        "### Part 2.2 (10 points)"
      ]
    },
    {
      "metadata": {
        "id": "R8RY7PStf9TF",
        "colab_type": "text"
      },
      "cell_type": "markdown",
      "source": [
        "### Train losses curves\n",
        "**Your task:**\n",
        "\n",
        "\n",
        "Plot the losses curves for the discriminator $D$ and the generator $G$ as the training progresses and explain whether the produced curves are theoretically sensible and why this is (or not) the case (x-axis: epochs, y-axis: loss).\n",
        "\n",
        "The code for generating the plot is already given. Make sure that the version of the notebook you deliver includes these results."
      ]
    },
    {
      "metadata": {
        "id": "2Eecs8ktf9TF",
        "colab_type": "code",
        "colab": {}
      },
      "cell_type": "code",
      "source": [
        "import matplotlib.pyplot as plt\n",
        "train_losses_D = np.load('./CW/DCGAN/train_losses_D.npy')\n",
        "train_losses_G = np.load('./CW/DCGAN/train_losses_G.npy')\n",
        "plt.plot(list(range(0,train_losses_D.shape[0])), train_losses_D, label='loss_D')\n",
        "plt.plot(list(range(0,train_losses_G.shape[0])), train_losses_G, label='loss_G')\n",
        "plt.legend()\n",
        "plt.title('Train Losses')\n",
        "plt.show()"
      ],
      "execution_count": 0,
      "outputs": []
    },
    {
      "metadata": {
        "id": "bfdRtp-pf9TI",
        "colab_type": "code",
        "colab": {}
      },
      "cell_type": "code",
      "source": [
        "# ANSWER FOR PART 2.2 IN THIS CELL*\n"
      ],
      "execution_count": 0,
      "outputs": []
    },
    {
      "metadata": {
        "id": "R_pUnNjpf9TL",
        "colab_type": "text"
      },
      "cell_type": "markdown",
      "source": [
        "### Part 2.3 (10 points) \n",
        "**Your task:** \n",
        "\n",
        "Based on the images created by your generator using the `fixed_noise` vector during training, provide a discussion on whether you noticed any mode collapse, where this behaviour may be attributed to, and explain what you did in order to cope with mode collapse."
      ]
    },
    {
      "metadata": {
        "id": "_hhEezuTf9TN",
        "colab_type": "code",
        "colab": {}
      },
      "cell_type": "code",
      "source": [
        "# ANSWER FOR PART 2.3 IN THIS CELL*\n"
      ],
      "execution_count": 0,
      "outputs": []
    }
  ]
}